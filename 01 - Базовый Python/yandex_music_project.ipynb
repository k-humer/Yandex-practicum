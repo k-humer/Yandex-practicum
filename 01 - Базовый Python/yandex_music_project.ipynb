{
 "cells": [
  {
   "cell_type": "markdown",
   "metadata": {
    "id": "E0vqbgi9ay0H"
   },
   "source": [
    "# Яндекс.Музыка"
   ]
  },
  {
   "cell_type": "markdown",
   "metadata": {
    "id": "VUC88oWjTJw2"
   },
   "source": [
    "Сравнение Москвы и Петербурга окружено мифами. Например:\n",
    " * Москва — мегаполис, подчинённый жёсткому ритму рабочей недели;\n",
    " * Петербург — культурная столица, со своими вкусами.\n",
    "\n",
    "На данных Яндекс.Музыки вы сравните поведение пользователей двух столиц.\n",
    "\n",
    "**Цель исследования** — проверьте три гипотезы:\n",
    "1. Активность пользователей зависит от дня недели. Причём в Москве и Петербурге это проявляется по-разному.\n",
    "2. В понедельник утром в Москве преобладают одни жанры, а в Петербурге — другие. Так же и вечером пятницы преобладают разные жанры — в зависимости от города. \n",
    "3. Москва и Петербург предпочитают разные жанры музыки. В Москве чаще слушают поп-музыку, в Петербурге — русский рэп.\n",
    "\n",
    "**Ход исследования**\n",
    "\n",
    "Данные о поведении пользователей вы получите из файла `yandex_music_project.csv`. О качестве данных ничего не известно. Поэтому перед проверкой гипотез понадобится обзор данных. \n",
    "\n",
    "Вы проверите данные на ошибки и оцените их влияние на исследование. Затем, на этапе предобработки вы поищете возможность исправить самые критичные ошибки данных.\n",
    " \n",
    "Таким образом, исследование пройдёт в три этапа:\n",
    " 1. Обзор данных.\n",
    " 2. Предобработка данных.\n",
    " 3. Проверка гипотез.\n",
    "\n"
   ]
  },
  {
   "cell_type": "markdown",
   "metadata": {
    "id": "Ml1hmfXC_Zcs"
   },
   "source": [
    "## Обзор данных\n",
    "\n",
    "Составьте первое представление о данных Яндекс.Музыки.\n",
    "\n",
    "\n"
   ]
  },
  {
   "cell_type": "markdown",
   "metadata": {
    "id": "57eAOGIz_Zcs"
   },
   "source": [
    "Основной инструмент аналитика — `pandas`. Импортируйте эту библиотеку."
   ]
  },
  {
   "cell_type": "code",
   "execution_count": 1,
   "metadata": {
    "id": "AXN7PHPN_Zcs"
   },
   "outputs": [],
   "source": [
    "import pandas as pd # импорт библиотеки pandas"
   ]
  },
  {
   "cell_type": "markdown",
   "metadata": {
    "id": "SG23P8tt_Zcs"
   },
   "source": [
    "Прочитайте файл `yandex_music_project.csv` из папки `/datasets` и сохраните его в переменной `df`:"
   ]
  },
  {
   "cell_type": "code",
   "execution_count": 2,
   "metadata": {
    "id": "fFVu7vqh_Zct"
   },
   "outputs": [],
   "source": [
    "df = pd.read_csv('/datasets/yandex_music_project.csv') # чтение файла с данными и сохранение в df"
   ]
  },
  {
   "cell_type": "markdown",
   "metadata": {
    "id": "rDoOMd3uTqnZ"
   },
   "source": [
    "Выведите на экран первые десять строк таблицы:"
   ]
  },
  {
   "cell_type": "code",
   "execution_count": 3,
   "metadata": {
    "id": "oWTVX3gW_Zct"
   },
   "outputs": [
    {
     "data": {
      "text/html": [
       "<div>\n",
       "<style scoped>\n",
       "    .dataframe tbody tr th:only-of-type {\n",
       "        vertical-align: middle;\n",
       "    }\n",
       "\n",
       "    .dataframe tbody tr th {\n",
       "        vertical-align: top;\n",
       "    }\n",
       "\n",
       "    .dataframe thead th {\n",
       "        text-align: right;\n",
       "    }\n",
       "</style>\n",
       "<table border=\"1\" class=\"dataframe\">\n",
       "  <thead>\n",
       "    <tr style=\"text-align: right;\">\n",
       "      <th></th>\n",
       "      <th>userID</th>\n",
       "      <th>Track</th>\n",
       "      <th>artist</th>\n",
       "      <th>genre</th>\n",
       "      <th>City</th>\n",
       "      <th>time</th>\n",
       "      <th>Day</th>\n",
       "    </tr>\n",
       "  </thead>\n",
       "  <tbody>\n",
       "    <tr>\n",
       "      <td>0</td>\n",
       "      <td>FFB692EC</td>\n",
       "      <td>Kamigata To Boots</td>\n",
       "      <td>The Mass Missile</td>\n",
       "      <td>rock</td>\n",
       "      <td>Saint-Petersburg</td>\n",
       "      <td>20:28:33</td>\n",
       "      <td>Wednesday</td>\n",
       "    </tr>\n",
       "    <tr>\n",
       "      <td>1</td>\n",
       "      <td>55204538</td>\n",
       "      <td>Delayed Because of Accident</td>\n",
       "      <td>Andreas Rönnberg</td>\n",
       "      <td>rock</td>\n",
       "      <td>Moscow</td>\n",
       "      <td>14:07:09</td>\n",
       "      <td>Friday</td>\n",
       "    </tr>\n",
       "    <tr>\n",
       "      <td>2</td>\n",
       "      <td>20EC38</td>\n",
       "      <td>Funiculì funiculà</td>\n",
       "      <td>Mario Lanza</td>\n",
       "      <td>pop</td>\n",
       "      <td>Saint-Petersburg</td>\n",
       "      <td>20:58:07</td>\n",
       "      <td>Wednesday</td>\n",
       "    </tr>\n",
       "    <tr>\n",
       "      <td>3</td>\n",
       "      <td>A3DD03C9</td>\n",
       "      <td>Dragons in the Sunset</td>\n",
       "      <td>Fire + Ice</td>\n",
       "      <td>folk</td>\n",
       "      <td>Saint-Petersburg</td>\n",
       "      <td>08:37:09</td>\n",
       "      <td>Monday</td>\n",
       "    </tr>\n",
       "    <tr>\n",
       "      <td>4</td>\n",
       "      <td>E2DC1FAE</td>\n",
       "      <td>Soul People</td>\n",
       "      <td>Space Echo</td>\n",
       "      <td>dance</td>\n",
       "      <td>Moscow</td>\n",
       "      <td>08:34:34</td>\n",
       "      <td>Monday</td>\n",
       "    </tr>\n",
       "    <tr>\n",
       "      <td>5</td>\n",
       "      <td>842029A1</td>\n",
       "      <td>Преданная</td>\n",
       "      <td>IMPERVTOR</td>\n",
       "      <td>rusrap</td>\n",
       "      <td>Saint-Petersburg</td>\n",
       "      <td>13:09:41</td>\n",
       "      <td>Friday</td>\n",
       "    </tr>\n",
       "    <tr>\n",
       "      <td>6</td>\n",
       "      <td>4CB90AA5</td>\n",
       "      <td>True</td>\n",
       "      <td>Roman Messer</td>\n",
       "      <td>dance</td>\n",
       "      <td>Moscow</td>\n",
       "      <td>13:00:07</td>\n",
       "      <td>Wednesday</td>\n",
       "    </tr>\n",
       "    <tr>\n",
       "      <td>7</td>\n",
       "      <td>F03E1C1F</td>\n",
       "      <td>Feeling This Way</td>\n",
       "      <td>Polina Griffith</td>\n",
       "      <td>dance</td>\n",
       "      <td>Moscow</td>\n",
       "      <td>20:47:49</td>\n",
       "      <td>Wednesday</td>\n",
       "    </tr>\n",
       "    <tr>\n",
       "      <td>8</td>\n",
       "      <td>8FA1D3BE</td>\n",
       "      <td>И вновь продолжается бой</td>\n",
       "      <td>NaN</td>\n",
       "      <td>ruspop</td>\n",
       "      <td>Moscow</td>\n",
       "      <td>09:17:40</td>\n",
       "      <td>Friday</td>\n",
       "    </tr>\n",
       "    <tr>\n",
       "      <td>9</td>\n",
       "      <td>E772D5C0</td>\n",
       "      <td>Pessimist</td>\n",
       "      <td>NaN</td>\n",
       "      <td>dance</td>\n",
       "      <td>Saint-Petersburg</td>\n",
       "      <td>21:20:49</td>\n",
       "      <td>Wednesday</td>\n",
       "    </tr>\n",
       "  </tbody>\n",
       "</table>\n",
       "</div>"
      ],
      "text/plain": [
       "     userID                        Track            artist   genre  \\\n",
       "0  FFB692EC            Kamigata To Boots  The Mass Missile    rock   \n",
       "1  55204538  Delayed Because of Accident  Andreas Rönnberg    rock   \n",
       "2    20EC38            Funiculì funiculà       Mario Lanza     pop   \n",
       "3  A3DD03C9        Dragons in the Sunset        Fire + Ice    folk   \n",
       "4  E2DC1FAE                  Soul People        Space Echo   dance   \n",
       "5  842029A1                    Преданная         IMPERVTOR  rusrap   \n",
       "6  4CB90AA5                         True      Roman Messer   dance   \n",
       "7  F03E1C1F             Feeling This Way   Polina Griffith   dance   \n",
       "8  8FA1D3BE     И вновь продолжается бой               NaN  ruspop   \n",
       "9  E772D5C0                    Pessimist               NaN   dance   \n",
       "\n",
       "             City        time        Day  \n",
       "0  Saint-Petersburg  20:28:33  Wednesday  \n",
       "1            Moscow  14:07:09     Friday  \n",
       "2  Saint-Petersburg  20:58:07  Wednesday  \n",
       "3  Saint-Petersburg  08:37:09     Monday  \n",
       "4            Moscow  08:34:34     Monday  \n",
       "5  Saint-Petersburg  13:09:41     Friday  \n",
       "6            Moscow  13:00:07  Wednesday  \n",
       "7            Moscow  20:47:49  Wednesday  \n",
       "8            Moscow  09:17:40     Friday  \n",
       "9  Saint-Petersburg  21:20:49  Wednesday  "
      ]
     },
     "execution_count": 3,
     "metadata": {},
     "output_type": "execute_result"
    }
   ],
   "source": [
    "df.head(10) # получение первых 10 строк таблицы df"
   ]
  },
  {
   "cell_type": "markdown",
   "metadata": {
    "id": "EO73Kwic_Zct"
   },
   "source": [
    "Одной командой получить общую информацию о таблице:"
   ]
  },
  {
   "cell_type": "code",
   "execution_count": 4,
   "metadata": {
    "id": "DSf2kIb-_Zct"
   },
   "outputs": [
    {
     "name": "stdout",
     "output_type": "stream",
     "text": [
      "<class 'pandas.core.frame.DataFrame'>\n",
      "RangeIndex: 65079 entries, 0 to 65078\n",
      "Data columns (total 7 columns):\n",
      "  userID    65079 non-null object\n",
      "Track       63848 non-null object\n",
      "artist      57876 non-null object\n",
      "genre       63881 non-null object\n",
      "  City      65079 non-null object\n",
      "time        65079 non-null object\n",
      "Day         65079 non-null object\n",
      "dtypes: object(7)\n",
      "memory usage: 3.5+ MB\n"
     ]
    }
   ],
   "source": [
    "df.info() # получение общей информации о данных в таблице df"
   ]
  },
  {
   "cell_type": "markdown",
   "metadata": {
    "id": "TaQ2Iwbr_Zct"
   },
   "source": [
    "Итак, в таблице семь столбцов. Тип данных во всех столбцах — `object`.\n",
    "\n",
    "Согласно документации к данным:\n",
    "* `userID` — идентификатор пользователя;\n",
    "* `Track` — название трека;  \n",
    "* `artist` — имя исполнителя;\n",
    "* `genre` — название жанра;\n",
    "* `City` — город пользователя;\n",
    "* `time` — время начала прослушивания;\n",
    "* `Day` — день недели.\n",
    "\n",
    "В названиях колонок видны три нарушения стиля:\n",
    "1. Строчные буквы сочетаются с прописными.\n",
    "2. Встречаются пробелы.\n",
    "3. userID - user_id\n",
    "\n",
    "\n",
    "\n",
    "Количество значений в столбцах различается. Значит, в данных есть пропущенные значения.\n"
   ]
  },
  {
   "cell_type": "markdown",
   "metadata": {
    "id": "MCB6-dXG_Zct"
   },
   "source": [
    "**Выводы**\n",
    "\n",
    "В каждой строке таблицы — данные о прослушанном треке. Часть колонок описывает саму композицию: название, исполнителя и жанр. Остальные данные рассказывают о пользователе: из какого он города, когда он слушал музыку. \n",
    "\n",
    "Предварительно можно утверждать, что, данных достаточно для проверки гипотез. Но встречаются пропуски в данных, а в названиях колонок — расхождения с хорошим стилем.\n",
    "\n",
    "Чтобы двигаться дальше, нужно устранить проблемы в данных."
   ]
  },
  {
   "cell_type": "markdown",
   "metadata": {
    "id": "SjYF6Ub9_Zct"
   },
   "source": [
    "## Предобработка данных\n",
    "Исправьте стиль в заголовках столбцов, исключите пропуски. Затем проверьте данные на дубликаты."
   ]
  },
  {
   "cell_type": "markdown",
   "metadata": {
    "id": "dIaKXr29_Zct"
   },
   "source": [
    "### Стиль заголовков\n",
    "Выведите на экран названия столбцов:"
   ]
  },
  {
   "cell_type": "code",
   "execution_count": 5,
   "metadata": {
    "id": "oKOTdF_Q_Zct"
   },
   "outputs": [
    {
     "data": {
      "text/plain": [
       "Index(['  userID', 'Track', 'artist', 'genre', '  City  ', 'time', 'Day'], dtype='object')"
      ]
     },
     "execution_count": 5,
     "metadata": {},
     "output_type": "execute_result"
    }
   ],
   "source": [
    "df.columns # перечень названий столбцов таблицы df"
   ]
  },
  {
   "cell_type": "markdown",
   "metadata": {
    "id": "zj5534cv_Zct"
   },
   "source": [
    "Приведите названия в соответствие с хорошим стилем:\n",
    "* несколько слов в названии запишите в «змеином_регистре»,\n",
    "* все символы сделайте строчными,\n",
    "* устраните пробелы.\n",
    "\n",
    "Для этого переименуйте колонки так:\n",
    "* `'  userID'` → `'user_id'`;\n",
    "* `'Track'` → `'track'`;\n",
    "* `'  City  '` → `'city'`;\n",
    "* `'Day'` → `'day'`."
   ]
  },
  {
   "cell_type": "code",
   "execution_count": 6,
   "metadata": {
    "id": "ISlFqs5y_Zct"
   },
   "outputs": [],
   "source": [
    "df = df.rename(columns={'  userID': 'user_id', 'Track': 'track', '  City  ': 'city', 'Day': 'day'})  # переименование столбцов"
   ]
  },
  {
   "cell_type": "markdown",
   "metadata": {
    "id": "1dqbh00J_Zct"
   },
   "source": [
    "Проверьте результат. Для этого ещё раз выведите на экран названия столбцов:"
   ]
  },
  {
   "cell_type": "code",
   "execution_count": 7,
   "metadata": {
    "id": "d4NOAmTW_Zct"
   },
   "outputs": [
    {
     "data": {
      "text/plain": [
       "Index(['user_id', 'track', 'artist', 'genre', 'city', 'time', 'day'], dtype='object')"
      ]
     },
     "execution_count": 7,
     "metadata": {},
     "output_type": "execute_result"
    }
   ],
   "source": [
    "df.columns # проверка результатов - перечень названий столбцов"
   ]
  },
  {
   "cell_type": "markdown",
   "metadata": {
    "id": "5ISfbcfY_Zct"
   },
   "source": [
    "### Пропуски значений\n",
    "Сначала посчитайте, сколько в таблице пропущенных значений. Для этого достаточно двух методов `pandas`:"
   ]
  },
  {
   "cell_type": "code",
   "execution_count": 8,
   "metadata": {
    "id": "RskX29qr_Zct"
   },
   "outputs": [
    {
     "data": {
      "text/plain": [
       "user_id       0\n",
       "track      1231\n",
       "artist     7203\n",
       "genre      1198\n",
       "city          0\n",
       "time          0\n",
       "day           0\n",
       "dtype: int64"
      ]
     },
     "execution_count": 8,
     "metadata": {},
     "output_type": "execute_result"
    }
   ],
   "source": [
    " df.isnull().sum() # подсчёт пропусков"
   ]
  },
  {
   "cell_type": "markdown",
   "metadata": {
    "id": "qubhgnlO_Zct"
   },
   "source": [
    "Не все пропущенные значения влияют на исследование. Так в `track` и `artist` пропуски не важны для вашей работы. Достаточно заменить их явными обозначениями.\n",
    "\n",
    "Но пропуски в `genre` могут помешать сравнению музыкальных вкусов в Москве и Санкт-Петербурге. На практике было бы правильно установить причину пропусков и восстановить данные. Такой возможности нет в учебном проекте. Придётся:\n",
    "* заполнить и эти пропуски явными обозначениями,\n",
    "* оценить, насколько они повредят расчётам. "
   ]
  },
  {
   "cell_type": "markdown",
   "metadata": {
    "id": "fSv2laPA_Zct"
   },
   "source": [
    "Замените пропущенные значения в столбцах `track`, `artist` и `genre` на строку `'unknown'`. Для этого создайте список `columns_to_replace`, переберите его элементы циклом `for` и для каждого столбца выполните замену пропущенных значений:"
   ]
  },
  {
   "cell_type": "code",
   "execution_count": 9,
   "metadata": {
    "id": "KplB5qWs_Zct"
   },
   "outputs": [],
   "source": [
    "columns_to_replace = ['track', 'artist', 'genre'] # перебор названий столбцов в цикле и замена пропущенных значений на 'unknown'\n",
    "for column in columns_to_replace:\n",
    "    df[column] = df[column].fillna('unknown')"
   ]
  },
  {
   "cell_type": "markdown",
   "metadata": {
    "id": "Ilsm-MZo_Zct"
   },
   "source": [
    "Убедитесь, что в таблице не осталось пропусков. Для этого ещё раз посчитайте пропущенные значения."
   ]
  },
  {
   "cell_type": "code",
   "execution_count": 10,
   "metadata": {
    "id": "Tq4nYRX4_Zct"
   },
   "outputs": [
    {
     "data": {
      "text/plain": [
       "user_id    0\n",
       "track      0\n",
       "artist     0\n",
       "genre      0\n",
       "city       0\n",
       "time       0\n",
       "day        0\n",
       "dtype: int64"
      ]
     },
     "execution_count": 10,
     "metadata": {},
     "output_type": "execute_result"
    }
   ],
   "source": [
    "df.isnull().sum() # подсчёт пропусков"
   ]
  },
  {
   "cell_type": "markdown",
   "metadata": {
    "id": "BWKRtBJ3_Zct"
   },
   "source": [
    "### Дубликаты\n",
    "Посчитайте явные дубликаты в таблице одной командой:"
   ]
  },
  {
   "cell_type": "code",
   "execution_count": 11,
   "metadata": {
    "id": "36eES_S0_Zct"
   },
   "outputs": [
    {
     "data": {
      "text/plain": [
       "3826"
      ]
     },
     "execution_count": 11,
     "metadata": {},
     "output_type": "execute_result"
    }
   ],
   "source": [
    "df.duplicated().sum() # подсчёт явных дубликатов"
   ]
  },
  {
   "cell_type": "markdown",
   "metadata": {
    "id": "Ot25h6XR_Zct"
   },
   "source": [
    "Вызовите специальный метод `pandas`, чтобы удалить явные дубликаты:"
   ]
  },
  {
   "cell_type": "code",
   "execution_count": 12,
   "metadata": {
    "id": "exFHq6tt_Zct"
   },
   "outputs": [],
   "source": [
    "df = df.drop_duplicates().reset_index(drop = True) # удаление явных дубликатов (с удалением старых индексов и формированием новых)"
   ]
  },
  {
   "cell_type": "markdown",
   "metadata": {
    "id": "Im2YwBEG_Zct"
   },
   "source": [
    "Ещё раз посчитайте явные дубликаты в таблице — убедитесь, что полностью от них избавились:"
   ]
  },
  {
   "cell_type": "code",
   "execution_count": 13,
   "metadata": {
    "id": "-8PuNWQ0_Zct"
   },
   "outputs": [
    {
     "data": {
      "text/plain": [
       "0"
      ]
     },
     "execution_count": 13,
     "metadata": {},
     "output_type": "execute_result"
    }
   ],
   "source": [
    "df.duplicated().sum() # проверка на отсутствие дубликатов"
   ]
  },
  {
   "cell_type": "markdown",
   "metadata": {
    "id": "QlFBsxAr_Zct"
   },
   "source": [
    "Теперь избавьтесь от неявных дубликатов в колонке `genre`. Например, название одного и того же жанра может быть записано немного по-разному. Такие ошибки тоже повлияют на результат исследования."
   ]
  },
  {
   "cell_type": "markdown",
   "metadata": {
    "id": "eSjWwsOh_Zct"
   },
   "source": [
    "Выведите на экран список уникальных названий жанров, отсортированный в алфавитном порядке. Для этого:\n",
    "* извлеките нужный столбец датафрейма, \n",
    "* примените к нему метод сортировки,\n",
    "* для отсортированного столбца вызовите метод, который вернёт уникальные значения из столбца."
   ]
  },
  {
   "cell_type": "code",
   "execution_count": 14,
   "metadata": {
    "id": "JIUcqzZN_Zct"
   },
   "outputs": [
    {
     "data": {
      "text/plain": [
       "array(['acid', 'acoustic', 'action', 'adult', 'africa', 'afrikaans',\n",
       "       'alternative', 'alternativepunk', 'ambient', 'americana',\n",
       "       'animated', 'anime', 'arabesk', 'arabic', 'arena',\n",
       "       'argentinetango', 'art', 'audiobook', 'author', 'avantgarde',\n",
       "       'axé', 'baile', 'balkan', 'beats', 'bigroom', 'black', 'bluegrass',\n",
       "       'blues', 'bollywood', 'bossa', 'brazilian', 'breakbeat', 'breaks',\n",
       "       'broadway', 'cantautori', 'cantopop', 'canzone', 'caribbean',\n",
       "       'caucasian', 'celtic', 'chamber', 'chanson', 'children', 'chill',\n",
       "       'chinese', 'choral', 'christian', 'christmas', 'classical',\n",
       "       'classicmetal', 'club', 'colombian', 'comedy', 'conjazz',\n",
       "       'contemporary', 'country', 'cuban', 'dance', 'dancehall',\n",
       "       'dancepop', 'dark', 'death', 'deep', 'deutschrock', 'deutschspr',\n",
       "       'dirty', 'disco', 'dnb', 'documentary', 'downbeat', 'downtempo',\n",
       "       'drum', 'dub', 'dubstep', 'eastern', 'easy', 'electronic',\n",
       "       'electropop', 'emo', 'entehno', 'epicmetal', 'estrada', 'ethnic',\n",
       "       'eurofolk', 'european', 'experimental', 'extrememetal', 'fado',\n",
       "       'fairytail', 'film', 'fitness', 'flamenco', 'folk', 'folklore',\n",
       "       'folkmetal', 'folkrock', 'folktronica', 'forró', 'frankreich',\n",
       "       'französisch', 'french', 'funk', 'future', 'gangsta', 'garage',\n",
       "       'german', 'ghazal', 'gitarre', 'glitch', 'gospel', 'gothic',\n",
       "       'grime', 'grunge', 'gypsy', 'handsup', \"hard'n'heavy\", 'hardcore',\n",
       "       'hardstyle', 'hardtechno', 'hip', 'hip-hop', 'hiphop',\n",
       "       'historisch', 'holiday', 'hop', 'horror', 'house', 'hymn', 'idm',\n",
       "       'independent', 'indian', 'indie', 'indipop', 'industrial',\n",
       "       'inspirational', 'instrumental', 'international', 'irish', 'jam',\n",
       "       'japanese', 'jazz', 'jewish', 'jpop', 'jungle', 'k-pop',\n",
       "       'karadeniz', 'karaoke', 'kayokyoku', 'korean', 'laiko', 'latin',\n",
       "       'latino', 'leftfield', 'local', 'lounge', 'loungeelectronic',\n",
       "       'lovers', 'malaysian', 'mandopop', 'marschmusik', 'meditative',\n",
       "       'mediterranean', 'melodic', 'metal', 'metalcore', 'mexican',\n",
       "       'middle', 'minimal', 'miscellaneous', 'modern', 'mood', 'mpb',\n",
       "       'muslim', 'native', 'neoklassik', 'neue', 'new', 'newage',\n",
       "       'newwave', 'nu', 'nujazz', 'numetal', 'oceania', 'old', 'opera',\n",
       "       'orchestral', 'other', 'piano', 'podcasts', 'pop', 'popdance',\n",
       "       'popelectronic', 'popeurodance', 'poprussian', 'post',\n",
       "       'posthardcore', 'postrock', 'power', 'progmetal', 'progressive',\n",
       "       'psychedelic', 'punjabi', 'punk', 'quebecois', 'ragga', 'ram',\n",
       "       'rancheras', 'rap', 'rave', 'reggae', 'reggaeton', 'regional',\n",
       "       'relax', 'religious', 'retro', 'rhythm', 'rnb', 'rnr', 'rock',\n",
       "       'rockabilly', 'rockalternative', 'rockindie', 'rockother',\n",
       "       'romance', 'roots', 'ruspop', 'rusrap', 'rusrock', 'russian',\n",
       "       'salsa', 'samba', 'scenic', 'schlager', 'self', 'sertanejo',\n",
       "       'shanson', 'shoegazing', 'showtunes', 'singer', 'ska', 'skarock',\n",
       "       'slow', 'smooth', 'soft', 'soul', 'soulful', 'sound', 'soundtrack',\n",
       "       'southern', 'specialty', 'speech', 'spiritual', 'sport',\n",
       "       'stonerrock', 'surf', 'swing', 'synthpop', 'synthrock',\n",
       "       'sängerportrait', 'tango', 'tanzorchester', 'taraftar', 'tatar',\n",
       "       'tech', 'techno', 'teen', 'thrash', 'top', 'traditional',\n",
       "       'tradjazz', 'trance', 'tribal', 'trip', 'triphop', 'tropical',\n",
       "       'türk', 'türkçe', 'ukrrock', 'unknown', 'urban', 'uzbek',\n",
       "       'variété', 'vi', 'videogame', 'vocal', 'western', 'world',\n",
       "       'worldbeat', 'ïîï', 'электроника'], dtype=object)"
      ]
     },
     "execution_count": 14,
     "metadata": {},
     "output_type": "execute_result"
    }
   ],
   "source": [
    "df['genre'].sort_values().unique() # Просмотр уникальных названий жанров\n"
   ]
  },
  {
   "cell_type": "markdown",
   "metadata": {
    "id": "qej-Qmuo_Zct"
   },
   "source": [
    "Просмотрите список и найдите неявные дубликаты названия `hiphop`. Это могут быть названия с ошибками или альтернативные названия того же жанра.\n",
    "\n",
    "Вы увидите следующие неявные дубликаты:\n",
    "* *hip*,\n",
    "* *hop*,\n",
    "* *hip-hop*.\n",
    "\n",
    "Чтобы очистить от них таблицу, напишите функцию `replace_wrong_genres()` с двумя параметрами: \n",
    "* `wrong_genres` — список дубликатов,\n",
    "* `correct_genre` — строка с правильным значением.\n",
    "\n",
    "Функция должна исправить колонку `genre` в таблице `df`: заменить каждое значение из списка `wrong_genres` на значение из `correct_genre`."
   ]
  },
  {
   "cell_type": "code",
   "execution_count": 15,
   "metadata": {
    "id": "ErNDkmns_Zct"
   },
   "outputs": [],
   "source": [
    "# Функция для замены неявных дубликатов\n",
    "def replace_wrong_values(wrong_genres, correct_genre): \n",
    "    for wrong_genres in wrong_genres: \n",
    "        df['genre'] = df['genre'].replace(wrong_genres, correct_genre) \n"
   ]
  },
  {
   "cell_type": "markdown",
   "metadata": {
    "id": "aDoBJxbA_Zct"
   },
   "source": [
    "Вызовите `replace_wrong_genres()` и передайте ей такие аргументы, чтобы она устранила неявные дубликаты: вместо `hip`, `hop` и `hip-hop` в таблице должно быть значение `hiphop`:"
   ]
  },
  {
   "cell_type": "code",
   "execution_count": 16,
   "metadata": {
    "id": "YN5i2hpmSo09"
   },
   "outputs": [],
   "source": [
    "# Устранение неявных дубликатов\n",
    "\n",
    "replace_wrong_values(['hip', 'hop', 'hip-hop'], 'hiphop')\n",
    "\n",
    "replace_wrong_values(['электроника'], 'electronic')\n"
   ]
  },
  {
   "cell_type": "markdown",
   "metadata": {
    "id": "zQKF16_RG15m"
   },
   "source": [
    "Проверьте, что заменили неправильные названия:\n",
    "\n",
    "*   hip\n",
    "*   hop\n",
    "*   hip-hop\n",
    "\n",
    "Выведите отсортированный список уникальных значений столбца `genre`:"
   ]
  },
  {
   "cell_type": "code",
   "execution_count": 17,
   "metadata": {
    "id": "wvixALnFG15m"
   },
   "outputs": [
    {
     "data": {
      "text/plain": [
       "array(['acid', 'acoustic', 'action', 'adult', 'africa', 'afrikaans',\n",
       "       'alternative', 'alternativepunk', 'ambient', 'americana',\n",
       "       'animated', 'anime', 'arabesk', 'arabic', 'arena',\n",
       "       'argentinetango', 'art', 'audiobook', 'author', 'avantgarde',\n",
       "       'axé', 'baile', 'balkan', 'beats', 'bigroom', 'black', 'bluegrass',\n",
       "       'blues', 'bollywood', 'bossa', 'brazilian', 'breakbeat', 'breaks',\n",
       "       'broadway', 'cantautori', 'cantopop', 'canzone', 'caribbean',\n",
       "       'caucasian', 'celtic', 'chamber', 'chanson', 'children', 'chill',\n",
       "       'chinese', 'choral', 'christian', 'christmas', 'classical',\n",
       "       'classicmetal', 'club', 'colombian', 'comedy', 'conjazz',\n",
       "       'contemporary', 'country', 'cuban', 'dance', 'dancehall',\n",
       "       'dancepop', 'dark', 'death', 'deep', 'deutschrock', 'deutschspr',\n",
       "       'dirty', 'disco', 'dnb', 'documentary', 'downbeat', 'downtempo',\n",
       "       'drum', 'dub', 'dubstep', 'eastern', 'easy', 'electronic',\n",
       "       'electropop', 'emo', 'entehno', 'epicmetal', 'estrada', 'ethnic',\n",
       "       'eurofolk', 'european', 'experimental', 'extrememetal', 'fado',\n",
       "       'fairytail', 'film', 'fitness', 'flamenco', 'folk', 'folklore',\n",
       "       'folkmetal', 'folkrock', 'folktronica', 'forró', 'frankreich',\n",
       "       'französisch', 'french', 'funk', 'future', 'gangsta', 'garage',\n",
       "       'german', 'ghazal', 'gitarre', 'glitch', 'gospel', 'gothic',\n",
       "       'grime', 'grunge', 'gypsy', 'handsup', \"hard'n'heavy\", 'hardcore',\n",
       "       'hardstyle', 'hardtechno', 'hiphop', 'historisch', 'holiday',\n",
       "       'horror', 'house', 'hymn', 'idm', 'independent', 'indian', 'indie',\n",
       "       'indipop', 'industrial', 'inspirational', 'instrumental',\n",
       "       'international', 'irish', 'jam', 'japanese', 'jazz', 'jewish',\n",
       "       'jpop', 'jungle', 'k-pop', 'karadeniz', 'karaoke', 'kayokyoku',\n",
       "       'korean', 'laiko', 'latin', 'latino', 'leftfield', 'local',\n",
       "       'lounge', 'loungeelectronic', 'lovers', 'malaysian', 'mandopop',\n",
       "       'marschmusik', 'meditative', 'mediterranean', 'melodic', 'metal',\n",
       "       'metalcore', 'mexican', 'middle', 'minimal', 'miscellaneous',\n",
       "       'modern', 'mood', 'mpb', 'muslim', 'native', 'neoklassik', 'neue',\n",
       "       'new', 'newage', 'newwave', 'nu', 'nujazz', 'numetal', 'oceania',\n",
       "       'old', 'opera', 'orchestral', 'other', 'piano', 'podcasts', 'pop',\n",
       "       'popdance', 'popelectronic', 'popeurodance', 'poprussian', 'post',\n",
       "       'posthardcore', 'postrock', 'power', 'progmetal', 'progressive',\n",
       "       'psychedelic', 'punjabi', 'punk', 'quebecois', 'ragga', 'ram',\n",
       "       'rancheras', 'rap', 'rave', 'reggae', 'reggaeton', 'regional',\n",
       "       'relax', 'religious', 'retro', 'rhythm', 'rnb', 'rnr', 'rock',\n",
       "       'rockabilly', 'rockalternative', 'rockindie', 'rockother',\n",
       "       'romance', 'roots', 'ruspop', 'rusrap', 'rusrock', 'russian',\n",
       "       'salsa', 'samba', 'scenic', 'schlager', 'self', 'sertanejo',\n",
       "       'shanson', 'shoegazing', 'showtunes', 'singer', 'ska', 'skarock',\n",
       "       'slow', 'smooth', 'soft', 'soul', 'soulful', 'sound', 'soundtrack',\n",
       "       'southern', 'specialty', 'speech', 'spiritual', 'sport',\n",
       "       'stonerrock', 'surf', 'swing', 'synthpop', 'synthrock',\n",
       "       'sängerportrait', 'tango', 'tanzorchester', 'taraftar', 'tatar',\n",
       "       'tech', 'techno', 'teen', 'thrash', 'top', 'traditional',\n",
       "       'tradjazz', 'trance', 'tribal', 'trip', 'triphop', 'tropical',\n",
       "       'türk', 'türkçe', 'ukrrock', 'unknown', 'urban', 'uzbek',\n",
       "       'variété', 'vi', 'videogame', 'vocal', 'western', 'world',\n",
       "       'worldbeat', 'ïîï'], dtype=object)"
      ]
     },
     "execution_count": 17,
     "metadata": {},
     "output_type": "execute_result"
    }
   ],
   "source": [
    "df['genre'].sort_values().unique() # Проверка на неявные дубликаты"
   ]
  },
  {
   "cell_type": "markdown",
   "metadata": {
    "id": "jz6a9-7HQUDd"
   },
   "source": [
    "**Выводы**\n",
    "\n",
    "Предобработка обнаружила три проблемы в данных:\n",
    "\n",
    "- нарушения в стиле заголовков,\n",
    "- пропущенные значения,\n",
    "- дубликаты — явные и неявные.\n",
    "\n",
    "Вы исправили заголовки, чтобы упростить работу с таблицей. Без дубликатов исследование станет более точным.\n",
    "\n",
    "Пропущенные значения вы заменили на `'unknown'`. Ещё предстоит увидеть, не повредят ли исследованию пропуски в колонке `genre`.\n",
    "\n",
    "Теперь можно перейти к проверке гипотез. "
   ]
  },
  {
   "cell_type": "markdown",
   "metadata": {
    "id": "WttZHXH0SqKk"
   },
   "source": [
    "## Проверка гипотез"
   ]
  },
  {
   "cell_type": "markdown",
   "metadata": {
    "id": "Im936VVi_Zcu"
   },
   "source": [
    "### Сравнение поведения пользователей двух столиц"
   ]
  },
  {
   "cell_type": "markdown",
   "metadata": {
    "id": "nwt_MuaL_Zcu"
   },
   "source": [
    "Первая гипотеза утверждает, что пользователи по-разному слушают музыку в Москве и Санкт-Петербурге. Проверьте это предположение по данным о трёх днях недели — понедельнике, среде и пятнице. Для этого:\n",
    "\n",
    "* Разделите пользователей Москвы и Санкт-Петербурга\n",
    "* Сравните, сколько треков послушала каждая группа пользователей в понедельник, среду и пятницу.\n"
   ]
  },
  {
   "cell_type": "markdown",
   "metadata": {
    "id": "8Dw_YMmT_Zcu"
   },
   "source": [
    "Для тренировки сначала выполните каждый из расчётов по отдельности. \n",
    "\n",
    "Оцените активность пользователей в каждом городе. Сгруппируйте данные по городу и посчитайте прослушивания в каждой группе.\n",
    "\n"
   ]
  },
  {
   "cell_type": "code",
   "execution_count": 18,
   "metadata": {
    "id": "0_Qs96oh_Zcu"
   },
   "outputs": [
    {
     "data": {
      "text/plain": [
       "city\n",
       "Moscow              42741\n",
       "Saint-Petersburg    18512\n",
       "Name: track, dtype: int64"
      ]
     },
     "execution_count": 18,
     "metadata": {},
     "output_type": "execute_result"
    }
   ],
   "source": [
    "df.groupby('city')['track'].count() # Подсчёт прослушиваний в каждом городе"
   ]
  },
  {
   "cell_type": "markdown",
   "metadata": {
    "id": "dzli3w8o_Zcu"
   },
   "source": [
    "В Москве прослушиваний больше, чем в Петербурге. Из этого не следует, что московские пользователи чаще слушают музыку. Просто самих пользователей в Москве больше.\n",
    "\n",
    "Теперь сгруппируйте данные по дню недели и подсчитайте прослушивания в понедельник, среду и пятницу. Учтите, что в данных есть информация только о прослушиваниях только за эти дни.\n"
   ]
  },
  {
   "cell_type": "code",
   "execution_count": 19,
   "metadata": {
    "id": "uZMKjiJz_Zcu"
   },
   "outputs": [
    {
     "data": {
      "text/plain": [
       "day\n",
       "Friday       21840\n",
       "Monday       21354\n",
       "Wednesday    18059\n",
       "Name: track, dtype: int64"
      ]
     },
     "execution_count": 19,
     "metadata": {},
     "output_type": "execute_result"
    }
   ],
   "source": [
    "df.groupby('day')['track'].count() # Подсчёт прослушиваний в каждый из трёх дней"
   ]
  },
  {
   "cell_type": "markdown",
   "metadata": {
    "id": "cC2tNrlL_Zcu"
   },
   "source": [
    "В среднем пользователи из двух городов менее активны по средам. Но картина может измениться, если рассмотреть каждый город в отдельности."
   ]
  },
  {
   "cell_type": "markdown",
   "metadata": {
    "id": "POzs8bGa_Zcu"
   },
   "source": [
    "Вы видели, как работает группировка по городу и по дням недели. Теперь напишите функцию, которая объединит два эти расчёта.\n",
    "\n",
    "Создайте функцию `number_tracks()`, которая посчитает прослушивания для заданного дня и города. Ей понадобятся два параметра:\n",
    "* день недели,\n",
    "* название города.\n",
    "\n",
    "В функции сохраните в переменную строки исходной таблицы, у которых значение:\n",
    "  * в колонке `day` равно параметру `day`,\n",
    "  * в колонке `city` равно параметру `city`.\n",
    "\n",
    "Для этого примените последовательную фильтрацию с логической индексацией.\n",
    "\n",
    "Затем посчитайте значения в столбце `user_id` получившейся таблицы. Результат сохраните в новую переменную. Верните эту переменную из функции."
   ]
  },
  {
   "cell_type": "code",
   "execution_count": 20,
   "metadata": {
    "id": "Nz3GdQB1_Zcu"
   },
   "outputs": [],
   "source": [
    "def number_tracks(day, city):\n",
    "    track_list = df[(df['day'] == day) & (df['city'] == city)]\n",
    "    track_list_count = track_list['user_id'].count()\n",
    "    return track_list_count"
   ]
  },
  {
   "cell_type": "markdown",
   "metadata": {
    "id": "ytf7xFrFJQ2r"
   },
   "source": [
    "Вызовите `number_tracks()` шесть раз, меняя значение параметров — так, чтобы получить данные для каждого города в каждый из трёх дней."
   ]
  },
  {
   "cell_type": "code",
   "execution_count": 21,
   "metadata": {
    "id": "rJcRATNQ_Zcu"
   },
   "outputs": [
    {
     "data": {
      "text/plain": [
       "15740"
      ]
     },
     "execution_count": 21,
     "metadata": {},
     "output_type": "execute_result"
    }
   ],
   "source": [
    "number_tracks('Monday', 'Moscow')   # количество прослушиваний в Москве по понедельникам"
   ]
  },
  {
   "cell_type": "code",
   "execution_count": 22,
   "metadata": {
    "id": "hq_ncZ5T_Zcu"
   },
   "outputs": [
    {
     "data": {
      "text/plain": [
       "5614"
      ]
     },
     "execution_count": 22,
     "metadata": {},
     "output_type": "execute_result"
    }
   ],
   "source": [
    "number_tracks('Monday', 'Saint-Petersburg') # количество прослушиваний в Санкт-Петербурге по понедельникам"
   ]
  },
  {
   "cell_type": "code",
   "execution_count": 23,
   "metadata": {
    "id": "_NTy2VPU_Zcu"
   },
   "outputs": [
    {
     "data": {
      "text/plain": [
       "11056"
      ]
     },
     "execution_count": 23,
     "metadata": {},
     "output_type": "execute_result"
    }
   ],
   "source": [
    "number_tracks('Wednesday', 'Moscow') # количество прослушиваний в Москве по средам"
   ]
  },
  {
   "cell_type": "code",
   "execution_count": 24,
   "metadata": {
    "id": "j2y3TAwo_Zcu"
   },
   "outputs": [
    {
     "data": {
      "text/plain": [
       "7003"
      ]
     },
     "execution_count": 24,
     "metadata": {},
     "output_type": "execute_result"
    }
   ],
   "source": [
    "number_tracks('Wednesday', 'Saint-Petersburg') # количество прослушиваний в Санкт-Петербурге по средам"
   ]
  },
  {
   "cell_type": "code",
   "execution_count": 25,
   "metadata": {
    "id": "vYDw5u_K_Zcu"
   },
   "outputs": [
    {
     "data": {
      "text/plain": [
       "15945"
      ]
     },
     "execution_count": 25,
     "metadata": {},
     "output_type": "execute_result"
    }
   ],
   "source": [
    "number_tracks('Friday', 'Moscow') # количество прослушиваний в Москве по пятницам"
   ]
  },
  {
   "cell_type": "code",
   "execution_count": 26,
   "metadata": {
    "id": "8_yzFtW3_Zcu"
   },
   "outputs": [
    {
     "data": {
      "text/plain": [
       "5895"
      ]
     },
     "execution_count": 26,
     "metadata": {},
     "output_type": "execute_result"
    }
   ],
   "source": [
    "number_tracks('Friday', 'Saint-Petersburg') # количество прослушиваний в Санкт-Петербурге по пятницам"
   ]
  },
  {
   "cell_type": "markdown",
   "metadata": {
    "id": "7QXffbO-_Zcu"
   },
   "source": [
    "Создайте c помощью конструктора `pd.DataFrame` таблицу, где\n",
    "* названия колонок — `['city', 'monday', 'wednesday', 'friday']`;\n",
    "* данные — результаты, которые вы получили с помощью `number_tracks`."
   ]
  },
  {
   "cell_type": "code",
   "execution_count": 27,
   "metadata": {
    "id": "APAcLpOr_Zcu"
   },
   "outputs": [
    {
     "data": {
      "text/html": [
       "<div>\n",
       "<style scoped>\n",
       "    .dataframe tbody tr th:only-of-type {\n",
       "        vertical-align: middle;\n",
       "    }\n",
       "\n",
       "    .dataframe tbody tr th {\n",
       "        vertical-align: top;\n",
       "    }\n",
       "\n",
       "    .dataframe thead th {\n",
       "        text-align: right;\n",
       "    }\n",
       "</style>\n",
       "<table border=\"1\" class=\"dataframe\">\n",
       "  <thead>\n",
       "    <tr style=\"text-align: right;\">\n",
       "      <th></th>\n",
       "      <th>city</th>\n",
       "      <th>monday</th>\n",
       "      <th>wednesday</th>\n",
       "      <th>friday</th>\n",
       "    </tr>\n",
       "  </thead>\n",
       "  <tbody>\n",
       "    <tr>\n",
       "      <td>0</td>\n",
       "      <td>Moscow</td>\n",
       "      <td>15740</td>\n",
       "      <td>11056</td>\n",
       "      <td>15945</td>\n",
       "    </tr>\n",
       "    <tr>\n",
       "      <td>1</td>\n",
       "      <td>Saint-Petersburg</td>\n",
       "      <td>5614</td>\n",
       "      <td>7003</td>\n",
       "      <td>5895</td>\n",
       "    </tr>\n",
       "  </tbody>\n",
       "</table>\n",
       "</div>"
      ],
      "text/plain": [
       "               city monday wednesday friday\n",
       "0            Moscow  15740     11056  15945\n",
       "1  Saint-Petersburg   5614      7003   5895"
      ]
     },
     "execution_count": 27,
     "metadata": {},
     "output_type": "execute_result"
    }
   ],
   "source": [
    "# Таблица с результатами\n",
    "data = [['Moscow', '15740', '11056', '15945'], ['Saint-Petersburg', '5614', '7003', '5895']]\n",
    "columns = ['city', 'monday', 'wednesday', 'friday']\n",
    "table = pd.DataFrame(data=data, columns=columns)\n",
    "table"
   ]
  },
  {
   "cell_type": "markdown",
   "metadata": {
    "id": "-EgPIHYu_Zcu"
   },
   "source": [
    "**Выводы**\n",
    "\n",
    "Данные показывают разницу поведения пользователей:\n",
    "\n",
    "- В Москве пик прослушиваний приходится на понедельник и пятницу, а в среду заметен спад.\n",
    "- В Петербурге, наоборот, больше слушают музыку по средам. Активность в понедельник и пятницу здесь почти в равной мере уступает среде.\n",
    "\n",
    "Значит, данные говорят в пользу первой гипотезы."
   ]
  },
  {
   "cell_type": "markdown",
   "metadata": {
    "id": "atZAxtq4_Zcu"
   },
   "source": [
    "### Музыка в начале и в конце недели"
   ]
  },
  {
   "cell_type": "markdown",
   "metadata": {
    "id": "eXrQqXFH_Zcu"
   },
   "source": [
    "Согласно второй гипотезе, утром в понедельник в Москве преобладают одни жанры, а в Петербурге — другие. Так же и вечером пятницы преобладают разные жанры — в зависимости от города."
   ]
  },
  {
   "cell_type": "markdown",
   "metadata": {
    "id": "S8UcW6Hw_Zcu"
   },
   "source": [
    "Сохраните таблицы с данными в две переменные:\n",
    "* по Москве — в `moscow_general`;\n",
    "* по Санкт-Петербургу — в `spb_general`."
   ]
  },
  {
   "cell_type": "code",
   "execution_count": 28,
   "metadata": {
    "id": "qeaFfM_P_Zcu"
   },
   "outputs": [],
   "source": [
    "# получение таблицы moscow_general из тех строк таблицы df, \n",
    "# для которых значение в столбце 'city' равно 'Moscow'\n",
    "moscow_general = df[df['city'] == 'Moscow']"
   ]
  },
  {
   "cell_type": "code",
   "execution_count": 29,
   "metadata": {
    "id": "ORaVRKto_Zcu"
   },
   "outputs": [],
   "source": [
    "# получение таблицы spb_general из тех строк таблицы df,\n",
    "# для которых значение в столбце 'city' равно 'Saint-Petersburg'\n",
    "spb_general = df[df['city'] == 'Saint-Petersburg']"
   ]
  },
  {
   "cell_type": "markdown",
   "metadata": {
    "id": "MEJV-CX2_Zcu"
   },
   "source": [
    "Создайте функцию `genre_weekday()` с четырьмя параметрами:\n",
    "* таблица (датафрейм) с данными,\n",
    "* день недели,\n",
    "* начальная временная метка в формате 'hh:mm', \n",
    "* последняя временная метка в формате 'hh:mm'.\n",
    "\n",
    "Функция должна вернуть информацию о топ-10 жанров тех треков, которые прослушивали в указанный день, в промежутке между двумя отметками времени."
   ]
  },
  {
   "cell_type": "code",
   "execution_count": 30,
   "metadata": {
    "id": "laJT9BYl_Zcu"
   },
   "outputs": [],
   "source": [
    "# Объявление функции genre_weekday() с параметрами table, day, time1, time2,\n",
    "# которая возвращает информацию о самых популярных жанрах в указанный день в\n",
    "# заданное время:\n",
    "# 1) в переменную genre_df сохраняются те строки переданного датафрейма table, для\n",
    "#    которых одновременно:\n",
    "#    - значение в столбце day равно значению аргумента day\n",
    "#    - значение в столбце time больше значения аргумента time1\n",
    "#    - значение в столбце time меньше значения аргумента time2\n",
    "#    Используйте последовательную фильтрацию с помощью логической индексации.\n",
    "# 2) сгруппировать датафрейм genre_df по столбцу genre, взять один из его\n",
    "#    столбцов и посчитать методом count() количество записей для каждого из\n",
    "#    присутствующих жанров, получившийся Series записать в переменную\n",
    "#    genre_df_count\n",
    "# 3) отсортировать genre_df_count по убыванию встречаемости и сохранить\n",
    "#    в переменную genre_df_sorted\n",
    "# 4) вернуть Series из 10 первых значений genre_df_sorted, это будут топ-10\n",
    "#    популярных жанров (в указанный день, в заданное время)\n",
    "def genre_weekday(table, day, time1, time2):\n",
    "    genre_df = table[(table['day'] == day) & (table['time'] > time1) & (table['time'] < time2)]\n",
    "    genre_df_count = genre_df.groupby('genre')['genre'].count()\n",
    "    genre_df_sorted = genre_df_count.sort_values(ascending = False).head(10)\n",
    "    return genre_df_sorted"
   ]
  },
  {
   "cell_type": "markdown",
   "metadata": {
    "id": "la2s2_PF_Zcu"
   },
   "source": [
    "Cравните результаты функции `genre_weekday()` для Москвы и Санкт-Петербурга в понедельник утром (с 7:00 до 11:00) и в пятницу вечером (с 17:00 до 23:00):"
   ]
  },
  {
   "cell_type": "code",
   "execution_count": 31,
   "metadata": {
    "id": "yz7itPUQ_Zcu"
   },
   "outputs": [
    {
     "data": {
      "text/plain": [
       "genre\n",
       "pop            781\n",
       "dance          549\n",
       "electronic     480\n",
       "rock           474\n",
       "hiphop         286\n",
       "ruspop         186\n",
       "world          181\n",
       "rusrap         175\n",
       "alternative    164\n",
       "unknown        161\n",
       "Name: genre, dtype: int64"
      ]
     },
     "execution_count": 31,
     "metadata": {},
     "output_type": "execute_result"
    }
   ],
   "source": [
    "# вызов функции для утра понедельника в Москве (вместо df — таблица moscow_general)\n",
    "# объекты, хранящие время, являются строками и сравниваются как строки\n",
    "# пример вызова: genre_weekday(moscow_general, 'Monday', '07:00', '11:00')\n",
    "genre_weekday(moscow_general, 'Monday', '07:00', '11:00')\n"
   ]
  },
  {
   "cell_type": "code",
   "execution_count": 32,
   "metadata": {
    "id": "kwUcHPdy_Zcu"
   },
   "outputs": [
    {
     "data": {
      "text/plain": [
       "genre\n",
       "pop            218\n",
       "dance          182\n",
       "rock           162\n",
       "electronic     147\n",
       "hiphop          80\n",
       "ruspop          64\n",
       "alternative     58\n",
       "rusrap          55\n",
       "jazz            44\n",
       "classical       40\n",
       "Name: genre, dtype: int64"
      ]
     },
     "execution_count": 32,
     "metadata": {},
     "output_type": "execute_result"
    }
   ],
   "source": [
    "# вызов функции для утра понедельника в Петербурге (вместо df — таблица spb_general)\n",
    "genre_weekday(spb_general, 'Monday', '07:00', '11:00')"
   ]
  },
  {
   "cell_type": "code",
   "execution_count": 33,
   "metadata": {
    "id": "EzXVRE1o_Zcu"
   },
   "outputs": [
    {
     "data": {
      "text/plain": [
       "genre\n",
       "pop            713\n",
       "rock           517\n",
       "dance          495\n",
       "electronic     482\n",
       "hiphop         273\n",
       "world          208\n",
       "ruspop         170\n",
       "alternative    163\n",
       "classical      163\n",
       "rusrap         142\n",
       "Name: genre, dtype: int64"
      ]
     },
     "execution_count": 33,
     "metadata": {},
     "output_type": "execute_result"
    }
   ],
   "source": [
    "# вызов функции для вечера пятницы в Москве\n",
    "genre_weekday(moscow_general, 'Friday', '17:00', '23:00')"
   ]
  },
  {
   "cell_type": "code",
   "execution_count": 34,
   "metadata": {
    "id": "JZaEKu5v_Zcu"
   },
   "outputs": [
    {
     "data": {
      "text/plain": [
       "genre\n",
       "pop            256\n",
       "rock           216\n",
       "electronic     216\n",
       "dance          210\n",
       "hiphop          97\n",
       "alternative     63\n",
       "jazz            61\n",
       "classical       60\n",
       "rusrap          59\n",
       "world           54\n",
       "Name: genre, dtype: int64"
      ]
     },
     "execution_count": 34,
     "metadata": {},
     "output_type": "execute_result"
    }
   ],
   "source": [
    "# вызов функции для вечера пятницы в Петербурге\n",
    "genre_weekday(spb_general, 'Friday', '17:00', '23:00')"
   ]
  },
  {
   "cell_type": "markdown",
   "metadata": {
    "id": "wrCe4MNX_Zcu"
   },
   "source": [
    "**Выводы**\n",
    "\n",
    "Если сравнить топ-10 жанров в понедельник утром, можно сделать такие выводы:\n",
    "\n",
    "1. В Москве и Петербурге слушают похожую музыку. Единственное отличие — в московский рейтинг вошёл жанр “world”, а в петербургский — джаз и классика.\n",
    "\n",
    "2. В Москве пропущенных значений оказалось так много, что значение `'unknown'` заняло десятое место среди самых популярных жанров. Значит, пропущенные значения занимают существенную долю в данных и угрожают достоверности исследования.\n",
    "\n",
    "Вечер пятницы не меняет эту картину. Некоторые жанры поднимаются немного выше, другие спускаются, но в целом топ-10 остаётся тем же самым.\n",
    "\n",
    "Таким образом, вторая гипотеза подтвердилась лишь частично:\n",
    "* Пользователи слушают похожую музыку в начале недели и в конце.\n",
    "* Разница между Москвой и Петербургом не слишком выражена. В Москве чаще слушают русскую популярную музыку, в Петербурге — джаз.\n",
    "\n",
    "Однако пропуски в данных ставят под сомнение этот результат. В Москве их так много, что рейтинг топ-10 мог бы выглядеть иначе, если бы не утерянные  данные о жанрах."
   ]
  },
  {
   "cell_type": "markdown",
   "metadata": {
    "id": "JolODAqr_Zcu"
   },
   "source": [
    "### Жанровые предпочтения в Москве и Петербурге\n",
    "\n",
    "Гипотеза: Петербург — столица рэпа, музыку этого жанра там слушают чаще, чем в Москве.  А Москва — город контрастов, в котором, тем не менее, преобладает поп-музыка."
   ]
  },
  {
   "cell_type": "markdown",
   "metadata": {
    "id": "DlegSvaT_Zcu"
   },
   "source": [
    "Сгруппируйте таблицу `moscow_general` по жанру и посчитайте прослушивания треков каждого жанра методом `count()`. Затем отсортируйте результат в порядке убывания и сохраните его в таблице `moscow_genres`."
   ]
  },
  {
   "cell_type": "code",
   "execution_count": 35,
   "metadata": {
    "id": "r19lIPke_Zcu"
   },
   "outputs": [],
   "source": [
    "# одной строкой: группировка таблицы moscow_general по столбцу 'genre', \n",
    "# подсчёт числа значений 'genre' в этой группировке методом count(), \n",
    "# сортировка получившегося Series в порядке убывания и сохранение в moscow_genres\n",
    "moscow_genres = moscow_general.groupby('genre')['genre'].count().sort_values(ascending = False)\n"
   ]
  },
  {
   "cell_type": "markdown",
   "metadata": {
    "id": "6kMuomxTiIr8"
   },
   "source": [
    "Выведите на экран первые десять строк `moscow_genres`:"
   ]
  },
  {
   "cell_type": "code",
   "execution_count": 36,
   "metadata": {
    "id": "WhCSooF8_Zcv"
   },
   "outputs": [
    {
     "data": {
      "text/plain": [
       "genre\n",
       "pop            5892\n",
       "dance          4435\n",
       "rock           3965\n",
       "electronic     3786\n",
       "hiphop         2096\n",
       "classical      1616\n",
       "world          1432\n",
       "alternative    1379\n",
       "ruspop         1372\n",
       "rusrap         1161\n",
       "Name: genre, dtype: int64"
      ]
     },
     "execution_count": 36,
     "metadata": {},
     "output_type": "execute_result"
    }
   ],
   "source": [
    "# просмотр первых 10 строк moscow_genres\n",
    "moscow_genres.head(10)"
   ]
  },
  {
   "cell_type": "markdown",
   "metadata": {
    "id": "cnPG2vnN_Zcv"
   },
   "source": [
    "Теперь повторите то же и для Петербурга.\n",
    "\n",
    "Сгруппируйте таблицу `spb_general` по жанру. Посчитайте прослушивания треков каждого жанра. Результат отсортируйте в порядке убывания и сохраните в таблице `spb_genres`:\n"
   ]
  },
  {
   "cell_type": "code",
   "execution_count": 37,
   "metadata": {
    "id": "gluLIpE7_Zcv"
   },
   "outputs": [],
   "source": [
    "# одной строкой: группировка таблицы spb_general по столбцу 'genre', \n",
    "# подсчёт числа значений 'genre' в этой группировке методом count(), \n",
    "# сортировка получившегося Series в порядке убывания и сохранение в spb_genres\n",
    "spb_genres = spb_general.groupby('genre')['genre'].count().sort_values(ascending = False)"
   ]
  },
  {
   "cell_type": "markdown",
   "metadata": {
    "id": "5Doha_ODgyQ8"
   },
   "source": [
    "Выведите на экран первые десять строк `spb_genres`:"
   ]
  },
  {
   "cell_type": "code",
   "execution_count": 38,
   "metadata": {
    "id": "uaGJHjVU_Zcv"
   },
   "outputs": [
    {
     "data": {
      "text/plain": [
       "genre\n",
       "pop            2431\n",
       "dance          1932\n",
       "rock           1879\n",
       "electronic     1737\n",
       "hiphop          960\n",
       "alternative     649\n",
       "classical       646\n",
       "rusrap          564\n",
       "ruspop          538\n",
       "world           515\n",
       "Name: genre, dtype: int64"
      ]
     },
     "execution_count": 38,
     "metadata": {},
     "output_type": "execute_result"
    }
   ],
   "source": [
    "# просмотр первых 10 строк spb_genres\n",
    "spb_genres.head(10)"
   ]
  },
  {
   "cell_type": "markdown",
   "metadata": {
    "id": "RY51YJYu_Zcv"
   },
   "source": [
    "**Выводы**"
   ]
  },
  {
   "cell_type": "markdown",
   "metadata": {
    "id": "nVhnJEm__Zcv"
   },
   "source": [
    "Гипотеза частично подтвердилась:\n",
    "* Поп-музыка — самый популярный жанр в Москве, как и предполагала гипотеза. Более того, в топ-10 жанров встречается близкий жанр — русская популярная музыка.\n",
    "* Вопреки ожиданиям, рэп одинаково популярен в Москве и Петербурге. \n"
   ]
  },
  {
   "cell_type": "markdown",
   "metadata": {
    "id": "ykKQ0N65_Zcv"
   },
   "source": [
    "## Итоги исследования"
   ]
  },
  {
   "cell_type": "markdown",
   "metadata": {
    "id": "tjUwbHb3_Zcv",
    "pycharm": {
     "name": "#%% md\n"
    }
   },
   "source": [
    "Проверил три гипотезы и установил:\n",
    "\n",
    "1. День недели по-разному влияет на активность пользователей в Москве и Петербурге. \n",
    "\n",
    "Первая гипотеза полностью подтвердилась.\n",
    "\n",
    "2. Музыкальные предпочтения не сильно меняются в течение недели — будь то Москва или Петербург. Небольшие различия заметны в начале недели, по понедельникам:\n",
    "* в Москве слушают музыку жанра “world”,\n",
    "* в Петербурге — джаз и классику.\n",
    "\n",
    "Таким образом, вторая гипотеза подтвердилась лишь отчасти. Этот результат мог оказаться иным, если бы не пропуски в данных.\n",
    "\n",
    "3. Во вкусах пользователей Москвы и Петербурга больше общего чем различий. Вопреки ожиданиям, предпочтения жанров в Петербурге напоминают московские.\n",
    "\n",
    "Третья гипотеза не подтвердилась. Если различия в предпочтениях и существуют, на основной массе пользователей они незаметны.\n"
   ]
  },
  {
   "cell_type": "code",
   "execution_count": null,
   "outputs": [],
   "source": [],
   "metadata": {
    "collapsed": false,
    "pycharm": {
     "name": "#%%\n"
    }
   }
  }
 ],
 "metadata": {
  "ExecuteTimeLog": [
   {
    "duration": 272,
    "start_time": "2021-11-18T09:32:52.769Z"
   },
   {
    "duration": 246,
    "start_time": "2021-11-18T09:33:12.474Z"
   },
   {
    "duration": 230,
    "start_time": "2021-11-18T09:34:46.131Z"
   },
   {
    "duration": 956,
    "start_time": "2021-11-18T09:36:10.403Z"
   },
   {
    "duration": 512,
    "start_time": "2021-11-18T09:36:40.723Z"
   },
   {
    "duration": 203,
    "start_time": "2021-11-18T09:36:47.641Z"
   },
   {
    "duration": 16,
    "start_time": "2021-11-18T09:36:55.193Z"
   },
   {
    "duration": 11,
    "start_time": "2021-11-18T09:37:52.667Z"
   },
   {
    "duration": 7,
    "start_time": "2021-11-18T09:39:55.946Z"
   },
   {
    "duration": 10,
    "start_time": "2021-11-18T09:42:34.638Z"
   },
   {
    "duration": 22,
    "start_time": "2021-11-18T09:51:28.746Z"
   },
   {
    "duration": 4,
    "start_time": "2021-11-18T09:57:25.178Z"
   },
   {
    "duration": 17,
    "start_time": "2021-11-18T10:05:19.890Z"
   },
   {
    "duration": 4,
    "start_time": "2021-11-18T10:05:40.296Z"
   },
   {
    "duration": 21,
    "start_time": "2021-11-18T10:07:56.971Z"
   },
   {
    "duration": 16,
    "start_time": "2021-11-18T10:23:00.875Z"
   },
   {
    "duration": 20,
    "start_time": "2021-11-18T10:23:33.870Z"
   },
   {
    "duration": 53,
    "start_time": "2021-11-18T10:24:07.607Z"
   },
   {
    "duration": 61,
    "start_time": "2021-11-18T10:24:42.037Z"
   },
   {
    "duration": 45,
    "start_time": "2021-11-18T10:24:55.756Z"
   },
   {
    "duration": 6,
    "start_time": "2021-11-18T10:29:13.689Z"
   },
   {
    "duration": 15,
    "start_time": "2021-11-18T10:40:42.076Z"
   },
   {
    "duration": 3,
    "start_time": "2021-11-18T10:41:33.761Z"
   },
   {
    "duration": 14,
    "start_time": "2021-11-18T10:41:38.609Z"
   },
   {
    "duration": 7,
    "start_time": "2021-11-18T10:45:12.895Z"
   },
   {
    "duration": 44,
    "start_time": "2021-11-18T10:52:51.848Z"
   },
   {
    "duration": 46,
    "start_time": "2021-11-18T10:56:13.102Z"
   },
   {
    "duration": 33,
    "start_time": "2021-11-18T11:06:05.319Z"
   },
   {
    "duration": 34,
    "start_time": "2021-11-18T11:06:27.189Z"
   },
   {
    "duration": 33,
    "start_time": "2021-11-18T11:06:41.835Z"
   },
   {
    "duration": 41,
    "start_time": "2021-11-18T11:07:00.566Z"
   },
   {
    "duration": 8,
    "start_time": "2021-11-18T11:08:27.148Z"
   },
   {
    "duration": 17,
    "start_time": "2021-11-18T11:09:02.567Z"
   },
   {
    "duration": 3,
    "start_time": "2021-11-18T11:16:41.588Z"
   },
   {
    "duration": 8,
    "start_time": "2021-11-18T11:21:41.118Z"
   },
   {
    "duration": 8,
    "start_time": "2021-11-18T11:21:50.232Z"
   },
   {
    "duration": -29,
    "start_time": "2021-11-18T11:24:18.699Z"
   },
   {
    "duration": 6,
    "start_time": "2021-11-18T11:24:30.606Z"
   },
   {
    "duration": 2,
    "start_time": "2021-11-18T11:25:25.586Z"
   },
   {
    "duration": 143,
    "start_time": "2021-11-18T11:25:25.590Z"
   },
   {
    "duration": 10,
    "start_time": "2021-11-18T11:25:25.735Z"
   },
   {
    "duration": 26,
    "start_time": "2021-11-18T11:25:25.746Z"
   },
   {
    "duration": 15,
    "start_time": "2021-11-18T11:25:25.773Z"
   },
   {
    "duration": 14,
    "start_time": "2021-11-18T11:25:25.790Z"
   },
   {
    "duration": 3,
    "start_time": "2021-11-18T11:25:25.807Z"
   },
   {
    "duration": 21,
    "start_time": "2021-11-18T11:25:25.812Z"
   },
   {
    "duration": 15,
    "start_time": "2021-11-18T11:25:25.834Z"
   },
   {
    "duration": 41,
    "start_time": "2021-11-18T11:25:25.850Z"
   },
   {
    "duration": 50,
    "start_time": "2021-11-18T11:25:25.892Z"
   },
   {
    "duration": 71,
    "start_time": "2021-11-18T11:25:25.943Z"
   },
   {
    "duration": 45,
    "start_time": "2021-11-18T11:25:26.016Z"
   },
   {
    "duration": 6,
    "start_time": "2021-11-18T11:25:26.063Z"
   },
   {
    "duration": 18,
    "start_time": "2021-11-18T11:25:26.070Z"
   },
   {
    "duration": 16,
    "start_time": "2021-11-18T11:25:26.090Z"
   },
   {
    "duration": 45,
    "start_time": "2021-11-18T11:25:26.108Z"
   },
   {
    "duration": 2,
    "start_time": "2021-11-18T11:25:26.155Z"
   },
   {
    "duration": 5,
    "start_time": "2021-11-18T11:25:26.160Z"
   },
   {
    "duration": 7,
    "start_time": "2021-11-18T11:25:26.167Z"
   },
   {
    "duration": 2,
    "start_time": "2021-11-18T11:25:26.187Z"
   },
   {
    "duration": 3,
    "start_time": "2021-11-18T11:25:26.191Z"
   },
   {
    "duration": 4,
    "start_time": "2021-11-18T11:25:26.196Z"
   },
   {
    "duration": 5,
    "start_time": "2021-11-18T11:25:26.201Z"
   },
   {
    "duration": 10,
    "start_time": "2021-11-18T11:25:26.207Z"
   },
   {
    "duration": 5,
    "start_time": "2021-11-18T11:25:26.218Z"
   },
   {
    "duration": 5,
    "start_time": "2021-11-18T11:25:26.224Z"
   },
   {
    "duration": 8,
    "start_time": "2021-11-18T11:25:26.230Z"
   },
   {
    "duration": 4,
    "start_time": "2021-11-18T11:25:26.240Z"
   },
   {
    "duration": 4,
    "start_time": "2021-11-18T11:25:26.246Z"
   },
   {
    "duration": 6,
    "start_time": "2021-11-18T11:25:26.251Z"
   },
   {
    "duration": 6,
    "start_time": "2021-11-18T11:25:26.258Z"
   },
   {
    "duration": 9,
    "start_time": "2021-11-18T11:25:26.265Z"
   },
   {
    "duration": 12,
    "start_time": "2021-11-18T11:25:26.275Z"
   },
   {
    "duration": 1,
    "start_time": "2021-11-18T11:25:26.289Z"
   },
   {
    "duration": 6,
    "start_time": "2021-11-18T11:25:26.292Z"
   },
   {
    "duration": 4,
    "start_time": "2021-11-18T11:25:26.299Z"
   },
   {
    "duration": 4,
    "start_time": "2021-11-18T11:25:26.305Z"
   },
   {
    "duration": 2,
    "start_time": "2021-11-18T11:27:15.402Z"
   },
   {
    "duration": 129,
    "start_time": "2021-11-18T11:27:15.406Z"
   },
   {
    "duration": 9,
    "start_time": "2021-11-18T11:27:15.537Z"
   },
   {
    "duration": 22,
    "start_time": "2021-11-18T11:27:15.548Z"
   },
   {
    "duration": 16,
    "start_time": "2021-11-18T11:27:15.571Z"
   },
   {
    "duration": 12,
    "start_time": "2021-11-18T11:27:15.589Z"
   },
   {
    "duration": 4,
    "start_time": "2021-11-18T11:27:15.603Z"
   },
   {
    "duration": 26,
    "start_time": "2021-11-18T11:27:15.608Z"
   },
   {
    "duration": 18,
    "start_time": "2021-11-18T11:27:15.636Z"
   },
   {
    "duration": 33,
    "start_time": "2021-11-18T11:27:15.655Z"
   },
   {
    "duration": 48,
    "start_time": "2021-11-18T11:27:15.690Z"
   },
   {
    "duration": 68,
    "start_time": "2021-11-18T11:27:15.740Z"
   },
   {
    "duration": 43,
    "start_time": "2021-11-18T11:27:15.809Z"
   },
   {
    "duration": 7,
    "start_time": "2021-11-18T11:27:15.854Z"
   },
   {
    "duration": 26,
    "start_time": "2021-11-18T11:27:15.862Z"
   },
   {
    "duration": 16,
    "start_time": "2021-11-18T11:27:15.890Z"
   },
   {
    "duration": 46,
    "start_time": "2021-11-18T11:27:15.908Z"
   },
   {
    "duration": 2,
    "start_time": "2021-11-18T11:27:15.955Z"
   },
   {
    "duration": 4,
    "start_time": "2021-11-18T11:27:15.959Z"
   },
   {
    "duration": 6,
    "start_time": "2021-11-18T11:27:15.965Z"
   },
   {
    "duration": 15,
    "start_time": "2021-11-18T11:27:15.973Z"
   },
   {
    "duration": 4,
    "start_time": "2021-11-18T11:27:15.989Z"
   },
   {
    "duration": 6,
    "start_time": "2021-11-18T11:27:15.995Z"
   },
   {
    "duration": 5,
    "start_time": "2021-11-18T11:27:16.002Z"
   },
   {
    "duration": 4,
    "start_time": "2021-11-18T11:27:16.008Z"
   },
   {
    "duration": 6,
    "start_time": "2021-11-18T11:27:16.014Z"
   },
   {
    "duration": 6,
    "start_time": "2021-11-18T11:27:16.021Z"
   },
   {
    "duration": 6,
    "start_time": "2021-11-18T11:27:16.028Z"
   },
   {
    "duration": 7,
    "start_time": "2021-11-18T11:27:16.035Z"
   },
   {
    "duration": 7,
    "start_time": "2021-11-18T11:27:16.043Z"
   },
   {
    "duration": 15,
    "start_time": "2021-11-18T11:27:16.052Z"
   },
   {
    "duration": 8,
    "start_time": "2021-11-18T11:27:16.068Z"
   },
   {
    "duration": 7,
    "start_time": "2021-11-18T11:27:16.078Z"
   },
   {
    "duration": 5,
    "start_time": "2021-11-18T11:27:16.086Z"
   },
   {
    "duration": 5,
    "start_time": "2021-11-18T11:27:16.093Z"
   },
   {
    "duration": 6,
    "start_time": "2021-11-18T11:27:16.099Z"
   },
   {
    "duration": 4,
    "start_time": "2021-11-18T11:27:16.107Z"
   },
   {
    "duration": 5,
    "start_time": "2021-11-18T11:27:16.113Z"
   },
   {
    "duration": 3,
    "start_time": "2021-11-18T11:27:55.692Z"
   },
   {
    "duration": 127,
    "start_time": "2021-11-18T11:27:55.697Z"
   },
   {
    "duration": 11,
    "start_time": "2021-11-18T11:27:55.826Z"
   },
   {
    "duration": 26,
    "start_time": "2021-11-18T11:27:55.839Z"
   },
   {
    "duration": 21,
    "start_time": "2021-11-18T11:27:55.867Z"
   },
   {
    "duration": 14,
    "start_time": "2021-11-18T11:27:55.890Z"
   },
   {
    "duration": 4,
    "start_time": "2021-11-18T11:27:55.905Z"
   },
   {
    "duration": 22,
    "start_time": "2021-11-18T11:27:55.911Z"
   },
   {
    "duration": 15,
    "start_time": "2021-11-18T11:27:55.936Z"
   },
   {
    "duration": 48,
    "start_time": "2021-11-18T11:27:55.953Z"
   },
   {
    "duration": 51,
    "start_time": "2021-11-18T11:27:56.003Z"
   },
   {
    "duration": 69,
    "start_time": "2021-11-18T11:27:56.056Z"
   },
   {
    "duration": 43,
    "start_time": "2021-11-18T11:27:56.127Z"
   },
   {
    "duration": 20,
    "start_time": "2021-11-18T11:27:56.172Z"
   },
   {
    "duration": 3,
    "start_time": "2021-11-18T11:27:56.193Z"
   },
   {
    "duration": 11,
    "start_time": "2021-11-18T11:27:56.197Z"
   },
   {
    "duration": 45,
    "start_time": "2021-11-18T11:27:56.210Z"
   },
   {
    "duration": 2,
    "start_time": "2021-11-18T11:27:56.257Z"
   },
   {
    "duration": 6,
    "start_time": "2021-11-18T11:27:56.260Z"
   },
   {
    "duration": 21,
    "start_time": "2021-11-18T11:27:56.267Z"
   },
   {
    "duration": 9,
    "start_time": "2021-11-18T11:27:56.290Z"
   },
   {
    "duration": 4,
    "start_time": "2021-11-18T11:27:56.301Z"
   },
   {
    "duration": 6,
    "start_time": "2021-11-18T11:27:56.307Z"
   },
   {
    "duration": 6,
    "start_time": "2021-11-18T11:27:56.314Z"
   },
   {
    "duration": 14,
    "start_time": "2021-11-18T11:27:56.321Z"
   },
   {
    "duration": 7,
    "start_time": "2021-11-18T11:27:56.336Z"
   },
   {
    "duration": 4,
    "start_time": "2021-11-18T11:27:56.346Z"
   },
   {
    "duration": 4,
    "start_time": "2021-11-18T11:27:56.352Z"
   },
   {
    "duration": 6,
    "start_time": "2021-11-18T11:27:56.357Z"
   },
   {
    "duration": 5,
    "start_time": "2021-11-18T11:27:56.364Z"
   },
   {
    "duration": 7,
    "start_time": "2021-11-18T11:27:56.371Z"
   },
   {
    "duration": 5,
    "start_time": "2021-11-18T11:27:56.379Z"
   },
   {
    "duration": 9,
    "start_time": "2021-11-18T11:27:56.385Z"
   },
   {
    "duration": 4,
    "start_time": "2021-11-18T11:27:56.396Z"
   },
   {
    "duration": 4,
    "start_time": "2021-11-18T11:27:56.402Z"
   },
   {
    "duration": 4,
    "start_time": "2021-11-18T11:27:56.408Z"
   },
   {
    "duration": 7,
    "start_time": "2021-11-18T11:27:56.413Z"
   },
   {
    "duration": 5,
    "start_time": "2021-11-18T11:27:56.421Z"
   },
   {
    "duration": 238,
    "start_time": "2021-11-18T11:35:05.304Z"
   },
   {
    "duration": 231,
    "start_time": "2021-11-18T11:35:21.957Z"
   },
   {
    "duration": 311,
    "start_time": "2021-11-18T11:35:52.805Z"
   },
   {
    "duration": 247,
    "start_time": "2021-11-18T11:38:30.925Z"
   },
   {
    "duration": 236,
    "start_time": "2021-11-18T11:39:23.622Z"
   },
   {
    "duration": 46,
    "start_time": "2021-11-18T12:05:41.861Z"
   },
   {
    "duration": 27,
    "start_time": "2021-11-18T12:24:52.254Z"
   },
   {
    "duration": 12,
    "start_time": "2021-11-18T12:29:48.959Z"
   },
   {
    "duration": 11,
    "start_time": "2021-11-18T12:30:50.584Z"
   },
   {
    "duration": 13,
    "start_time": "2021-11-18T12:31:34.654Z"
   },
   {
    "duration": 10,
    "start_time": "2021-11-18T12:32:00.782Z"
   },
   {
    "duration": 4,
    "start_time": "2021-11-18T12:47:05.086Z"
   },
   {
    "duration": 3,
    "start_time": "2021-11-18T12:47:08.365Z"
   },
   {
    "duration": 2,
    "start_time": "2021-11-18T12:47:19.063Z"
   },
   {
    "duration": 151,
    "start_time": "2021-11-18T12:47:19.067Z"
   },
   {
    "duration": 9,
    "start_time": "2021-11-18T12:47:19.220Z"
   },
   {
    "duration": 44,
    "start_time": "2021-11-18T12:47:19.232Z"
   },
   {
    "duration": 18,
    "start_time": "2021-11-18T12:47:19.277Z"
   },
   {
    "duration": 32,
    "start_time": "2021-11-18T12:47:19.296Z"
   },
   {
    "duration": 11,
    "start_time": "2021-11-18T12:47:19.329Z"
   },
   {
    "duration": 26,
    "start_time": "2021-11-18T12:47:19.342Z"
   },
   {
    "duration": 21,
    "start_time": "2021-11-18T12:47:19.370Z"
   },
   {
    "duration": 36,
    "start_time": "2021-11-18T12:47:19.393Z"
   },
   {
    "duration": 74,
    "start_time": "2021-11-18T12:47:19.430Z"
   },
   {
    "duration": 59,
    "start_time": "2021-11-18T12:47:19.506Z"
   },
   {
    "duration": 64,
    "start_time": "2021-11-18T12:47:19.567Z"
   },
   {
    "duration": 8,
    "start_time": "2021-11-18T12:47:19.633Z"
   },
   {
    "duration": 7,
    "start_time": "2021-11-18T12:47:19.643Z"
   },
   {
    "duration": 22,
    "start_time": "2021-11-18T12:47:19.652Z"
   },
   {
    "duration": 49,
    "start_time": "2021-11-18T12:47:19.675Z"
   },
   {
    "duration": 10,
    "start_time": "2021-11-18T12:47:19.725Z"
   },
   {
    "duration": 11,
    "start_time": "2021-11-18T12:47:19.737Z"
   },
   {
    "duration": 12,
    "start_time": "2021-11-18T12:47:19.749Z"
   },
   {
    "duration": 12,
    "start_time": "2021-11-18T12:47:19.762Z"
   },
   {
    "duration": 12,
    "start_time": "2021-11-18T12:47:19.775Z"
   },
   {
    "duration": 14,
    "start_time": "2021-11-18T12:47:19.790Z"
   },
   {
    "duration": 20,
    "start_time": "2021-11-18T12:47:19.806Z"
   },
   {
    "duration": 5,
    "start_time": "2021-11-18T12:47:19.828Z"
   },
   {
    "duration": 10,
    "start_time": "2021-11-18T12:47:19.835Z"
   },
   {
    "duration": 16,
    "start_time": "2021-11-18T12:47:19.847Z"
   },
   {
    "duration": 19,
    "start_time": "2021-11-18T12:47:19.865Z"
   },
   {
    "duration": 16,
    "start_time": "2021-11-18T12:47:19.885Z"
   },
   {
    "duration": 11,
    "start_time": "2021-11-18T12:47:19.903Z"
   },
   {
    "duration": 14,
    "start_time": "2021-11-18T12:47:19.915Z"
   },
   {
    "duration": 25,
    "start_time": "2021-11-18T12:47:19.930Z"
   },
   {
    "duration": 21,
    "start_time": "2021-11-18T12:47:19.956Z"
   },
   {
    "duration": 13,
    "start_time": "2021-11-18T12:47:19.979Z"
   },
   {
    "duration": 11,
    "start_time": "2021-11-18T12:47:19.993Z"
   },
   {
    "duration": 15,
    "start_time": "2021-11-18T12:47:20.006Z"
   },
   {
    "duration": 12,
    "start_time": "2021-11-18T12:47:20.023Z"
   },
   {
    "duration": 19,
    "start_time": "2021-11-18T12:47:20.036Z"
   },
   {
    "duration": 501,
    "start_time": "2021-11-18T12:50:09.023Z"
   },
   {
    "duration": 2,
    "start_time": "2021-11-18T12:50:58.559Z"
   },
   {
    "duration": 131,
    "start_time": "2021-11-18T12:50:58.563Z"
   },
   {
    "duration": 9,
    "start_time": "2021-11-18T12:50:58.698Z"
   },
   {
    "duration": 22,
    "start_time": "2021-11-18T12:50:58.708Z"
   },
   {
    "duration": 4,
    "start_time": "2021-11-18T12:50:58.731Z"
   },
   {
    "duration": 11,
    "start_time": "2021-11-18T12:50:58.736Z"
   },
   {
    "duration": 4,
    "start_time": "2021-11-18T12:50:58.749Z"
   },
   {
    "duration": 44,
    "start_time": "2021-11-18T12:50:58.754Z"
   },
   {
    "duration": 34,
    "start_time": "2021-11-18T12:50:58.800Z"
   },
   {
    "duration": 20,
    "start_time": "2021-11-18T12:50:58.835Z"
   },
   {
    "duration": 73,
    "start_time": "2021-11-18T12:50:58.856Z"
   },
   {
    "duration": 49,
    "start_time": "2021-11-18T12:50:58.930Z"
   },
   {
    "duration": 45,
    "start_time": "2021-11-18T12:50:58.981Z"
   },
   {
    "duration": 5,
    "start_time": "2021-11-18T12:50:59.028Z"
   },
   {
    "duration": 3,
    "start_time": "2021-11-18T12:50:59.035Z"
   },
   {
    "duration": 10,
    "start_time": "2021-11-18T12:50:59.039Z"
   },
   {
    "duration": 65,
    "start_time": "2021-11-18T12:50:59.051Z"
   },
   {
    "duration": 10,
    "start_time": "2021-11-18T12:50:59.117Z"
   },
   {
    "duration": 9,
    "start_time": "2021-11-18T12:50:59.130Z"
   },
   {
    "duration": 3,
    "start_time": "2021-11-18T12:50:59.140Z"
   },
   {
    "duration": 486,
    "start_time": "2021-11-18T12:50:59.145Z"
   },
   {
    "duration": 32,
    "start_time": "2021-11-18T12:50:59.601Z"
   },
   {
    "duration": 31,
    "start_time": "2021-11-18T12:50:59.603Z"
   },
   {
    "duration": 29,
    "start_time": "2021-11-18T12:50:59.605Z"
   },
   {
    "duration": 28,
    "start_time": "2021-11-18T12:50:59.607Z"
   },
   {
    "duration": 25,
    "start_time": "2021-11-18T12:50:59.611Z"
   },
   {
    "duration": 22,
    "start_time": "2021-11-18T12:50:59.614Z"
   },
   {
    "duration": 20,
    "start_time": "2021-11-18T12:50:59.617Z"
   },
   {
    "duration": 18,
    "start_time": "2021-11-18T12:50:59.620Z"
   },
   {
    "duration": 16,
    "start_time": "2021-11-18T12:50:59.622Z"
   },
   {
    "duration": 15,
    "start_time": "2021-11-18T12:50:59.624Z"
   },
   {
    "duration": 14,
    "start_time": "2021-11-18T12:50:59.626Z"
   },
   {
    "duration": 12,
    "start_time": "2021-11-18T12:50:59.628Z"
   },
   {
    "duration": 5,
    "start_time": "2021-11-18T12:50:59.636Z"
   },
   {
    "duration": 4,
    "start_time": "2021-11-18T12:50:59.638Z"
   },
   {
    "duration": 2,
    "start_time": "2021-11-18T12:50:59.640Z"
   },
   {
    "duration": 2,
    "start_time": "2021-11-18T12:50:59.641Z"
   },
   {
    "duration": 0,
    "start_time": "2021-11-18T12:50:59.644Z"
   },
   {
    "duration": 271,
    "start_time": "2021-11-18T12:56:34.811Z"
   },
   {
    "duration": 1365,
    "start_time": "2021-11-18T12:57:31.668Z"
   },
   {
    "duration": 2,
    "start_time": "2021-11-18T13:11:49.278Z"
   },
   {
    "duration": 124,
    "start_time": "2021-11-18T13:11:49.282Z"
   },
   {
    "duration": 10,
    "start_time": "2021-11-18T13:11:49.408Z"
   },
   {
    "duration": 39,
    "start_time": "2021-11-18T13:11:49.420Z"
   },
   {
    "duration": 10,
    "start_time": "2021-11-18T13:11:49.461Z"
   },
   {
    "duration": 34,
    "start_time": "2021-11-18T13:11:49.472Z"
   },
   {
    "duration": 10,
    "start_time": "2021-11-18T13:11:49.508Z"
   },
   {
    "duration": 27,
    "start_time": "2021-11-18T13:11:49.520Z"
   },
   {
    "duration": 21,
    "start_time": "2021-11-18T13:11:49.549Z"
   },
   {
    "duration": 36,
    "start_time": "2021-11-18T13:11:49.571Z"
   },
   {
    "duration": 56,
    "start_time": "2021-11-18T13:11:49.608Z"
   },
   {
    "duration": 54,
    "start_time": "2021-11-18T13:11:49.666Z"
   },
   {
    "duration": 41,
    "start_time": "2021-11-18T13:11:49.722Z"
   },
   {
    "duration": 5,
    "start_time": "2021-11-18T13:11:49.765Z"
   },
   {
    "duration": 19,
    "start_time": "2021-11-18T13:11:49.772Z"
   },
   {
    "duration": 16,
    "start_time": "2021-11-18T13:11:49.792Z"
   },
   {
    "duration": 61,
    "start_time": "2021-11-18T13:11:49.810Z"
   },
   {
    "duration": 9,
    "start_time": "2021-11-18T13:11:49.872Z"
   },
   {
    "duration": 16,
    "start_time": "2021-11-18T13:11:49.883Z"
   },
   {
    "duration": 10,
    "start_time": "2021-11-18T13:11:49.901Z"
   },
   {
    "duration": 473,
    "start_time": "2021-11-18T13:11:49.913Z"
   },
   {
    "duration": 40,
    "start_time": "2021-11-18T13:11:50.348Z"
   },
   {
    "duration": 36,
    "start_time": "2021-11-18T13:11:50.353Z"
   },
   {
    "duration": 34,
    "start_time": "2021-11-18T13:11:50.356Z"
   },
   {
    "duration": 33,
    "start_time": "2021-11-18T13:11:50.358Z"
   },
   {
    "duration": 32,
    "start_time": "2021-11-18T13:11:50.360Z"
   },
   {
    "duration": 30,
    "start_time": "2021-11-18T13:11:50.363Z"
   },
   {
    "duration": 28,
    "start_time": "2021-11-18T13:11:50.366Z"
   },
   {
    "duration": 26,
    "start_time": "2021-11-18T13:11:50.369Z"
   },
   {
    "duration": 25,
    "start_time": "2021-11-18T13:11:50.371Z"
   },
   {
    "duration": 23,
    "start_time": "2021-11-18T13:11:50.373Z"
   },
   {
    "duration": 22,
    "start_time": "2021-11-18T13:11:50.375Z"
   },
   {
    "duration": 22,
    "start_time": "2021-11-18T13:11:50.376Z"
   },
   {
    "duration": 21,
    "start_time": "2021-11-18T13:11:50.378Z"
   },
   {
    "duration": 20,
    "start_time": "2021-11-18T13:11:50.380Z"
   },
   {
    "duration": 18,
    "start_time": "2021-11-18T13:11:50.382Z"
   },
   {
    "duration": 18,
    "start_time": "2021-11-18T13:11:50.384Z"
   },
   {
    "duration": 17,
    "start_time": "2021-11-18T13:11:50.386Z"
   },
   {
    "duration": 2,
    "start_time": "2021-11-18T13:13:03.403Z"
   },
   {
    "duration": 132,
    "start_time": "2021-11-18T13:13:03.407Z"
   },
   {
    "duration": 9,
    "start_time": "2021-11-18T13:13:03.540Z"
   },
   {
    "duration": 28,
    "start_time": "2021-11-18T13:13:03.551Z"
   },
   {
    "duration": 11,
    "start_time": "2021-11-18T13:13:03.581Z"
   },
   {
    "duration": 18,
    "start_time": "2021-11-18T13:13:03.594Z"
   },
   {
    "duration": 3,
    "start_time": "2021-11-18T13:13:03.614Z"
   },
   {
    "duration": 22,
    "start_time": "2021-11-18T13:13:03.619Z"
   },
   {
    "duration": 14,
    "start_time": "2021-11-18T13:13:03.642Z"
   },
   {
    "duration": 20,
    "start_time": "2021-11-18T13:13:03.657Z"
   },
   {
    "duration": 56,
    "start_time": "2021-11-18T13:13:03.678Z"
   },
   {
    "duration": 60,
    "start_time": "2021-11-18T13:13:03.735Z"
   },
   {
    "duration": 43,
    "start_time": "2021-11-18T13:13:03.797Z"
   },
   {
    "duration": 6,
    "start_time": "2021-11-18T13:13:03.841Z"
   },
   {
    "duration": 6,
    "start_time": "2021-11-18T13:13:03.848Z"
   },
   {
    "duration": 13,
    "start_time": "2021-11-18T13:13:03.855Z"
   },
   {
    "duration": 61,
    "start_time": "2021-11-18T13:13:03.869Z"
   },
   {
    "duration": 9,
    "start_time": "2021-11-18T13:13:03.932Z"
   },
   {
    "duration": 9,
    "start_time": "2021-11-18T13:13:03.944Z"
   },
   {
    "duration": 2,
    "start_time": "2021-11-18T13:13:03.955Z"
   },
   {
    "duration": 45,
    "start_time": "2021-11-18T13:13:03.959Z"
   },
   {
    "duration": 1,
    "start_time": "2021-11-18T13:13:04.006Z"
   },
   {
    "duration": 4,
    "start_time": "2021-11-18T13:13:04.009Z"
   },
   {
    "duration": 8,
    "start_time": "2021-11-18T13:13:04.015Z"
   },
   {
    "duration": 4,
    "start_time": "2021-11-18T13:13:04.025Z"
   },
   {
    "duration": 6,
    "start_time": "2021-11-18T13:13:04.031Z"
   },
   {
    "duration": 4,
    "start_time": "2021-11-18T13:13:04.038Z"
   },
   {
    "duration": 4,
    "start_time": "2021-11-18T13:13:04.044Z"
   },
   {
    "duration": 6,
    "start_time": "2021-11-18T13:13:04.049Z"
   },
   {
    "duration": 5,
    "start_time": "2021-11-18T13:13:04.057Z"
   },
   {
    "duration": 11,
    "start_time": "2021-11-18T13:13:04.063Z"
   },
   {
    "duration": 7,
    "start_time": "2021-11-18T13:13:04.075Z"
   },
   {
    "duration": 5,
    "start_time": "2021-11-18T13:13:04.087Z"
   },
   {
    "duration": 5,
    "start_time": "2021-11-18T13:13:04.093Z"
   },
   {
    "duration": 7,
    "start_time": "2021-11-18T13:13:04.100Z"
   },
   {
    "duration": 4,
    "start_time": "2021-11-18T13:13:04.109Z"
   },
   {
    "duration": 4,
    "start_time": "2021-11-18T13:13:04.115Z"
   },
   {
    "duration": 4,
    "start_time": "2021-11-18T13:13:04.120Z"
   },
   {
    "duration": 3,
    "start_time": "2021-11-18T13:15:58.187Z"
   },
   {
    "duration": 527,
    "start_time": "2021-11-18T13:16:00.948Z"
   },
   {
    "duration": 572,
    "start_time": "2021-11-18T13:18:53.430Z"
   },
   {
    "duration": 239,
    "start_time": "2021-11-18T13:19:05.596Z"
   },
   {
    "duration": 248,
    "start_time": "2021-11-18T13:20:05.881Z"
   },
   {
    "duration": 245,
    "start_time": "2021-11-18T13:24:21.289Z"
   },
   {
    "duration": 3,
    "start_time": "2021-11-18T13:33:51.719Z"
   },
   {
    "duration": 1647,
    "start_time": "2021-11-18T13:33:56.479Z"
   },
   {
    "duration": 3,
    "start_time": "2021-11-18T13:39:37.724Z"
   },
   {
    "duration": 1267,
    "start_time": "2021-11-18T13:39:50.843Z"
   },
   {
    "duration": 3,
    "start_time": "2021-11-18T13:40:48.936Z"
   },
   {
    "duration": 1172,
    "start_time": "2021-11-18T13:40:52.665Z"
   },
   {
    "duration": 76,
    "start_time": "2021-11-18T13:46:27.945Z"
   },
   {
    "duration": 4,
    "start_time": "2021-11-18T13:46:39.934Z"
   },
   {
    "duration": 1157,
    "start_time": "2021-11-18T13:46:53.872Z"
   },
   {
    "duration": 3,
    "start_time": "2021-11-18T13:50:01.353Z"
   },
   {
    "duration": 34,
    "start_time": "2021-11-18T13:50:04.600Z"
   },
   {
    "duration": 251,
    "start_time": "2021-11-18T13:55:16.121Z"
   },
   {
    "duration": 3,
    "start_time": "2021-11-18T13:55:41.798Z"
   },
   {
    "duration": 3,
    "start_time": "2021-11-18T13:55:55.780Z"
   },
   {
    "duration": 274,
    "start_time": "2021-11-18T13:56:15.920Z"
   },
   {
    "duration": 4,
    "start_time": "2021-11-18T13:56:23.306Z"
   },
   {
    "duration": 74,
    "start_time": "2021-11-18T13:56:28.995Z"
   },
   {
    "duration": 3,
    "start_time": "2021-11-18T13:59:46.040Z"
   },
   {
    "duration": 3,
    "start_time": "2021-11-18T14:02:30.977Z"
   },
   {
    "duration": 25,
    "start_time": "2021-11-18T14:02:36.075Z"
   },
   {
    "duration": 80,
    "start_time": "2021-11-18T14:13:34.959Z"
   },
   {
    "duration": 3,
    "start_time": "2021-11-18T14:13:41.991Z"
   },
   {
    "duration": 16,
    "start_time": "2021-11-18T14:13:47.515Z"
   },
   {
    "duration": 13,
    "start_time": "2021-11-18T14:14:58.837Z"
   },
   {
    "duration": 15,
    "start_time": "2021-11-18T14:16:09.056Z"
   },
   {
    "duration": 13,
    "start_time": "2021-11-18T14:17:11.862Z"
   },
   {
    "duration": 16,
    "start_time": "2021-11-18T14:17:50.951Z"
   },
   {
    "duration": 13,
    "start_time": "2021-11-18T14:18:16.395Z"
   },
   {
    "duration": 4,
    "start_time": "2021-11-18T14:26:32.034Z"
   },
   {
    "duration": 8,
    "start_time": "2021-11-18T14:26:44.041Z"
   },
   {
    "duration": 12,
    "start_time": "2021-11-18T14:39:18.931Z"
   },
   {
    "duration": 9,
    "start_time": "2021-11-18T14:39:20.563Z"
   },
   {
    "duration": 4,
    "start_time": "2021-11-18T16:31:05.922Z"
   },
   {
    "duration": 3,
    "start_time": "2021-11-18T16:32:17.388Z"
   },
   {
    "duration": 269,
    "start_time": "2021-11-18T16:32:38.894Z"
   },
   {
    "duration": 590,
    "start_time": "2021-11-18T16:33:00.088Z"
   },
   {
    "duration": 121,
    "start_time": "2021-11-18T16:33:00.680Z"
   },
   {
    "duration": 16,
    "start_time": "2021-11-18T16:33:00.803Z"
   },
   {
    "duration": 33,
    "start_time": "2021-11-18T16:33:00.821Z"
   },
   {
    "duration": 14,
    "start_time": "2021-11-18T16:33:00.856Z"
   },
   {
    "duration": 32,
    "start_time": "2021-11-18T16:33:00.872Z"
   },
   {
    "duration": 17,
    "start_time": "2021-11-18T16:33:00.906Z"
   },
   {
    "duration": 29,
    "start_time": "2021-11-18T16:33:00.925Z"
   },
   {
    "duration": 26,
    "start_time": "2021-11-18T16:33:00.957Z"
   },
   {
    "duration": 36,
    "start_time": "2021-11-18T16:33:00.985Z"
   },
   {
    "duration": 71,
    "start_time": "2021-11-18T16:33:01.022Z"
   },
   {
    "duration": 63,
    "start_time": "2021-11-18T16:33:01.095Z"
   },
   {
    "duration": 68,
    "start_time": "2021-11-18T16:33:01.159Z"
   },
   {
    "duration": 8,
    "start_time": "2021-11-18T16:33:01.229Z"
   },
   {
    "duration": 16,
    "start_time": "2021-11-18T16:33:01.239Z"
   },
   {
    "duration": 18,
    "start_time": "2021-11-18T16:33:01.257Z"
   },
   {
    "duration": 53,
    "start_time": "2021-11-18T16:33:01.277Z"
   },
   {
    "duration": 11,
    "start_time": "2021-11-18T16:33:01.332Z"
   },
   {
    "duration": 18,
    "start_time": "2021-11-18T16:33:01.345Z"
   },
   {
    "duration": 9,
    "start_time": "2021-11-18T16:33:01.364Z"
   },
   {
    "duration": 50,
    "start_time": "2021-11-18T16:33:01.388Z"
   },
   {
    "duration": 50,
    "start_time": "2021-11-18T16:33:01.440Z"
   },
   {
    "duration": 42,
    "start_time": "2021-11-18T16:33:01.492Z"
   },
   {
    "duration": 34,
    "start_time": "2021-11-18T16:33:01.536Z"
   },
   {
    "duration": 23,
    "start_time": "2021-11-18T16:33:01.572Z"
   },
   {
    "duration": 31,
    "start_time": "2021-11-18T16:33:01.597Z"
   },
   {
    "duration": 9,
    "start_time": "2021-11-18T16:33:01.632Z"
   },
   {
    "duration": 26,
    "start_time": "2021-11-18T16:33:01.643Z"
   },
   {
    "duration": 29,
    "start_time": "2021-11-18T16:33:01.670Z"
   },
   {
    "duration": 23,
    "start_time": "2021-11-18T16:33:01.701Z"
   },
   {
    "duration": 628,
    "start_time": "2021-11-18T16:33:01.726Z"
   },
   {
    "duration": 104,
    "start_time": "2021-11-18T16:33:02.252Z"
   },
   {
    "duration": 102,
    "start_time": "2021-11-18T16:33:02.255Z"
   },
   {
    "duration": 102,
    "start_time": "2021-11-18T16:33:02.256Z"
   },
   {
    "duration": 100,
    "start_time": "2021-11-18T16:33:02.259Z"
   },
   {
    "duration": 100,
    "start_time": "2021-11-18T16:33:02.261Z"
   },
   {
    "duration": 99,
    "start_time": "2021-11-18T16:33:02.263Z"
   },
   {
    "duration": 97,
    "start_time": "2021-11-18T16:33:02.266Z"
   },
   {
    "duration": 10,
    "start_time": "2021-11-18T16:35:01.707Z"
   },
   {
    "duration": 9,
    "start_time": "2021-11-18T16:35:03.141Z"
   },
   {
    "duration": 3,
    "start_time": "2021-11-18T16:35:06.838Z"
   },
   {
    "duration": 508,
    "start_time": "2021-11-18T16:35:09.996Z"
   },
   {
    "duration": 4,
    "start_time": "2021-11-18T16:37:01.769Z"
   },
   {
    "duration": 19,
    "start_time": "2021-11-18T16:37:05.006Z"
   },
   {
    "duration": 19,
    "start_time": "2021-11-18T16:37:27.846Z"
   },
   {
    "duration": 4,
    "start_time": "2021-11-18T16:37:52.827Z"
   },
   {
    "duration": 21,
    "start_time": "2021-11-18T16:37:55.943Z"
   },
   {
    "duration": 20,
    "start_time": "2021-11-18T16:38:17.756Z"
   },
   {
    "duration": 21,
    "start_time": "2021-11-18T16:42:45.027Z"
   },
   {
    "duration": 18,
    "start_time": "2021-11-18T16:43:32.519Z"
   },
   {
    "duration": 82,
    "start_time": "2021-11-18T16:49:02.624Z"
   },
   {
    "duration": 6,
    "start_time": "2021-11-18T16:49:25.385Z"
   },
   {
    "duration": 727,
    "start_time": "2021-11-18T16:49:28.944Z"
   },
   {
    "duration": 4,
    "start_time": "2021-11-18T16:49:42.051Z"
   },
   {
    "duration": 21,
    "start_time": "2021-11-18T16:49:44.545Z"
   },
   {
    "duration": 6,
    "start_time": "2021-11-18T16:51:48.829Z"
   },
   {
    "duration": 10,
    "start_time": "2021-11-18T16:52:04.043Z"
   },
   {
    "duration": 296,
    "start_time": "2021-11-18T16:52:16.235Z"
   },
   {
    "duration": 13,
    "start_time": "2021-11-18T16:52:31.230Z"
   },
   {
    "duration": 5,
    "start_time": "2021-11-18T16:53:49.513Z"
   },
   {
    "duration": 16,
    "start_time": "2021-11-18T16:53:52.286Z"
   },
   {
    "duration": 11,
    "start_time": "2021-11-18T16:53:59.155Z"
   },
   {
    "duration": 16,
    "start_time": "2021-11-18T16:54:04.563Z"
   },
   {
    "duration": 12,
    "start_time": "2021-11-18T16:54:07.479Z"
   },
   {
    "duration": 4,
    "start_time": "2021-11-18T17:01:39.247Z"
   },
   {
    "duration": 15,
    "start_time": "2021-11-18T17:01:44.926Z"
   },
   {
    "duration": 13,
    "start_time": "2021-11-18T17:01:48.794Z"
   },
   {
    "duration": 16,
    "start_time": "2021-11-18T17:01:51.498Z"
   },
   {
    "duration": 17,
    "start_time": "2021-11-18T17:01:53.693Z"
   },
   {
    "duration": 24,
    "start_time": "2021-11-18T17:09:26.145Z"
   },
   {
    "duration": 22,
    "start_time": "2021-11-18T17:09:44.212Z"
   },
   {
    "duration": 264,
    "start_time": "2021-11-18T17:11:15.168Z"
   },
   {
    "duration": 248,
    "start_time": "2021-11-18T17:13:31.549Z"
   },
   {
    "duration": 25,
    "start_time": "2021-11-18T17:14:05.672Z"
   },
   {
    "duration": 234,
    "start_time": "2021-11-18T17:16:34.165Z"
   },
   {
    "duration": 284,
    "start_time": "2021-11-18T17:16:48.348Z"
   },
   {
    "duration": 9,
    "start_time": "2021-11-18T17:17:04.357Z"
   },
   {
    "duration": 5,
    "start_time": "2021-11-18T17:17:51.905Z"
   },
   {
    "duration": 8,
    "start_time": "2021-11-18T17:18:10.494Z"
   },
   {
    "duration": 238,
    "start_time": "2021-11-18T17:19:54.726Z"
   },
   {
    "duration": 6,
    "start_time": "2021-11-18T17:20:10.637Z"
   },
   {
    "duration": 4,
    "start_time": "2021-11-18T17:20:19.770Z"
   },
   {
    "duration": 3,
    "start_time": "2021-11-18T17:21:22.758Z"
   },
   {
    "duration": 150,
    "start_time": "2021-11-18T17:21:22.763Z"
   },
   {
    "duration": 12,
    "start_time": "2021-11-18T17:21:22.916Z"
   },
   {
    "duration": 38,
    "start_time": "2021-11-18T17:21:22.929Z"
   },
   {
    "duration": 16,
    "start_time": "2021-11-18T17:21:22.969Z"
   },
   {
    "duration": 30,
    "start_time": "2021-11-18T17:21:22.987Z"
   },
   {
    "duration": 5,
    "start_time": "2021-11-18T17:21:23.020Z"
   },
   {
    "duration": 39,
    "start_time": "2021-11-18T17:21:23.029Z"
   },
   {
    "duration": 33,
    "start_time": "2021-11-18T17:21:23.070Z"
   },
   {
    "duration": 35,
    "start_time": "2021-11-18T17:21:23.105Z"
   },
   {
    "duration": 83,
    "start_time": "2021-11-18T17:21:23.143Z"
   },
   {
    "duration": 65,
    "start_time": "2021-11-18T17:21:23.228Z"
   },
   {
    "duration": 45,
    "start_time": "2021-11-18T17:21:23.295Z"
   },
   {
    "duration": 6,
    "start_time": "2021-11-18T17:21:23.342Z"
   },
   {
    "duration": 4,
    "start_time": "2021-11-18T17:21:23.349Z"
   },
   {
    "duration": 11,
    "start_time": "2021-11-18T17:21:23.354Z"
   },
   {
    "duration": 78,
    "start_time": "2021-11-18T17:21:23.366Z"
   },
   {
    "duration": 10,
    "start_time": "2021-11-18T17:21:23.445Z"
   },
   {
    "duration": 10,
    "start_time": "2021-11-18T17:21:23.458Z"
   },
   {
    "duration": 2,
    "start_time": "2021-11-18T17:21:23.488Z"
   },
   {
    "duration": 19,
    "start_time": "2021-11-18T17:21:23.492Z"
   },
   {
    "duration": 13,
    "start_time": "2021-11-18T17:21:23.513Z"
   },
   {
    "duration": 12,
    "start_time": "2021-11-18T17:21:23.527Z"
   },
   {
    "duration": 12,
    "start_time": "2021-11-18T17:21:23.541Z"
   },
   {
    "duration": 43,
    "start_time": "2021-11-18T17:21:23.555Z"
   },
   {
    "duration": 13,
    "start_time": "2021-11-18T17:21:23.600Z"
   },
   {
    "duration": 8,
    "start_time": "2021-11-18T17:21:23.614Z"
   },
   {
    "duration": 16,
    "start_time": "2021-11-18T17:21:23.624Z"
   },
   {
    "duration": 9,
    "start_time": "2021-11-18T17:21:23.642Z"
   },
   {
    "duration": 4,
    "start_time": "2021-11-18T17:21:23.653Z"
   },
   {
    "duration": 39,
    "start_time": "2021-11-18T17:21:23.659Z"
   },
   {
    "duration": 11,
    "start_time": "2021-11-18T17:21:23.700Z"
   },
   {
    "duration": 15,
    "start_time": "2021-11-18T17:21:23.713Z"
   },
   {
    "duration": 11,
    "start_time": "2021-11-18T17:21:23.729Z"
   },
   {
    "duration": 21,
    "start_time": "2021-11-18T17:21:23.741Z"
   },
   {
    "duration": 5,
    "start_time": "2021-11-18T17:21:23.763Z"
   },
   {
    "duration": 5,
    "start_time": "2021-11-18T17:21:23.788Z"
   },
   {
    "duration": 4,
    "start_time": "2021-11-18T17:21:23.794Z"
   },
   {
    "duration": 734,
    "start_time": "2021-11-19T04:26:36.814Z"
   },
   {
    "duration": 195,
    "start_time": "2021-11-19T04:26:37.551Z"
   },
   {
    "duration": 33,
    "start_time": "2021-11-19T04:26:37.749Z"
   },
   {
    "duration": 34,
    "start_time": "2021-11-19T04:26:37.785Z"
   },
   {
    "duration": 5,
    "start_time": "2021-11-19T04:26:37.822Z"
   },
   {
    "duration": 57,
    "start_time": "2021-11-19T04:26:37.830Z"
   },
   {
    "duration": 8,
    "start_time": "2021-11-19T04:26:37.889Z"
   },
   {
    "duration": 35,
    "start_time": "2021-11-19T04:26:37.900Z"
   },
   {
    "duration": 24,
    "start_time": "2021-11-19T04:26:37.968Z"
   },
   {
    "duration": 33,
    "start_time": "2021-11-19T04:26:37.995Z"
   },
   {
    "duration": 122,
    "start_time": "2021-11-19T04:26:38.031Z"
   },
   {
    "duration": 117,
    "start_time": "2021-11-19T04:26:38.155Z"
   },
   {
    "duration": 79,
    "start_time": "2021-11-19T04:26:38.274Z"
   },
   {
    "duration": 10,
    "start_time": "2021-11-19T04:26:38.367Z"
   },
   {
    "duration": 4,
    "start_time": "2021-11-19T04:26:38.380Z"
   },
   {
    "duration": 17,
    "start_time": "2021-11-19T04:26:38.386Z"
   },
   {
    "duration": 104,
    "start_time": "2021-11-19T04:26:38.405Z"
   },
   {
    "duration": 16,
    "start_time": "2021-11-19T04:26:38.511Z"
   },
   {
    "duration": 38,
    "start_time": "2021-11-19T04:26:38.530Z"
   },
   {
    "duration": 4,
    "start_time": "2021-11-19T04:26:38.571Z"
   },
   {
    "duration": 27,
    "start_time": "2021-11-19T04:26:38.578Z"
   },
   {
    "duration": 18,
    "start_time": "2021-11-19T04:26:38.607Z"
   },
   {
    "duration": 52,
    "start_time": "2021-11-19T04:26:38.627Z"
   },
   {
    "duration": 27,
    "start_time": "2021-11-19T04:26:38.681Z"
   },
   {
    "duration": 21,
    "start_time": "2021-11-19T04:26:38.711Z"
   },
   {
    "duration": 40,
    "start_time": "2021-11-19T04:26:38.734Z"
   },
   {
    "duration": 13,
    "start_time": "2021-11-19T04:26:38.779Z"
   },
   {
    "duration": 26,
    "start_time": "2021-11-19T04:26:38.794Z"
   },
   {
    "duration": 12,
    "start_time": "2021-11-19T04:26:38.823Z"
   },
   {
    "duration": 30,
    "start_time": "2021-11-19T04:26:38.837Z"
   },
   {
    "duration": 36,
    "start_time": "2021-11-19T04:26:38.870Z"
   },
   {
    "duration": 24,
    "start_time": "2021-11-19T04:26:38.908Z"
   },
   {
    "duration": 34,
    "start_time": "2021-11-19T04:26:38.934Z"
   },
   {
    "duration": 18,
    "start_time": "2021-11-19T04:26:38.970Z"
   },
   {
    "duration": 11,
    "start_time": "2021-11-19T04:26:38.990Z"
   },
   {
    "duration": 8,
    "start_time": "2021-11-19T04:26:39.003Z"
   },
   {
    "duration": 11,
    "start_time": "2021-11-19T04:26:39.013Z"
   },
   {
    "duration": 44,
    "start_time": "2021-11-19T04:26:39.027Z"
   },
   {
    "duration": 250,
    "start_time": "2021-11-19T08:38:26.766Z"
   },
   {
    "duration": 565,
    "start_time": "2021-11-19T08:39:32.160Z"
   },
   {
    "duration": 113,
    "start_time": "2021-11-19T08:39:32.727Z"
   },
   {
    "duration": 14,
    "start_time": "2021-11-19T08:39:32.842Z"
   },
   {
    "duration": 55,
    "start_time": "2021-11-19T08:39:32.857Z"
   },
   {
    "duration": 24,
    "start_time": "2021-11-19T08:39:32.914Z"
   },
   {
    "duration": 31,
    "start_time": "2021-11-19T08:39:32.939Z"
   },
   {
    "duration": 19,
    "start_time": "2021-11-19T08:39:32.971Z"
   },
   {
    "duration": 34,
    "start_time": "2021-11-19T08:39:32.992Z"
   },
   {
    "duration": 36,
    "start_time": "2021-11-19T08:39:33.028Z"
   },
   {
    "duration": 41,
    "start_time": "2021-11-19T08:39:33.065Z"
   },
   {
    "duration": 70,
    "start_time": "2021-11-19T08:39:33.107Z"
   },
   {
    "duration": 58,
    "start_time": "2021-11-19T08:39:33.179Z"
   },
   {
    "duration": 54,
    "start_time": "2021-11-19T08:39:33.238Z"
   },
   {
    "duration": 45,
    "start_time": "2021-11-19T08:39:38.514Z"
   },
   {
    "duration": 258,
    "start_time": "2021-11-19T08:47:37.685Z"
   },
   {
    "duration": 47,
    "start_time": "2021-11-19T08:48:40.931Z"
   },
   {
    "duration": 682,
    "start_time": "2021-11-19T08:58:45.951Z"
   },
   {
    "duration": 666,
    "start_time": "2021-11-19T08:59:19.191Z"
   },
   {
    "duration": 456,
    "start_time": "2021-11-19T09:00:24.343Z"
   },
   {
    "duration": 77,
    "start_time": "2021-11-19T09:01:23.510Z"
   },
   {
    "duration": 862,
    "start_time": "2021-11-19T09:01:44.493Z"
   },
   {
    "duration": 48,
    "start_time": "2021-11-19T09:11:52.136Z"
   },
   {
    "duration": 283,
    "start_time": "2021-11-19T09:14:13.730Z"
   },
   {
    "duration": 43,
    "start_time": "2021-11-19T09:16:01.725Z"
   },
   {
    "duration": 78,
    "start_time": "2021-11-19T09:17:15.196Z"
   },
   {
    "duration": 278,
    "start_time": "2021-11-19T09:17:36.675Z"
   },
   {
    "duration": 50,
    "start_time": "2021-11-19T09:18:06.673Z"
   },
   {
    "duration": 46,
    "start_time": "2021-11-19T09:21:18.668Z"
   },
   {
    "duration": 37,
    "start_time": "2021-11-19T09:24:28.760Z"
   },
   {
    "duration": 38,
    "start_time": "2021-11-19T09:30:34.284Z"
   },
   {
    "duration": 847,
    "start_time": "2021-11-19T09:31:57.933Z"
   },
   {
    "duration": 2,
    "start_time": "2021-11-19T09:56:23.823Z"
   },
   {
    "duration": 137,
    "start_time": "2021-11-19T09:56:23.828Z"
   },
   {
    "duration": 9,
    "start_time": "2021-11-19T09:56:23.967Z"
   },
   {
    "duration": 28,
    "start_time": "2021-11-19T09:56:23.978Z"
   },
   {
    "duration": 4,
    "start_time": "2021-11-19T09:56:24.007Z"
   },
   {
    "duration": 16,
    "start_time": "2021-11-19T09:56:24.012Z"
   },
   {
    "duration": 4,
    "start_time": "2021-11-19T09:56:24.030Z"
   },
   {
    "duration": 23,
    "start_time": "2021-11-19T09:56:24.035Z"
   },
   {
    "duration": 41,
    "start_time": "2021-11-19T09:56:24.060Z"
   },
   {
    "duration": 19,
    "start_time": "2021-11-19T09:56:24.103Z"
   },
   {
    "duration": 65,
    "start_time": "2021-11-19T09:56:24.124Z"
   },
   {
    "duration": 55,
    "start_time": "2021-11-19T09:56:24.191Z"
   },
   {
    "duration": 54,
    "start_time": "2021-11-19T09:56:24.248Z"
   },
   {
    "duration": 36,
    "start_time": "2021-11-19T09:56:24.304Z"
   },
   {
    "duration": 2,
    "start_time": "2021-11-19T09:56:24.342Z"
   },
   {
    "duration": 15,
    "start_time": "2021-11-19T09:56:24.346Z"
   },
   {
    "duration": 53,
    "start_time": "2021-11-19T09:56:24.362Z"
   },
   {
    "duration": 10,
    "start_time": "2021-11-19T09:56:24.417Z"
   },
   {
    "duration": 9,
    "start_time": "2021-11-19T09:56:24.430Z"
   },
   {
    "duration": 3,
    "start_time": "2021-11-19T09:56:24.441Z"
   },
   {
    "duration": 23,
    "start_time": "2021-11-19T09:56:24.445Z"
   },
   {
    "duration": 29,
    "start_time": "2021-11-19T09:56:24.470Z"
   },
   {
    "duration": 13,
    "start_time": "2021-11-19T09:56:24.501Z"
   },
   {
    "duration": 12,
    "start_time": "2021-11-19T09:56:24.516Z"
   },
   {
    "duration": 14,
    "start_time": "2021-11-19T09:56:24.530Z"
   },
   {
    "duration": 42,
    "start_time": "2021-11-19T09:56:24.546Z"
   },
   {
    "duration": 9,
    "start_time": "2021-11-19T09:56:24.590Z"
   },
   {
    "duration": 12,
    "start_time": "2021-11-19T09:56:24.600Z"
   },
   {
    "duration": 2,
    "start_time": "2021-11-19T10:03:07.959Z"
   },
   {
    "duration": 138,
    "start_time": "2021-11-19T10:03:07.963Z"
   },
   {
    "duration": 9,
    "start_time": "2021-11-19T10:03:08.103Z"
   },
   {
    "duration": 23,
    "start_time": "2021-11-19T10:03:08.114Z"
   },
   {
    "duration": 4,
    "start_time": "2021-11-19T10:03:08.138Z"
   },
   {
    "duration": 20,
    "start_time": "2021-11-19T10:03:08.144Z"
   },
   {
    "duration": 23,
    "start_time": "2021-11-19T10:03:08.166Z"
   },
   {
    "duration": 23,
    "start_time": "2021-11-19T10:03:08.190Z"
   },
   {
    "duration": 15,
    "start_time": "2021-11-19T10:03:08.215Z"
   },
   {
    "duration": 25,
    "start_time": "2021-11-19T10:03:08.232Z"
   },
   {
    "duration": 73,
    "start_time": "2021-11-19T10:03:08.259Z"
   },
   {
    "duration": 65,
    "start_time": "2021-11-19T10:03:08.333Z"
   },
   {
    "duration": 45,
    "start_time": "2021-11-19T10:03:08.399Z"
   },
   {
    "duration": 46,
    "start_time": "2021-11-19T10:03:08.446Z"
   },
   {
    "duration": 2,
    "start_time": "2021-11-19T10:03:08.493Z"
   },
   {
    "duration": 15,
    "start_time": "2021-11-19T10:03:08.497Z"
   },
   {
    "duration": 38,
    "start_time": "2021-11-19T10:03:08.513Z"
   },
   {
    "duration": 11,
    "start_time": "2021-11-19T10:03:08.552Z"
   },
   {
    "duration": 31,
    "start_time": "2021-11-19T10:03:08.566Z"
   },
   {
    "duration": 3,
    "start_time": "2021-11-19T10:03:08.598Z"
   },
   {
    "duration": 19,
    "start_time": "2021-11-19T10:03:08.603Z"
   },
   {
    "duration": 12,
    "start_time": "2021-11-19T10:03:08.624Z"
   },
   {
    "duration": 16,
    "start_time": "2021-11-19T10:03:08.638Z"
   },
   {
    "duration": 32,
    "start_time": "2021-11-19T10:03:08.656Z"
   },
   {
    "duration": 16,
    "start_time": "2021-11-19T10:03:08.690Z"
   },
   {
    "duration": 12,
    "start_time": "2021-11-19T10:03:08.707Z"
   },
   {
    "duration": 8,
    "start_time": "2021-11-19T10:03:08.720Z"
   },
   {
    "duration": 12,
    "start_time": "2021-11-19T10:03:08.730Z"
   },
   {
    "duration": 8,
    "start_time": "2021-11-19T10:03:08.743Z"
   },
   {
    "duration": 36,
    "start_time": "2021-11-19T10:03:08.752Z"
   },
   {
    "duration": 23,
    "start_time": "2021-11-19T10:03:08.790Z"
   },
   {
    "duration": 12,
    "start_time": "2021-11-19T10:03:08.815Z"
   },
   {
    "duration": 15,
    "start_time": "2021-11-19T10:03:08.829Z"
   },
   {
    "duration": 11,
    "start_time": "2021-11-19T10:03:08.845Z"
   },
   {
    "duration": 6,
    "start_time": "2021-11-19T10:03:08.858Z"
   },
   {
    "duration": 4,
    "start_time": "2021-11-19T10:03:08.888Z"
   },
   {
    "duration": 8,
    "start_time": "2021-11-19T10:03:08.894Z"
   },
   {
    "duration": 4,
    "start_time": "2021-11-19T10:03:08.903Z"
   },
   {
    "duration": 2,
    "start_time": "2021-11-19T10:08:00.956Z"
   },
   {
    "duration": 146,
    "start_time": "2021-11-19T10:08:00.960Z"
   },
   {
    "duration": 10,
    "start_time": "2021-11-19T10:08:01.108Z"
   },
   {
    "duration": 32,
    "start_time": "2021-11-19T10:08:01.119Z"
   },
   {
    "duration": 9,
    "start_time": "2021-11-19T10:08:01.153Z"
   },
   {
    "duration": 23,
    "start_time": "2021-11-19T10:08:01.164Z"
   },
   {
    "duration": 4,
    "start_time": "2021-11-19T10:08:01.189Z"
   },
   {
    "duration": 30,
    "start_time": "2021-11-19T10:08:01.195Z"
   },
   {
    "duration": 23,
    "start_time": "2021-11-19T10:08:01.226Z"
   },
   {
    "duration": 26,
    "start_time": "2021-11-19T10:08:01.250Z"
   },
   {
    "duration": 66,
    "start_time": "2021-11-19T10:08:01.278Z"
   },
   {
    "duration": 55,
    "start_time": "2021-11-19T10:08:01.345Z"
   },
   {
    "duration": 46,
    "start_time": "2021-11-19T10:08:01.402Z"
   },
   {
    "duration": 46,
    "start_time": "2021-11-19T10:08:01.449Z"
   },
   {
    "duration": 16,
    "start_time": "2021-11-19T10:08:01.496Z"
   },
   {
    "duration": 23,
    "start_time": "2021-11-19T10:08:01.513Z"
   },
   {
    "duration": 66,
    "start_time": "2021-11-19T10:08:01.537Z"
   },
   {
    "duration": 11,
    "start_time": "2021-11-19T10:08:01.605Z"
   },
   {
    "duration": 11,
    "start_time": "2021-11-19T10:08:01.618Z"
   },
   {
    "duration": 5,
    "start_time": "2021-11-19T10:08:01.631Z"
   },
   {
    "duration": 49,
    "start_time": "2021-11-19T10:08:01.637Z"
   },
   {
    "duration": 19,
    "start_time": "2021-11-19T10:08:01.688Z"
   },
   {
    "duration": 36,
    "start_time": "2021-11-19T10:08:01.708Z"
   },
   {
    "duration": 33,
    "start_time": "2021-11-19T10:08:01.745Z"
   },
   {
    "duration": 48,
    "start_time": "2021-11-19T10:08:01.780Z"
   },
   {
    "duration": 29,
    "start_time": "2021-11-19T10:08:01.830Z"
   },
   {
    "duration": 36,
    "start_time": "2021-11-19T10:08:01.861Z"
   },
   {
    "duration": 29,
    "start_time": "2021-11-19T10:08:01.898Z"
   },
   {
    "duration": 31,
    "start_time": "2021-11-19T10:08:01.929Z"
   },
   {
    "duration": 14,
    "start_time": "2021-11-19T10:08:01.962Z"
   },
   {
    "duration": 35,
    "start_time": "2021-11-19T10:08:01.977Z"
   },
   {
    "duration": 27,
    "start_time": "2021-11-19T10:08:02.014Z"
   },
   {
    "duration": 21,
    "start_time": "2021-11-19T10:08:02.042Z"
   },
   {
    "duration": 12,
    "start_time": "2021-11-19T10:08:02.064Z"
   },
   {
    "duration": 19,
    "start_time": "2021-11-19T10:08:02.077Z"
   },
   {
    "duration": 7,
    "start_time": "2021-11-19T10:08:02.098Z"
   },
   {
    "duration": 21,
    "start_time": "2021-11-19T10:08:02.107Z"
   },
   {
    "duration": 15,
    "start_time": "2021-11-19T10:08:02.129Z"
   },
   {
    "duration": 809,
    "start_time": "2021-11-19T19:32:57.274Z"
   },
   {
    "duration": 188,
    "start_time": "2021-11-19T19:32:58.085Z"
   },
   {
    "duration": 25,
    "start_time": "2021-11-19T19:32:58.276Z"
   },
   {
    "duration": 35,
    "start_time": "2021-11-19T19:32:58.305Z"
   },
   {
    "duration": 38,
    "start_time": "2021-11-19T19:32:58.344Z"
   },
   {
    "duration": 27,
    "start_time": "2021-11-19T19:32:58.385Z"
   },
   {
    "duration": 8,
    "start_time": "2021-11-19T19:32:58.416Z"
   },
   {
    "duration": 71,
    "start_time": "2021-11-19T19:32:58.430Z"
   },
   {
    "duration": 27,
    "start_time": "2021-11-19T19:32:58.504Z"
   },
   {
    "duration": 51,
    "start_time": "2021-11-19T19:32:58.533Z"
   },
   {
    "duration": 83,
    "start_time": "2021-11-19T19:32:58.586Z"
   },
   {
    "duration": 113,
    "start_time": "2021-11-19T19:32:58.682Z"
   },
   {
    "duration": 86,
    "start_time": "2021-11-19T19:32:58.797Z"
   },
   {
    "duration": 58,
    "start_time": "2021-11-19T19:32:58.885Z"
   },
   {
    "duration": 4,
    "start_time": "2021-11-19T19:32:58.945Z"
   },
   {
    "duration": 40,
    "start_time": "2021-11-19T19:32:58.951Z"
   },
   {
    "duration": 64,
    "start_time": "2021-11-19T19:32:58.993Z"
   },
   {
    "duration": 33,
    "start_time": "2021-11-19T19:32:59.060Z"
   },
   {
    "duration": 15,
    "start_time": "2021-11-19T19:32:59.096Z"
   },
   {
    "duration": 5,
    "start_time": "2021-11-19T19:32:59.114Z"
   },
   {
    "duration": 61,
    "start_time": "2021-11-19T19:32:59.122Z"
   },
   {
    "duration": 20,
    "start_time": "2021-11-19T19:32:59.186Z"
   },
   {
    "duration": 20,
    "start_time": "2021-11-19T19:32:59.211Z"
   },
   {
    "duration": 48,
    "start_time": "2021-11-19T19:32:59.234Z"
   },
   {
    "duration": 22,
    "start_time": "2021-11-19T19:32:59.284Z"
   },
   {
    "duration": 20,
    "start_time": "2021-11-19T19:32:59.309Z"
   },
   {
    "duration": 52,
    "start_time": "2021-11-19T19:32:59.333Z"
   },
   {
    "duration": 29,
    "start_time": "2021-11-19T19:32:59.388Z"
   },
   {
    "duration": 15,
    "start_time": "2021-11-19T19:32:59.419Z"
   },
   {
    "duration": 7,
    "start_time": "2021-11-19T19:32:59.437Z"
   },
   {
    "duration": 50,
    "start_time": "2021-11-19T19:32:59.446Z"
   },
   {
    "duration": 17,
    "start_time": "2021-11-19T19:32:59.499Z"
   },
   {
    "duration": 29,
    "start_time": "2021-11-19T19:32:59.518Z"
   },
   {
    "duration": 45,
    "start_time": "2021-11-19T19:32:59.550Z"
   },
   {
    "duration": 11,
    "start_time": "2021-11-19T19:32:59.598Z"
   },
   {
    "duration": 7,
    "start_time": "2021-11-19T19:32:59.611Z"
   },
   {
    "duration": 12,
    "start_time": "2021-11-19T19:32:59.620Z"
   },
   {
    "duration": 7,
    "start_time": "2021-11-19T19:32:59.635Z"
   },
   {
    "duration": 131,
    "start_time": "2021-11-19T19:39:41.927Z"
   }
  ],
  "colab": {
   "collapsed_sections": [
    "E0vqbgi9ay0H",
    "VUC88oWjTJw2"
   ],
   "name": "yandex_music_project_2021.2.ipynb",
   "provenance": []
  },
  "kernelspec": {
   "display_name": "Python 3 (ipykernel)",
   "language": "python",
   "name": "python3"
  },
  "language_info": {
   "codemirror_mode": {
    "name": "ipython",
    "version": 3
   },
   "file_extension": ".py",
   "mimetype": "text/x-python",
   "name": "python",
   "nbconvert_exporter": "python",
   "pygments_lexer": "ipython3",
   "version": "3.9.9"
  },
  "toc": {
   "base_numbering": 1,
   "nav_menu": {},
   "number_sections": true,
   "sideBar": true,
   "skip_h1_title": true,
   "title_cell": "Table of Contents",
   "title_sidebar": "Contents",
   "toc_cell": false,
   "toc_position": {
    "height": "calc(100% - 180px)",
    "left": "10px",
    "top": "150px",
    "width": "165px"
   },
   "toc_section_display": true,
   "toc_window_display": true
  }
 },
 "nbformat": 4,
 "nbformat_minor": 1
}