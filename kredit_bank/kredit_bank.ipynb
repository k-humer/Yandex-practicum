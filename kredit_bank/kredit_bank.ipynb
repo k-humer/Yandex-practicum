{
 "cells": [
  {
   "cell_type": "markdown",
   "metadata": {},
   "source": [
    "# Исследование надёжности заёмщиков\n",
    "\n",
    "Заказчик — кредитный отдел банка. Нужно разобраться, влияет ли семейное положение и количество детей клиента на факт погашения кредита в срок. Входные данные от банка — статистика о платёжеспособности клиентов.\n",
    "\n",
    "Результаты исследования будут учтены при построении модели **кредитного скоринга** — специальной системы, которая оценивает способность потенциального заёмщика вернуть кредит банку."
   ]
  },
  {
   "cell_type": "markdown",
   "metadata": {},
   "source": [
    "## Шаг 1. Откройте файл с данными и изучите общую информацию"
   ]
  },
  {
   "cell_type": "code",
   "execution_count": 1,
   "metadata": {},
   "outputs": [],
   "source": [
    "import pandas as pd\n",
    "data = pd.read_csv('data.csv') #чтение файла/datasets/data.csv"
   ]
  },
  {
   "cell_type": "code",
   "execution_count": 2,
   "metadata": {},
   "outputs": [
    {
     "name": "stdout",
     "output_type": "stream",
     "text": [
      "<class 'pandas.core.frame.DataFrame'>\n",
      "RangeIndex: 21525 entries, 0 to 21524\n",
      "Data columns (total 12 columns):\n",
      " #   Column            Non-Null Count  Dtype  \n",
      "---  ------            --------------  -----  \n",
      " 0   children          21525 non-null  int64  \n",
      " 1   days_employed     19351 non-null  float64\n",
      " 2   dob_years         21525 non-null  int64  \n",
      " 3   education         21525 non-null  object \n",
      " 4   education_id      21525 non-null  int64  \n",
      " 5   family_status     21525 non-null  object \n",
      " 6   family_status_id  21525 non-null  int64  \n",
      " 7   gender            21525 non-null  object \n",
      " 8   income_type       21525 non-null  object \n",
      " 9   debt              21525 non-null  int64  \n",
      " 10  total_income      19351 non-null  float64\n",
      " 11  purpose           21525 non-null  object \n",
      "dtypes: float64(2), int64(5), object(5)\n",
      "memory usage: 2.0+ MB\n"
     ]
    }
   ],
   "source": [
    "data.info() #оценка объема данных в представленной таблице"
   ]
  },
  {
   "cell_type": "code",
   "execution_count": 3,
   "metadata": {},
   "outputs": [
    {
     "data": {
      "text/html": [
       "<div>\n",
       "<style scoped>\n",
       "    .dataframe tbody tr th:only-of-type {\n",
       "        vertical-align: middle;\n",
       "    }\n",
       "\n",
       "    .dataframe tbody tr th {\n",
       "        vertical-align: top;\n",
       "    }\n",
       "\n",
       "    .dataframe thead th {\n",
       "        text-align: right;\n",
       "    }\n",
       "</style>\n",
       "<table border=\"1\" class=\"dataframe\">\n",
       "  <thead>\n",
       "    <tr style=\"text-align: right;\">\n",
       "      <th></th>\n",
       "      <th>children</th>\n",
       "      <th>days_employed</th>\n",
       "      <th>dob_years</th>\n",
       "      <th>education</th>\n",
       "      <th>education_id</th>\n",
       "      <th>family_status</th>\n",
       "      <th>family_status_id</th>\n",
       "      <th>gender</th>\n",
       "      <th>income_type</th>\n",
       "      <th>debt</th>\n",
       "      <th>total_income</th>\n",
       "      <th>purpose</th>\n",
       "    </tr>\n",
       "  </thead>\n",
       "  <tbody>\n",
       "    <tr>\n",
       "      <th>0</th>\n",
       "      <td>1</td>\n",
       "      <td>-8437.673028</td>\n",
       "      <td>42</td>\n",
       "      <td>высшее</td>\n",
       "      <td>0</td>\n",
       "      <td>женат / замужем</td>\n",
       "      <td>0</td>\n",
       "      <td>F</td>\n",
       "      <td>сотрудник</td>\n",
       "      <td>0</td>\n",
       "      <td>253875.639453</td>\n",
       "      <td>покупка жилья</td>\n",
       "    </tr>\n",
       "    <tr>\n",
       "      <th>1</th>\n",
       "      <td>1</td>\n",
       "      <td>-4024.803754</td>\n",
       "      <td>36</td>\n",
       "      <td>среднее</td>\n",
       "      <td>1</td>\n",
       "      <td>женат / замужем</td>\n",
       "      <td>0</td>\n",
       "      <td>F</td>\n",
       "      <td>сотрудник</td>\n",
       "      <td>0</td>\n",
       "      <td>112080.014102</td>\n",
       "      <td>приобретение автомобиля</td>\n",
       "    </tr>\n",
       "    <tr>\n",
       "      <th>2</th>\n",
       "      <td>0</td>\n",
       "      <td>-5623.422610</td>\n",
       "      <td>33</td>\n",
       "      <td>Среднее</td>\n",
       "      <td>1</td>\n",
       "      <td>женат / замужем</td>\n",
       "      <td>0</td>\n",
       "      <td>M</td>\n",
       "      <td>сотрудник</td>\n",
       "      <td>0</td>\n",
       "      <td>145885.952297</td>\n",
       "      <td>покупка жилья</td>\n",
       "    </tr>\n",
       "    <tr>\n",
       "      <th>3</th>\n",
       "      <td>3</td>\n",
       "      <td>-4124.747207</td>\n",
       "      <td>32</td>\n",
       "      <td>среднее</td>\n",
       "      <td>1</td>\n",
       "      <td>женат / замужем</td>\n",
       "      <td>0</td>\n",
       "      <td>M</td>\n",
       "      <td>сотрудник</td>\n",
       "      <td>0</td>\n",
       "      <td>267628.550329</td>\n",
       "      <td>дополнительное образование</td>\n",
       "    </tr>\n",
       "    <tr>\n",
       "      <th>4</th>\n",
       "      <td>0</td>\n",
       "      <td>340266.072047</td>\n",
       "      <td>53</td>\n",
       "      <td>среднее</td>\n",
       "      <td>1</td>\n",
       "      <td>гражданский брак</td>\n",
       "      <td>1</td>\n",
       "      <td>F</td>\n",
       "      <td>пенсионер</td>\n",
       "      <td>0</td>\n",
       "      <td>158616.077870</td>\n",
       "      <td>сыграть свадьбу</td>\n",
       "    </tr>\n",
       "    <tr>\n",
       "      <th>5</th>\n",
       "      <td>0</td>\n",
       "      <td>-926.185831</td>\n",
       "      <td>27</td>\n",
       "      <td>высшее</td>\n",
       "      <td>0</td>\n",
       "      <td>гражданский брак</td>\n",
       "      <td>1</td>\n",
       "      <td>M</td>\n",
       "      <td>компаньон</td>\n",
       "      <td>0</td>\n",
       "      <td>255763.565419</td>\n",
       "      <td>покупка жилья</td>\n",
       "    </tr>\n",
       "    <tr>\n",
       "      <th>6</th>\n",
       "      <td>0</td>\n",
       "      <td>-2879.202052</td>\n",
       "      <td>43</td>\n",
       "      <td>высшее</td>\n",
       "      <td>0</td>\n",
       "      <td>женат / замужем</td>\n",
       "      <td>0</td>\n",
       "      <td>F</td>\n",
       "      <td>компаньон</td>\n",
       "      <td>0</td>\n",
       "      <td>240525.971920</td>\n",
       "      <td>операции с жильем</td>\n",
       "    </tr>\n",
       "    <tr>\n",
       "      <th>7</th>\n",
       "      <td>0</td>\n",
       "      <td>-152.779569</td>\n",
       "      <td>50</td>\n",
       "      <td>СРЕДНЕЕ</td>\n",
       "      <td>1</td>\n",
       "      <td>женат / замужем</td>\n",
       "      <td>0</td>\n",
       "      <td>M</td>\n",
       "      <td>сотрудник</td>\n",
       "      <td>0</td>\n",
       "      <td>135823.934197</td>\n",
       "      <td>образование</td>\n",
       "    </tr>\n",
       "    <tr>\n",
       "      <th>8</th>\n",
       "      <td>2</td>\n",
       "      <td>-6929.865299</td>\n",
       "      <td>35</td>\n",
       "      <td>ВЫСШЕЕ</td>\n",
       "      <td>0</td>\n",
       "      <td>гражданский брак</td>\n",
       "      <td>1</td>\n",
       "      <td>F</td>\n",
       "      <td>сотрудник</td>\n",
       "      <td>0</td>\n",
       "      <td>95856.832424</td>\n",
       "      <td>на проведение свадьбы</td>\n",
       "    </tr>\n",
       "    <tr>\n",
       "      <th>9</th>\n",
       "      <td>0</td>\n",
       "      <td>-2188.756445</td>\n",
       "      <td>41</td>\n",
       "      <td>среднее</td>\n",
       "      <td>1</td>\n",
       "      <td>женат / замужем</td>\n",
       "      <td>0</td>\n",
       "      <td>M</td>\n",
       "      <td>сотрудник</td>\n",
       "      <td>0</td>\n",
       "      <td>144425.938277</td>\n",
       "      <td>покупка жилья для семьи</td>\n",
       "    </tr>\n",
       "  </tbody>\n",
       "</table>\n",
       "</div>"
      ],
      "text/plain": [
       "   children  days_employed  dob_years education  education_id  \\\n",
       "0         1   -8437.673028         42    высшее             0   \n",
       "1         1   -4024.803754         36   среднее             1   \n",
       "2         0   -5623.422610         33   Среднее             1   \n",
       "3         3   -4124.747207         32   среднее             1   \n",
       "4         0  340266.072047         53   среднее             1   \n",
       "5         0    -926.185831         27    высшее             0   \n",
       "6         0   -2879.202052         43    высшее             0   \n",
       "7         0    -152.779569         50   СРЕДНЕЕ             1   \n",
       "8         2   -6929.865299         35    ВЫСШЕЕ             0   \n",
       "9         0   -2188.756445         41   среднее             1   \n",
       "\n",
       "      family_status  family_status_id gender income_type  debt   total_income  \\\n",
       "0   женат / замужем                 0      F   сотрудник     0  253875.639453   \n",
       "1   женат / замужем                 0      F   сотрудник     0  112080.014102   \n",
       "2   женат / замужем                 0      M   сотрудник     0  145885.952297   \n",
       "3   женат / замужем                 0      M   сотрудник     0  267628.550329   \n",
       "4  гражданский брак                 1      F   пенсионер     0  158616.077870   \n",
       "5  гражданский брак                 1      M   компаньон     0  255763.565419   \n",
       "6   женат / замужем                 0      F   компаньон     0  240525.971920   \n",
       "7   женат / замужем                 0      M   сотрудник     0  135823.934197   \n",
       "8  гражданский брак                 1      F   сотрудник     0   95856.832424   \n",
       "9   женат / замужем                 0      M   сотрудник     0  144425.938277   \n",
       "\n",
       "                      purpose  \n",
       "0               покупка жилья  \n",
       "1     приобретение автомобиля  \n",
       "2               покупка жилья  \n",
       "3  дополнительное образование  \n",
       "4             сыграть свадьбу  \n",
       "5               покупка жилья  \n",
       "6           операции с жильем  \n",
       "7                 образование  \n",
       "8       на проведение свадьбы  \n",
       "9     покупка жилья для семьи  "
      ]
     },
     "execution_count": 3,
     "metadata": {},
     "output_type": "execute_result"
    }
   ],
   "source": [
    "data.head(10)\n"
   ]
  },
  {
   "cell_type": "markdown",
   "metadata": {},
   "source": [
    "Для получения более подробной информации по каждому столбцу воспользуюсь методом value_counts, как наиболее информативной для общего представления данных в таблице."
   ]
  },
  {
   "cell_type": "code",
   "execution_count": 4,
   "metadata": {},
   "outputs": [
    {
     "data": {
      "text/plain": [
       "женат / замужем          12380\n",
       "гражданский брак          4177\n",
       "Не женат / не замужем     2813\n",
       "в разводе                 1195\n",
       "вдовец / вдова             960\n",
       "Name: family_status, dtype: int64"
      ]
     },
     "execution_count": 4,
     "metadata": {},
     "output_type": "execute_result"
    }
   ],
   "source": [
    "data['family_status'].value_counts()"
   ]
  },
  {
   "cell_type": "code",
   "execution_count": 5,
   "metadata": {},
   "outputs": [
    {
     "data": {
      "text/plain": [
       " 0     14149\n",
       " 1      4818\n",
       " 2      2055\n",
       " 3       330\n",
       " 20       76\n",
       "-1        47\n",
       " 4        41\n",
       " 5         9\n",
       "Name: children, dtype: int64"
      ]
     },
     "execution_count": 5,
     "metadata": {},
     "output_type": "execute_result"
    }
   ],
   "source": [
    "data['children'].value_counts()"
   ]
  },
  {
   "cell_type": "code",
   "execution_count": 6,
   "metadata": {},
   "outputs": [
    {
     "data": {
      "text/plain": [
       "свадьба                                   797\n",
       "на проведение свадьбы                     777\n",
       "сыграть свадьбу                           774\n",
       "операции с недвижимостью                  676\n",
       "покупка коммерческой недвижимости         664\n",
       "покупка жилья для сдачи                   653\n",
       "операции с жильем                         653\n",
       "операции с коммерческой недвижимостью     651\n",
       "покупка жилья                             647\n",
       "жилье                                     647\n",
       "покупка жилья для семьи                   641\n",
       "строительство собственной недвижимости    635\n",
       "недвижимость                              634\n",
       "операции со своей недвижимостью           630\n",
       "строительство жилой недвижимости          626\n",
       "покупка недвижимости                      624\n",
       "строительство недвижимости                620\n",
       "покупка своего жилья                      620\n",
       "ремонт жилью                              612\n",
       "покупка жилой недвижимости                607\n",
       "на покупку своего автомобиля              505\n",
       "заняться высшим образованием              496\n",
       "автомобиль                                495\n",
       "сделка с подержанным автомобилем          489\n",
       "свой автомобиль                           480\n",
       "на покупку подержанного автомобиля        479\n",
       "автомобили                                478\n",
       "на покупку автомобиля                     472\n",
       "дополнительное образование                462\n",
       "приобретение автомобиля                   462\n",
       "сделка с автомобилем                      455\n",
       "высшее образование                        453\n",
       "образование                               447\n",
       "получение дополнительного образования     447\n",
       "получение образования                     443\n",
       "профильное образование                    436\n",
       "получение высшего образования             426\n",
       "заняться образованием                     412\n",
       "Name: purpose, dtype: int64"
      ]
     },
     "execution_count": 6,
     "metadata": {},
     "output_type": "execute_result"
    }
   ],
   "source": [
    "data['purpose'].value_counts()"
   ]
  },
  {
   "cell_type": "code",
   "execution_count": 7,
   "metadata": {},
   "outputs": [
    {
     "data": {
      "text/plain": [
       "среднее                13750\n",
       "высшее                  4718\n",
       "СРЕДНЕЕ                  772\n",
       "Среднее                  711\n",
       "неоконченное высшее      668\n",
       "ВЫСШЕЕ                   274\n",
       "Высшее                   268\n",
       "начальное                250\n",
       "Неоконченное высшее       47\n",
       "НЕОКОНЧЕННОЕ ВЫСШЕЕ       29\n",
       "НАЧАЛЬНОЕ                 17\n",
       "Начальное                 15\n",
       "ученая степень             4\n",
       "Ученая степень             1\n",
       "УЧЕНАЯ СТЕПЕНЬ             1\n",
       "Name: education, dtype: int64"
      ]
     },
     "execution_count": 7,
     "metadata": {},
     "output_type": "execute_result"
    }
   ],
   "source": [
    "data['education'].value_counts()"
   ]
  },
  {
   "cell_type": "code",
   "execution_count": 8,
   "metadata": {},
   "outputs": [
    {
     "data": {
      "text/plain": [
       "сотрудник          11119\n",
       "компаньон           5085\n",
       "пенсионер           3856\n",
       "госслужащий         1459\n",
       "безработный            2\n",
       "предприниматель        2\n",
       "студент                1\n",
       "в декрете              1\n",
       "Name: income_type, dtype: int64"
      ]
     },
     "execution_count": 8,
     "metadata": {},
     "output_type": "execute_result"
    }
   ],
   "source": [
    "data['income_type'].value_counts()"
   ]
  },
  {
   "cell_type": "code",
   "execution_count": 9,
   "metadata": {},
   "outputs": [
    {
     "data": {
      "text/plain": [
       "35    617\n",
       "40    609\n",
       "41    607\n",
       "34    603\n",
       "38    598\n",
       "42    597\n",
       "33    581\n",
       "39    573\n",
       "31    560\n",
       "36    555\n",
       "44    547\n",
       "29    545\n",
       "30    540\n",
       "48    538\n",
       "37    537\n",
       "50    514\n",
       "43    513\n",
       "32    510\n",
       "49    508\n",
       "28    503\n",
       "45    497\n",
       "27    493\n",
       "56    487\n",
       "52    484\n",
       "47    480\n",
       "54    479\n",
       "46    475\n",
       "58    461\n",
       "57    460\n",
       "53    459\n",
       "51    448\n",
       "59    444\n",
       "55    443\n",
       "26    408\n",
       "60    377\n",
       "25    357\n",
       "61    355\n",
       "62    352\n",
       "63    269\n",
       "64    265\n",
       "24    264\n",
       "23    254\n",
       "65    194\n",
       "22    183\n",
       "66    183\n",
       "67    167\n",
       "21    111\n",
       "0     101\n",
       "68     99\n",
       "69     85\n",
       "70     65\n",
       "71     58\n",
       "20     51\n",
       "72     33\n",
       "19     14\n",
       "73      8\n",
       "74      6\n",
       "75      1\n",
       "Name: dob_years, dtype: int64"
      ]
     },
     "execution_count": 9,
     "metadata": {},
     "output_type": "execute_result"
    }
   ],
   "source": [
    "data['dob_years'].value_counts()"
   ]
  },
  {
   "cell_type": "markdown",
   "metadata": {},
   "source": [
    "<b>Вывод:</b>\n",
    "\n",
    "В таблице 12 столбцов. Тип данных: float64(2), int64(5), object(5) \n",
    "\n",
    "В данных встречаются артефакты, пропуски, ошибки регистра, несоответствия, слабо коррелирующие с действительностью:\n",
    "<br>1. В столбце days_employed - общий трудовой стаж и total_income - ежемесячный доход, есть пропуски. \n",
    "<br>2. В столбце dob_years - возраст клиента, 101 строк равны нулю\n",
    "<br>3. В столбце education - уровень образования клиента, строчные буквы сочетаются с прописными\n",
    "<br>4. В столбце children - количество детей в семье, значение (-1) – артефакт, а 20 слабо коррелируют с действительностью, скорее всего ошибка набора или вполне вероятно, семьи с приёмными детьми\n",
    "<br>5. В столбце days_employed - общий трудовой стаж, присутствуют отрицательные значения и значения представлены как в днях, так и в часах\n",
    "<br>6. В стобце purpose - цель получения кредита, различные написания целей имеют одинаковый смысл\n",
    "<br>7. В столбцах total_income - ежемесячный доход и dob_years — возраст клиента, тип данных float. Возраст клиента лучше обозначить целым числом. Ну а копейки, даже налоговая отказывается принимать отчетность с копейками. \n",
    "\n",
    "    \n"
   ]
  },
  {
   "cell_type": "markdown",
   "metadata": {},
   "source": [
    "## Шаг 2. Предобработка данных"
   ]
  },
  {
   "cell_type": "markdown",
   "metadata": {},
   "source": [
    "### Обработка пропусков"
   ]
  },
  {
   "cell_type": "markdown",
   "metadata": {},
   "source": [
    "Посчитаю, методом isna и sum, сколько в таблице пропущенных значений"
   ]
  },
  {
   "cell_type": "code",
   "execution_count": 10,
   "metadata": {},
   "outputs": [
    {
     "data": {
      "text/plain": [
       "children               0\n",
       "days_employed       2174\n",
       "dob_years              0\n",
       "education              0\n",
       "education_id           0\n",
       "family_status          0\n",
       "family_status_id       0\n",
       "gender                 0\n",
       "income_type            0\n",
       "debt                   0\n",
       "total_income        2174\n",
       "purpose                0\n",
       "dtype: int64"
      ]
     },
     "execution_count": 10,
     "metadata": {},
     "output_type": "execute_result"
    }
   ],
   "source": [
    "data.isna().sum()"
   ]
  },
  {
   "cell_type": "markdown",
   "metadata": {},
   "source": [
    "Трудно объяснить пропуски в стаже и доходах, кроме технических - банки не выдают кредиты без указания доходов. Хотя, впрочем, вполне вероятно, в таблицу внесены данные по кредитным картам.\n",
    "Если, пропущенные данные в столбце days_employed не столь существенны для исследования, то данные в total_income необходимы для ответа на вопрос: Есть ли зависимость между уровнем дохода и возвратом кредита в срок? Так как не представляется возможность восполнить эти данные, а нулевые значения будут вносить искажение в результаты исследования, потому что человек не пожелавший указать уровень дохода, на самом деле этот доход имеет. И может получиться так, что человек не имеющий доход, исправно выплачивает кредит. Потому есть смысл удалить все строки с пропущенными данными в колонке total_income. Но задачей проекта является отработка навыков в обработке данных, потому заполню пропущенные данные.\n",
    "\n",
    "Так как, данные таблицы носят случайный характер, не имеющие логической последовательности и, следовательно, не могут быть описаны некой математической функцией - то самый простой подход заменить пропущенные значения средними значениями. \n",
    "Но прежде избавлюсь от артефактов и значений, выходящих за рамки действительности.\n",
    " "
   ]
  },
  {
   "cell_type": "markdown",
   "metadata": {},
   "source": [
    "В столбце children есть отрицательные значения, а также 20 детей в 76 семьях слабо коррелируют с действительностью, потому буду считать эти значения технической ошибкой или ошибкой ввода. Избавлюсь от них.\n",
    "Для вычисления в Python модуля числа используется функция abs и при помощи метода loc, исходя из простой логики, заменю 20 на 2 и -1 на 1. Такая замена не повлияет на результат исследования, но таблица будет выглядеть реально жизненной. "
   ]
  },
  {
   "cell_type": "code",
   "execution_count": 11,
   "metadata": {},
   "outputs": [
    {
     "data": {
      "text/plain": [
       "0    14149\n",
       "1     4865\n",
       "2     2131\n",
       "3      330\n",
       "4       41\n",
       "5        9\n",
       "Name: children, dtype: int64"
      ]
     },
     "execution_count": 11,
     "metadata": {},
     "output_type": "execute_result"
    }
   ],
   "source": [
    "data['children'] = abs(data['children']) \n",
    "data.loc[data['children'] == 20, 'children'] = 2\n",
    "data['children'].value_counts()"
   ]
  },
  {
   "cell_type": "markdown",
   "metadata": {},
   "source": [
    "Избавлюсь от отрицательных значений в  столбце days_employed при помощи функции abs."
   ]
  },
  {
   "cell_type": "code",
   "execution_count": 12,
   "metadata": {},
   "outputs": [],
   "source": [
    "data['days_employed'] = abs(data['days_employed']) "
   ]
  },
  {
   "cell_type": "markdown",
   "metadata": {},
   "source": [
    "В столбце days_employed есть значения, которые в силу своей величины скорее соотносятся к стажу, измеряемой часами, нежели сутками. Исправлю это при помощи метода loc. Чтобы заменить значения в часах на дни, необходимо принять разумную границу отсечки. Самому старшему заёмщику 75 лет. Если даже он начал трудовую деятельность в 15 лет, то его стаж в днях составит 60 помножить на 365 получим 21900. Возьмём для отсечки значение 22000. Вполне вероятно, что в таблице присутствуют значения в часах и менее 22000. Я это точно установить не могу, но сей факт никак не отразится на результатах исследования."
   ]
  },
  {
   "cell_type": "code",
   "execution_count": 13,
   "metadata": {},
   "outputs": [],
   "source": [
    "data.loc[data['days_employed'] >22000, 'days_employed'] = data.loc[data['days_employed'] >22000, 'days_employed'] / 24"
   ]
  },
  {
   "cell_type": "code",
   "execution_count": 14,
   "metadata": {},
   "outputs": [
    {
     "data": {
      "text/html": [
       "<div>\n",
       "<style scoped>\n",
       "    .dataframe tbody tr th:only-of-type {\n",
       "        vertical-align: middle;\n",
       "    }\n",
       "\n",
       "    .dataframe tbody tr th {\n",
       "        vertical-align: top;\n",
       "    }\n",
       "\n",
       "    .dataframe thead th {\n",
       "        text-align: right;\n",
       "    }\n",
       "</style>\n",
       "<table border=\"1\" class=\"dataframe\">\n",
       "  <thead>\n",
       "    <tr style=\"text-align: right;\">\n",
       "      <th></th>\n",
       "      <th>children</th>\n",
       "      <th>days_employed</th>\n",
       "      <th>dob_years</th>\n",
       "      <th>education</th>\n",
       "      <th>education_id</th>\n",
       "      <th>family_status</th>\n",
       "      <th>family_status_id</th>\n",
       "      <th>gender</th>\n",
       "      <th>income_type</th>\n",
       "      <th>debt</th>\n",
       "      <th>total_income</th>\n",
       "      <th>purpose</th>\n",
       "    </tr>\n",
       "  </thead>\n",
       "  <tbody>\n",
       "    <tr>\n",
       "      <th>0</th>\n",
       "      <td>1</td>\n",
       "      <td>8437.673028</td>\n",
       "      <td>42</td>\n",
       "      <td>высшее</td>\n",
       "      <td>0</td>\n",
       "      <td>женат / замужем</td>\n",
       "      <td>0</td>\n",
       "      <td>F</td>\n",
       "      <td>сотрудник</td>\n",
       "      <td>0</td>\n",
       "      <td>253875.639453</td>\n",
       "      <td>покупка жилья</td>\n",
       "    </tr>\n",
       "    <tr>\n",
       "      <th>1</th>\n",
       "      <td>1</td>\n",
       "      <td>4024.803754</td>\n",
       "      <td>36</td>\n",
       "      <td>среднее</td>\n",
       "      <td>1</td>\n",
       "      <td>женат / замужем</td>\n",
       "      <td>0</td>\n",
       "      <td>F</td>\n",
       "      <td>сотрудник</td>\n",
       "      <td>0</td>\n",
       "      <td>112080.014102</td>\n",
       "      <td>приобретение автомобиля</td>\n",
       "    </tr>\n",
       "    <tr>\n",
       "      <th>2</th>\n",
       "      <td>0</td>\n",
       "      <td>5623.422610</td>\n",
       "      <td>33</td>\n",
       "      <td>Среднее</td>\n",
       "      <td>1</td>\n",
       "      <td>женат / замужем</td>\n",
       "      <td>0</td>\n",
       "      <td>M</td>\n",
       "      <td>сотрудник</td>\n",
       "      <td>0</td>\n",
       "      <td>145885.952297</td>\n",
       "      <td>покупка жилья</td>\n",
       "    </tr>\n",
       "    <tr>\n",
       "      <th>3</th>\n",
       "      <td>3</td>\n",
       "      <td>4124.747207</td>\n",
       "      <td>32</td>\n",
       "      <td>среднее</td>\n",
       "      <td>1</td>\n",
       "      <td>женат / замужем</td>\n",
       "      <td>0</td>\n",
       "      <td>M</td>\n",
       "      <td>сотрудник</td>\n",
       "      <td>0</td>\n",
       "      <td>267628.550329</td>\n",
       "      <td>дополнительное образование</td>\n",
       "    </tr>\n",
       "    <tr>\n",
       "      <th>4</th>\n",
       "      <td>0</td>\n",
       "      <td>14177.753002</td>\n",
       "      <td>53</td>\n",
       "      <td>среднее</td>\n",
       "      <td>1</td>\n",
       "      <td>гражданский брак</td>\n",
       "      <td>1</td>\n",
       "      <td>F</td>\n",
       "      <td>пенсионер</td>\n",
       "      <td>0</td>\n",
       "      <td>158616.077870</td>\n",
       "      <td>сыграть свадьбу</td>\n",
       "    </tr>\n",
       "    <tr>\n",
       "      <th>5</th>\n",
       "      <td>0</td>\n",
       "      <td>926.185831</td>\n",
       "      <td>27</td>\n",
       "      <td>высшее</td>\n",
       "      <td>0</td>\n",
       "      <td>гражданский брак</td>\n",
       "      <td>1</td>\n",
       "      <td>M</td>\n",
       "      <td>компаньон</td>\n",
       "      <td>0</td>\n",
       "      <td>255763.565419</td>\n",
       "      <td>покупка жилья</td>\n",
       "    </tr>\n",
       "    <tr>\n",
       "      <th>6</th>\n",
       "      <td>0</td>\n",
       "      <td>2879.202052</td>\n",
       "      <td>43</td>\n",
       "      <td>высшее</td>\n",
       "      <td>0</td>\n",
       "      <td>женат / замужем</td>\n",
       "      <td>0</td>\n",
       "      <td>F</td>\n",
       "      <td>компаньон</td>\n",
       "      <td>0</td>\n",
       "      <td>240525.971920</td>\n",
       "      <td>операции с жильем</td>\n",
       "    </tr>\n",
       "    <tr>\n",
       "      <th>7</th>\n",
       "      <td>0</td>\n",
       "      <td>152.779569</td>\n",
       "      <td>50</td>\n",
       "      <td>СРЕДНЕЕ</td>\n",
       "      <td>1</td>\n",
       "      <td>женат / замужем</td>\n",
       "      <td>0</td>\n",
       "      <td>M</td>\n",
       "      <td>сотрудник</td>\n",
       "      <td>0</td>\n",
       "      <td>135823.934197</td>\n",
       "      <td>образование</td>\n",
       "    </tr>\n",
       "    <tr>\n",
       "      <th>8</th>\n",
       "      <td>2</td>\n",
       "      <td>6929.865299</td>\n",
       "      <td>35</td>\n",
       "      <td>ВЫСШЕЕ</td>\n",
       "      <td>0</td>\n",
       "      <td>гражданский брак</td>\n",
       "      <td>1</td>\n",
       "      <td>F</td>\n",
       "      <td>сотрудник</td>\n",
       "      <td>0</td>\n",
       "      <td>95856.832424</td>\n",
       "      <td>на проведение свадьбы</td>\n",
       "    </tr>\n",
       "    <tr>\n",
       "      <th>9</th>\n",
       "      <td>0</td>\n",
       "      <td>2188.756445</td>\n",
       "      <td>41</td>\n",
       "      <td>среднее</td>\n",
       "      <td>1</td>\n",
       "      <td>женат / замужем</td>\n",
       "      <td>0</td>\n",
       "      <td>M</td>\n",
       "      <td>сотрудник</td>\n",
       "      <td>0</td>\n",
       "      <td>144425.938277</td>\n",
       "      <td>покупка жилья для семьи</td>\n",
       "    </tr>\n",
       "  </tbody>\n",
       "</table>\n",
       "</div>"
      ],
      "text/plain": [
       "   children  days_employed  dob_years education  education_id  \\\n",
       "0         1    8437.673028         42    высшее             0   \n",
       "1         1    4024.803754         36   среднее             1   \n",
       "2         0    5623.422610         33   Среднее             1   \n",
       "3         3    4124.747207         32   среднее             1   \n",
       "4         0   14177.753002         53   среднее             1   \n",
       "5         0     926.185831         27    высшее             0   \n",
       "6         0    2879.202052         43    высшее             0   \n",
       "7         0     152.779569         50   СРЕДНЕЕ             1   \n",
       "8         2    6929.865299         35    ВЫСШЕЕ             0   \n",
       "9         0    2188.756445         41   среднее             1   \n",
       "\n",
       "      family_status  family_status_id gender income_type  debt   total_income  \\\n",
       "0   женат / замужем                 0      F   сотрудник     0  253875.639453   \n",
       "1   женат / замужем                 0      F   сотрудник     0  112080.014102   \n",
       "2   женат / замужем                 0      M   сотрудник     0  145885.952297   \n",
       "3   женат / замужем                 0      M   сотрудник     0  267628.550329   \n",
       "4  гражданский брак                 1      F   пенсионер     0  158616.077870   \n",
       "5  гражданский брак                 1      M   компаньон     0  255763.565419   \n",
       "6   женат / замужем                 0      F   компаньон     0  240525.971920   \n",
       "7   женат / замужем                 0      M   сотрудник     0  135823.934197   \n",
       "8  гражданский брак                 1      F   сотрудник     0   95856.832424   \n",
       "9   женат / замужем                 0      M   сотрудник     0  144425.938277   \n",
       "\n",
       "                      purpose  \n",
       "0               покупка жилья  \n",
       "1     приобретение автомобиля  \n",
       "2               покупка жилья  \n",
       "3  дополнительное образование  \n",
       "4             сыграть свадьбу  \n",
       "5               покупка жилья  \n",
       "6           операции с жильем  \n",
       "7                 образование  \n",
       "8       на проведение свадьбы  \n",
       "9     покупка жилья для семьи  "
      ]
     },
     "execution_count": 14,
     "metadata": {},
     "output_type": "execute_result"
    }
   ],
   "source": [
    "data.head(10)"
   ]
  },
  {
   "cell_type": "markdown",
   "metadata": {},
   "source": [
    "Заменю пропущенные значения в days_employed. Можно было взять среднее mean в целом по столбцу, но для точности сделаем это по типу занятости. "
   ]
  },
  {
   "cell_type": "code",
   "execution_count": 15,
   "metadata": {},
   "outputs": [
    {
     "name": "stdout",
     "output_type": "stream",
     "text": [
      "Пропуски до: 2174\n"
     ]
    }
   ],
   "source": [
    "print('Пропуски до:', data[ 'days_employed'].isna().sum())"
   ]
  },
  {
   "cell_type": "code",
   "execution_count": 16,
   "metadata": {
    "scrolled": true
   },
   "outputs": [
    {
     "name": "stdout",
     "output_type": "stream",
     "text": [
      "Пропуски после: 0\n"
     ]
    }
   ],
   "source": [
    "for income in data['income_type'].unique():\n",
    "    mean = data.loc[data['income_type'] == income, 'days_employed'].mean()\n",
    "    data.loc[(data['days_employed'].isna()) & (data['income_type'] == income), 'days_employed'] = mean\n",
    "    \n",
    "print('Пропуски после:', data[ 'days_employed'].isna().sum())"
   ]
  },
  {
   "cell_type": "markdown",
   "metadata": {},
   "source": [
    "Заменю пропуски дохода в столбце total_income медианой взятой по income_type(тип занятости), gender(пол) и education(образование)."
   ]
  },
  {
   "cell_type": "code",
   "execution_count": 17,
   "metadata": {},
   "outputs": [
    {
     "name": "stdout",
     "output_type": "stream",
     "text": [
      "Пропуски до: 2174\n"
     ]
    }
   ],
   "source": [
    "print('Пропуски до:', data['total_income'].isna().sum())"
   ]
  },
  {
   "cell_type": "markdown",
   "metadata": {},
   "source": [
    "Приведу дубликаты, где строчные буквы сочетаются с прописными,  к единому строчному формату:"
   ]
  },
  {
   "cell_type": "code",
   "execution_count": 18,
   "metadata": {},
   "outputs": [],
   "source": [
    "data.education = data.education.str.lower()"
   ]
  },
  {
   "cell_type": "markdown",
   "metadata": {},
   "source": [
    "Создам переменную q_temp, куда выведу медианы:"
   ]
  },
  {
   "cell_type": "code",
   "execution_count": 19,
   "metadata": {},
   "outputs": [],
   "source": [
    "q_temp = data.pivot_table(index=['income_type', 'gender'], columns='education', values='total_income', aggfunc='median')"
   ]
  },
  {
   "cell_type": "markdown",
   "metadata": {},
   "source": [
    "Создам функцию super_fillna_func, котоая будет вытягивать значения из q_temp"
   ]
  },
  {
   "cell_type": "code",
   "execution_count": 20,
   "metadata": {},
   "outputs": [],
   "source": [
    "def super_fillna_func(income_type, gender, education):\n",
    "    '''\n",
    "    Находит в таблице q_temp нужную медиану.\n",
    "    '''\n",
    "    try:\n",
    "        return q_temp.loc[(income_type, gender)][education]\n",
    "    except:\n",
    "        return 0"
   ]
  },
  {
   "cell_type": "markdown",
   "metadata": {},
   "source": [
    "Применю фукцию super_fillna_func к столбцу 'total_income'"
   ]
  },
  {
   "cell_type": "code",
   "execution_count": 21,
   "metadata": {},
   "outputs": [],
   "source": [
    "data['total_income'] = data['total_income'].fillna(data.apply(lambda row: super_fillna_func(row['income_type'], row['gender'], row['education']), axis=1))"
   ]
  },
  {
   "cell_type": "code",
   "execution_count": 22,
   "metadata": {},
   "outputs": [
    {
     "name": "stdout",
     "output_type": "stream",
     "text": [
      "Пропуски после: 0\n"
     ]
    }
   ],
   "source": [
    "print('Пропуски после:', data['total_income'].isna().sum())"
   ]
  },
  {
   "cell_type": "code",
   "execution_count": 23,
   "metadata": {},
   "outputs": [],
   "source": [
    "# Вот так применяем к таблице.\n",
    "\n",
    "# Запишем в новый столбец.\n",
    "#df['new_income'] = df.apply(lambda row: super_fillna_func(row['income_type'], row['gender'], row['education']), axis=1)\n",
    "\n",
    "# Пандас сам заменит пропуски значениями из нового столбца в той же строке.\n",
    "#df['total_income'] = df['total_income'].fillna(df['new_income'])"
   ]
  },
  {
   "cell_type": "markdown",
   "metadata": {},
   "source": [
    "Заменю средним нулевые значения в dob_years взятой по типу занятости."
   ]
  },
  {
   "cell_type": "code",
   "execution_count": 24,
   "metadata": {},
   "outputs": [
    {
     "name": "stdout",
     "output_type": "stream",
     "text": [
      "101\n"
     ]
    }
   ],
   "source": [
    "print(data[data['dob_years'] == 0].count()[0])"
   ]
  },
  {
   "cell_type": "code",
   "execution_count": 25,
   "metadata": {
    "scrolled": true
   },
   "outputs": [],
   "source": [
    "for dob in data['income_type'].unique():\n",
    "    mean = data.loc[data['income_type'] == dob, 'dob_years'].mean().astype('int')\n",
    "    data.loc[(data['dob_years'] == 0) & (data['income_type'] == dob), 'dob_years'] = mean"
   ]
  },
  {
   "cell_type": "code",
   "execution_count": 26,
   "metadata": {},
   "outputs": [
    {
     "name": "stdout",
     "output_type": "stream",
     "text": [
      "0\n"
     ]
    }
   ],
   "source": [
    "print(data[data['dob_years'] == 0].count()[0])"
   ]
  },
  {
   "cell_type": "markdown",
   "metadata": {},
   "source": [
    "<b>Вывод</b>\n",
    "<br>Пропуски заполнил, артефакты удалил, таблица готова к следующему шагу обработки. Пенсионеры и безработные имеют очень хороший доход, по крайне мере для этого банка. Чтоб все так жили. "
   ]
  },
  {
   "cell_type": "markdown",
   "metadata": {},
   "source": [
    "### Замена типа данных"
   ]
  },
  {
   "cell_type": "markdown",
   "metadata": {},
   "source": [
    "В колонке dob_years и total_income тип данных float64, который можно заменить на int, без ущерба к выводам исследования."
   ]
  },
  {
   "cell_type": "code",
   "execution_count": 27,
   "metadata": {},
   "outputs": [
    {
     "data": {
      "text/plain": [
       "children             int64\n",
       "days_employed        int32\n",
       "dob_years            int32\n",
       "education           object\n",
       "education_id         int64\n",
       "family_status       object\n",
       "family_status_id     int64\n",
       "gender              object\n",
       "income_type         object\n",
       "debt                 int64\n",
       "total_income         int32\n",
       "purpose             object\n",
       "dtype: object"
      ]
     },
     "execution_count": 27,
     "metadata": {},
     "output_type": "execute_result"
    }
   ],
   "source": [
    "data = data.astype({'days_employed': int, 'total_income': int, 'dob_years': int})\n",
    "data.dtypes"
   ]
  },
  {
   "cell_type": "markdown",
   "metadata": {},
   "source": [
    "<b>Вывод</b>\n",
    "<br>Изменив типы данных, значения в ячейках приобрели логичный и удобный для вывода в таблицы вид"
   ]
  },
  {
   "cell_type": "markdown",
   "metadata": {},
   "source": [
    "### Обработка дубликатов"
   ]
  },
  {
   "cell_type": "markdown",
   "metadata": {},
   "source": [
    "Приведу дубликаты, где строчные буквы сочетаются с прописными,  к единому строчному формату:\n",
    "В этом мне поможет функция str.lower()"
   ]
  },
  {
   "cell_type": "code",
   "execution_count": 28,
   "metadata": {},
   "outputs": [
    {
     "data": {
      "text/plain": [
       "среднее                15233\n",
       "высшее                  5260\n",
       "неоконченное высшее      744\n",
       "начальное                282\n",
       "ученая степень             6\n",
       "Name: education, dtype: int64"
      ]
     },
     "execution_count": 28,
     "metadata": {},
     "output_type": "execute_result"
    }
   ],
   "source": [
    "#data['education'] = data['education'].str.lower() сделано выше\n",
    "data['education'].value_counts()"
   ]
  },
  {
   "cell_type": "markdown",
   "metadata": {},
   "source": [
    "Методом duplicated и sum посчитаю количество полных дубликатов"
   ]
  },
  {
   "cell_type": "code",
   "execution_count": 29,
   "metadata": {},
   "outputs": [
    {
     "data": {
      "text/plain": [
       "71"
      ]
     },
     "execution_count": 29,
     "metadata": {},
     "output_type": "execute_result"
    }
   ],
   "source": [
    "data_duplicat = data.duplicated().sum()\n",
    "data_duplicat"
   ]
  },
  {
   "cell_type": "markdown",
   "metadata": {},
   "source": [
    "Если, верна моя гипотеза о том, что в таблицу внесены данные по кредитным картам, то наличие полных дупликатов не вызывает удивление - человек мог взять несколько карт. Но и верно другое - поскольку у нас нет уникальных идентификаторов пользователей, полные дубликаты вполне могут быть разными людьми. "
   ]
  },
  {
   "cell_type": "markdown",
   "metadata": {},
   "source": [
    "Методом drop_duplicates удалю дубликаты и использую метод reset_index для перезаписи индексов."
   ]
  },
  {
   "cell_type": "code",
   "execution_count": 30,
   "metadata": {},
   "outputs": [
    {
     "data": {
      "text/plain": [
       "0"
      ]
     },
     "execution_count": 30,
     "metadata": {},
     "output_type": "execute_result"
    }
   ],
   "source": [
    "data = data.drop_duplicates().reset_index(drop = True)\n",
    "data.duplicated().sum()"
   ]
  },
  {
   "cell_type": "markdown",
   "metadata": {},
   "source": [
    "<b>Вывод</b>\n",
    "<br>Обработка дупликатов завершена, таблица готова к следующему шагу обработки."
   ]
  },
  {
   "cell_type": "markdown",
   "metadata": {},
   "source": [
    "### Лемматизация"
   ]
  },
  {
   "cell_type": "code",
   "execution_count": 31,
   "metadata": {},
   "outputs": [],
   "source": [
    "from pymystem3 import Mystem\n",
    "m = Mystem()"
   ]
  },
  {
   "cell_type": "markdown",
   "metadata": {},
   "source": [
    "Загрузил необходимые библиотеки, затем методом unique создам список уникальных значений столбца purpose, при помощи join получу строку и затем лемматизирую её."
   ]
  },
  {
   "cell_type": "code",
   "execution_count": 32,
   "metadata": {},
   "outputs": [
    {
     "data": {
      "text/plain": [
       "array(['покупка жилья', 'приобретение автомобиля',\n",
       "       'дополнительное образование', 'сыграть свадьбу',\n",
       "       'операции с жильем', 'образование', 'на проведение свадьбы',\n",
       "       'покупка жилья для семьи', 'покупка недвижимости',\n",
       "       'покупка коммерческой недвижимости', 'покупка жилой недвижимости',\n",
       "       'строительство собственной недвижимости', 'недвижимость',\n",
       "       'строительство недвижимости', 'на покупку подержанного автомобиля',\n",
       "       'на покупку своего автомобиля',\n",
       "       'операции с коммерческой недвижимостью',\n",
       "       'строительство жилой недвижимости', 'жилье',\n",
       "       'операции со своей недвижимостью', 'автомобили',\n",
       "       'заняться образованием', 'сделка с подержанным автомобилем',\n",
       "       'получение образования', 'автомобиль', 'свадьба',\n",
       "       'получение дополнительного образования', 'покупка своего жилья',\n",
       "       'операции с недвижимостью', 'получение высшего образования',\n",
       "       'свой автомобиль', 'сделка с автомобилем',\n",
       "       'профильное образование', 'высшее образование',\n",
       "       'покупка жилья для сдачи', 'на покупку автомобиля', 'ремонт жилью',\n",
       "       'заняться высшим образованием'], dtype=object)"
      ]
     },
     "execution_count": 32,
     "metadata": {},
     "output_type": "execute_result"
    }
   ],
   "source": [
    "text = data['purpose'].unique()\n",
    "text"
   ]
  },
  {
   "cell_type": "code",
   "execution_count": 33,
   "metadata": {},
   "outputs": [],
   "source": [
    "lemmas = ','.join(text)"
   ]
  },
  {
   "cell_type": "code",
   "execution_count": 34,
   "metadata": {},
   "outputs": [
    {
     "name": "stdout",
     "output_type": "stream",
     "text": [
      "Counter({' ': 59, ',': 37, 'покупка': 10, 'недвижимость': 10, 'автомобиль': 9, 'образование': 9, 'жилье': 7, 'с': 5, 'операция': 4, 'на': 4, 'свой': 4, 'свадьба': 3, 'строительство': 3, 'получение': 3, 'высокий': 3, 'дополнительный': 2, 'для': 2, 'коммерческий': 2, 'жилой': 2, 'подержать': 2, 'заниматься': 2, 'сделка': 2, 'приобретение': 1, 'сыграть': 1, 'проведение': 1, 'семья': 1, 'собственный': 1, 'со': 1, 'профильный': 1, 'сдача': 1, 'ремонт': 1, '\\n': 1})\n"
     ]
    }
   ],
   "source": [
    "lemmas = m.lemmatize(lemmas) \n",
    "from collections import Counter\n",
    "print(Counter(lemmas)) "
   ]
  },
  {
   "cell_type": "markdown",
   "metadata": {},
   "source": [
    "Лемматизация выявила следующие леммы, по которым можно  разбить цели кредита по категориям: недвижимость, автомобиль, образование, свадьба. Функцией lemmas_purpose, лемматизирую столбец purpose и создам новый столбец purpose_mod с изменёнными  значениями."
   ]
  },
  {
   "cell_type": "code",
   "execution_count": 35,
   "metadata": {},
   "outputs": [],
   "source": [
    "def lemmas_purpose(row):\n",
    "    purpose = row['purpose']\n",
    "    purpose_lemmas = m.lemmatize(purpose)\n",
    "    \n",
    "    if ('недвижимость' in purpose_lemmas or 'жилье' in purpose_lemmas):\n",
    "        return 'недвижимость'\n",
    "    elif 'автомобиль'in purpose_lemmas:\n",
    "        return 'автомобиль'\n",
    "    elif 'образование' in purpose_lemmas:\n",
    "        return 'образование'\n",
    "    elif 'свадьба' in purpose_lemmas:\n",
    "        return 'свадьба'\n",
    "    else:\n",
    "        return 'цель не определена'\n",
    "\n",
    "data['purpose_mod'] = data.apply(lemmas_purpose, axis=1)    \n",
    "data['purpose_mod'].value_counts()"
   ]
  },
  {
   "cell_type": "markdown",
   "metadata": {},
   "source": [
    "<b>Вывод</b>\n",
    "\n",
    "Лемматизация - очень удобный инструмент для замены множества смысловых синонимов. \n",
    "\n",
    "(Очень плохо, что pymystem3 не работает в windows.)"
   ]
  },
  {
   "cell_type": "markdown",
   "metadata": {},
   "source": [
    "### Категоризация данных"
   ]
  },
  {
   "cell_type": "markdown",
   "metadata": {},
   "source": [
    "Основные категории для целей исследования исходят из вопросов в задании к проекту:\n",
    "\n",
    "1. Имел ли задолженность по возврату кредитов из столбца debt. Значений всего 2: \n",
    "<br>0 - не имел задолженность\n",
    "<br>1 - имел задолженность. \n",
    "<br>\n",
    "\n",
    "2. Наличие детей в столбце children. Значений 6 - от 0 до 5. Так как, согласно заданию к проекту, необходимо найти зависимость от наличия детей, то сгруппирую столбец children в 2 категории:\n",
    "<br>0 - нет детей\n",
    "<br>1 - есть дети\n",
    "<br>\n",
    "\n",
    "4. family_status — семейное положение и family_status_id — идентификатор семейного положения. В этой категории из поставленной задачи можно свести к двум категориям: семейный/не семейный, но посмотрю эту категорюю более подробно, как есть:\n",
    "<br>0 - женат / замужем\n",
    "<br>1 - гражданский брак\n",
    "<br>2 - вдовец / вдова\n",
    "<br>3 - в разводе\n",
    "<br>4 - Не женат / не замужем\n",
    "<br>\n",
    "\n",
    "5. Уровень ежемесячного дохода в столбце total_income. Разбивку на категории произвел без всякой логики. Какую градацию не возьмешь, если тенденция есть, она обнаружит себя:\n",
    "<br>1 класс дохода: до 100000\n",
    "<br>2 класс дохода:    100000 - 150000\n",
    "<br>3 класс дохода:    150000 и 200000\n",
    "<br>4 класс дохода:    200000 и выше\n",
    "<br>\n",
    "\n",
    "6. Цели кредита в столбце purpose_mod. Значений 4:\n",
    "<br>недвижимость\n",
    "<br>автомобиль\n",
    "<br>образование\n",
    "<br>свадьба\n"
   ]
  },
  {
   "cell_type": "markdown",
   "metadata": {},
   "source": [
    "Поставленная банком задача сводится к простому сравнительному анализу вида (А - Б = С). Где А - клиентская база, Б - база должников, С - исследуемый результат. \n",
    "Создам базу должников data_dolg при помощи логической индексации:"
   ]
  },
  {
   "cell_type": "code",
   "execution_count": null,
   "metadata": {},
   "outputs": [
    {
     "data": {
      "text/html": [
       "<div>\n",
       "<style scoped>\n",
       "    .dataframe tbody tr th:only-of-type {\n",
       "        vertical-align: middle;\n",
       "    }\n",
       "\n",
       "    .dataframe tbody tr th {\n",
       "        vertical-align: top;\n",
       "    }\n",
       "\n",
       "    .dataframe thead th {\n",
       "        text-align: right;\n",
       "    }\n",
       "</style>\n",
       "<table border=\"1\" class=\"dataframe\">\n",
       "  <thead>\n",
       "    <tr style=\"text-align: right;\">\n",
       "      <th></th>\n",
       "      <th>children</th>\n",
       "      <th>days_employed</th>\n",
       "      <th>dob_years</th>\n",
       "      <th>education</th>\n",
       "      <th>education_id</th>\n",
       "      <th>family_status</th>\n",
       "      <th>family_status_id</th>\n",
       "      <th>gender</th>\n",
       "      <th>income_type</th>\n",
       "      <th>debt</th>\n",
       "      <th>total_income</th>\n",
       "      <th>purpose</th>\n",
       "      <th>purpose_mod</th>\n",
       "    </tr>\n",
       "  </thead>\n",
       "  <tbody>\n",
       "    <tr>\n",
       "      <td>14</td>\n",
       "      <td>0</td>\n",
       "      <td>1844</td>\n",
       "      <td>56</td>\n",
       "      <td>высшее</td>\n",
       "      <td>0</td>\n",
       "      <td>гражданский брак</td>\n",
       "      <td>1</td>\n",
       "      <td>F</td>\n",
       "      <td>компаньон</td>\n",
       "      <td>1</td>\n",
       "      <td>165127</td>\n",
       "      <td>покупка жилой недвижимости</td>\n",
       "      <td>недвижимость</td>\n",
       "    </tr>\n",
       "    <tr>\n",
       "      <td>32</td>\n",
       "      <td>0</td>\n",
       "      <td>4649</td>\n",
       "      <td>34</td>\n",
       "      <td>среднее</td>\n",
       "      <td>1</td>\n",
       "      <td>гражданский брак</td>\n",
       "      <td>1</td>\n",
       "      <td>F</td>\n",
       "      <td>сотрудник</td>\n",
       "      <td>1</td>\n",
       "      <td>139057</td>\n",
       "      <td>на проведение свадьбы</td>\n",
       "      <td>свадьба</td>\n",
       "    </tr>\n",
       "    <tr>\n",
       "      <td>38</td>\n",
       "      <td>0</td>\n",
       "      <td>597</td>\n",
       "      <td>25</td>\n",
       "      <td>высшее</td>\n",
       "      <td>0</td>\n",
       "      <td>Не женат / не замужем</td>\n",
       "      <td>4</td>\n",
       "      <td>M</td>\n",
       "      <td>сотрудник</td>\n",
       "      <td>1</td>\n",
       "      <td>192247</td>\n",
       "      <td>образование</td>\n",
       "      <td>образование</td>\n",
       "    </tr>\n",
       "    <tr>\n",
       "      <td>55</td>\n",
       "      <td>0</td>\n",
       "      <td>15208</td>\n",
       "      <td>54</td>\n",
       "      <td>среднее</td>\n",
       "      <td>1</td>\n",
       "      <td>гражданский брак</td>\n",
       "      <td>1</td>\n",
       "      <td>F</td>\n",
       "      <td>пенсионер</td>\n",
       "      <td>1</td>\n",
       "      <td>112790</td>\n",
       "      <td>сыграть свадьбу</td>\n",
       "      <td>свадьба</td>\n",
       "    </tr>\n",
       "    <tr>\n",
       "      <td>75</td>\n",
       "      <td>1</td>\n",
       "      <td>2953</td>\n",
       "      <td>38</td>\n",
       "      <td>среднее</td>\n",
       "      <td>1</td>\n",
       "      <td>женат / замужем</td>\n",
       "      <td>0</td>\n",
       "      <td>M</td>\n",
       "      <td>сотрудник</td>\n",
       "      <td>1</td>\n",
       "      <td>81935</td>\n",
       "      <td>операции с недвижимостью</td>\n",
       "      <td>недвижимость</td>\n",
       "    </tr>\n",
       "  </tbody>\n",
       "</table>\n",
       "</div>"
      ],
      "text/plain": [
       "    children  days_employed  dob_years education  education_id  \\\n",
       "14         0           1844         56    высшее             0   \n",
       "32         0           4649         34   среднее             1   \n",
       "38         0            597         25    высшее             0   \n",
       "55         0          15208         54   среднее             1   \n",
       "75         1           2953         38   среднее             1   \n",
       "\n",
       "            family_status  family_status_id gender income_type  debt  \\\n",
       "14       гражданский брак                 1      F   компаньон     1   \n",
       "32       гражданский брак                 1      F   сотрудник     1   \n",
       "38  Не женат / не замужем                 4      M   сотрудник     1   \n",
       "55       гражданский брак                 1      F   пенсионер     1   \n",
       "75        женат / замужем                 0      M   сотрудник     1   \n",
       "\n",
       "    total_income                     purpose   purpose_mod  \n",
       "14        165127  покупка жилой недвижимости  недвижимость  \n",
       "32        139057       на проведение свадьбы       свадьба  \n",
       "38        192247                 образование   образование  \n",
       "55        112790             сыграть свадьбу       свадьба  \n",
       "75         81935    операции с недвижимостью  недвижимость  "
      ]
     },
     "execution_count": 84,
     "metadata": {},
     "output_type": "execute_result"
    }
   ],
   "source": [
    "data_dolg = data[data['debt'] == 1]\n",
    "data_dolg.head(5)"
   ]
  },
  {
   "cell_type": "markdown",
   "metadata": {},
   "source": [
    "Создам базу клиентов без долга data_bez_dolga при помощи логической индексации:"
   ]
  },
  {
   "cell_type": "code",
   "execution_count": null,
   "metadata": {},
   "outputs": [
    {
     "data": {
      "text/html": [
       "<div>\n",
       "<style scoped>\n",
       "    .dataframe tbody tr th:only-of-type {\n",
       "        vertical-align: middle;\n",
       "    }\n",
       "\n",
       "    .dataframe tbody tr th {\n",
       "        vertical-align: top;\n",
       "    }\n",
       "\n",
       "    .dataframe thead th {\n",
       "        text-align: right;\n",
       "    }\n",
       "</style>\n",
       "<table border=\"1\" class=\"dataframe\">\n",
       "  <thead>\n",
       "    <tr style=\"text-align: right;\">\n",
       "      <th></th>\n",
       "      <th>children</th>\n",
       "      <th>days_employed</th>\n",
       "      <th>dob_years</th>\n",
       "      <th>education</th>\n",
       "      <th>education_id</th>\n",
       "      <th>family_status</th>\n",
       "      <th>family_status_id</th>\n",
       "      <th>gender</th>\n",
       "      <th>income_type</th>\n",
       "      <th>debt</th>\n",
       "      <th>total_income</th>\n",
       "      <th>purpose</th>\n",
       "      <th>purpose_mod</th>\n",
       "    </tr>\n",
       "  </thead>\n",
       "  <tbody>\n",
       "    <tr>\n",
       "      <td>0</td>\n",
       "      <td>1</td>\n",
       "      <td>8437</td>\n",
       "      <td>42</td>\n",
       "      <td>высшее</td>\n",
       "      <td>0</td>\n",
       "      <td>женат / замужем</td>\n",
       "      <td>0</td>\n",
       "      <td>F</td>\n",
       "      <td>сотрудник</td>\n",
       "      <td>0</td>\n",
       "      <td>253875</td>\n",
       "      <td>покупка жилья</td>\n",
       "      <td>недвижимость</td>\n",
       "    </tr>\n",
       "    <tr>\n",
       "      <td>1</td>\n",
       "      <td>1</td>\n",
       "      <td>4024</td>\n",
       "      <td>36</td>\n",
       "      <td>среднее</td>\n",
       "      <td>1</td>\n",
       "      <td>женат / замужем</td>\n",
       "      <td>0</td>\n",
       "      <td>F</td>\n",
       "      <td>сотрудник</td>\n",
       "      <td>0</td>\n",
       "      <td>112080</td>\n",
       "      <td>приобретение автомобиля</td>\n",
       "      <td>автомобиль</td>\n",
       "    </tr>\n",
       "    <tr>\n",
       "      <td>2</td>\n",
       "      <td>0</td>\n",
       "      <td>5623</td>\n",
       "      <td>33</td>\n",
       "      <td>среднее</td>\n",
       "      <td>1</td>\n",
       "      <td>женат / замужем</td>\n",
       "      <td>0</td>\n",
       "      <td>M</td>\n",
       "      <td>сотрудник</td>\n",
       "      <td>0</td>\n",
       "      <td>145885</td>\n",
       "      <td>покупка жилья</td>\n",
       "      <td>недвижимость</td>\n",
       "    </tr>\n",
       "    <tr>\n",
       "      <td>3</td>\n",
       "      <td>1</td>\n",
       "      <td>4124</td>\n",
       "      <td>32</td>\n",
       "      <td>среднее</td>\n",
       "      <td>1</td>\n",
       "      <td>женат / замужем</td>\n",
       "      <td>0</td>\n",
       "      <td>M</td>\n",
       "      <td>сотрудник</td>\n",
       "      <td>0</td>\n",
       "      <td>267628</td>\n",
       "      <td>дополнительное образование</td>\n",
       "      <td>образование</td>\n",
       "    </tr>\n",
       "    <tr>\n",
       "      <td>4</td>\n",
       "      <td>0</td>\n",
       "      <td>14177</td>\n",
       "      <td>53</td>\n",
       "      <td>среднее</td>\n",
       "      <td>1</td>\n",
       "      <td>гражданский брак</td>\n",
       "      <td>1</td>\n",
       "      <td>F</td>\n",
       "      <td>пенсионер</td>\n",
       "      <td>0</td>\n",
       "      <td>158616</td>\n",
       "      <td>сыграть свадьбу</td>\n",
       "      <td>свадьба</td>\n",
       "    </tr>\n",
       "  </tbody>\n",
       "</table>\n",
       "</div>"
      ],
      "text/plain": [
       "   children  days_employed  dob_years education  education_id  \\\n",
       "0         1           8437         42    высшее             0   \n",
       "1         1           4024         36   среднее             1   \n",
       "2         0           5623         33   среднее             1   \n",
       "3         1           4124         32   среднее             1   \n",
       "4         0          14177         53   среднее             1   \n",
       "\n",
       "      family_status  family_status_id gender income_type  debt  total_income  \\\n",
       "0   женат / замужем                 0      F   сотрудник     0        253875   \n",
       "1   женат / замужем                 0      F   сотрудник     0        112080   \n",
       "2   женат / замужем                 0      M   сотрудник     0        145885   \n",
       "3   женат / замужем                 0      M   сотрудник     0        267628   \n",
       "4  гражданский брак                 1      F   пенсионер     0        158616   \n",
       "\n",
       "                      purpose   purpose_mod  \n",
       "0               покупка жилья  недвижимость  \n",
       "1     приобретение автомобиля    автомобиль  \n",
       "2               покупка жилья  недвижимость  \n",
       "3  дополнительное образование   образование  \n",
       "4             сыграть свадьбу       свадьба  "
      ]
     },
     "execution_count": 85,
     "metadata": {},
     "output_type": "execute_result"
    }
   ],
   "source": [
    "data_bez_dolga = data[data['debt'] == 0]\n",
    "data_bez_dolga.head(5)"
   ]
  },
  {
   "cell_type": "markdown",
   "metadata": {},
   "source": [
    "Для облегчения расчетов введу переменные data_len - количество клиентов банка, dolznik - количество должников, bez_dolga - количество клиентов без долга: И выведу значения на экран:"
   ]
  },
  {
   "cell_type": "code",
   "execution_count": null,
   "metadata": {},
   "outputs": [
    {
     "name": "stdout",
     "output_type": "stream",
     "text": [
      "Клиентов банка: 21454\n",
      "Должники: 1741\n",
      "Клиенты без долга: 19713\n"
     ]
    }
   ],
   "source": [
    "data_len = len(data)\n",
    "dolznik = len(data_dolg)\n",
    "bez_dolga = len(data_bez_dolga)\n",
    "print('Клиентов банка:', data_len)\n",
    "print('Должники:', dolznik)\n",
    "print('Клиенты без долга:', bez_dolga)"
   ]
  },
  {
   "cell_type": "markdown",
   "metadata": {},
   "source": [
    "<b>Вывод</b>\n",
    "<br>Таблица полностью прошла процесс предобработки данных, дополнительно создана база должников, всё готово для ответа на поставленные вопросы. "
   ]
  },
  {
   "cell_type": "markdown",
   "metadata": {},
   "source": [
    "## Шаг 3. Ответьте на вопросы"
   ]
  },
  {
   "cell_type": "markdown",
   "metadata": {},
   "source": [
    "- Есть ли зависимость между наличием детей и возвратом кредита в срок?"
   ]
  },
  {
   "cell_type": "markdown",
   "metadata": {},
   "source": [
    "В задании к проекту, необходимо выявить - влияет количество детей клиента на факт погашения кредита в срок, а вопросе ставится задача - есть ли зависимость между наличием детей и возвратом кредита в срок?\n",
    "Потому ответим на два вопроса."
   ]
  },
  {
   "cell_type": "markdown",
   "metadata": {},
   "source": [
    "Выявлю, как количество детей клиента влияет на факт погашения кредита в срок. "
   ]
  },
  {
   "cell_type": "code",
   "execution_count": null,
   "metadata": {},
   "outputs": [
    {
     "data": {
      "text/html": [
       "<div>\n",
       "<style scoped>\n",
       "    .dataframe tbody tr th:only-of-type {\n",
       "        vertical-align: middle;\n",
       "    }\n",
       "\n",
       "    .dataframe tbody tr th {\n",
       "        vertical-align: top;\n",
       "    }\n",
       "\n",
       "    .dataframe thead th {\n",
       "        text-align: right;\n",
       "    }\n",
       "</style>\n",
       "<table border=\"1\" class=\"dataframe\">\n",
       "  <thead>\n",
       "    <tr style=\"text-align: right;\">\n",
       "      <th></th>\n",
       "      <th>count</th>\n",
       "      <th>sum</th>\n",
       "      <th>&lt;lambda_0&gt;</th>\n",
       "    </tr>\n",
       "    <tr>\n",
       "      <th>children</th>\n",
       "      <th></th>\n",
       "      <th></th>\n",
       "      <th></th>\n",
       "    </tr>\n",
       "  </thead>\n",
       "  <tbody>\n",
       "    <tr>\n",
       "      <td>0</td>\n",
       "      <td>14091</td>\n",
       "      <td>1063</td>\n",
       "      <td>7.54%</td>\n",
       "    </tr>\n",
       "    <tr>\n",
       "      <td>1</td>\n",
       "      <td>4855</td>\n",
       "      <td>445</td>\n",
       "      <td>9.17%</td>\n",
       "    </tr>\n",
       "    <tr>\n",
       "      <td>2</td>\n",
       "      <td>2128</td>\n",
       "      <td>202</td>\n",
       "      <td>9.49%</td>\n",
       "    </tr>\n",
       "    <tr>\n",
       "      <td>3</td>\n",
       "      <td>330</td>\n",
       "      <td>27</td>\n",
       "      <td>8.18%</td>\n",
       "    </tr>\n",
       "    <tr>\n",
       "      <td>4</td>\n",
       "      <td>41</td>\n",
       "      <td>4</td>\n",
       "      <td>9.76%</td>\n",
       "    </tr>\n",
       "    <tr>\n",
       "      <td>5</td>\n",
       "      <td>9</td>\n",
       "      <td>0</td>\n",
       "      <td>0.00%</td>\n",
       "    </tr>\n",
       "  </tbody>\n",
       "</table>\n",
       "</div>"
      ],
      "text/plain": [
       "          count   sum <lambda_0>\n",
       "children                        \n",
       "0         14091  1063     7.54% \n",
       "1          4855   445     9.17% \n",
       "2          2128   202     9.49% \n",
       "3           330    27     8.18% \n",
       "4            41     4     9.76% \n",
       "5             9     0     0.00% "
      ]
     },
     "execution_count": 67,
     "metadata": {},
     "output_type": "execute_result"
    }
   ],
   "source": [
    "data.groupby('children')['debt'].agg(['count', 'sum', lambda x: '{:.2%} '.format(x.mean())])"
   ]
  },
  {
   "cell_type": "markdown",
   "metadata": {},
   "source": [
    "Определю зависимость между наличием детей и возвратом кредита в срок:"
   ]
  },
  {
   "cell_type": "markdown",
   "metadata": {},
   "source": [
    "Для чего, в столбце children заменю значения на (0 - нет детей / 1 - есть дети)"
   ]
  },
  {
   "cell_type": "code",
   "execution_count": null,
   "metadata": {},
   "outputs": [
    {
     "data": {
      "text/plain": [
       "0    14091\n",
       "1     7363\n",
       "Name: children, dtype: int64"
      ]
     },
     "execution_count": 68,
     "metadata": {},
     "output_type": "execute_result"
    }
   ],
   "source": [
    "data.loc[data['children'] >= 1, 'children'] = 1\n",
    "data['children'].value_counts()"
   ]
  },
  {
   "cell_type": "markdown",
   "metadata": {},
   "source": [
    "И снова, применю группировку: "
   ]
  },
  {
   "cell_type": "code",
   "execution_count": null,
   "metadata": {},
   "outputs": [
    {
     "data": {
      "text/html": [
       "<div>\n",
       "<style scoped>\n",
       "    .dataframe tbody tr th:only-of-type {\n",
       "        vertical-align: middle;\n",
       "    }\n",
       "\n",
       "    .dataframe tbody tr th {\n",
       "        vertical-align: top;\n",
       "    }\n",
       "\n",
       "    .dataframe thead th {\n",
       "        text-align: right;\n",
       "    }\n",
       "</style>\n",
       "<table border=\"1\" class=\"dataframe\">\n",
       "  <thead>\n",
       "    <tr style=\"text-align: right;\">\n",
       "      <th></th>\n",
       "      <th>count</th>\n",
       "      <th>sum</th>\n",
       "      <th>&lt;lambda_0&gt;</th>\n",
       "    </tr>\n",
       "    <tr>\n",
       "      <th>children</th>\n",
       "      <th></th>\n",
       "      <th></th>\n",
       "      <th></th>\n",
       "    </tr>\n",
       "  </thead>\n",
       "  <tbody>\n",
       "    <tr>\n",
       "      <td>0</td>\n",
       "      <td>14091</td>\n",
       "      <td>1063</td>\n",
       "      <td>7.54%</td>\n",
       "    </tr>\n",
       "    <tr>\n",
       "      <td>1</td>\n",
       "      <td>7363</td>\n",
       "      <td>678</td>\n",
       "      <td>9.21%</td>\n",
       "    </tr>\n",
       "  </tbody>\n",
       "</table>\n",
       "</div>"
      ],
      "text/plain": [
       "          count   sum <lambda_0>\n",
       "children                        \n",
       "0         14091  1063     7.54% \n",
       "1          7363   678     9.21% "
      ]
     },
     "execution_count": 79,
     "metadata": {},
     "output_type": "execute_result"
    }
   ],
   "source": [
    "dg_children = data.groupby('children')['debt'].agg(['count', 'sum', lambda x: '{:.2%} '.format(x.mean())])\n",
    "dg_children"
   ]
  },
  {
   "cell_type": "markdown",
   "metadata": {},
   "source": [
    "<b>Вывод</b>\n",
    "<br>Зависимость между наличием детей и возвратом кредита в срок существует, доля должников с детьми на 1.8% превышает долю клиентов без детей."
   ]
  },
  {
   "cell_type": "markdown",
   "metadata": {},
   "source": [
    "- Есть ли зависимость между семейным положением и возвратом кредита в срок?"
   ]
  },
  {
   "cell_type": "markdown",
   "metadata": {},
   "source": [
    "Ответить на вопрос мне поможет метод groupby для группировки и метод агрегации данных agg:"
   ]
  },
  {
   "cell_type": "markdown",
   "metadata": {},
   "source": [
    "Здесь, можно было обойтись одной командой, но мне не понравилась таблица в таком варианте. \n",
    "Потому, громоздкое решение, но с чуть красивей таблицей."
   ]
  },
  {
   "cell_type": "code",
   "execution_count": null,
   "metadata": {
    "scrolled": true
   },
   "outputs": [],
   "source": [
    "family_data = data.groupby('family_status').agg({'family_status':'count'})\n",
    "#family_data['%'] = family_data['family_status'] / data_len * 100\n",
    "#family_data"
   ]
  },
  {
   "cell_type": "code",
   "execution_count": null,
   "metadata": {},
   "outputs": [],
   "source": [
    "family_dolg = data_dolg.groupby('family_status').agg({'family_status':'count'})\n",
    "#family_dolg['%'] = family_dolg['family_status'] / data_len * 100\n"
   ]
  },
  {
   "cell_type": "code",
   "execution_count": null,
   "metadata": {},
   "outputs": [],
   "source": [
    "family_doly = family_dolg / family_data * 100"
   ]
  },
  {
   "cell_type": "markdown",
   "metadata": {},
   "source": [
    "При помощи метода concat объединю три таблицы в одну  и выведу её на экран:"
   ]
  },
  {
   "cell_type": "code",
   "execution_count": null,
   "metadata": {
    "scrolled": true
   },
   "outputs": [
    {
     "name": "stdout",
     "output_type": "stream",
     "text": [
      "                      Количество клиентов      Должники Доля должников, %\n",
      "                            family_status family_status     family_status\n",
      "family_status                                                            \n",
      "Не женат / не замужем                2810           274          9.750890\n",
      "в разводе                            1195            85          7.112971\n",
      "вдовец / вдова                        959            63          6.569343\n",
      "гражданский брак                     4151           388          9.347145\n",
      "женат / замужем                     12339           931          7.545182\n"
     ]
    }
   ],
   "source": [
    "df_family = pd.concat([family_data, family_dolg, family_doly], sort=False, axis=1, keys=['Количество клиентов', 'Должники', 'Доля должников, %'])\n",
    "print(df_family)"
   ]
  },
  {
   "cell_type": "markdown",
   "metadata": {},
   "source": [
    "Удалю нижние уровни в названиях столбца:"
   ]
  },
  {
   "cell_type": "code",
   "execution_count": null,
   "metadata": {},
   "outputs": [],
   "source": [
    "df_family.columns.droplevel(1) # уровни 0 и 1. Сбрасываем нижний уровень, поэтому 1. "
   ]
  },
  {
   "cell_type": "code",
   "execution_count": null,
   "metadata": {},
   "outputs": [
    {
     "data": {
      "text/html": [
       "<div>\n",
       "<style scoped>\n",
       "    .dataframe tbody tr th:only-of-type {\n",
       "        vertical-align: middle;\n",
       "    }\n",
       "\n",
       "    .dataframe tbody tr th {\n",
       "        vertical-align: top;\n",
       "    }\n",
       "\n",
       "    .dataframe thead th {\n",
       "        text-align: right;\n",
       "    }\n",
       "</style>\n",
       "<table border=\"1\" class=\"dataframe\">\n",
       "  <thead>\n",
       "    <tr style=\"text-align: right;\">\n",
       "      <th></th>\n",
       "      <th>Количество клиентов</th>\n",
       "      <th>Должники</th>\n",
       "      <th>Доля должников, %</th>\n",
       "    </tr>\n",
       "    <tr>\n",
       "      <th>family_status</th>\n",
       "      <th></th>\n",
       "      <th></th>\n",
       "      <th></th>\n",
       "    </tr>\n",
       "  </thead>\n",
       "  <tbody>\n",
       "    <tr>\n",
       "      <td>Не женат / не замужем</td>\n",
       "      <td>2810</td>\n",
       "      <td>274</td>\n",
       "      <td>9.750890</td>\n",
       "    </tr>\n",
       "    <tr>\n",
       "      <td>в разводе</td>\n",
       "      <td>1195</td>\n",
       "      <td>85</td>\n",
       "      <td>7.112971</td>\n",
       "    </tr>\n",
       "    <tr>\n",
       "      <td>вдовец / вдова</td>\n",
       "      <td>959</td>\n",
       "      <td>63</td>\n",
       "      <td>6.569343</td>\n",
       "    </tr>\n",
       "    <tr>\n",
       "      <td>гражданский брак</td>\n",
       "      <td>4151</td>\n",
       "      <td>388</td>\n",
       "      <td>9.347145</td>\n",
       "    </tr>\n",
       "    <tr>\n",
       "      <td>женат / замужем</td>\n",
       "      <td>12339</td>\n",
       "      <td>931</td>\n",
       "      <td>7.545182</td>\n",
       "    </tr>\n",
       "  </tbody>\n",
       "</table>\n",
       "</div>"
      ],
      "text/plain": [
       "                       Количество клиентов  Должники  Доля должников, %\n",
       "family_status                                                          \n",
       "Не женат / не замужем                 2810       274           9.750890\n",
       "в разводе                             1195        85           7.112971\n",
       "вдовец / вдова                         959        63           6.569343\n",
       "гражданский брак                      4151       388           9.347145\n",
       "женат / замужем                      12339       931           7.545182"
      ]
     },
     "execution_count": 91,
     "metadata": {},
     "output_type": "execute_result"
    }
   ],
   "source": [
    "df_family.columns = df_family.columns.droplevel(1) # уровни 0 и 1. Сбрасываем нижний уровень, поэтому 1. \n",
    "\n",
    "df_family"
   ]
  },
  {
   "cell_type": "markdown",
   "metadata": {},
   "source": [
    "Выведу таблицу для наглядности"
   ]
  },
  {
   "cell_type": "code",
   "execution_count": null,
   "metadata": {},
   "outputs": [
    {
     "data": {
      "image/png": "[encoded data removed]",
      "text/plain": [
       "<Figure size 864x432 with 1 Axes>"
      ]
     },
     "metadata": {
      "needs_background": "light"
     },
     "output_type": "display_data"
    }
   ],
   "source": [
    "import matplotlib.pyplot as plt\n",
    "\n",
    "df_family['Доля должников, %'].sort_values().plot.bar(figsize=(12,6))\n",
    "\n",
    "plt.xticks(rotation=0)\n",
    "plt.title('Семейное положение')\n",
    "plt.xlabel('Категория заёмщиков')\n",
    "plt.ylabel('Доля должников, %')\n",
    "\n",
    "plt.show()"
   ]
  },
  {
   "cell_type": "markdown",
   "metadata": {},
   "source": [
    "<b>Вывод</b>\n",
    "<br>Зависимость между семейным положением и возвратом кредита в срок прослеживается явно. Как ни странно, самыми ответственными кредитополучатели, это - вдовец / вдова. Правда их наименьшее количество, следовательно вероятность невозврата меньше. Самые рискованые - холостяки. Минимум отвественности и максимум самоуверенности.  "
   ]
  },
  {
   "cell_type": "markdown",
   "metadata": {},
   "source": [
    "- Есть ли зависимость между уровнем дохода и возвратом кредита в срок?"
   ]
  },
  {
   "cell_type": "code",
   "execution_count": null,
   "metadata": {},
   "outputs": [],
   "source": [
    "total_income_one = len(data[data['total_income'] <= 100000]) \n",
    "total_income_two = len(data[((data.total_income > 100000) & (data.total_income <= 150000))]) \n",
    "total_income_tri = len(data[((data.total_income > 150000) & (data.total_income <= 200000))]) \n",
    "total_income_for = len(data[data['total_income'] > 200000]) \n",
    "                                                          "
   ]
  },
  {
   "cell_type": "code",
   "execution_count": null,
   "metadata": {},
   "outputs": [],
   "source": [
    "ti_dolg_one = len(data_dolg[data_dolg['total_income'] <= 100000])\n",
    "ti_dolg_two = len(data_dolg[((data_dolg.total_income > 100000) & (data_dolg.total_income <= 150000))])\n",
    "ti_dolg_tri = len(data_dolg[((data_dolg.total_income > 150000) & (data_dolg.total_income <= 200000))])\n",
    "ti_dolg_for = len(data_dolg[data_dolg['total_income'] > 200000]) \n"
   ]
  },
  {
   "cell_type": "code",
   "execution_count": null,
   "metadata": {},
   "outputs": [],
   "source": [
    "ti_dolg_one_doly = ti_dolg_one / total_income_one * 100\n",
    "ti_dolg_two_doly = ti_dolg_two / total_income_two * 100\n",
    "ti_dolg_tri_doly = ti_dolg_tri / total_income_tri * 100\n",
    "ti_dolg_for_doly = ti_dolg_for / total_income_for * 100"
   ]
  },
  {
   "cell_type": "code",
   "execution_count": null,
   "metadata": {},
   "outputs": [
    {
     "name": "stdout",
     "output_type": "stream",
     "text": [
      "       Категория  Количество клиентов  Должники  Доля должников, %\n",
      "0        <100000                 4466       354           7.926556\n",
      "1  100000<150000                 6845       584           8.531775\n",
      "2  150000<200000                 5000       442           8.840000\n",
      "3        200000<                 5143       361           7.019249\n"
     ]
    }
   ],
   "source": [
    "df_total_income = pd.DataFrame({'Категория': ['<100000', '100000<150000', '150000<200000', '200000<'], \n",
    "                   'Количество клиентов': [total_income_one, total_income_two, total_income_tri, total_income_for],\n",
    "                  'Должники': [ti_dolg_one, ti_dolg_two, ti_dolg_tri, ti_dolg_for],\n",
    "                                'Доля должников, %': [ti_dolg_one_doly, ti_dolg_two_doly, ti_dolg_tri_doly, ti_dolg_for_doly]})\n",
    "print(df_total_income)"
   ]
  },
  {
   "cell_type": "markdown",
   "metadata": {},
   "source": [
    "Таблица для наглядности:"
   ]
  },
  {
   "cell_type": "code",
   "execution_count": null,
   "metadata": {},
   "outputs": [
    {
     "data": {
      "text/plain": [
       "<matplotlib.axes._subplots.AxesSubplot at 0x7f9c71c4c290>"
      ]
     },
     "execution_count": 98,
     "metadata": {},
     "output_type": "execute_result"
    },
    {
     "data": {
      "image/png": "[encoded data removed]",
      "text/plain": [
       "<Figure size 432x288 with 1 Axes>"
      ]
     },
     "metadata": {
      "needs_background": "light"
     },
     "output_type": "display_data"
    }
   ],
   "source": [
    "seaborn.barplot(x=df_total_income['Категория'], y=df_total_income['Доля должников, %'])\n",
    "plt.show()"
   ]
  },
  {
   "cell_type": "markdown",
   "metadata": {},
   "source": [
    "<b>Вывод</b>\n",
    "<br>Здесь наблюдается очень интересная зависимость между уровнем дохода и возвратом кредита в срок. Прибавку должников дают клиенты с доходами в интервале 100000 - 200000. Этому есть вполне логичное объяснение."
   ]
  },
  {
   "cell_type": "markdown",
   "metadata": {},
   "source": [
    "- Как разные цели кредита влияют на его возврат в срок?"
   ]
  },
  {
   "cell_type": "code",
   "execution_count": null,
   "metadata": {},
   "outputs": [],
   "source": [
    "purpose_data = data.groupby('purpose_mod').agg({'purpose_mod':'count'})"
   ]
  },
  {
   "cell_type": "code",
   "execution_count": null,
   "metadata": {},
   "outputs": [],
   "source": [
    "purpose_dolg = data_dolg.groupby('purpose_mod').agg({'purpose_mod':'count'})"
   ]
  },
  {
   "cell_type": "code",
   "execution_count": null,
   "metadata": {},
   "outputs": [],
   "source": [
    "purpose_dolg_doly = purpose_dolg / purpose_data * 100"
   ]
  },
  {
   "cell_type": "code",
   "execution_count": null,
   "metadata": {
    "scrolled": true
   },
   "outputs": [
    {
     "name": "stdout",
     "output_type": "stream",
     "text": [
      "             Количество клиентов    Должники Доля должников, %\n",
      "                     purpose_mod purpose_mod       purpose_mod\n",
      "purpose_mod                                                   \n",
      "автомобиль                  4306         403          9.359034\n",
      "недвижимость               10811         782          7.233373\n",
      "образование                 4013         370          9.220035\n",
      "свадьба                     2324         186          8.003442\n"
     ]
    }
   ],
   "source": [
    "df_purpose = pd.concat([purpose_data, purpose_dolg, purpose_dolg_doly], sort=False, axis=1, keys=['Количество клиентов', 'Должники', 'Доля должников, %'])\n",
    "print(df_purpose)"
   ]
  },
  {
   "cell_type": "code",
   "execution_count": null,
   "metadata": {
    "scrolled": true
   },
   "outputs": [
    {
     "data": {
      "image/png": "[encoded data removed]",
      "text/plain": [
       "<Figure size 720x288 with 1 Axes>"
      ]
     },
     "metadata": {
      "needs_background": "light"
     },
     "output_type": "display_data"
    }
   ],
   "source": [
    "import matplotlib.pyplot as plt\n",
    "\n",
    "df_purpose['Доля должников, %', 'purpose_mod'].sort_values().plot.bar(figsize=(10,4))\n",
    "\n",
    "plt.xticks(rotation=0)\n",
    "plt.title('Цели кредита')\n",
    "plt.xlabel('Категория заёмщиков')\n",
    "plt.ylabel('Доля должников, %')\n",
    "\n",
    "plt.show()"
   ]
  },
  {
   "cell_type": "markdown",
   "metadata": {},
   "source": [
    "<b>Вывод</b>\n",
    "<br>Основная доля кредитов приходится на долгосрочный кредит - ипотеку и здесь наблюдается \n",
    "относителное снижение должников. Заёмщики стараются гасить вовремя кредит, \n",
    "потому что под залогом находится жилье. А среднесрочные кредиты на автомобиль и образование \n",
    "показывают относительное увеличение должников. Нет такой отвественности как у ипотеки."
   ]
  },
  {
   "cell_type": "markdown",
   "metadata": {},
   "source": [
    "## Шаг 4. Общий вывод"
   ]
  },
  {
   "cell_type": "markdown",
   "metadata": {},
   "source": [
    "В целом, по результатам исследования, нельзя выделить аномально высокую кредитную задолженность по какой-либо группе. \n",
    "<br>Группа \"Наличие детей\": должников без детей(7.54%) меньше должников с детьми(9.21%). \n",
    "<br>Группа \"Семейное положение\": наиболее отвественные в категории вдовец/вдова(6.57%), наименее - не женат/не замужем(9.75%.).\n",
    "<br>Группа \"Уровень доходов\" - более всего должников в категории с доходами 150000-200000(8.84), заёмщики с доходами показывают лучший показатель возврата кредитов (7.02%).\n",
    "<br>Группа \"Цели кредита\" - в категории Ипотека наиболее отвественные заёмщики(7.23% невозврата кредитов), наиболее безотвественные в категории Автомобиль(9.36% должников)\n",
    "\n",
    "<br>Минимум должников в группе: вдовец / вдова - 6.57%, максимум в группе: Не женат / не замужем - 9.75%. Но с учетом того, что в этих группах количество выданных кредитов относительно мало, то я бы не стал их оценивать, как надёжных заёмщиков. С учетом количества выданных кредитов, я бы выделил надежных 2 группы: по цели кредита - ипотека (процент невозврата 7.23% на 10814 кредитов )и по семейному статусу - женат / замужем (процент невозврата 7.54% на 12344  кредитов ).\n",
    "\n",
    "<br>Для объективного анализа не хватает денежных данных. Кредитные риски банка определяется объёмом просроченных кредитов в денежной единице, а не их количеством. Банку надо работать в тех категориях, которые создают высокую вероятность возникновения потерь при невозврате кредитов.\n",
    "\n",
    "<br> Есть подозрение, что в таблицу включены данные по кредитным картам - недопустимо объединять два разных продукта.\n",
    "\n",
    "<br>Увеличение должников в интервале доходности 100000<200000 связано с политикой банка по требованиям к заёмщику.  Скорее всего, вместо справки НДФЛ принимают справку о доходе с места работы, среди которых наблюдается высокий процент \"липовых\" справок. Потому, в этом сегменте, если это сопряжено с высокой долговой нагрузкой, необходимо менять политику в отношении клиентов. \n",
    "\n"
   ]
  },
  {
   "cell_type": "code",
   "execution_count": null,
   "metadata": {},
   "outputs": [],
   "source": []
  }
 ],
 "metadata": {
  "ExecuteTimeLog": [
   {
    "duration": 3109,
    "start_time": "2021-12-04T10:22:08.672Z"
   },
   {
    "duration": 4,
    "start_time": "2021-12-04T10:25:29.698Z"
   },
   {
    "duration": 311,
    "start_time": "2021-12-04T10:26:05.519Z"
   },
   {
    "duration": 143,
    "start_time": "2021-12-04T10:26:45.168Z"
   },
   {
    "duration": 182,
    "start_time": "2021-12-04T10:27:36.911Z"
   },
   {
    "duration": 285,
    "start_time": "2021-12-04T10:28:08.549Z"
   },
   {
    "duration": 91,
    "start_time": "2021-12-04T10:28:26.137Z"
   },
   {
    "duration": 104,
    "start_time": "2021-12-04T10:29:08.865Z"
   },
   {
    "duration": 98,
    "start_time": "2021-12-04T10:29:28.021Z"
   },
   {
    "duration": 302,
    "start_time": "2021-12-04T10:29:38.785Z"
   },
   {
    "duration": 63,
    "start_time": "2021-12-04T10:33:48.378Z"
   },
   {
    "duration": 15,
    "start_time": "2021-12-04T10:33:54.224Z"
   },
   {
    "duration": 29,
    "start_time": "2021-12-04T10:34:19.753Z"
   },
   {
    "duration": 10,
    "start_time": "2021-12-04T10:34:43.324Z"
   },
   {
    "duration": 9,
    "start_time": "2021-12-04T10:34:59.019Z"
   },
   {
    "duration": 10,
    "start_time": "2021-12-04T10:36:26.765Z"
   },
   {
    "duration": 11,
    "start_time": "2021-12-04T10:36:43.393Z"
   },
   {
    "duration": 10,
    "start_time": "2021-12-04T10:36:55.988Z"
   },
   {
    "duration": 9,
    "start_time": "2021-12-04T10:37:20.733Z"
   },
   {
    "duration": 14,
    "start_time": "2021-12-04T10:39:31.782Z"
   },
   {
    "duration": 5,
    "start_time": "2021-12-04T10:40:52.604Z"
   },
   {
    "duration": 14,
    "start_time": "2021-12-04T10:43:36.765Z"
   },
   {
    "duration": 20,
    "start_time": "2021-12-04T10:43:54.265Z"
   },
   {
    "duration": 99,
    "start_time": "2021-12-04T10:44:48.400Z"
   },
   {
    "duration": 71,
    "start_time": "2021-12-04T10:45:01.830Z"
   },
   {
    "duration": 76,
    "start_time": "2021-12-04T10:46:00.167Z"
   },
   {
    "duration": 6,
    "start_time": "2021-12-04T10:47:36.531Z"
   },
   {
    "duration": 11,
    "start_time": "2021-12-04T10:47:49.931Z"
   },
   {
    "duration": 15,
    "start_time": "2021-12-04T10:49:00.394Z"
   },
   {
    "duration": 23,
    "start_time": "2021-12-04T11:02:20.122Z"
   },
   {
    "duration": 46,
    "start_time": "2021-12-04T11:03:04.410Z"
   },
   {
    "duration": 25,
    "start_time": "2021-12-04T11:03:55.789Z"
   },
   {
    "duration": 23,
    "start_time": "2021-12-04T11:08:06.875Z"
   },
   {
    "duration": 10,
    "start_time": "2021-12-04T11:08:52.482Z"
   },
   {
    "duration": 3,
    "start_time": "2021-12-04T11:09:26.887Z"
   },
   {
    "duration": 1027,
    "start_time": "2021-12-04T11:09:29.791Z"
   },
   {
    "duration": 5298,
    "start_time": "2021-12-04T11:21:47.413Z"
   },
   {
    "duration": 18,
    "start_time": "2021-12-04T11:23:01.690Z"
   },
   {
    "duration": 8,
    "start_time": "2021-12-04T11:41:47.106Z"
   },
   {
    "duration": 12,
    "start_time": "2021-12-04T11:41:59.847Z"
   },
   {
    "duration": 97,
    "start_time": "2021-12-04T11:43:40.037Z"
   },
   {
    "duration": 11,
    "start_time": "2021-12-04T11:44:02.868Z"
   },
   {
    "duration": 11,
    "start_time": "2021-12-04T11:45:03.287Z"
   },
   {
    "duration": 377,
    "start_time": "2021-12-04T11:45:30.009Z"
   },
   {
    "duration": 303,
    "start_time": "2021-12-04T11:46:49.694Z"
   },
   {
    "duration": 313,
    "start_time": "2021-12-04T11:46:57.995Z"
   },
   {
    "duration": 8,
    "start_time": "2021-12-04T11:47:09.845Z"
   },
   {
    "duration": 10,
    "start_time": "2021-12-04T11:47:24.713Z"
   },
   {
    "duration": 30,
    "start_time": "2021-12-04T11:48:14.194Z"
   },
   {
    "duration": 10,
    "start_time": "2021-12-04T11:48:30.034Z"
   },
   {
    "duration": 8,
    "start_time": "2021-12-04T11:50:47.684Z"
   },
   {
    "duration": 10,
    "start_time": "2021-12-04T11:52:37.625Z"
   },
   {
    "duration": 309,
    "start_time": "2021-12-04T11:57:43.766Z"
   },
   {
    "duration": 847,
    "start_time": "2021-12-04T11:58:08.029Z"
   },
   {
    "duration": 424,
    "start_time": "2021-12-04T11:58:31.048Z"
   },
   {
    "duration": 6,
    "start_time": "2021-12-04T12:01:31.843Z"
   },
   {
    "duration": 10,
    "start_time": "2021-12-04T12:08:43.483Z"
   },
   {
    "duration": 12,
    "start_time": "2021-12-04T12:08:59.303Z"
   },
   {
    "duration": 13,
    "start_time": "2021-12-04T12:09:48.122Z"
   },
   {
    "duration": 306,
    "start_time": "2021-12-04T16:00:11.097Z"
   },
   {
    "duration": 834,
    "start_time": "2021-12-04T16:00:21.158Z"
   },
   {
    "duration": 17,
    "start_time": "2021-12-04T16:00:21.994Z"
   },
   {
    "duration": 32,
    "start_time": "2021-12-04T16:00:22.014Z"
   },
   {
    "duration": 12,
    "start_time": "2021-12-04T16:00:22.067Z"
   },
   {
    "duration": 11,
    "start_time": "2021-12-04T16:00:22.083Z"
   },
   {
    "duration": 15,
    "start_time": "2021-12-04T16:00:22.096Z"
   },
   {
    "duration": 18,
    "start_time": "2021-12-04T16:00:22.114Z"
   },
   {
    "duration": 14,
    "start_time": "2021-12-04T16:00:22.167Z"
   },
   {
    "duration": 14,
    "start_time": "2021-12-04T16:00:22.184Z"
   },
   {
    "duration": 13,
    "start_time": "2021-12-04T16:00:22.202Z"
   },
   {
    "duration": 5,
    "start_time": "2021-12-04T16:00:22.218Z"
   },
   {
    "duration": 56,
    "start_time": "2021-12-04T16:00:22.226Z"
   },
   {
    "duration": 19,
    "start_time": "2021-12-04T16:00:22.286Z"
   },
   {
    "duration": 94,
    "start_time": "2021-12-04T16:00:22.307Z"
   },
   {
    "duration": 84,
    "start_time": "2021-12-04T16:00:22.403Z"
   },
   {
    "duration": 6,
    "start_time": "2021-12-04T16:00:22.489Z"
   },
   {
    "duration": 13,
    "start_time": "2021-12-04T16:00:22.497Z"
   },
   {
    "duration": 15,
    "start_time": "2021-12-04T16:00:22.512Z"
   },
   {
    "duration": 57,
    "start_time": "2021-12-04T16:00:22.529Z"
   },
   {
    "duration": 44,
    "start_time": "2021-12-04T16:00:22.588Z"
   },
   {
    "duration": 49,
    "start_time": "2021-12-04T16:00:22.635Z"
   },
   {
    "duration": 5,
    "start_time": "2021-12-04T16:00:22.686Z"
   },
   {
    "duration": 9,
    "start_time": "2021-12-04T16:00:22.694Z"
   },
   {
    "duration": 4,
    "start_time": "2021-12-04T16:00:22.705Z"
   },
   {
    "duration": 958,
    "start_time": "2021-12-04T16:00:22.711Z"
   },
   {
    "duration": 4958,
    "start_time": "2021-12-04T16:00:23.672Z"
   },
   {
    "duration": 34,
    "start_time": "2021-12-04T16:00:28.635Z"
   },
   {
    "duration": 28,
    "start_time": "2021-12-04T16:00:50.528Z"
   },
   {
    "duration": 380,
    "start_time": "2021-12-04T16:01:04.604Z"
   },
   {
    "duration": 265,
    "start_time": "2021-12-04T16:01:24.340Z"
   },
   {
    "duration": 25,
    "start_time": "2021-12-04T16:01:40.475Z"
   },
   {
    "duration": 928,
    "start_time": "2021-12-04T16:04:39.281Z"
   },
   {
    "duration": 22,
    "start_time": "2021-12-04T16:04:40.212Z"
   },
   {
    "duration": 44,
    "start_time": "2021-12-04T16:04:40.238Z"
   },
   {
    "duration": 14,
    "start_time": "2021-12-04T16:04:40.285Z"
   },
   {
    "duration": 10,
    "start_time": "2021-12-04T16:04:40.302Z"
   },
   {
    "duration": 14,
    "start_time": "2021-12-04T16:04:40.315Z"
   },
   {
    "duration": 13,
    "start_time": "2021-12-04T16:04:40.368Z"
   },
   {
    "duration": 15,
    "start_time": "2021-12-04T16:04:40.384Z"
   },
   {
    "duration": 9,
    "start_time": "2021-12-04T16:04:40.403Z"
   },
   {
    "duration": 53,
    "start_time": "2021-12-04T16:04:40.416Z"
   },
   {
    "duration": 6,
    "start_time": "2021-12-04T16:04:40.472Z"
   },
   {
    "duration": 16,
    "start_time": "2021-12-04T16:04:40.480Z"
   },
   {
    "duration": 20,
    "start_time": "2021-12-04T16:04:40.499Z"
   },
   {
    "duration": 112,
    "start_time": "2021-12-04T16:04:40.522Z"
   },
   {
    "duration": 116,
    "start_time": "2021-12-04T16:04:40.637Z"
   },
   {
    "duration": 7,
    "start_time": "2021-12-04T16:04:40.768Z"
   },
   {
    "duration": 12,
    "start_time": "2021-12-04T16:04:40.777Z"
   },
   {
    "duration": 16,
    "start_time": "2021-12-04T16:04:40.792Z"
   },
   {
    "duration": 73,
    "start_time": "2021-12-04T16:04:40.811Z"
   },
   {
    "duration": 3,
    "start_time": "2021-12-04T16:04:40.886Z"
   },
   {
    "duration": 51,
    "start_time": "2021-12-04T16:04:40.892Z"
   },
   {
    "duration": 21,
    "start_time": "2021-12-04T16:04:40.947Z"
   },
   {
    "duration": 10,
    "start_time": "2021-12-04T16:04:40.971Z"
   },
   {
    "duration": 4,
    "start_time": "2021-12-04T16:04:40.984Z"
   },
   {
    "duration": 1011,
    "start_time": "2021-12-04T16:04:40.991Z"
   },
   {
    "duration": 5443,
    "start_time": "2021-12-04T16:04:42.005Z"
   },
   {
    "duration": 32,
    "start_time": "2021-12-04T16:04:47.454Z"
   },
   {
    "duration": 397,
    "start_time": "2021-12-04T16:05:05.429Z"
   },
   {
    "duration": 25,
    "start_time": "2021-12-04T16:06:51.904Z"
   },
   {
    "duration": 26,
    "start_time": "2021-12-04T16:07:44.607Z"
   },
   {
    "duration": 26,
    "start_time": "2021-12-04T16:08:09.337Z"
   },
   {
    "duration": 1061,
    "start_time": "2021-12-04T16:08:31.725Z"
   },
   {
    "duration": 21,
    "start_time": "2021-12-04T16:08:32.789Z"
   },
   {
    "duration": 56,
    "start_time": "2021-12-04T16:08:32.814Z"
   },
   {
    "duration": 13,
    "start_time": "2021-12-04T16:08:32.873Z"
   },
   {
    "duration": 38,
    "start_time": "2021-12-04T16:08:32.889Z"
   },
   {
    "duration": 15,
    "start_time": "2021-12-04T16:08:32.930Z"
   },
   {
    "duration": 29,
    "start_time": "2021-12-04T16:08:32.948Z"
   },
   {
    "duration": 15,
    "start_time": "2021-12-04T16:08:32.980Z"
   },
   {
    "duration": 11,
    "start_time": "2021-12-04T16:08:33.001Z"
   },
   {
    "duration": 22,
    "start_time": "2021-12-04T16:08:33.016Z"
   },
   {
    "duration": 5,
    "start_time": "2021-12-04T16:08:33.067Z"
   },
   {
    "duration": 21,
    "start_time": "2021-12-04T16:08:33.075Z"
   },
   {
    "duration": 28,
    "start_time": "2021-12-04T16:08:33.099Z"
   },
   {
    "duration": 137,
    "start_time": "2021-12-04T16:08:33.130Z"
   },
   {
    "duration": 119,
    "start_time": "2021-12-04T16:08:33.270Z"
   },
   {
    "duration": 6,
    "start_time": "2021-12-04T16:08:33.392Z"
   },
   {
    "duration": 14,
    "start_time": "2021-12-04T16:08:33.401Z"
   },
   {
    "duration": 54,
    "start_time": "2021-12-04T16:08:33.418Z"
   },
   {
    "duration": 24,
    "start_time": "2021-12-04T16:08:33.475Z"
   },
   {
    "duration": 76,
    "start_time": "2021-12-04T16:08:33.502Z"
   },
   {
    "duration": 25,
    "start_time": "2021-12-04T16:08:33.580Z"
   },
   {
    "duration": 10,
    "start_time": "2021-12-04T16:08:33.607Z"
   },
   {
    "duration": 11,
    "start_time": "2021-12-04T16:08:33.620Z"
   },
   {
    "duration": 35,
    "start_time": "2021-12-04T16:08:33.633Z"
   },
   {
    "duration": 944,
    "start_time": "2021-12-04T16:08:33.671Z"
   },
   {
    "duration": 5113,
    "start_time": "2021-12-04T16:08:34.618Z"
   },
   {
    "duration": 35,
    "start_time": "2021-12-04T16:08:39.736Z"
   },
   {
    "duration": 27,
    "start_time": "2021-12-04T16:09:00.738Z"
   },
   {
    "duration": 1039,
    "start_time": "2021-12-04T16:09:19.597Z"
   },
   {
    "duration": 22,
    "start_time": "2021-12-04T16:09:20.639Z"
   },
   {
    "duration": 40,
    "start_time": "2021-12-04T16:09:20.670Z"
   },
   {
    "duration": 15,
    "start_time": "2021-12-04T16:09:20.714Z"
   },
   {
    "duration": 41,
    "start_time": "2021-12-04T16:09:20.731Z"
   },
   {
    "duration": 10,
    "start_time": "2021-12-04T16:09:20.775Z"
   },
   {
    "duration": 14,
    "start_time": "2021-12-04T16:09:20.788Z"
   },
   {
    "duration": 15,
    "start_time": "2021-12-04T16:09:20.804Z"
   },
   {
    "duration": 9,
    "start_time": "2021-12-04T16:09:20.823Z"
   },
   {
    "duration": 14,
    "start_time": "2021-12-04T16:09:20.868Z"
   },
   {
    "duration": 5,
    "start_time": "2021-12-04T16:09:20.884Z"
   },
   {
    "duration": 16,
    "start_time": "2021-12-04T16:09:20.891Z"
   },
   {
    "duration": 19,
    "start_time": "2021-12-04T16:09:20.909Z"
   },
   {
    "duration": 105,
    "start_time": "2021-12-04T16:09:20.931Z"
   },
   {
    "duration": 84,
    "start_time": "2021-12-04T16:09:21.039Z"
   },
   {
    "duration": 6,
    "start_time": "2021-12-04T16:09:21.126Z"
   },
   {
    "duration": 38,
    "start_time": "2021-12-04T16:09:21.134Z"
   },
   {
    "duration": 15,
    "start_time": "2021-12-04T16:09:21.175Z"
   },
   {
    "duration": 24,
    "start_time": "2021-12-04T16:09:21.192Z"
   },
   {
    "duration": 77,
    "start_time": "2021-12-04T16:09:21.219Z"
   },
   {
    "duration": 24,
    "start_time": "2021-12-04T16:09:21.298Z"
   },
   {
    "duration": 7,
    "start_time": "2021-12-04T16:09:21.324Z"
   },
   {
    "duration": 9,
    "start_time": "2021-12-04T16:09:21.334Z"
   },
   {
    "duration": 5,
    "start_time": "2021-12-04T16:09:21.368Z"
   },
   {
    "duration": 1368,
    "start_time": "2021-12-04T16:09:21.376Z"
   },
   {
    "duration": 5148,
    "start_time": "2021-12-04T16:09:22.747Z"
   },
   {
    "duration": 19,
    "start_time": "2021-12-04T16:09:27.899Z"
   },
   {
    "duration": 11,
    "start_time": "2021-12-04T16:32:24.631Z"
   },
   {
    "duration": 19,
    "start_time": "2021-12-04T16:36:35.296Z"
   },
   {
    "duration": 13,
    "start_time": "2021-12-04T16:36:53.685Z"
   },
   {
    "duration": 125,
    "start_time": "2021-12-04T16:38:17.093Z"
   },
   {
    "duration": 18,
    "start_time": "2021-12-04T16:38:28.228Z"
   },
   {
    "duration": 16,
    "start_time": "2021-12-04T16:47:10.381Z"
   },
   {
    "duration": 14,
    "start_time": "2021-12-04T16:56:50.713Z"
   },
   {
    "duration": 5,
    "start_time": "2021-12-04T16:56:55.023Z"
   },
   {
    "duration": 10,
    "start_time": "2021-12-04T16:56:59.303Z"
   },
   {
    "duration": 53,
    "start_time": "2021-12-04T17:44:05.615Z"
   },
   {
    "duration": 956,
    "start_time": "2021-12-04T17:47:28.589Z"
   },
   {
    "duration": 26,
    "start_time": "2021-12-04T17:47:29.548Z"
   },
   {
    "duration": 42,
    "start_time": "2021-12-04T17:47:29.578Z"
   },
   {
    "duration": 14,
    "start_time": "2021-12-04T17:47:29.624Z"
   },
   {
    "duration": 9,
    "start_time": "2021-12-04T17:47:29.668Z"
   },
   {
    "duration": 12,
    "start_time": "2021-12-04T17:47:29.679Z"
   },
   {
    "duration": 12,
    "start_time": "2021-12-04T17:47:29.694Z"
   },
   {
    "duration": 16,
    "start_time": "2021-12-04T17:47:29.710Z"
   },
   {
    "duration": 10,
    "start_time": "2021-12-04T17:47:29.767Z"
   },
   {
    "duration": 22,
    "start_time": "2021-12-04T17:47:29.780Z"
   },
   {
    "duration": 18,
    "start_time": "2021-12-04T17:47:29.805Z"
   },
   {
    "duration": 5,
    "start_time": "2021-12-04T17:47:29.826Z"
   },
   {
    "duration": 13,
    "start_time": "2021-12-04T17:47:29.870Z"
   },
   {
    "duration": 27,
    "start_time": "2021-12-04T17:47:29.886Z"
   },
   {
    "duration": 96,
    "start_time": "2021-12-04T17:47:29.916Z"
   },
   {
    "duration": 87,
    "start_time": "2021-12-04T17:47:30.015Z"
   },
   {
    "duration": 7,
    "start_time": "2021-12-04T17:47:30.105Z"
   },
   {
    "duration": 15,
    "start_time": "2021-12-04T17:47:30.115Z"
   },
   {
    "duration": 46,
    "start_time": "2021-12-04T17:47:30.133Z"
   },
   {
    "duration": 27,
    "start_time": "2021-12-04T17:47:30.182Z"
   },
   {
    "duration": 80,
    "start_time": "2021-12-04T17:47:30.211Z"
   },
   {
    "duration": 24,
    "start_time": "2021-12-04T17:47:30.293Z"
   },
   {
    "duration": 21,
    "start_time": "2021-12-04T17:47:30.321Z"
   },
   {
    "duration": 22,
    "start_time": "2021-12-04T17:47:30.345Z"
   },
   {
    "duration": 7,
    "start_time": "2021-12-04T17:47:30.370Z"
   },
   {
    "duration": 937,
    "start_time": "2021-12-04T17:47:30.380Z"
   },
   {
    "duration": 5272,
    "start_time": "2021-12-04T17:47:31.319Z"
   },
   {
    "duration": 324,
    "start_time": "2021-12-05T11:28:00.107Z"
   },
   {
    "duration": 383,
    "start_time": "2021-12-05T11:28:08.609Z"
   },
   {
    "duration": 766,
    "start_time": "2021-12-05T11:28:23.207Z"
   },
   {
    "duration": 15,
    "start_time": "2021-12-05T11:28:23.976Z"
   },
   {
    "duration": 28,
    "start_time": "2021-12-05T11:28:23.994Z"
   },
   {
    "duration": 10,
    "start_time": "2021-12-05T11:28:24.025Z"
   },
   {
    "duration": 37,
    "start_time": "2021-12-05T11:28:24.037Z"
   },
   {
    "duration": 9,
    "start_time": "2021-12-05T11:28:24.077Z"
   },
   {
    "duration": 10,
    "start_time": "2021-12-05T11:28:24.089Z"
   },
   {
    "duration": 10,
    "start_time": "2021-12-05T11:28:24.101Z"
   },
   {
    "duration": 8,
    "start_time": "2021-12-05T11:28:24.115Z"
   },
   {
    "duration": 13,
    "start_time": "2021-12-05T11:28:24.166Z"
   },
   {
    "duration": 12,
    "start_time": "2021-12-05T11:28:24.182Z"
   },
   {
    "duration": 8,
    "start_time": "2021-12-05T11:28:24.197Z"
   },
   {
    "duration": 7,
    "start_time": "2021-12-05T11:28:24.207Z"
   },
   {
    "duration": 50,
    "start_time": "2021-12-05T11:28:24.217Z"
   },
   {
    "duration": 21,
    "start_time": "2021-12-05T11:28:24.270Z"
   },
   {
    "duration": 95,
    "start_time": "2021-12-05T11:28:24.294Z"
   },
   {
    "duration": 84,
    "start_time": "2021-12-05T11:28:24.392Z"
   },
   {
    "duration": 5,
    "start_time": "2021-12-05T11:28:24.479Z"
   },
   {
    "duration": 12,
    "start_time": "2021-12-05T11:28:24.486Z"
   },
   {
    "duration": 16,
    "start_time": "2021-12-05T11:28:24.501Z"
   },
   {
    "duration": 60,
    "start_time": "2021-12-05T11:28:24.519Z"
   },
   {
    "duration": 46,
    "start_time": "2021-12-05T11:28:24.581Z"
   },
   {
    "duration": 46,
    "start_time": "2021-12-05T11:28:24.629Z"
   },
   {
    "duration": 18,
    "start_time": "2021-12-05T11:28:24.677Z"
   },
   {
    "duration": 13,
    "start_time": "2021-12-05T11:28:24.697Z"
   },
   {
    "duration": 15,
    "start_time": "2021-12-05T11:28:24.712Z"
   },
   {
    "duration": 913,
    "start_time": "2021-12-05T11:28:24.732Z"
   },
   {
    "duration": 5026,
    "start_time": "2021-12-05T11:28:25.648Z"
   },
   {
    "duration": 10,
    "start_time": "2021-12-05T11:36:48.129Z"
   },
   {
    "duration": 830,
    "start_time": "2021-12-05T11:37:01.011Z"
   },
   {
    "duration": 17,
    "start_time": "2021-12-05T11:37:01.844Z"
   },
   {
    "duration": 31,
    "start_time": "2021-12-05T11:37:01.871Z"
   },
   {
    "duration": 12,
    "start_time": "2021-12-05T11:37:01.904Z"
   },
   {
    "duration": 14,
    "start_time": "2021-12-05T11:37:01.918Z"
   },
   {
    "duration": 41,
    "start_time": "2021-12-05T11:37:01.934Z"
   },
   {
    "duration": 14,
    "start_time": "2021-12-05T11:37:01.979Z"
   },
   {
    "duration": 21,
    "start_time": "2021-12-05T11:37:01.996Z"
   },
   {
    "duration": 13,
    "start_time": "2021-12-05T11:37:02.020Z"
   },
   {
    "duration": 37,
    "start_time": "2021-12-05T11:37:02.036Z"
   },
   {
    "duration": 15,
    "start_time": "2021-12-05T11:37:02.076Z"
   },
   {
    "duration": 10,
    "start_time": "2021-12-05T11:37:02.094Z"
   },
   {
    "duration": 6,
    "start_time": "2021-12-05T11:37:02.106Z"
   },
   {
    "duration": 52,
    "start_time": "2021-12-05T11:37:02.115Z"
   },
   {
    "duration": 20,
    "start_time": "2021-12-05T11:37:02.169Z"
   },
   {
    "duration": 86,
    "start_time": "2021-12-05T11:37:02.191Z"
   },
   {
    "duration": 67,
    "start_time": "2021-12-05T11:37:02.279Z"
   },
   {
    "duration": 5,
    "start_time": "2021-12-05T11:37:02.368Z"
   },
   {
    "duration": 12,
    "start_time": "2021-12-05T11:37:02.376Z"
   },
   {
    "duration": 27,
    "start_time": "2021-12-05T11:37:02.391Z"
   },
   {
    "duration": 54,
    "start_time": "2021-12-05T11:37:02.422Z"
   },
   {
    "duration": 46,
    "start_time": "2021-12-05T11:37:02.482Z"
   },
   {
    "duration": 51,
    "start_time": "2021-12-05T11:37:02.531Z"
   },
   {
    "duration": 8,
    "start_time": "2021-12-05T11:37:02.585Z"
   },
   {
    "duration": 15,
    "start_time": "2021-12-05T11:37:02.596Z"
   },
   {
    "duration": 11,
    "start_time": "2021-12-05T11:37:02.614Z"
   },
   {
    "duration": 1018,
    "start_time": "2021-12-05T11:37:02.628Z"
   },
   {
    "duration": 5005,
    "start_time": "2021-12-05T11:37:03.649Z"
   },
   {
    "duration": 27,
    "start_time": "2021-12-05T12:30:05.721Z"
   },
   {
    "duration": 9,
    "start_time": "2021-12-05T12:31:12.870Z"
   },
   {
    "duration": 9,
    "start_time": "2021-12-05T12:32:35.370Z"
   },
   {
    "duration": 6,
    "start_time": "2021-12-05T12:42:11.916Z"
   },
   {
    "duration": 4,
    "start_time": "2021-12-05T12:43:07.418Z"
   },
   {
    "duration": 6,
    "start_time": "2021-12-05T12:43:17.924Z"
   },
   {
    "duration": 5,
    "start_time": "2021-12-05T12:47:42.024Z"
   },
   {
    "duration": 13,
    "start_time": "2021-12-05T13:19:53.122Z"
   },
   {
    "duration": 12,
    "start_time": "2021-12-05T13:20:44.079Z"
   },
   {
    "duration": 11,
    "start_time": "2021-12-05T13:22:00.311Z"
   },
   {
    "duration": 389,
    "start_time": "2021-12-05T13:40:21.617Z"
   },
   {
    "duration": 107,
    "start_time": "2021-12-05T13:41:23.888Z"
   },
   {
    "duration": 10,
    "start_time": "2021-12-05T13:41:38.688Z"
   },
   {
    "duration": 87,
    "start_time": "2021-12-05T13:47:31.207Z"
   },
   {
    "duration": 92,
    "start_time": "2021-12-05T13:47:45.107Z"
   },
   {
    "duration": 257,
    "start_time": "2021-12-05T13:48:05.200Z"
   },
   {
    "duration": 8,
    "start_time": "2021-12-05T13:58:26.894Z"
   },
   {
    "duration": 6,
    "start_time": "2021-12-05T14:00:41.543Z"
   },
   {
    "duration": 270,
    "start_time": "2021-12-05T14:01:20.946Z"
   },
   {
    "duration": 7,
    "start_time": "2021-12-05T14:01:29.871Z"
   },
   {
    "duration": 90,
    "start_time": "2021-12-05T14:09:56.851Z"
   },
   {
    "duration": 9,
    "start_time": "2021-12-05T14:10:11.605Z"
   },
   {
    "duration": 7,
    "start_time": "2021-12-05T14:11:01.523Z"
   },
   {
    "duration": 35,
    "start_time": "2021-12-05T14:33:20.265Z"
   },
   {
    "duration": 263,
    "start_time": "2021-12-05T14:50:35.396Z"
   },
   {
    "duration": 381,
    "start_time": "2021-12-05T14:51:17.758Z"
   },
   {
    "duration": 810,
    "start_time": "2021-12-05T14:51:27.586Z"
   },
   {
    "duration": 15,
    "start_time": "2021-12-05T14:51:28.399Z"
   },
   {
    "duration": 31,
    "start_time": "2021-12-05T14:51:28.417Z"
   },
   {
    "duration": 10,
    "start_time": "2021-12-05T14:51:28.467Z"
   },
   {
    "duration": 11,
    "start_time": "2021-12-05T14:51:28.479Z"
   },
   {
    "duration": 10,
    "start_time": "2021-12-05T14:51:28.492Z"
   },
   {
    "duration": 16,
    "start_time": "2021-12-05T14:51:28.504Z"
   },
   {
    "duration": 46,
    "start_time": "2021-12-05T14:51:28.523Z"
   },
   {
    "duration": 9,
    "start_time": "2021-12-05T14:51:28.573Z"
   },
   {
    "duration": 11,
    "start_time": "2021-12-05T14:51:28.585Z"
   },
   {
    "duration": 16,
    "start_time": "2021-12-05T14:51:28.599Z"
   },
   {
    "duration": 5,
    "start_time": "2021-12-05T14:51:28.618Z"
   },
   {
    "duration": 15,
    "start_time": "2021-12-05T14:51:28.666Z"
   },
   {
    "duration": 34,
    "start_time": "2021-12-05T14:51:28.684Z"
   },
   {
    "duration": 102,
    "start_time": "2021-12-05T14:51:28.721Z"
   },
   {
    "duration": 84,
    "start_time": "2021-12-05T14:51:28.827Z"
   },
   {
    "duration": 8,
    "start_time": "2021-12-05T14:51:28.914Z"
   },
   {
    "duration": 42,
    "start_time": "2021-12-05T14:51:28.925Z"
   },
   {
    "duration": 17,
    "start_time": "2021-12-05T14:51:28.969Z"
   },
   {
    "duration": 25,
    "start_time": "2021-12-05T14:51:28.989Z"
   },
   {
    "duration": 83,
    "start_time": "2021-12-05T14:51:29.017Z"
   },
   {
    "duration": 24,
    "start_time": "2021-12-05T14:51:29.103Z"
   },
   {
    "duration": 8,
    "start_time": "2021-12-05T14:51:29.130Z"
   },
   {
    "duration": 9,
    "start_time": "2021-12-05T14:51:29.168Z"
   },
   {
    "duration": 4,
    "start_time": "2021-12-05T14:51:29.180Z"
   },
   {
    "duration": 947,
    "start_time": "2021-12-05T14:51:29.186Z"
   },
   {
    "duration": 5080,
    "start_time": "2021-12-05T14:51:30.139Z"
   },
   {
    "duration": 26,
    "start_time": "2021-12-05T14:51:35.222Z"
   },
   {
    "duration": 18,
    "start_time": "2021-12-05T14:51:35.251Z"
   },
   {
    "duration": 14,
    "start_time": "2021-12-05T14:51:35.271Z"
   },
   {
    "duration": 13,
    "start_time": "2021-12-05T14:51:35.288Z"
   },
   {
    "duration": 8,
    "start_time": "2021-12-05T14:51:35.304Z"
   },
   {
    "duration": 20,
    "start_time": "2021-12-05T14:51:35.316Z"
   },
   {
    "duration": 365,
    "start_time": "2021-12-05T14:51:35.369Z"
   },
   {
    "duration": 12,
    "start_time": "2021-12-05T14:55:15.851Z"
   },
   {
    "duration": 11,
    "start_time": "2021-12-05T14:55:21.712Z"
   },
   {
    "duration": 12,
    "start_time": "2021-12-05T14:56:07.362Z"
   },
   {
    "duration": 15,
    "start_time": "2021-12-05T14:56:18.462Z"
   },
   {
    "duration": 8,
    "start_time": "2021-12-05T14:56:47.896Z"
   },
   {
    "duration": 6,
    "start_time": "2021-12-05T14:56:51.587Z"
   },
   {
    "duration": 822,
    "start_time": "2021-12-05T14:57:01.012Z"
   },
   {
    "duration": 16,
    "start_time": "2021-12-05T14:57:01.836Z"
   },
   {
    "duration": 35,
    "start_time": "2021-12-05T14:57:01.856Z"
   },
   {
    "duration": 11,
    "start_time": "2021-12-05T14:57:01.895Z"
   },
   {
    "duration": 12,
    "start_time": "2021-12-05T14:57:01.909Z"
   },
   {
    "duration": 46,
    "start_time": "2021-12-05T14:57:01.923Z"
   },
   {
    "duration": 21,
    "start_time": "2021-12-05T14:57:01.971Z"
   },
   {
    "duration": 14,
    "start_time": "2021-12-05T14:57:01.995Z"
   },
   {
    "duration": 16,
    "start_time": "2021-12-05T14:57:02.013Z"
   },
   {
    "duration": 13,
    "start_time": "2021-12-05T14:57:02.032Z"
   },
   {
    "duration": 14,
    "start_time": "2021-12-05T14:57:02.068Z"
   },
   {
    "duration": 4,
    "start_time": "2021-12-05T14:57:02.084Z"
   },
   {
    "duration": 18,
    "start_time": "2021-12-05T14:57:02.091Z"
   },
   {
    "duration": 58,
    "start_time": "2021-12-05T14:57:02.112Z"
   },
   {
    "duration": 70,
    "start_time": "2021-12-05T14:57:02.172Z"
   },
   {
    "duration": 88,
    "start_time": "2021-12-05T14:57:02.244Z"
   },
   {
    "duration": 7,
    "start_time": "2021-12-05T14:57:02.335Z"
   },
   {
    "duration": 11,
    "start_time": "2021-12-05T14:57:02.368Z"
   },
   {
    "duration": 20,
    "start_time": "2021-12-05T14:57:02.382Z"
   },
   {
    "duration": 23,
    "start_time": "2021-12-05T14:57:02.404Z"
   },
   {
    "duration": 78,
    "start_time": "2021-12-05T14:57:02.429Z"
   },
   {
    "duration": 25,
    "start_time": "2021-12-05T14:57:02.509Z"
   },
   {
    "duration": 33,
    "start_time": "2021-12-05T14:57:02.537Z"
   },
   {
    "duration": 10,
    "start_time": "2021-12-05T14:57:02.572Z"
   },
   {
    "duration": 7,
    "start_time": "2021-12-05T14:57:02.585Z"
   },
   {
    "duration": 1082,
    "start_time": "2021-12-05T14:57:02.594Z"
   },
   {
    "duration": 4927,
    "start_time": "2021-12-05T14:57:03.681Z"
   },
   {
    "duration": 26,
    "start_time": "2021-12-05T14:57:08.611Z"
   },
   {
    "duration": 29,
    "start_time": "2021-12-05T14:57:08.640Z"
   },
   {
    "duration": 14,
    "start_time": "2021-12-05T14:57:08.672Z"
   },
   {
    "duration": 13,
    "start_time": "2021-12-05T14:57:08.688Z"
   },
   {
    "duration": 7,
    "start_time": "2021-12-05T14:57:08.703Z"
   },
   {
    "duration": 6,
    "start_time": "2021-12-05T14:57:08.713Z"
   },
   {
    "duration": 639,
    "start_time": "2021-12-05T14:57:08.721Z"
   },
   {
    "duration": 92,
    "start_time": "2021-12-05T15:00:12.476Z"
   },
   {
    "duration": 8,
    "start_time": "2021-12-05T15:00:43.132Z"
   },
   {
    "duration": 824,
    "start_time": "2021-12-05T15:01:15.577Z"
   },
   {
    "duration": 19,
    "start_time": "2021-12-05T15:01:16.404Z"
   },
   {
    "duration": 44,
    "start_time": "2021-12-05T15:01:16.425Z"
   },
   {
    "duration": 11,
    "start_time": "2021-12-05T15:01:16.472Z"
   },
   {
    "duration": 11,
    "start_time": "2021-12-05T15:01:16.485Z"
   },
   {
    "duration": 15,
    "start_time": "2021-12-05T15:01:16.498Z"
   },
   {
    "duration": 15,
    "start_time": "2021-12-05T15:01:16.515Z"
   },
   {
    "duration": 11,
    "start_time": "2021-12-05T15:01:16.569Z"
   },
   {
    "duration": 12,
    "start_time": "2021-12-05T15:01:16.584Z"
   },
   {
    "duration": 15,
    "start_time": "2021-12-05T15:01:16.600Z"
   },
   {
    "duration": 50,
    "start_time": "2021-12-05T15:01:16.618Z"
   },
   {
    "duration": 5,
    "start_time": "2021-12-05T15:01:16.671Z"
   },
   {
    "duration": 25,
    "start_time": "2021-12-05T15:01:16.679Z"
   },
   {
    "duration": 60,
    "start_time": "2021-12-05T15:01:16.707Z"
   },
   {
    "duration": 72,
    "start_time": "2021-12-05T15:01:16.769Z"
   },
   {
    "duration": 97,
    "start_time": "2021-12-05T15:01:16.844Z"
   },
   {
    "duration": 27,
    "start_time": "2021-12-05T15:01:16.943Z"
   },
   {
    "duration": 14,
    "start_time": "2021-12-05T15:01:16.972Z"
   },
   {
    "duration": 17,
    "start_time": "2021-12-05T15:01:16.989Z"
   },
   {
    "duration": 62,
    "start_time": "2021-12-05T15:01:17.009Z"
   },
   {
    "duration": 45,
    "start_time": "2021-12-05T15:01:17.074Z"
   },
   {
    "duration": 45,
    "start_time": "2021-12-05T15:01:17.122Z"
   },
   {
    "duration": 5,
    "start_time": "2021-12-05T15:01:17.170Z"
   },
   {
    "duration": 21,
    "start_time": "2021-12-05T15:01:17.177Z"
   },
   {
    "duration": 10,
    "start_time": "2021-12-05T15:01:17.201Z"
   },
   {
    "duration": 954,
    "start_time": "2021-12-05T15:01:17.213Z"
   },
   {
    "duration": 4981,
    "start_time": "2021-12-05T15:01:18.172Z"
   },
   {
    "duration": 33,
    "start_time": "2021-12-05T15:01:23.156Z"
   },
   {
    "duration": 5,
    "start_time": "2021-12-05T15:01:23.191Z"
   },
   {
    "duration": 17,
    "start_time": "2021-12-05T15:01:23.199Z"
   },
   {
    "duration": 50,
    "start_time": "2021-12-05T15:01:23.219Z"
   },
   {
    "duration": 12,
    "start_time": "2021-12-05T15:01:23.272Z"
   },
   {
    "duration": 7,
    "start_time": "2021-12-05T15:01:23.286Z"
   },
   {
    "duration": 360,
    "start_time": "2021-12-05T15:01:23.295Z"
   },
   {
    "duration": 877,
    "start_time": "2021-12-05T15:03:46.344Z"
   },
   {
    "duration": 18,
    "start_time": "2021-12-05T15:03:47.224Z"
   },
   {
    "duration": 45,
    "start_time": "2021-12-05T15:03:47.246Z"
   },
   {
    "duration": 10,
    "start_time": "2021-12-05T15:03:47.293Z"
   },
   {
    "duration": 11,
    "start_time": "2021-12-05T15:03:47.306Z"
   },
   {
    "duration": 11,
    "start_time": "2021-12-05T15:03:47.320Z"
   },
   {
    "duration": 47,
    "start_time": "2021-12-05T15:03:47.333Z"
   },
   {
    "duration": 13,
    "start_time": "2021-12-05T15:03:47.382Z"
   },
   {
    "duration": 10,
    "start_time": "2021-12-05T15:03:47.399Z"
   },
   {
    "duration": 60,
    "start_time": "2021-12-05T15:03:47.413Z"
   },
   {
    "duration": 14,
    "start_time": "2021-12-05T15:03:47.476Z"
   },
   {
    "duration": 4,
    "start_time": "2021-12-05T15:03:47.493Z"
   },
   {
    "duration": 15,
    "start_time": "2021-12-05T15:03:47.500Z"
   },
   {
    "duration": 78,
    "start_time": "2021-12-05T15:03:47.518Z"
   },
   {
    "duration": 93,
    "start_time": "2021-12-05T15:03:47.599Z"
   },
   {
    "duration": 81,
    "start_time": "2021-12-05T15:03:47.695Z"
   },
   {
    "duration": 7,
    "start_time": "2021-12-05T15:03:47.779Z"
   },
   {
    "duration": 11,
    "start_time": "2021-12-05T15:03:47.789Z"
   },
   {
    "duration": 16,
    "start_time": "2021-12-05T15:03:47.802Z"
   },
   {
    "duration": 68,
    "start_time": "2021-12-05T15:03:47.820Z"
   },
   {
    "duration": 45,
    "start_time": "2021-12-05T15:03:47.890Z"
   },
   {
    "duration": 48,
    "start_time": "2021-12-05T15:03:47.937Z"
   },
   {
    "duration": 8,
    "start_time": "2021-12-05T15:03:47.987Z"
   },
   {
    "duration": 11,
    "start_time": "2021-12-05T15:03:47.997Z"
   },
   {
    "duration": 4,
    "start_time": "2021-12-05T15:03:48.012Z"
   },
   {
    "duration": 1140,
    "start_time": "2021-12-05T15:03:48.019Z"
   },
   {
    "duration": 5018,
    "start_time": "2021-12-05T15:03:49.171Z"
   },
   {
    "duration": 13,
    "start_time": "2021-12-05T15:03:54.192Z"
   },
   {
    "duration": 30,
    "start_time": "2021-12-05T15:03:54.208Z"
   },
   {
    "duration": 5,
    "start_time": "2021-12-05T15:03:54.241Z"
   },
   {
    "duration": 7,
    "start_time": "2021-12-05T15:03:54.268Z"
   },
   {
    "duration": 14,
    "start_time": "2021-12-05T15:03:54.278Z"
   },
   {
    "duration": 8,
    "start_time": "2021-12-05T15:03:54.295Z"
   },
   {
    "duration": 9,
    "start_time": "2021-12-05T15:03:54.305Z"
   },
   {
    "duration": 444,
    "start_time": "2021-12-05T15:03:54.316Z"
   },
   {
    "duration": 279,
    "start_time": "2021-12-05T15:04:54.957Z"
   },
   {
    "duration": 29,
    "start_time": "2021-12-05T15:05:37.173Z"
   },
   {
    "duration": 3702,
    "start_time": "2021-12-05T15:06:36.313Z"
   },
   {
    "duration": 87,
    "start_time": "2021-12-05T15:11:05.382Z"
   },
   {
    "duration": 17,
    "start_time": "2021-12-05T15:11:14.196Z"
   },
   {
    "duration": 8660,
    "start_time": "2021-12-05T15:11:47.243Z"
   },
   {
    "duration": 13,
    "start_time": "2021-12-05T15:12:00.645Z"
   },
   {
    "duration": 15,
    "start_time": "2021-12-05T15:14:16.241Z"
   },
   {
    "duration": 15,
    "start_time": "2021-12-05T15:14:29.157Z"
   },
   {
    "duration": 12,
    "start_time": "2021-12-05T15:16:11.189Z"
   },
   {
    "duration": 16,
    "start_time": "2021-12-05T15:18:49.686Z"
   },
   {
    "duration": 13,
    "start_time": "2021-12-05T15:19:55.580Z"
   },
   {
    "duration": 15,
    "start_time": "2021-12-05T15:20:12.842Z"
   },
   {
    "duration": 28,
    "start_time": "2021-12-05T15:59:17.957Z"
   },
   {
    "duration": 21,
    "start_time": "2021-12-05T16:00:19.972Z"
   },
   {
    "duration": 21,
    "start_time": "2021-12-05T16:00:54.631Z"
   },
   {
    "duration": 19,
    "start_time": "2021-12-05T16:01:19.415Z"
   },
   {
    "duration": 10,
    "start_time": "2021-12-05T16:06:28.707Z"
   },
   {
    "duration": 12,
    "start_time": "2021-12-05T16:06:47.654Z"
   },
   {
    "duration": 11,
    "start_time": "2021-12-05T16:08:13.997Z"
   },
   {
    "duration": 13,
    "start_time": "2021-12-05T16:09:08.723Z"
   },
   {
    "duration": 343,
    "start_time": "2021-12-05T16:09:53.916Z"
   },
   {
    "duration": 22,
    "start_time": "2021-12-05T16:33:36.841Z"
   },
   {
    "duration": 283,
    "start_time": "2021-12-05T16:36:21.505Z"
   },
   {
    "duration": 20,
    "start_time": "2021-12-05T17:05:48.787Z"
   },
   {
    "duration": 30,
    "start_time": "2021-12-05T17:06:48.556Z"
   },
   {
    "duration": 34,
    "start_time": "2021-12-05T17:07:03.104Z"
   },
   {
    "duration": 32,
    "start_time": "2021-12-05T17:09:38.572Z"
   },
   {
    "duration": 33,
    "start_time": "2021-12-05T17:10:11.104Z"
   },
   {
    "duration": 296,
    "start_time": "2021-12-05T17:16:25.872Z"
   },
   {
    "duration": 17,
    "start_time": "2021-12-05T17:16:47.471Z"
   },
   {
    "duration": 11,
    "start_time": "2021-12-05T17:31:30.692Z"
   },
   {
    "duration": 10,
    "start_time": "2021-12-05T17:38:55.783Z"
   },
   {
    "duration": 10,
    "start_time": "2021-12-05T17:41:22.385Z"
   },
   {
    "duration": 15,
    "start_time": "2021-12-05T17:41:44.395Z"
   },
   {
    "duration": 12,
    "start_time": "2021-12-05T17:41:50.088Z"
   },
   {
    "duration": 19,
    "start_time": "2021-12-05T17:43:36.395Z"
   },
   {
    "duration": 43,
    "start_time": "2021-12-05T17:45:48.162Z"
   },
   {
    "duration": 16,
    "start_time": "2021-12-05T17:46:25.511Z"
   },
   {
    "duration": 19,
    "start_time": "2021-12-05T17:47:50.871Z"
   },
   {
    "duration": 16,
    "start_time": "2021-12-05T17:48:41.677Z"
   },
   {
    "duration": 17,
    "start_time": "2021-12-05T17:49:26.043Z"
   },
   {
    "duration": 90,
    "start_time": "2021-12-05T17:49:27.363Z"
   },
   {
    "duration": 292,
    "start_time": "2021-12-05T17:50:17.808Z"
   },
   {
    "duration": 17,
    "start_time": "2021-12-05T17:50:29.626Z"
   },
   {
    "duration": 12,
    "start_time": "2021-12-05T17:51:56.280Z"
   },
   {
    "duration": 63,
    "start_time": "2021-12-05T17:52:03.540Z"
   },
   {
    "duration": 273,
    "start_time": "2021-12-05T17:52:53.616Z"
   },
   {
    "duration": 12,
    "start_time": "2021-12-05T17:53:22.941Z"
   },
   {
    "duration": 11,
    "start_time": "2021-12-05T17:53:29.286Z"
   },
   {
    "duration": 11,
    "start_time": "2021-12-05T17:53:32.248Z"
   },
   {
    "duration": 14,
    "start_time": "2021-12-05T17:56:03.653Z"
   },
   {
    "duration": 13,
    "start_time": "2021-12-05T17:56:06.999Z"
   },
   {
    "duration": 11,
    "start_time": "2021-12-05T17:56:41.607Z"
   },
   {
    "duration": 10,
    "start_time": "2021-12-05T17:56:52.567Z"
   },
   {
    "duration": 14,
    "start_time": "2021-12-05T17:57:55.547Z"
   },
   {
    "duration": 2017,
    "start_time": "2021-12-05T18:01:02.324Z"
   },
   {
    "duration": 112,
    "start_time": "2021-12-05T18:02:31.000Z"
   },
   {
    "duration": 183,
    "start_time": "2021-12-05T18:03:18.674Z"
   },
   {
    "duration": 280,
    "start_time": "2021-12-05T18:04:15.324Z"
   },
   {
    "duration": 1884,
    "start_time": "2021-12-05T18:05:27.597Z"
   },
   {
    "duration": 29,
    "start_time": "2021-12-05T18:13:01.475Z"
   },
   {
    "duration": 16,
    "start_time": "2021-12-05T18:13:16.317Z"
   },
   {
    "duration": 17,
    "start_time": "2021-12-05T18:13:55.473Z"
   },
   {
    "duration": 15,
    "start_time": "2021-12-05T18:14:33.540Z"
   },
   {
    "duration": 11,
    "start_time": "2021-12-05T18:16:29.369Z"
   },
   {
    "duration": 16,
    "start_time": "2021-12-05T18:17:04.394Z"
   },
   {
    "duration": 16,
    "start_time": "2021-12-05T18:17:09.214Z"
   },
   {
    "duration": 15,
    "start_time": "2021-12-05T18:17:53.764Z"
   },
   {
    "duration": 11,
    "start_time": "2021-12-05T18:17:58.952Z"
   },
   {
    "duration": 108,
    "start_time": "2021-12-05T18:23:12.616Z"
   },
   {
    "duration": 20,
    "start_time": "2021-12-05T18:23:21.847Z"
   },
   {
    "duration": 20,
    "start_time": "2021-12-05T18:24:14.899Z"
   },
   {
    "duration": 18,
    "start_time": "2021-12-05T18:24:58.358Z"
   },
   {
    "duration": 17,
    "start_time": "2021-12-05T18:26:28.471Z"
   },
   {
    "duration": 11,
    "start_time": "2021-12-05T18:28:36.039Z"
   },
   {
    "duration": 16,
    "start_time": "2021-12-05T18:32:26.250Z"
   },
   {
    "duration": 12,
    "start_time": "2021-12-05T18:32:29.302Z"
   },
   {
    "duration": 17,
    "start_time": "2021-12-05T18:33:03.852Z"
   },
   {
    "duration": 12,
    "start_time": "2021-12-05T18:33:04.727Z"
   },
   {
    "duration": 11,
    "start_time": "2021-12-05T18:33:16.915Z"
   },
   {
    "duration": 13,
    "start_time": "2021-12-05T18:42:09.753Z"
   },
   {
    "duration": 14,
    "start_time": "2021-12-05T18:42:11.380Z"
   },
   {
    "duration": 16,
    "start_time": "2021-12-05T18:42:57.495Z"
   },
   {
    "duration": 14,
    "start_time": "2021-12-05T18:42:58.645Z"
   },
   {
    "duration": 16,
    "start_time": "2021-12-05T19:03:47.093Z"
   },
   {
    "duration": 768,
    "start_time": "2021-12-05T19:04:15.515Z"
   },
   {
    "duration": 15,
    "start_time": "2021-12-05T19:04:16.286Z"
   },
   {
    "duration": 30,
    "start_time": "2021-12-05T19:04:16.308Z"
   },
   {
    "duration": 35,
    "start_time": "2021-12-05T19:04:16.341Z"
   },
   {
    "duration": 10,
    "start_time": "2021-12-05T19:04:16.379Z"
   },
   {
    "duration": 10,
    "start_time": "2021-12-05T19:04:16.391Z"
   },
   {
    "duration": 10,
    "start_time": "2021-12-05T19:04:16.404Z"
   },
   {
    "duration": 51,
    "start_time": "2021-12-05T19:04:16.418Z"
   },
   {
    "duration": 8,
    "start_time": "2021-12-05T19:04:16.472Z"
   },
   {
    "duration": 14,
    "start_time": "2021-12-05T19:04:16.482Z"
   },
   {
    "duration": 14,
    "start_time": "2021-12-05T19:04:16.499Z"
   },
   {
    "duration": 4,
    "start_time": "2021-12-05T19:04:16.515Z"
   },
   {
    "duration": 51,
    "start_time": "2021-12-05T19:04:16.521Z"
   },
   {
    "duration": 19,
    "start_time": "2021-12-05T19:04:16.575Z"
   },
   {
    "duration": 99,
    "start_time": "2021-12-05T19:04:16.597Z"
   },
   {
    "duration": 82,
    "start_time": "2021-12-05T19:04:16.698Z"
   },
   {
    "duration": 7,
    "start_time": "2021-12-05T19:04:16.783Z"
   },
   {
    "duration": 13,
    "start_time": "2021-12-05T19:04:16.793Z"
   },
   {
    "duration": 15,
    "start_time": "2021-12-05T19:04:16.808Z"
   },
   {
    "duration": 62,
    "start_time": "2021-12-05T19:04:16.825Z"
   },
   {
    "duration": 50,
    "start_time": "2021-12-05T19:04:16.889Z"
   },
   {
    "duration": 47,
    "start_time": "2021-12-05T19:04:16.941Z"
   },
   {
    "duration": 5,
    "start_time": "2021-12-05T19:04:16.991Z"
   },
   {
    "duration": 21,
    "start_time": "2021-12-05T19:04:16.998Z"
   },
   {
    "duration": 6,
    "start_time": "2021-12-05T19:04:17.021Z"
   },
   {
    "duration": 970,
    "start_time": "2021-12-05T19:04:17.032Z"
   },
   {
    "duration": 5443,
    "start_time": "2021-12-05T19:04:18.006Z"
   },
   {
    "duration": 26,
    "start_time": "2021-12-05T19:04:23.452Z"
   },
   {
    "duration": 31,
    "start_time": "2021-12-05T19:04:23.481Z"
   },
   {
    "duration": 5,
    "start_time": "2021-12-05T19:04:23.516Z"
   },
   {
    "duration": 47,
    "start_time": "2021-12-05T19:04:23.524Z"
   },
   {
    "duration": 9,
    "start_time": "2021-12-05T19:04:23.574Z"
   },
   {
    "duration": 9,
    "start_time": "2021-12-05T19:04:23.586Z"
   },
   {
    "duration": 11,
    "start_time": "2021-12-05T19:04:23.597Z"
   },
   {
    "duration": 62,
    "start_time": "2021-12-05T19:04:23.611Z"
   },
   {
    "duration": 17,
    "start_time": "2021-12-05T19:04:23.676Z"
   },
   {
    "duration": 23,
    "start_time": "2021-12-05T19:04:23.696Z"
   },
   {
    "duration": 50,
    "start_time": "2021-12-05T19:04:23.722Z"
   },
   {
    "duration": 17,
    "start_time": "2021-12-05T19:04:23.775Z"
   },
   {
    "duration": 22,
    "start_time": "2021-12-05T19:04:23.795Z"
   },
   {
    "duration": 15,
    "start_time": "2021-12-05T19:05:35.532Z"
   },
   {
    "duration": 13,
    "start_time": "2021-12-05T19:08:45.476Z"
   },
   {
    "duration": 373,
    "start_time": "2021-12-05T19:21:33.609Z"
   },
   {
    "duration": 255,
    "start_time": "2021-12-05T19:21:41.056Z"
   },
   {
    "duration": 279,
    "start_time": "2021-12-05T19:21:58.546Z"
   },
   {
    "duration": 135,
    "start_time": "2021-12-05T19:23:39.840Z"
   },
   {
    "duration": 289,
    "start_time": "2021-12-05T19:23:52.395Z"
   },
   {
    "duration": 269,
    "start_time": "2021-12-05T19:24:24.176Z"
   },
   {
    "duration": 312,
    "start_time": "2021-12-05T19:28:55.571Z"
   },
   {
    "duration": 288,
    "start_time": "2021-12-05T19:29:11.528Z"
   },
   {
    "duration": 263,
    "start_time": "2021-12-05T19:31:24.867Z"
   },
   {
    "duration": 278,
    "start_time": "2021-12-05T19:34:40.689Z"
   },
   {
    "duration": 4,
    "start_time": "2021-12-05T19:36:24.465Z"
   },
   {
    "duration": 10,
    "start_time": "2021-12-05T19:36:33.556Z"
   },
   {
    "duration": 4,
    "start_time": "2021-12-05T19:37:47.127Z"
   },
   {
    "duration": 9,
    "start_time": "2021-12-05T19:38:00.607Z"
   },
   {
    "duration": 276,
    "start_time": "2021-12-05T19:40:40.111Z"
   },
   {
    "duration": 11,
    "start_time": "2021-12-05T19:44:39.074Z"
   },
   {
    "duration": 797,
    "start_time": "2021-12-05T19:47:45.687Z"
   },
   {
    "duration": 12,
    "start_time": "2021-12-05T19:48:33.118Z"
   },
   {
    "duration": 14,
    "start_time": "2021-12-05T19:48:45.510Z"
   },
   {
    "duration": 16,
    "start_time": "2021-12-05T19:55:40.852Z"
   },
   {
    "duration": 15,
    "start_time": "2021-12-05T19:56:36.958Z"
   },
   {
    "duration": 15,
    "start_time": "2021-12-05T20:00:35.894Z"
   },
   {
    "duration": 11,
    "start_time": "2021-12-05T20:01:19.555Z"
   },
   {
    "duration": 9,
    "start_time": "2021-12-05T20:01:22.568Z"
   },
   {
    "duration": 14,
    "start_time": "2021-12-05T20:01:23.894Z"
   },
   {
    "duration": 15,
    "start_time": "2021-12-05T20:02:13.451Z"
   },
   {
    "duration": 11,
    "start_time": "2021-12-05T20:05:57.605Z"
   },
   {
    "duration": 9,
    "start_time": "2021-12-05T20:05:59.256Z"
   },
   {
    "duration": 16,
    "start_time": "2021-12-05T20:06:00.839Z"
   },
   {
    "duration": 15,
    "start_time": "2021-12-05T20:06:22.712Z"
   },
   {
    "duration": 277,
    "start_time": "2021-12-05T20:11:44.744Z"
   },
   {
    "duration": 8,
    "start_time": "2021-12-05T20:12:07.658Z"
   },
   {
    "duration": 8,
    "start_time": "2021-12-05T20:12:09.764Z"
   },
   {
    "duration": 278,
    "start_time": "2021-12-05T20:12:10.649Z"
   },
   {
    "duration": 262,
    "start_time": "2021-12-05T20:12:36.465Z"
   },
   {
    "duration": 314,
    "start_time": "2021-12-05T20:12:45.953Z"
   },
   {
    "duration": 281,
    "start_time": "2021-12-05T20:13:16.805Z"
   },
   {
    "duration": 367,
    "start_time": "2021-12-05T20:17:42.771Z"
   },
   {
    "duration": 5,
    "start_time": "2021-12-05T20:20:10.246Z"
   },
   {
    "duration": 11,
    "start_time": "2021-12-05T20:20:24.268Z"
   },
   {
    "duration": 96,
    "start_time": "2021-12-05T20:24:45.424Z"
   },
   {
    "duration": 11,
    "start_time": "2021-12-05T20:25:36.928Z"
   },
   {
    "duration": 11,
    "start_time": "2021-12-05T20:28:01.595Z"
   },
   {
    "duration": 11,
    "start_time": "2021-12-05T20:29:29.074Z"
   },
   {
    "duration": 7,
    "start_time": "2021-12-05T20:29:59.582Z"
   },
   {
    "duration": 6,
    "start_time": "2021-12-05T20:30:01.789Z"
   },
   {
    "duration": 12,
    "start_time": "2021-12-05T20:30:12.229Z"
   },
   {
    "duration": 11,
    "start_time": "2021-12-05T20:30:59.304Z"
   },
   {
    "duration": 293,
    "start_time": "2021-12-06T00:44:27.502Z"
   },
   {
    "duration": 624,
    "start_time": "2021-12-06T00:44:41.463Z"
   },
   {
    "duration": 11,
    "start_time": "2021-12-06T00:44:42.089Z"
   },
   {
    "duration": 19,
    "start_time": "2021-12-06T00:44:42.102Z"
   },
   {
    "duration": 6,
    "start_time": "2021-12-06T00:44:42.123Z"
   },
   {
    "duration": 17,
    "start_time": "2021-12-06T00:44:42.131Z"
   },
   {
    "duration": 11,
    "start_time": "2021-12-06T00:44:42.150Z"
   },
   {
    "duration": 8,
    "start_time": "2021-12-06T00:44:42.163Z"
   },
   {
    "duration": 7,
    "start_time": "2021-12-06T00:44:42.174Z"
   },
   {
    "duration": 8,
    "start_time": "2021-12-06T00:44:42.183Z"
   },
   {
    "duration": 12,
    "start_time": "2021-12-06T00:44:42.192Z"
   },
   {
    "duration": 40,
    "start_time": "2021-12-06T00:44:42.205Z"
   },
   {
    "duration": 3,
    "start_time": "2021-12-06T00:44:42.247Z"
   },
   {
    "duration": 9,
    "start_time": "2021-12-06T00:44:42.252Z"
   },
   {
    "duration": 14,
    "start_time": "2021-12-06T00:44:42.263Z"
   },
   {
    "duration": 67,
    "start_time": "2021-12-06T00:44:42.278Z"
   },
   {
    "duration": 46,
    "start_time": "2021-12-06T00:44:42.347Z"
   },
   {
    "duration": 4,
    "start_time": "2021-12-06T00:44:42.394Z"
   },
   {
    "duration": 9,
    "start_time": "2021-12-06T00:44:42.400Z"
   },
   {
    "duration": 39,
    "start_time": "2021-12-06T00:44:42.410Z"
   },
   {
    "duration": 15,
    "start_time": "2021-12-06T00:44:42.451Z"
   },
   {
    "duration": 29,
    "start_time": "2021-12-06T00:44:42.468Z"
   },
   {
    "duration": 16,
    "start_time": "2021-12-06T00:44:42.499Z"
   },
   {
    "duration": 4,
    "start_time": "2021-12-06T00:44:42.547Z"
   },
   {
    "duration": 6,
    "start_time": "2021-12-06T00:44:42.553Z"
   },
   {
    "duration": 3,
    "start_time": "2021-12-06T00:44:42.561Z"
   },
   {
    "duration": 671,
    "start_time": "2021-12-06T00:44:42.566Z"
   },
   {
    "duration": 3846,
    "start_time": "2021-12-06T00:44:43.240Z"
   },
   {
    "duration": 9,
    "start_time": "2021-12-06T00:44:47.088Z"
   },
   {
    "duration": 15,
    "start_time": "2021-12-06T00:44:47.098Z"
   },
   {
    "duration": 4,
    "start_time": "2021-12-06T00:44:47.115Z"
   },
   {
    "duration": 6,
    "start_time": "2021-12-06T00:44:47.145Z"
   },
   {
    "duration": 5,
    "start_time": "2021-12-06T00:44:47.152Z"
   },
   {
    "duration": 15,
    "start_time": "2021-12-06T00:44:47.159Z"
   },
   {
    "duration": 10,
    "start_time": "2021-12-06T00:44:47.176Z"
   },
   {
    "duration": 7,
    "start_time": "2021-12-06T00:44:47.188Z"
   },
   {
    "duration": 318,
    "start_time": "2021-12-06T00:44:47.197Z"
   },
   {
    "duration": 224,
    "start_time": "2021-12-06T00:44:47.292Z"
   },
   {
    "duration": 224,
    "start_time": "2021-12-06T00:44:47.293Z"
   },
   {
    "duration": 223,
    "start_time": "2021-12-06T00:44:47.295Z"
   },
   {
    "duration": 223,
    "start_time": "2021-12-06T00:44:47.296Z"
   },
   {
    "duration": 222,
    "start_time": "2021-12-06T00:44:47.298Z"
   },
   {
    "duration": 222,
    "start_time": "2021-12-06T00:44:47.299Z"
   },
   {
    "duration": 222,
    "start_time": "2021-12-06T00:44:47.300Z"
   },
   {
    "duration": 8,
    "start_time": "2021-12-06T00:45:07.451Z"
   },
   {
    "duration": 6,
    "start_time": "2021-12-06T00:45:08.920Z"
   },
   {
    "duration": 14,
    "start_time": "2021-12-06T00:45:09.474Z"
   },
   {
    "duration": 273,
    "start_time": "2021-12-06T00:45:13.518Z"
   },
   {
    "duration": 315,
    "start_time": "2021-12-06T00:45:58.800Z"
   },
   {
    "duration": 10,
    "start_time": "2021-12-06T01:12:38.184Z"
   },
   {
    "duration": 644,
    "start_time": "2021-12-06T01:12:52.745Z"
   },
   {
    "duration": 10,
    "start_time": "2021-12-06T01:12:53.391Z"
   },
   {
    "duration": 18,
    "start_time": "2021-12-06T01:12:53.403Z"
   },
   {
    "duration": 6,
    "start_time": "2021-12-06T01:12:53.423Z"
   },
   {
    "duration": 17,
    "start_time": "2021-12-06T01:12:53.431Z"
   },
   {
    "duration": 7,
    "start_time": "2021-12-06T01:12:53.450Z"
   },
   {
    "duration": 8,
    "start_time": "2021-12-06T01:12:53.459Z"
   },
   {
    "duration": 6,
    "start_time": "2021-12-06T01:12:53.469Z"
   },
   {
    "duration": 5,
    "start_time": "2021-12-06T01:12:53.478Z"
   },
   {
    "duration": 10,
    "start_time": "2021-12-06T01:12:53.485Z"
   },
   {
    "duration": 9,
    "start_time": "2021-12-06T01:12:53.496Z"
   },
   {
    "duration": 38,
    "start_time": "2021-12-06T01:12:53.506Z"
   },
   {
    "duration": 7,
    "start_time": "2021-12-06T01:12:53.546Z"
   },
   {
    "duration": 11,
    "start_time": "2021-12-06T01:12:53.555Z"
   },
   {
    "duration": 46,
    "start_time": "2021-12-06T01:12:53.567Z"
   },
   {
    "duration": 69,
    "start_time": "2021-12-06T01:12:53.614Z"
   },
   {
    "duration": 3,
    "start_time": "2021-12-06T01:12:53.685Z"
   },
   {
    "duration": 8,
    "start_time": "2021-12-06T01:12:53.690Z"
   },
   {
    "duration": 10,
    "start_time": "2021-12-06T01:12:53.699Z"
   },
   {
    "duration": 43,
    "start_time": "2021-12-06T01:12:53.711Z"
   },
   {
    "duration": 27,
    "start_time": "2021-12-06T01:12:53.756Z"
   },
   {
    "duration": 15,
    "start_time": "2021-12-06T01:12:53.785Z"
   },
   {
    "duration": 9,
    "start_time": "2021-12-06T01:12:53.802Z"
   },
   {
    "duration": 5,
    "start_time": "2021-12-06T01:12:53.813Z"
   },
   {
    "duration": 25,
    "start_time": "2021-12-06T01:12:53.819Z"
   },
   {
    "duration": 658,
    "start_time": "2021-12-06T01:12:53.846Z"
   },
   {
    "duration": 3268,
    "start_time": "2021-12-06T01:12:54.510Z"
   },
   {
    "duration": 7,
    "start_time": "2021-12-06T01:12:57.780Z"
   },
   {
    "duration": 17,
    "start_time": "2021-12-06T01:12:57.789Z"
   },
   {
    "duration": 4,
    "start_time": "2021-12-06T01:12:57.807Z"
   },
   {
    "duration": 6,
    "start_time": "2021-12-06T01:12:57.812Z"
   },
   {
    "duration": 24,
    "start_time": "2021-12-06T01:12:57.820Z"
   },
   {
    "duration": 10,
    "start_time": "2021-12-06T01:12:57.846Z"
   },
   {
    "duration": 9,
    "start_time": "2021-12-06T01:12:57.858Z"
   },
   {
    "duration": 6,
    "start_time": "2021-12-06T01:12:57.868Z"
   },
   {
    "duration": 24,
    "start_time": "2021-12-06T01:12:57.875Z"
   },
   {
    "duration": 34,
    "start_time": "2021-12-06T01:12:57.901Z"
   },
   {
    "duration": 20,
    "start_time": "2021-12-06T01:12:57.937Z"
   },
   {
    "duration": 26,
    "start_time": "2021-12-06T01:12:57.958Z"
   },
   {
    "duration": 30,
    "start_time": "2021-12-06T01:12:57.986Z"
   },
   {
    "duration": 21,
    "start_time": "2021-12-06T01:12:58.018Z"
   },
   {
    "duration": 35,
    "start_time": "2021-12-06T01:12:58.041Z"
   },
   {
    "duration": 323,
    "start_time": "2021-12-06T01:12:58.078Z"
   },
   {
    "duration": 8,
    "start_time": "2021-12-06T01:15:57.637Z"
   },
   {
    "duration": 10,
    "start_time": "2021-12-06T01:16:42.485Z"
   },
   {
    "duration": 40,
    "start_time": "2021-12-06T01:39:05.726Z"
   },
   {
    "duration": 43,
    "start_time": "2021-12-06T01:39:17.761Z"
   },
   {
    "duration": 101,
    "start_time": "2021-12-06T01:51:55.379Z"
   },
   {
    "duration": 450,
    "start_time": "2021-12-06T02:32:39.235Z"
   },
   {
    "duration": 9,
    "start_time": "2021-12-06T02:33:25.070Z"
   },
   {
    "duration": 279,
    "start_time": "2021-12-06T02:45:38.171Z"
   },
   {
    "duration": 272,
    "start_time": "2021-12-06T02:45:56.777Z"
   },
   {
    "duration": 6,
    "start_time": "2021-12-06T02:46:05.433Z"
   },
   {
    "duration": 7,
    "start_time": "2021-12-06T02:46:24.450Z"
   },
   {
    "duration": 6,
    "start_time": "2021-12-06T02:46:34.726Z"
   },
   {
    "duration": 267,
    "start_time": "2021-12-06T02:48:48.380Z"
   },
   {
    "duration": 349,
    "start_time": "2021-12-06T02:49:00.463Z"
   },
   {
    "duration": 6,
    "start_time": "2021-12-06T02:49:09.086Z"
   },
   {
    "duration": 8,
    "start_time": "2021-12-06T03:06:40.515Z"
   },
   {
    "duration": 11,
    "start_time": "2021-12-06T03:16:43.430Z"
   },
   {
    "duration": 10,
    "start_time": "2021-12-06T03:27:54.381Z"
   },
   {
    "duration": 13,
    "start_time": "2021-12-06T03:28:11.058Z"
   },
   {
    "duration": 7,
    "start_time": "2021-12-06T03:30:22.562Z"
   },
   {
    "duration": 224,
    "start_time": "2021-12-06T07:17:45.032Z"
   },
   {
    "duration": 695,
    "start_time": "2021-12-06T07:49:08.789Z"
   },
   {
    "duration": 11,
    "start_time": "2021-12-06T07:49:09.486Z"
   },
   {
    "duration": 20,
    "start_time": "2021-12-06T07:49:09.501Z"
   },
   {
    "duration": 8,
    "start_time": "2021-12-06T07:49:09.523Z"
   },
   {
    "duration": 25,
    "start_time": "2021-12-06T07:49:09.533Z"
   },
   {
    "duration": 19,
    "start_time": "2021-12-06T07:49:09.560Z"
   },
   {
    "duration": 17,
    "start_time": "2021-12-06T07:49:09.582Z"
   },
   {
    "duration": 32,
    "start_time": "2021-12-06T07:49:09.601Z"
   },
   {
    "duration": 16,
    "start_time": "2021-12-06T07:49:09.635Z"
   },
   {
    "duration": 31,
    "start_time": "2021-12-06T07:49:09.653Z"
   },
   {
    "duration": 19,
    "start_time": "2021-12-06T07:49:09.686Z"
   },
   {
    "duration": 4,
    "start_time": "2021-12-06T07:49:09.706Z"
   },
   {
    "duration": 25,
    "start_time": "2021-12-06T07:49:09.712Z"
   },
   {
    "duration": 15,
    "start_time": "2021-12-06T07:49:09.739Z"
   },
   {
    "duration": 64,
    "start_time": "2021-12-06T07:49:09.755Z"
   },
   {
    "duration": 47,
    "start_time": "2021-12-06T07:49:09.821Z"
   },
   {
    "duration": 4,
    "start_time": "2021-12-06T07:49:09.869Z"
   },
   {
    "duration": 26,
    "start_time": "2021-12-06T07:49:09.874Z"
   },
   {
    "duration": 15,
    "start_time": "2021-12-06T07:49:09.902Z"
   },
   {
    "duration": 27,
    "start_time": "2021-12-06T07:49:09.919Z"
   },
   {
    "duration": 46,
    "start_time": "2021-12-06T07:49:09.948Z"
   },
   {
    "duration": 17,
    "start_time": "2021-12-06T07:49:09.998Z"
   },
   {
    "duration": 11,
    "start_time": "2021-12-06T07:49:10.018Z"
   },
   {
    "duration": 19,
    "start_time": "2021-12-06T07:49:10.030Z"
   },
   {
    "duration": 12,
    "start_time": "2021-12-06T07:49:10.052Z"
   },
   {
    "duration": 643,
    "start_time": "2021-12-06T07:49:10.065Z"
   },
   {
    "duration": 3732,
    "start_time": "2021-12-06T07:49:10.711Z"
   },
   {
    "duration": 11,
    "start_time": "2021-12-06T07:49:14.445Z"
   },
   {
    "duration": 16,
    "start_time": "2021-12-06T07:49:14.457Z"
   },
   {
    "duration": 11,
    "start_time": "2021-12-06T07:49:14.475Z"
   },
   {
    "duration": 20,
    "start_time": "2021-12-06T07:49:14.488Z"
   },
   {
    "duration": 11,
    "start_time": "2021-12-06T07:49:14.510Z"
   },
   {
    "duration": 23,
    "start_time": "2021-12-06T07:49:14.523Z"
   },
   {
    "duration": 17,
    "start_time": "2021-12-06T07:49:14.548Z"
   },
   {
    "duration": 30,
    "start_time": "2021-12-06T07:49:14.567Z"
   },
   {
    "duration": 171,
    "start_time": "2021-12-06T07:49:14.599Z"
   },
   {
    "duration": 563,
    "start_time": "2021-12-06T07:49:14.209Z"
   },
   {
    "duration": 562,
    "start_time": "2021-12-06T07:49:14.211Z"
   },
   {
    "duration": 562,
    "start_time": "2021-12-06T07:49:14.212Z"
   },
   {
    "duration": 562,
    "start_time": "2021-12-06T07:49:14.213Z"
   },
   {
    "duration": 562,
    "start_time": "2021-12-06T07:49:14.214Z"
   },
   {
    "duration": 562,
    "start_time": "2021-12-06T07:49:14.215Z"
   },
   {
    "duration": 559,
    "start_time": "2021-12-06T07:49:14.219Z"
   },
   {
    "duration": 410,
    "start_time": "2021-12-06T07:49:53.387Z"
   },
   {
    "duration": 727,
    "start_time": "2021-12-06T07:50:27.285Z"
   },
   {
    "duration": 12,
    "start_time": "2021-12-06T07:50:28.013Z"
   },
   {
    "duration": 19,
    "start_time": "2021-12-06T07:50:28.031Z"
   },
   {
    "duration": 8,
    "start_time": "2021-12-06T07:50:28.052Z"
   },
   {
    "duration": 7,
    "start_time": "2021-12-06T07:50:28.062Z"
   },
   {
    "duration": 9,
    "start_time": "2021-12-06T07:50:28.107Z"
   },
   {
    "duration": 7,
    "start_time": "2021-12-06T07:50:28.118Z"
   },
   {
    "duration": 8,
    "start_time": "2021-12-06T07:50:28.127Z"
   },
   {
    "duration": 7,
    "start_time": "2021-12-06T07:50:28.136Z"
   },
   {
    "duration": 10,
    "start_time": "2021-12-06T07:50:28.144Z"
   },
   {
    "duration": 9,
    "start_time": "2021-12-06T07:50:28.155Z"
   },
   {
    "duration": 42,
    "start_time": "2021-12-06T07:50:28.165Z"
   },
   {
    "duration": 9,
    "start_time": "2021-12-06T07:50:28.208Z"
   },
   {
    "duration": 13,
    "start_time": "2021-12-06T07:50:28.218Z"
   },
   {
    "duration": 47,
    "start_time": "2021-12-06T07:50:28.232Z"
   },
   {
    "duration": 66,
    "start_time": "2021-12-06T07:50:28.281Z"
   },
   {
    "duration": 4,
    "start_time": "2021-12-06T07:50:28.348Z"
   },
   {
    "duration": 9,
    "start_time": "2021-12-06T07:50:28.354Z"
   },
   {
    "duration": 10,
    "start_time": "2021-12-06T07:50:28.364Z"
   },
   {
    "duration": 45,
    "start_time": "2021-12-06T07:50:28.376Z"
   },
   {
    "duration": 32,
    "start_time": "2021-12-06T07:50:28.423Z"
   },
   {
    "duration": 18,
    "start_time": "2021-12-06T07:50:28.460Z"
   },
   {
    "duration": 34,
    "start_time": "2021-12-06T07:50:28.479Z"
   },
   {
    "duration": 7,
    "start_time": "2021-12-06T07:50:28.515Z"
   },
   {
    "duration": 2,
    "start_time": "2021-12-06T07:50:28.524Z"
   },
   {
    "duration": 657,
    "start_time": "2021-12-06T07:50:28.528Z"
   },
   {
    "duration": 3772,
    "start_time": "2021-12-06T07:50:29.187Z"
   },
   {
    "duration": 10,
    "start_time": "2021-12-06T07:50:32.961Z"
   },
   {
    "duration": 12,
    "start_time": "2021-12-06T07:50:32.972Z"
   },
   {
    "duration": 22,
    "start_time": "2021-12-06T07:50:32.986Z"
   },
   {
    "duration": 6,
    "start_time": "2021-12-06T07:50:33.010Z"
   },
   {
    "duration": 3,
    "start_time": "2021-12-06T07:50:33.018Z"
   },
   {
    "duration": 13,
    "start_time": "2021-12-06T07:50:33.023Z"
   },
   {
    "duration": 11,
    "start_time": "2021-12-06T07:50:33.037Z"
   },
   {
    "duration": 7,
    "start_time": "2021-12-06T07:50:33.050Z"
   },
   {
    "duration": 9,
    "start_time": "2021-12-06T07:50:33.059Z"
   },
   {
    "duration": 15,
    "start_time": "2021-12-06T07:50:33.070Z"
   },
   {
    "duration": 9,
    "start_time": "2021-12-06T07:50:33.107Z"
   },
   {
    "duration": 8,
    "start_time": "2021-12-06T07:50:33.117Z"
   },
   {
    "duration": 8,
    "start_time": "2021-12-06T07:50:33.127Z"
   },
   {
    "duration": 5,
    "start_time": "2021-12-06T07:50:33.137Z"
   },
   {
    "duration": 10,
    "start_time": "2021-12-06T07:50:33.143Z"
   },
   {
    "duration": 8,
    "start_time": "2021-12-06T07:50:58.253Z"
   },
   {
    "duration": 601,
    "start_time": "2021-12-06T19:47:51.112Z"
   },
   {
    "duration": 12,
    "start_time": "2021-12-06T19:47:51.715Z"
   },
   {
    "duration": 19,
    "start_time": "2021-12-06T19:47:51.729Z"
   },
   {
    "duration": 7,
    "start_time": "2021-12-06T19:47:51.750Z"
   },
   {
    "duration": 6,
    "start_time": "2021-12-06T19:47:51.759Z"
   },
   {
    "duration": 25,
    "start_time": "2021-12-06T19:47:51.767Z"
   },
   {
    "duration": 10,
    "start_time": "2021-12-06T19:47:51.794Z"
   },
   {
    "duration": 8,
    "start_time": "2021-12-06T19:47:51.805Z"
   },
   {
    "duration": 6,
    "start_time": "2021-12-06T19:47:51.815Z"
   },
   {
    "duration": 8,
    "start_time": "2021-12-06T19:47:51.823Z"
   },
   {
    "duration": 9,
    "start_time": "2021-12-06T19:47:51.832Z"
   },
   {
    "duration": 2,
    "start_time": "2021-12-06T19:47:51.843Z"
   },
   {
    "duration": 49,
    "start_time": "2021-12-06T19:47:51.847Z"
   },
   {
    "duration": 12,
    "start_time": "2021-12-06T19:47:51.898Z"
   },
   {
    "duration": 52,
    "start_time": "2021-12-06T19:47:51.912Z"
   },
   {
    "duration": 59,
    "start_time": "2021-12-06T19:47:51.966Z"
   },
   {
    "duration": 4,
    "start_time": "2021-12-06T19:47:52.027Z"
   },
   {
    "duration": 13,
    "start_time": "2021-12-06T19:47:52.032Z"
   },
   {
    "duration": 10,
    "start_time": "2021-12-06T19:47:52.047Z"
   },
   {
    "duration": 35,
    "start_time": "2021-12-06T19:47:52.059Z"
   },
   {
    "duration": 26,
    "start_time": "2021-12-06T19:47:52.095Z"
   },
   {
    "duration": 15,
    "start_time": "2021-12-06T19:47:52.123Z"
   },
   {
    "duration": 5,
    "start_time": "2021-12-06T19:47:52.140Z"
   },
   {
    "duration": 7,
    "start_time": "2021-12-06T19:47:52.147Z"
   },
   {
    "duration": 2,
    "start_time": "2021-12-06T19:47:52.156Z"
   },
   {
    "duration": 681,
    "start_time": "2021-12-06T19:47:52.160Z"
   },
   {
    "duration": 3273,
    "start_time": "2021-12-06T19:47:52.844Z"
   },
   {
    "duration": 10,
    "start_time": "2021-12-06T19:47:56.120Z"
   },
   {
    "duration": 13,
    "start_time": "2021-12-06T19:47:56.132Z"
   },
   {
    "duration": 4,
    "start_time": "2021-12-06T19:47:56.146Z"
   },
   {
    "duration": 5,
    "start_time": "2021-12-06T19:47:56.152Z"
   },
   {
    "duration": 32,
    "start_time": "2021-12-06T19:47:56.159Z"
   },
   {
    "duration": 11,
    "start_time": "2021-12-06T19:47:56.193Z"
   },
   {
    "duration": 15,
    "start_time": "2021-12-06T19:47:56.206Z"
   },
   {
    "duration": 6,
    "start_time": "2021-12-06T19:47:56.222Z"
   },
   {
    "duration": 16,
    "start_time": "2021-12-06T19:47:56.229Z"
   },
   {
    "duration": 10,
    "start_time": "2021-12-06T19:47:56.247Z"
   },
   {
    "duration": 8,
    "start_time": "2021-12-06T19:47:56.259Z"
   },
   {
    "duration": 23,
    "start_time": "2021-12-06T19:47:56.269Z"
   },
   {
    "duration": 12,
    "start_time": "2021-12-06T19:47:56.294Z"
   },
   {
    "duration": 12,
    "start_time": "2021-12-06T19:47:56.307Z"
   },
   {
    "duration": 17,
    "start_time": "2021-12-06T19:47:56.320Z"
   },
   {
    "duration": 14,
    "start_time": "2021-12-06T20:02:08.739Z"
   },
   {
    "duration": 553,
    "start_time": "2021-12-07T11:13:38.425Z"
   },
   {
    "duration": 10,
    "start_time": "2021-12-07T11:13:38.979Z"
   },
   {
    "duration": 41,
    "start_time": "2021-12-07T11:13:38.991Z"
   },
   {
    "duration": 29,
    "start_time": "2021-12-07T11:13:39.033Z"
   },
   {
    "duration": 20,
    "start_time": "2021-12-07T11:13:39.063Z"
   },
   {
    "duration": 19,
    "start_time": "2021-12-07T11:13:39.085Z"
   },
   {
    "duration": 24,
    "start_time": "2021-12-07T11:13:39.105Z"
   },
   {
    "duration": 19,
    "start_time": "2021-12-07T11:13:39.130Z"
   },
   {
    "duration": 28,
    "start_time": "2021-12-07T11:13:39.151Z"
   },
   {
    "duration": 20,
    "start_time": "2021-12-07T11:13:39.180Z"
   },
   {
    "duration": 32,
    "start_time": "2021-12-07T11:13:39.201Z"
   },
   {
    "duration": 9,
    "start_time": "2021-12-07T11:13:39.235Z"
   },
   {
    "duration": 29,
    "start_time": "2021-12-07T11:13:39.245Z"
   },
   {
    "duration": 23,
    "start_time": "2021-12-07T11:13:39.275Z"
   },
   {
    "duration": 50,
    "start_time": "2021-12-07T11:13:39.299Z"
   },
   {
    "duration": 44,
    "start_time": "2021-12-07T11:13:39.351Z"
   },
   {
    "duration": 4,
    "start_time": "2021-12-07T11:13:39.396Z"
   },
   {
    "duration": 20,
    "start_time": "2021-12-07T11:13:39.401Z"
   },
   {
    "duration": 13,
    "start_time": "2021-12-07T11:13:39.423Z"
   },
   {
    "duration": 25,
    "start_time": "2021-12-07T11:13:39.437Z"
   },
   {
    "duration": 33,
    "start_time": "2021-12-07T11:13:39.463Z"
   },
   {
    "duration": 14,
    "start_time": "2021-12-07T11:13:39.497Z"
   },
   {
    "duration": 13,
    "start_time": "2021-12-07T11:13:39.513Z"
   },
   {
    "duration": 23,
    "start_time": "2021-12-07T11:13:39.527Z"
   },
   {
    "duration": 9,
    "start_time": "2021-12-07T11:13:39.551Z"
   },
   {
    "duration": 592,
    "start_time": "2021-12-07T11:13:39.561Z"
   },
   {
    "duration": 3181,
    "start_time": "2021-12-07T11:13:40.156Z"
   },
   {
    "duration": 9,
    "start_time": "2021-12-07T11:13:43.339Z"
   },
   {
    "duration": 20,
    "start_time": "2021-12-07T11:13:43.350Z"
   },
   {
    "duration": 9,
    "start_time": "2021-12-07T11:13:43.371Z"
   },
   {
    "duration": 14,
    "start_time": "2021-12-07T11:13:43.388Z"
   },
   {
    "duration": 20,
    "start_time": "2021-12-07T11:13:43.403Z"
   },
   {
    "duration": 28,
    "start_time": "2021-12-07T11:13:43.424Z"
   },
   {
    "duration": 25,
    "start_time": "2021-12-07T11:13:43.453Z"
   },
   {
    "duration": 19,
    "start_time": "2021-12-07T11:13:43.480Z"
   },
   {
    "duration": 20,
    "start_time": "2021-12-07T11:13:43.500Z"
   },
   {
    "duration": 22,
    "start_time": "2021-12-07T11:13:43.522Z"
   },
   {
    "duration": 22,
    "start_time": "2021-12-07T11:13:43.545Z"
   },
   {
    "duration": 22,
    "start_time": "2021-12-07T11:13:43.568Z"
   },
   {
    "duration": 31,
    "start_time": "2021-12-07T11:13:43.591Z"
   },
   {
    "duration": 17,
    "start_time": "2021-12-07T11:13:43.624Z"
   },
   {
    "duration": 21,
    "start_time": "2021-12-07T11:13:43.642Z"
   },
   {
    "duration": 20363,
    "start_time": "2021-12-07T11:24:14.062Z"
   },
   {
    "duration": 39,
    "start_time": "2021-12-07T11:24:48.526Z"
   },
   {
    "duration": 48,
    "start_time": "2021-12-07T12:01:56.821Z"
   },
   {
    "duration": 12,
    "start_time": "2021-12-07T12:01:56.870Z"
   },
   {
    "duration": 11,
    "start_time": "2021-12-07T12:01:56.884Z"
   },
   {
    "duration": 7,
    "start_time": "2021-12-07T12:01:56.898Z"
   },
   {
    "duration": 7,
    "start_time": "2021-12-07T12:01:56.906Z"
   },
   {
    "duration": 7,
    "start_time": "2021-12-07T12:01:56.915Z"
   },
   {
    "duration": 8,
    "start_time": "2021-12-07T12:01:56.924Z"
   },
   {
    "duration": 8,
    "start_time": "2021-12-07T12:01:56.933Z"
   },
   {
    "duration": 6,
    "start_time": "2021-12-07T12:01:56.943Z"
   },
   {
    "duration": 42,
    "start_time": "2021-12-07T12:01:56.951Z"
   },
   {
    "duration": 11,
    "start_time": "2021-12-07T12:01:56.994Z"
   },
   {
    "duration": 3,
    "start_time": "2021-12-07T12:01:57.007Z"
   },
   {
    "duration": 15,
    "start_time": "2021-12-07T12:01:57.012Z"
   },
   {
    "duration": 19,
    "start_time": "2021-12-07T12:01:57.028Z"
   },
   {
    "duration": 86,
    "start_time": "2021-12-07T12:01:57.049Z"
   },
   {
    "duration": 320,
    "start_time": "2021-12-07T12:02:17.562Z"
   },
   {
    "duration": 297,
    "start_time": "2021-12-07T12:02:32.898Z"
   },
   {
    "duration": 492,
    "start_time": "2021-12-07T12:03:02.186Z"
   },
   {
    "duration": 32,
    "start_time": "2021-12-07T12:06:14.807Z"
   },
   {
    "duration": 254,
    "start_time": "2021-12-07T12:06:56.794Z"
   },
   {
    "duration": 46,
    "start_time": "2021-12-07T12:07:14.129Z"
   },
   {
    "duration": 9,
    "start_time": "2021-12-07T12:07:14.177Z"
   },
   {
    "duration": 12,
    "start_time": "2021-12-07T12:07:14.188Z"
   },
   {
    "duration": 7,
    "start_time": "2021-12-07T12:07:14.201Z"
   },
   {
    "duration": 7,
    "start_time": "2021-12-07T12:07:14.209Z"
   },
   {
    "duration": 7,
    "start_time": "2021-12-07T12:07:14.217Z"
   },
   {
    "duration": 8,
    "start_time": "2021-12-07T12:07:14.225Z"
   },
   {
    "duration": 8,
    "start_time": "2021-12-07T12:07:14.234Z"
   },
   {
    "duration": 12,
    "start_time": "2021-12-07T12:07:14.245Z"
   },
   {
    "duration": 33,
    "start_time": "2021-12-07T12:07:14.258Z"
   },
   {
    "duration": 8,
    "start_time": "2021-12-07T12:07:14.292Z"
   },
   {
    "duration": 3,
    "start_time": "2021-12-07T12:07:14.302Z"
   },
   {
    "duration": 8,
    "start_time": "2021-12-07T12:07:14.306Z"
   },
   {
    "duration": 11,
    "start_time": "2021-12-07T12:07:14.316Z"
   },
   {
    "duration": 75,
    "start_time": "2021-12-07T12:07:14.328Z"
   },
   {
    "duration": 26,
    "start_time": "2021-12-07T12:07:18.619Z"
   },
   {
    "duration": 316,
    "start_time": "2021-12-07T12:14:55.385Z"
   },
   {
    "duration": 62,
    "start_time": "2021-12-07T12:15:06.840Z"
   },
   {
    "duration": 13,
    "start_time": "2021-12-07T12:15:06.904Z"
   },
   {
    "duration": 15,
    "start_time": "2021-12-07T12:15:06.920Z"
   },
   {
    "duration": 12,
    "start_time": "2021-12-07T12:15:06.937Z"
   },
   {
    "duration": 22,
    "start_time": "2021-12-07T12:15:06.950Z"
   },
   {
    "duration": 20,
    "start_time": "2021-12-07T12:15:06.973Z"
   },
   {
    "duration": 12,
    "start_time": "2021-12-07T12:15:06.994Z"
   },
   {
    "duration": 17,
    "start_time": "2021-12-07T12:15:07.008Z"
   },
   {
    "duration": 7,
    "start_time": "2021-12-07T12:15:07.027Z"
   },
   {
    "duration": 13,
    "start_time": "2021-12-07T12:15:07.036Z"
   },
   {
    "duration": 9,
    "start_time": "2021-12-07T12:15:07.051Z"
   },
   {
    "duration": 4,
    "start_time": "2021-12-07T12:15:07.061Z"
   },
   {
    "duration": 22,
    "start_time": "2021-12-07T12:15:07.066Z"
   },
   {
    "duration": 21,
    "start_time": "2021-12-07T12:15:07.089Z"
   },
   {
    "duration": 71,
    "start_time": "2021-12-07T12:15:07.111Z"
   },
   {
    "duration": 27,
    "start_time": "2021-12-07T12:15:07.184Z"
   },
   {
    "duration": 8,
    "start_time": "2021-12-07T12:15:15.573Z"
   },
   {
    "duration": 73,
    "start_time": "2021-12-07T12:15:56.094Z"
   },
   {
    "duration": 46,
    "start_time": "2021-12-07T12:16:02.055Z"
   },
   {
    "duration": 11,
    "start_time": "2021-12-07T12:16:02.103Z"
   },
   {
    "duration": 12,
    "start_time": "2021-12-07T12:16:02.117Z"
   },
   {
    "duration": 10,
    "start_time": "2021-12-07T12:16:02.131Z"
   },
   {
    "duration": 13,
    "start_time": "2021-12-07T12:16:02.143Z"
   },
   {
    "duration": 8,
    "start_time": "2021-12-07T12:16:02.158Z"
   },
   {
    "duration": 26,
    "start_time": "2021-12-07T12:16:02.168Z"
   },
   {
    "duration": 10,
    "start_time": "2021-12-07T12:16:02.196Z"
   },
   {
    "duration": 6,
    "start_time": "2021-12-07T12:16:02.209Z"
   },
   {
    "duration": 9,
    "start_time": "2021-12-07T12:16:02.217Z"
   },
   {
    "duration": 11,
    "start_time": "2021-12-07T12:16:02.228Z"
   },
   {
    "duration": 3,
    "start_time": "2021-12-07T12:16:02.240Z"
   },
   {
    "duration": 8,
    "start_time": "2021-12-07T12:16:02.244Z"
   },
   {
    "duration": 12,
    "start_time": "2021-12-07T12:16:02.287Z"
   },
   {
    "duration": 50,
    "start_time": "2021-12-07T12:16:02.300Z"
   },
   {
    "duration": 40,
    "start_time": "2021-12-07T12:16:02.351Z"
   },
   {
    "duration": 80,
    "start_time": "2021-12-07T12:16:02.392Z"
   },
   {
    "duration": 7,
    "start_time": "2021-12-07T12:16:18.100Z"
   },
   {
    "duration": 5,
    "start_time": "2021-12-07T12:51:10.702Z"
   },
   {
    "duration": 17,
    "start_time": "2021-12-07T12:53:02.143Z"
   },
   {
    "duration": 18,
    "start_time": "2021-12-07T12:56:15.304Z"
   },
   {
    "duration": 21,
    "start_time": "2021-12-07T12:56:43.302Z"
   },
   {
    "duration": 17,
    "start_time": "2021-12-07T12:57:24.006Z"
   },
   {
    "duration": 110,
    "start_time": "2021-12-07T13:33:37.917Z"
   },
   {
    "duration": 85,
    "start_time": "2021-12-07T13:33:47.554Z"
   },
   {
    "duration": 20,
    "start_time": "2021-12-07T13:34:04.048Z"
   },
   {
    "duration": 28,
    "start_time": "2021-12-07T13:36:04.752Z"
   },
   {
    "duration": 8,
    "start_time": "2021-12-07T13:37:13.189Z"
   },
   {
    "duration": 8,
    "start_time": "2021-12-07T13:37:43.071Z"
   },
   {
    "duration": 111,
    "start_time": "2021-12-07T13:44:16.997Z"
   },
   {
    "duration": 4,
    "start_time": "2021-12-07T13:44:26.028Z"
   },
   {
    "duration": 232,
    "start_time": "2021-12-07T13:44:32.940Z"
   },
   {
    "duration": 5,
    "start_time": "2021-12-07T13:44:41.438Z"
   },
   {
    "duration": 7,
    "start_time": "2021-12-07T13:45:27.746Z"
   },
   {
    "duration": 238,
    "start_time": "2021-12-07T13:46:17.163Z"
   },
   {
    "duration": 8,
    "start_time": "2021-12-07T13:47:32.061Z"
   },
   {
    "duration": 5,
    "start_time": "2021-12-07T13:48:22.069Z"
   },
   {
    "duration": 80,
    "start_time": "2021-12-07T13:49:05.310Z"
   },
   {
    "duration": 84,
    "start_time": "2021-12-07T13:49:36.724Z"
   },
   {
    "duration": 5,
    "start_time": "2021-12-07T13:49:53.696Z"
   },
   {
    "duration": 48,
    "start_time": "2021-12-07T13:50:06.508Z"
   },
   {
    "duration": 9,
    "start_time": "2021-12-07T13:50:06.558Z"
   },
   {
    "duration": 23,
    "start_time": "2021-12-07T13:50:06.569Z"
   },
   {
    "duration": 10,
    "start_time": "2021-12-07T13:50:06.594Z"
   },
   {
    "duration": 16,
    "start_time": "2021-12-07T13:50:06.605Z"
   },
   {
    "duration": 17,
    "start_time": "2021-12-07T13:50:06.623Z"
   },
   {
    "duration": 15,
    "start_time": "2021-12-07T13:50:06.641Z"
   },
   {
    "duration": 18,
    "start_time": "2021-12-07T13:50:06.657Z"
   },
   {
    "duration": 11,
    "start_time": "2021-12-07T13:50:06.677Z"
   },
   {
    "duration": 11,
    "start_time": "2021-12-07T13:50:06.689Z"
   },
   {
    "duration": 19,
    "start_time": "2021-12-07T13:50:06.702Z"
   },
   {
    "duration": 20,
    "start_time": "2021-12-07T13:50:06.722Z"
   },
   {
    "duration": 16,
    "start_time": "2021-12-07T13:50:06.744Z"
   },
   {
    "duration": 38,
    "start_time": "2021-12-07T13:50:06.762Z"
   },
   {
    "duration": 42,
    "start_time": "2021-12-07T13:50:06.802Z"
   },
   {
    "duration": 28,
    "start_time": "2021-12-07T13:50:06.846Z"
   },
   {
    "duration": 17,
    "start_time": "2021-12-07T13:50:06.875Z"
   },
   {
    "duration": 7,
    "start_time": "2021-12-07T13:50:10.290Z"
   },
   {
    "duration": 50,
    "start_time": "2021-12-07T13:50:24.576Z"
   },
   {
    "duration": 10,
    "start_time": "2021-12-07T13:50:24.628Z"
   },
   {
    "duration": 11,
    "start_time": "2021-12-07T13:50:24.640Z"
   },
   {
    "duration": 7,
    "start_time": "2021-12-07T13:50:24.653Z"
   },
   {
    "duration": 26,
    "start_time": "2021-12-07T13:50:24.662Z"
   },
   {
    "duration": 6,
    "start_time": "2021-12-07T13:50:24.690Z"
   },
   {
    "duration": 27,
    "start_time": "2021-12-07T13:50:24.698Z"
   },
   {
    "duration": 8,
    "start_time": "2021-12-07T13:50:24.726Z"
   },
   {
    "duration": 6,
    "start_time": "2021-12-07T13:50:24.736Z"
   },
   {
    "duration": 8,
    "start_time": "2021-12-07T13:50:24.743Z"
   },
   {
    "duration": 8,
    "start_time": "2021-12-07T13:50:24.753Z"
   },
   {
    "duration": 3,
    "start_time": "2021-12-07T13:50:24.762Z"
   },
   {
    "duration": 24,
    "start_time": "2021-12-07T13:50:24.766Z"
   },
   {
    "duration": 11,
    "start_time": "2021-12-07T13:50:24.791Z"
   },
   {
    "duration": 41,
    "start_time": "2021-12-07T13:50:24.804Z"
   },
   {
    "duration": 43,
    "start_time": "2021-12-07T13:50:24.846Z"
   },
   {
    "duration": 7,
    "start_time": "2021-12-07T13:50:24.890Z"
   },
   {
    "duration": 265,
    "start_time": "2021-12-07T14:07:26.281Z"
   },
   {
    "duration": 21,
    "start_time": "2021-12-07T14:08:26.035Z"
   },
   {
    "duration": 9,
    "start_time": "2021-12-07T14:08:56.665Z"
   },
   {
    "duration": 1875,
    "start_time": "2021-12-07T14:09:08.969Z"
   },
   {
    "duration": 1655,
    "start_time": "2021-12-07T14:09:24.500Z"
   },
   {
    "duration": 1742,
    "start_time": "2021-12-07T14:09:39.051Z"
   },
   {
    "duration": 48,
    "start_time": "2021-12-07T14:09:56.083Z"
   },
   {
    "duration": 10,
    "start_time": "2021-12-07T14:09:56.132Z"
   },
   {
    "duration": 11,
    "start_time": "2021-12-07T14:09:56.144Z"
   },
   {
    "duration": 7,
    "start_time": "2021-12-07T14:09:56.156Z"
   },
   {
    "duration": 8,
    "start_time": "2021-12-07T14:09:56.165Z"
   },
   {
    "duration": 15,
    "start_time": "2021-12-07T14:09:56.174Z"
   },
   {
    "duration": 8,
    "start_time": "2021-12-07T14:09:56.191Z"
   },
   {
    "duration": 6,
    "start_time": "2021-12-07T14:09:56.201Z"
   },
   {
    "duration": 5,
    "start_time": "2021-12-07T14:09:56.210Z"
   },
   {
    "duration": 9,
    "start_time": "2021-12-07T14:09:56.216Z"
   },
   {
    "duration": 8,
    "start_time": "2021-12-07T14:09:56.226Z"
   },
   {
    "duration": 2,
    "start_time": "2021-12-07T14:09:56.236Z"
   },
   {
    "duration": 6,
    "start_time": "2021-12-07T14:09:56.240Z"
   },
   {
    "duration": 49,
    "start_time": "2021-12-07T14:09:56.247Z"
   },
   {
    "duration": 41,
    "start_time": "2021-12-07T14:09:56.297Z"
   },
   {
    "duration": 32,
    "start_time": "2021-12-07T14:09:56.339Z"
   },
   {
    "duration": 6,
    "start_time": "2021-12-07T14:09:56.387Z"
   },
   {
    "duration": 6,
    "start_time": "2021-12-07T14:09:56.395Z"
   },
   {
    "duration": 22,
    "start_time": "2021-12-07T14:10:01.701Z"
   },
   {
    "duration": 6,
    "start_time": "2021-12-07T14:10:14.254Z"
   },
   {
    "duration": 20,
    "start_time": "2021-12-07T14:12:22.389Z"
   },
   {
    "duration": 7,
    "start_time": "2021-12-07T14:12:30.987Z"
   },
   {
    "duration": 45,
    "start_time": "2021-12-07T14:13:11.610Z"
   },
   {
    "duration": 9,
    "start_time": "2021-12-07T14:13:11.657Z"
   },
   {
    "duration": 12,
    "start_time": "2021-12-07T14:13:11.668Z"
   },
   {
    "duration": 8,
    "start_time": "2021-12-07T14:13:11.682Z"
   },
   {
    "duration": 7,
    "start_time": "2021-12-07T14:13:11.691Z"
   },
   {
    "duration": 7,
    "start_time": "2021-12-07T14:13:11.699Z"
   },
   {
    "duration": 12,
    "start_time": "2021-12-07T14:13:11.708Z"
   },
   {
    "duration": 8,
    "start_time": "2021-12-07T14:13:11.721Z"
   },
   {
    "duration": 5,
    "start_time": "2021-12-07T14:13:11.731Z"
   },
   {
    "duration": 7,
    "start_time": "2021-12-07T14:13:11.738Z"
   },
   {
    "duration": 7,
    "start_time": "2021-12-07T14:13:11.747Z"
   },
   {
    "duration": 6,
    "start_time": "2021-12-07T14:13:11.755Z"
   },
   {
    "duration": 26,
    "start_time": "2021-12-07T14:13:11.762Z"
   },
   {
    "duration": 10,
    "start_time": "2021-12-07T14:13:11.789Z"
   },
   {
    "duration": 41,
    "start_time": "2021-12-07T14:13:11.801Z"
   },
   {
    "duration": 47,
    "start_time": "2021-12-07T14:13:11.844Z"
   },
   {
    "duration": 6,
    "start_time": "2021-12-07T14:13:11.892Z"
   },
   {
    "duration": 3,
    "start_time": "2021-12-07T14:13:11.900Z"
   },
   {
    "duration": 22,
    "start_time": "2021-12-07T14:13:11.904Z"
   },
   {
    "duration": 8,
    "start_time": "2021-12-07T14:13:49.598Z"
   },
   {
    "duration": 21,
    "start_time": "2021-12-07T14:15:01.671Z"
   },
   {
    "duration": 10,
    "start_time": "2021-12-07T14:15:10.131Z"
   },
   {
    "duration": 52,
    "start_time": "2021-12-07T14:15:18.108Z"
   },
   {
    "duration": 8,
    "start_time": "2021-12-07T14:15:18.162Z"
   },
   {
    "duration": 12,
    "start_time": "2021-12-07T14:15:18.173Z"
   },
   {
    "duration": 8,
    "start_time": "2021-12-07T14:15:18.187Z"
   },
   {
    "duration": 6,
    "start_time": "2021-12-07T14:15:18.197Z"
   },
   {
    "duration": 6,
    "start_time": "2021-12-07T14:15:18.204Z"
   },
   {
    "duration": 10,
    "start_time": "2021-12-07T14:15:18.212Z"
   },
   {
    "duration": 8,
    "start_time": "2021-12-07T14:15:18.223Z"
   },
   {
    "duration": 8,
    "start_time": "2021-12-07T14:15:18.233Z"
   },
   {
    "duration": 8,
    "start_time": "2021-12-07T14:15:18.243Z"
   },
   {
    "duration": 11,
    "start_time": "2021-12-07T14:15:18.253Z"
   },
   {
    "duration": 15,
    "start_time": "2021-12-07T14:15:18.266Z"
   },
   {
    "duration": 11,
    "start_time": "2021-12-07T14:15:18.288Z"
   },
   {
    "duration": 14,
    "start_time": "2021-12-07T14:15:18.300Z"
   },
   {
    "duration": 60,
    "start_time": "2021-12-07T14:15:18.315Z"
   },
   {
    "duration": 28,
    "start_time": "2021-12-07T14:15:18.376Z"
   },
   {
    "duration": 6,
    "start_time": "2021-12-07T14:15:18.405Z"
   },
   {
    "duration": 4,
    "start_time": "2021-12-07T14:15:18.412Z"
   },
   {
    "duration": 8,
    "start_time": "2021-12-07T14:15:26.584Z"
   },
   {
    "duration": 278,
    "start_time": "2021-12-07T14:16:26.057Z"
   },
   {
    "duration": 21,
    "start_time": "2021-12-07T14:18:20.755Z"
   },
   {
    "duration": 51,
    "start_time": "2021-12-07T14:18:49.686Z"
   },
   {
    "duration": 10,
    "start_time": "2021-12-07T14:18:49.739Z"
   },
   {
    "duration": 11,
    "start_time": "2021-12-07T14:18:49.751Z"
   },
   {
    "duration": 10,
    "start_time": "2021-12-07T14:18:49.763Z"
   },
   {
    "duration": 17,
    "start_time": "2021-12-07T14:18:49.774Z"
   },
   {
    "duration": 14,
    "start_time": "2021-12-07T14:18:49.792Z"
   },
   {
    "duration": 9,
    "start_time": "2021-12-07T14:18:49.807Z"
   },
   {
    "duration": 12,
    "start_time": "2021-12-07T14:18:49.817Z"
   },
   {
    "duration": 7,
    "start_time": "2021-12-07T14:18:49.831Z"
   },
   {
    "duration": 14,
    "start_time": "2021-12-07T14:18:49.840Z"
   },
   {
    "duration": 33,
    "start_time": "2021-12-07T14:18:49.855Z"
   },
   {
    "duration": 2,
    "start_time": "2021-12-07T14:18:49.890Z"
   },
   {
    "duration": 9,
    "start_time": "2021-12-07T14:18:49.894Z"
   },
   {
    "duration": 12,
    "start_time": "2021-12-07T14:18:49.904Z"
   },
   {
    "duration": 42,
    "start_time": "2021-12-07T14:18:49.918Z"
   },
   {
    "duration": 48,
    "start_time": "2021-12-07T14:18:49.962Z"
   },
   {
    "duration": 7,
    "start_time": "2021-12-07T14:18:50.012Z"
   },
   {
    "duration": 5,
    "start_time": "2021-12-07T14:18:50.020Z"
   },
   {
    "duration": 23,
    "start_time": "2021-12-07T14:18:58.364Z"
   },
   {
    "duration": 7,
    "start_time": "2021-12-07T14:19:01.528Z"
   },
   {
    "duration": 35,
    "start_time": "2021-12-07T14:23:30.832Z"
   },
   {
    "duration": 1723,
    "start_time": "2021-12-07T14:24:05.688Z"
   },
   {
    "duration": 63,
    "start_time": "2021-12-07T14:24:18.634Z"
   },
   {
    "duration": 15,
    "start_time": "2021-12-07T14:24:18.699Z"
   },
   {
    "duration": 26,
    "start_time": "2021-12-07T14:24:18.716Z"
   },
   {
    "duration": 28,
    "start_time": "2021-12-07T14:24:18.744Z"
   },
   {
    "duration": 6,
    "start_time": "2021-12-07T14:24:18.774Z"
   },
   {
    "duration": 9,
    "start_time": "2021-12-07T14:24:18.782Z"
   },
   {
    "duration": 6,
    "start_time": "2021-12-07T14:24:18.793Z"
   },
   {
    "duration": 7,
    "start_time": "2021-12-07T14:24:18.801Z"
   },
   {
    "duration": 5,
    "start_time": "2021-12-07T14:24:18.810Z"
   },
   {
    "duration": 9,
    "start_time": "2021-12-07T14:24:18.817Z"
   },
   {
    "duration": 7,
    "start_time": "2021-12-07T14:24:18.827Z"
   },
   {
    "duration": 2,
    "start_time": "2021-12-07T14:24:18.836Z"
   },
   {
    "duration": 9,
    "start_time": "2021-12-07T14:24:18.840Z"
   },
   {
    "duration": 41,
    "start_time": "2021-12-07T14:24:18.851Z"
   },
   {
    "duration": 43,
    "start_time": "2021-12-07T14:24:18.893Z"
   },
   {
    "duration": 49,
    "start_time": "2021-12-07T14:24:18.938Z"
   },
   {
    "duration": 7,
    "start_time": "2021-12-07T14:24:18.988Z"
   },
   {
    "duration": 4,
    "start_time": "2021-12-07T14:24:18.996Z"
   },
   {
    "duration": 22,
    "start_time": "2021-12-07T14:24:24.625Z"
   },
   {
    "duration": 7,
    "start_time": "2021-12-07T14:24:54.383Z"
   },
   {
    "duration": 1055,
    "start_time": "2021-12-07T14:33:01.558Z"
   },
   {
    "duration": 44,
    "start_time": "2021-12-07T14:33:08.618Z"
   },
   {
    "duration": 9,
    "start_time": "2021-12-07T14:33:08.664Z"
   },
   {
    "duration": 13,
    "start_time": "2021-12-07T14:33:08.675Z"
   },
   {
    "duration": 7,
    "start_time": "2021-12-07T14:33:08.690Z"
   },
   {
    "duration": 8,
    "start_time": "2021-12-07T14:33:08.698Z"
   },
   {
    "duration": 7,
    "start_time": "2021-12-07T14:33:08.707Z"
   },
   {
    "duration": 8,
    "start_time": "2021-12-07T14:33:08.716Z"
   },
   {
    "duration": 7,
    "start_time": "2021-12-07T14:33:08.726Z"
   },
   {
    "duration": 6,
    "start_time": "2021-12-07T14:33:08.736Z"
   },
   {
    "duration": 8,
    "start_time": "2021-12-07T14:33:08.744Z"
   },
   {
    "duration": 40,
    "start_time": "2021-12-07T14:33:08.753Z"
   },
   {
    "duration": 2,
    "start_time": "2021-12-07T14:33:08.795Z"
   },
   {
    "duration": 17,
    "start_time": "2021-12-07T14:33:08.799Z"
   },
   {
    "duration": 11,
    "start_time": "2021-12-07T14:33:08.818Z"
   },
   {
    "duration": 40,
    "start_time": "2021-12-07T14:33:08.830Z"
   },
   {
    "duration": 41,
    "start_time": "2021-12-07T14:33:08.871Z"
   },
   {
    "duration": 6,
    "start_time": "2021-12-07T14:33:08.914Z"
   },
   {
    "duration": 2,
    "start_time": "2021-12-07T14:33:08.921Z"
   },
   {
    "duration": 975,
    "start_time": "2021-12-07T14:33:11.907Z"
   },
   {
    "duration": 27,
    "start_time": "2021-12-07T14:33:27.050Z"
   },
   {
    "duration": 6,
    "start_time": "2021-12-07T14:43:06.391Z"
   },
   {
    "duration": 7,
    "start_time": "2021-12-07T14:43:11.869Z"
   },
   {
    "duration": 46,
    "start_time": "2021-12-07T14:43:17.594Z"
   },
   {
    "duration": 10,
    "start_time": "2021-12-07T14:43:17.641Z"
   },
   {
    "duration": 10,
    "start_time": "2021-12-07T14:43:17.653Z"
   },
   {
    "duration": 7,
    "start_time": "2021-12-07T14:43:17.665Z"
   },
   {
    "duration": 16,
    "start_time": "2021-12-07T14:43:17.674Z"
   },
   {
    "duration": 6,
    "start_time": "2021-12-07T14:43:17.691Z"
   },
   {
    "duration": 7,
    "start_time": "2021-12-07T14:43:17.698Z"
   },
   {
    "duration": 8,
    "start_time": "2021-12-07T14:43:17.707Z"
   },
   {
    "duration": 12,
    "start_time": "2021-12-07T14:43:17.716Z"
   },
   {
    "duration": 9,
    "start_time": "2021-12-07T14:43:17.730Z"
   },
   {
    "duration": 7,
    "start_time": "2021-12-07T14:43:17.741Z"
   },
   {
    "duration": 7,
    "start_time": "2021-12-07T14:43:17.749Z"
   },
   {
    "duration": 31,
    "start_time": "2021-12-07T14:43:17.757Z"
   },
   {
    "duration": 11,
    "start_time": "2021-12-07T14:43:17.789Z"
   },
   {
    "duration": 43,
    "start_time": "2021-12-07T14:43:17.802Z"
   },
   {
    "duration": 45,
    "start_time": "2021-12-07T14:43:17.847Z"
   },
   {
    "duration": 6,
    "start_time": "2021-12-07T14:43:17.894Z"
   },
   {
    "duration": 2,
    "start_time": "2021-12-07T14:43:17.902Z"
   },
   {
    "duration": 7,
    "start_time": "2021-12-07T14:43:20.636Z"
   },
   {
    "duration": 7,
    "start_time": "2021-12-07T14:43:22.056Z"
   },
   {
    "duration": 245,
    "start_time": "2021-12-07T14:44:20.673Z"
   },
   {
    "duration": 7,
    "start_time": "2021-12-07T14:44:33.228Z"
   },
   {
    "duration": 6,
    "start_time": "2021-12-07T14:44:37.440Z"
   },
   {
    "duration": 47,
    "start_time": "2021-12-07T14:44:59.629Z"
   },
   {
    "duration": 9,
    "start_time": "2021-12-07T14:44:59.678Z"
   },
   {
    "duration": 11,
    "start_time": "2021-12-07T14:44:59.689Z"
   },
   {
    "duration": 8,
    "start_time": "2021-12-07T14:44:59.702Z"
   },
   {
    "duration": 7,
    "start_time": "2021-12-07T14:44:59.711Z"
   },
   {
    "duration": 10,
    "start_time": "2021-12-07T14:44:59.719Z"
   },
   {
    "duration": 10,
    "start_time": "2021-12-07T14:44:59.730Z"
   },
   {
    "duration": 10,
    "start_time": "2021-12-07T14:44:59.743Z"
   },
   {
    "duration": 36,
    "start_time": "2021-12-07T14:44:59.754Z"
   },
   {
    "duration": 11,
    "start_time": "2021-12-07T14:44:59.791Z"
   },
   {
    "duration": 8,
    "start_time": "2021-12-07T14:44:59.804Z"
   },
   {
    "duration": 3,
    "start_time": "2021-12-07T14:44:59.814Z"
   },
   {
    "duration": 9,
    "start_time": "2021-12-07T14:44:59.819Z"
   },
   {
    "duration": 12,
    "start_time": "2021-12-07T14:44:59.830Z"
   },
   {
    "duration": 73,
    "start_time": "2021-12-07T14:44:59.844Z"
   },
   {
    "duration": 28,
    "start_time": "2021-12-07T14:44:59.919Z"
   },
   {
    "duration": 6,
    "start_time": "2021-12-07T14:44:59.949Z"
   },
   {
    "duration": 3,
    "start_time": "2021-12-07T14:44:59.956Z"
   },
   {
    "duration": 7,
    "start_time": "2021-12-07T14:45:03.418Z"
   },
   {
    "duration": 6,
    "start_time": "2021-12-07T14:45:04.831Z"
   },
   {
    "duration": 15486,
    "start_time": "2021-12-07T14:54:21.896Z"
   },
   {
    "duration": 47,
    "start_time": "2021-12-07T14:54:37.383Z"
   },
   {
    "duration": 9,
    "start_time": "2021-12-07T14:54:37.432Z"
   },
   {
    "duration": 11,
    "start_time": "2021-12-07T14:54:37.443Z"
   },
   {
    "duration": 7,
    "start_time": "2021-12-07T14:54:37.455Z"
   },
   {
    "duration": 8,
    "start_time": "2021-12-07T14:54:37.464Z"
   },
   {
    "duration": 17,
    "start_time": "2021-12-07T14:54:37.473Z"
   },
   {
    "duration": 6,
    "start_time": "2021-12-07T14:54:37.491Z"
   },
   {
    "duration": 12,
    "start_time": "2021-12-07T14:54:37.499Z"
   },
   {
    "duration": 14,
    "start_time": "2021-12-07T14:54:37.512Z"
   },
   {
    "duration": 16,
    "start_time": "2021-12-07T14:54:37.527Z"
   },
   {
    "duration": 12,
    "start_time": "2021-12-07T14:54:37.544Z"
   },
   {
    "duration": 4,
    "start_time": "2021-12-07T14:54:37.557Z"
   },
   {
    "duration": 26,
    "start_time": "2021-12-07T14:54:37.562Z"
   },
   {
    "duration": 11,
    "start_time": "2021-12-07T14:54:37.590Z"
   },
   {
    "duration": 41,
    "start_time": "2021-12-07T14:54:37.603Z"
   },
   {
    "duration": 46,
    "start_time": "2021-12-07T14:54:37.645Z"
   },
   {
    "duration": 6,
    "start_time": "2021-12-07T14:54:37.694Z"
   },
   {
    "duration": 3,
    "start_time": "2021-12-07T14:54:37.701Z"
   },
   {
    "duration": 15279,
    "start_time": "2021-12-07T14:54:38.858Z"
   },
   {
    "duration": 6371,
    "start_time": "2021-12-07T14:56:51.356Z"
   },
   {
    "duration": 6347,
    "start_time": "2021-12-07T14:57:13.004Z"
   },
   {
    "duration": 2928,
    "start_time": "2021-12-07T14:57:24.910Z"
   },
   {
    "duration": 19,
    "start_time": "2021-12-07T14:58:00.736Z"
   },
   {
    "duration": 32,
    "start_time": "2021-12-07T15:01:47.892Z"
   },
   {
    "duration": 6,
    "start_time": "2021-12-07T15:01:56.843Z"
   },
   {
    "duration": 44,
    "start_time": "2021-12-07T15:02:56.022Z"
   },
   {
    "duration": 10,
    "start_time": "2021-12-07T15:02:56.068Z"
   },
   {
    "duration": 13,
    "start_time": "2021-12-07T15:02:56.080Z"
   },
   {
    "duration": 8,
    "start_time": "2021-12-07T15:02:56.095Z"
   },
   {
    "duration": 8,
    "start_time": "2021-12-07T15:02:56.104Z"
   },
   {
    "duration": 10,
    "start_time": "2021-12-07T15:02:56.114Z"
   },
   {
    "duration": 8,
    "start_time": "2021-12-07T15:02:56.125Z"
   },
   {
    "duration": 9,
    "start_time": "2021-12-07T15:02:56.134Z"
   },
   {
    "duration": 6,
    "start_time": "2021-12-07T15:02:56.146Z"
   },
   {
    "duration": 8,
    "start_time": "2021-12-07T15:02:56.153Z"
   },
   {
    "duration": 28,
    "start_time": "2021-12-07T15:02:56.163Z"
   },
   {
    "duration": 3,
    "start_time": "2021-12-07T15:02:56.192Z"
   },
   {
    "duration": 8,
    "start_time": "2021-12-07T15:02:56.196Z"
   },
   {
    "duration": 13,
    "start_time": "2021-12-07T15:02:56.206Z"
   },
   {
    "duration": 40,
    "start_time": "2021-12-07T15:02:56.220Z"
   },
   {
    "duration": 46,
    "start_time": "2021-12-07T15:02:56.261Z"
   },
   {
    "duration": 6,
    "start_time": "2021-12-07T15:02:56.308Z"
   },
   {
    "duration": 7,
    "start_time": "2021-12-07T15:02:56.316Z"
   },
   {
    "duration": 33,
    "start_time": "2021-12-07T15:02:56.324Z"
   },
   {
    "duration": 7,
    "start_time": "2021-12-07T15:03:00.816Z"
   },
   {
    "duration": 33,
    "start_time": "2021-12-07T15:04:05.736Z"
   },
   {
    "duration": 7,
    "start_time": "2021-12-07T15:04:08.056Z"
   },
   {
    "duration": 35,
    "start_time": "2021-12-07T15:04:51.527Z"
   },
   {
    "duration": 46,
    "start_time": "2021-12-07T15:05:07.065Z"
   },
   {
    "duration": 10,
    "start_time": "2021-12-07T15:05:07.113Z"
   },
   {
    "duration": 12,
    "start_time": "2021-12-07T15:05:07.125Z"
   },
   {
    "duration": 7,
    "start_time": "2021-12-07T15:05:07.139Z"
   },
   {
    "duration": 5,
    "start_time": "2021-12-07T15:05:07.148Z"
   },
   {
    "duration": 7,
    "start_time": "2021-12-07T15:05:07.155Z"
   },
   {
    "duration": 29,
    "start_time": "2021-12-07T15:05:07.163Z"
   },
   {
    "duration": 8,
    "start_time": "2021-12-07T15:05:07.194Z"
   },
   {
    "duration": 7,
    "start_time": "2021-12-07T15:05:07.204Z"
   },
   {
    "duration": 10,
    "start_time": "2021-12-07T15:05:07.212Z"
   },
   {
    "duration": 8,
    "start_time": "2021-12-07T15:05:07.223Z"
   },
   {
    "duration": 3,
    "start_time": "2021-12-07T15:05:07.233Z"
   },
   {
    "duration": 6,
    "start_time": "2021-12-07T15:05:07.237Z"
   },
   {
    "duration": 43,
    "start_time": "2021-12-07T15:05:07.245Z"
   },
   {
    "duration": 42,
    "start_time": "2021-12-07T15:05:07.290Z"
   },
   {
    "duration": 25,
    "start_time": "2021-12-07T15:05:07.333Z"
   },
   {
    "duration": 6,
    "start_time": "2021-12-07T15:05:07.360Z"
   },
   {
    "duration": 2,
    "start_time": "2021-12-07T15:05:07.388Z"
   },
   {
    "duration": 37,
    "start_time": "2021-12-07T15:05:09.439Z"
   },
   {
    "duration": 36,
    "start_time": "2021-12-07T15:05:35.489Z"
   },
   {
    "duration": 33,
    "start_time": "2021-12-07T15:06:06.264Z"
   },
   {
    "duration": 7,
    "start_time": "2021-12-07T15:07:20.198Z"
   },
   {
    "duration": 45,
    "start_time": "2021-12-07T15:07:36.702Z"
   },
   {
    "duration": 10,
    "start_time": "2021-12-07T15:07:36.749Z"
   },
   {
    "duration": 11,
    "start_time": "2021-12-07T15:07:36.761Z"
   },
   {
    "duration": 8,
    "start_time": "2021-12-07T15:07:36.774Z"
   },
   {
    "duration": 7,
    "start_time": "2021-12-07T15:07:36.783Z"
   },
   {
    "duration": 7,
    "start_time": "2021-12-07T15:07:36.792Z"
   },
   {
    "duration": 7,
    "start_time": "2021-12-07T15:07:36.801Z"
   },
   {
    "duration": 6,
    "start_time": "2021-12-07T15:07:36.810Z"
   },
   {
    "duration": 6,
    "start_time": "2021-12-07T15:07:36.819Z"
   },
   {
    "duration": 8,
    "start_time": "2021-12-07T15:07:36.826Z"
   },
   {
    "duration": 8,
    "start_time": "2021-12-07T15:07:36.836Z"
   },
   {
    "duration": 3,
    "start_time": "2021-12-07T15:07:36.845Z"
   },
   {
    "duration": 42,
    "start_time": "2021-12-07T15:07:36.850Z"
   },
   {
    "duration": 13,
    "start_time": "2021-12-07T15:07:36.893Z"
   },
   {
    "duration": 40,
    "start_time": "2021-12-07T15:07:36.908Z"
   },
   {
    "duration": 50,
    "start_time": "2021-12-07T15:07:36.950Z"
   },
   {
    "duration": 6,
    "start_time": "2021-12-07T15:07:37.002Z"
   },
   {
    "duration": 5,
    "start_time": "2021-12-07T15:07:37.009Z"
   },
   {
    "duration": 9,
    "start_time": "2021-12-07T15:07:41.567Z"
   },
   {
    "duration": 10,
    "start_time": "2021-12-07T15:08:30.741Z"
   },
   {
    "duration": 78,
    "start_time": "2021-12-07T15:09:33.012Z"
   },
   {
    "duration": 22,
    "start_time": "2021-12-07T15:09:53.225Z"
   },
   {
    "duration": 7,
    "start_time": "2021-12-07T15:10:45.473Z"
   },
   {
    "duration": 48,
    "start_time": "2021-12-07T15:10:53.883Z"
   },
   {
    "duration": 9,
    "start_time": "2021-12-07T15:10:53.933Z"
   },
   {
    "duration": 12,
    "start_time": "2021-12-07T15:10:53.945Z"
   },
   {
    "duration": 30,
    "start_time": "2021-12-07T15:10:53.959Z"
   },
   {
    "duration": 6,
    "start_time": "2021-12-07T15:10:53.991Z"
   },
   {
    "duration": 8,
    "start_time": "2021-12-07T15:10:53.999Z"
   },
   {
    "duration": 8,
    "start_time": "2021-12-07T15:10:54.008Z"
   },
   {
    "duration": 9,
    "start_time": "2021-12-07T15:10:54.018Z"
   },
   {
    "duration": 6,
    "start_time": "2021-12-07T15:10:54.029Z"
   },
   {
    "duration": 8,
    "start_time": "2021-12-07T15:10:54.037Z"
   },
   {
    "duration": 45,
    "start_time": "2021-12-07T15:10:54.047Z"
   },
   {
    "duration": 3,
    "start_time": "2021-12-07T15:10:54.093Z"
   },
   {
    "duration": 7,
    "start_time": "2021-12-07T15:10:54.098Z"
   },
   {
    "duration": 12,
    "start_time": "2021-12-07T15:10:54.106Z"
   },
   {
    "duration": 71,
    "start_time": "2021-12-07T15:10:54.120Z"
   },
   {
    "duration": 26,
    "start_time": "2021-12-07T15:10:54.192Z"
   },
   {
    "duration": 6,
    "start_time": "2021-12-07T15:10:54.220Z"
   },
   {
    "duration": 5,
    "start_time": "2021-12-07T15:10:54.227Z"
   },
   {
    "duration": 24,
    "start_time": "2021-12-07T15:10:54.233Z"
   },
   {
    "duration": 7,
    "start_time": "2021-12-07T15:10:58.655Z"
   },
   {
    "duration": 6,
    "start_time": "2021-12-07T15:11:46.294Z"
   },
   {
    "duration": 5,
    "start_time": "2021-12-07T15:11:51.485Z"
   },
   {
    "duration": 24,
    "start_time": "2021-12-07T15:11:56.784Z"
   },
   {
    "duration": 6,
    "start_time": "2021-12-07T15:11:59.545Z"
   },
   {
    "duration": 42,
    "start_time": "2021-12-07T15:12:05.651Z"
   },
   {
    "duration": 10,
    "start_time": "2021-12-07T15:12:05.695Z"
   },
   {
    "duration": 13,
    "start_time": "2021-12-07T15:12:05.707Z"
   },
   {
    "duration": 26,
    "start_time": "2021-12-07T15:12:05.722Z"
   },
   {
    "duration": 9,
    "start_time": "2021-12-07T15:12:05.750Z"
   },
   {
    "duration": 10,
    "start_time": "2021-12-07T15:12:05.761Z"
   },
   {
    "duration": 17,
    "start_time": "2021-12-07T15:12:05.773Z"
   },
   {
    "duration": 7,
    "start_time": "2021-12-07T15:12:05.792Z"
   },
   {
    "duration": 7,
    "start_time": "2021-12-07T15:12:05.802Z"
   },
   {
    "duration": 14,
    "start_time": "2021-12-07T15:12:05.811Z"
   },
   {
    "duration": 9,
    "start_time": "2021-12-07T15:12:05.826Z"
   },
   {
    "duration": 9,
    "start_time": "2021-12-07T15:12:05.837Z"
   },
   {
    "duration": 7,
    "start_time": "2021-12-07T15:12:05.848Z"
   },
   {
    "duration": 41,
    "start_time": "2021-12-07T15:12:05.857Z"
   },
   {
    "duration": 41,
    "start_time": "2021-12-07T15:12:05.900Z"
   },
   {
    "duration": 48,
    "start_time": "2021-12-07T15:12:05.943Z"
   },
   {
    "duration": 9,
    "start_time": "2021-12-07T15:12:05.993Z"
   },
   {
    "duration": 3,
    "start_time": "2021-12-07T15:12:06.004Z"
   },
   {
    "duration": 9,
    "start_time": "2021-12-07T15:12:20.596Z"
   },
   {
    "duration": 259,
    "start_time": "2021-12-07T15:13:14.259Z"
   },
   {
    "duration": 120,
    "start_time": "2021-12-07T15:14:24.291Z"
   },
   {
    "duration": 2,
    "start_time": "2021-12-07T15:15:12.178Z"
   },
   {
    "duration": 77,
    "start_time": "2021-12-07T15:15:15.879Z"
   },
   {
    "duration": 5,
    "start_time": "2021-12-07T15:25:55.034Z"
   },
   {
    "duration": 7,
    "start_time": "2021-12-07T15:27:03.621Z"
   },
   {
    "duration": 41,
    "start_time": "2021-12-07T15:27:24.065Z"
   },
   {
    "duration": 9,
    "start_time": "2021-12-07T15:27:24.108Z"
   },
   {
    "duration": 12,
    "start_time": "2021-12-07T15:27:24.119Z"
   },
   {
    "duration": 16,
    "start_time": "2021-12-07T15:27:24.132Z"
   },
   {
    "duration": 6,
    "start_time": "2021-12-07T15:27:24.150Z"
   },
   {
    "duration": 10,
    "start_time": "2021-12-07T15:27:24.157Z"
   },
   {
    "duration": 7,
    "start_time": "2021-12-07T15:27:24.169Z"
   },
   {
    "duration": 5,
    "start_time": "2021-12-07T15:27:24.188Z"
   },
   {
    "duration": 7,
    "start_time": "2021-12-07T15:27:24.195Z"
   },
   {
    "duration": 9,
    "start_time": "2021-12-07T15:27:24.204Z"
   },
   {
    "duration": 9,
    "start_time": "2021-12-07T15:27:24.214Z"
   },
   {
    "duration": 4,
    "start_time": "2021-12-07T15:27:24.224Z"
   },
   {
    "duration": 7,
    "start_time": "2021-12-07T15:27:24.229Z"
   },
   {
    "duration": 12,
    "start_time": "2021-12-07T15:27:24.237Z"
   },
   {
    "duration": 79,
    "start_time": "2021-12-07T15:27:24.250Z"
   },
   {
    "duration": 27,
    "start_time": "2021-12-07T15:27:24.331Z"
   },
   {
    "duration": 7,
    "start_time": "2021-12-07T15:27:24.359Z"
   },
   {
    "duration": 3,
    "start_time": "2021-12-07T15:27:24.388Z"
   },
   {
    "duration": 311,
    "start_time": "2021-12-07T15:27:28.993Z"
   },
   {
    "duration": 78,
    "start_time": "2021-12-07T15:28:28.657Z"
   },
   {
    "duration": 27,
    "start_time": "2021-12-07T15:28:45.530Z"
   },
   {
    "duration": 243,
    "start_time": "2021-12-07T15:29:17.719Z"
   },
   {
    "duration": 8,
    "start_time": "2021-12-07T15:30:29.670Z"
   },
   {
    "duration": 248,
    "start_time": "2021-12-07T15:37:01.320Z"
   },
   {
    "duration": 234,
    "start_time": "2021-12-07T15:37:34.254Z"
   },
   {
    "duration": 19,
    "start_time": "2021-12-07T15:49:14.669Z"
   },
   {
    "duration": 46,
    "start_time": "2021-12-07T15:49:22.195Z"
   },
   {
    "duration": 11,
    "start_time": "2021-12-07T15:49:22.243Z"
   },
   {
    "duration": 13,
    "start_time": "2021-12-07T15:49:22.256Z"
   },
   {
    "duration": 20,
    "start_time": "2021-12-07T15:49:22.272Z"
   },
   {
    "duration": 7,
    "start_time": "2021-12-07T15:49:22.294Z"
   },
   {
    "duration": 9,
    "start_time": "2021-12-07T15:49:22.303Z"
   },
   {
    "duration": 8,
    "start_time": "2021-12-07T15:49:22.314Z"
   },
   {
    "duration": 9,
    "start_time": "2021-12-07T15:49:22.323Z"
   },
   {
    "duration": 7,
    "start_time": "2021-12-07T15:49:22.334Z"
   },
   {
    "duration": 51,
    "start_time": "2021-12-07T15:49:22.343Z"
   },
   {
    "duration": 11,
    "start_time": "2021-12-07T15:49:22.396Z"
   },
   {
    "duration": 3,
    "start_time": "2021-12-07T15:49:22.409Z"
   },
   {
    "duration": 11,
    "start_time": "2021-12-07T15:49:22.414Z"
   },
   {
    "duration": 15,
    "start_time": "2021-12-07T15:49:22.427Z"
   },
   {
    "duration": 74,
    "start_time": "2021-12-07T15:49:22.444Z"
   },
   {
    "duration": 26,
    "start_time": "2021-12-07T15:49:22.520Z"
   },
   {
    "duration": 7,
    "start_time": "2021-12-07T15:49:22.547Z"
   },
   {
    "duration": 43,
    "start_time": "2021-12-07T15:49:22.556Z"
   },
   {
    "duration": 18,
    "start_time": "2021-12-07T15:49:25.047Z"
   },
   {
    "duration": 18,
    "start_time": "2021-12-07T15:50:43.364Z"
   },
   {
    "duration": 17,
    "start_time": "2021-12-07T15:51:02.623Z"
   },
   {
    "duration": 248,
    "start_time": "2021-12-07T15:54:53.793Z"
   },
   {
    "duration": 8,
    "start_time": "2021-12-07T15:55:42.846Z"
   },
   {
    "duration": 45,
    "start_time": "2021-12-07T15:55:51.896Z"
   },
   {
    "duration": 9,
    "start_time": "2021-12-07T15:55:51.943Z"
   },
   {
    "duration": 13,
    "start_time": "2021-12-07T15:55:51.954Z"
   },
   {
    "duration": 15,
    "start_time": "2021-12-07T15:55:51.968Z"
   },
   {
    "duration": 18,
    "start_time": "2021-12-07T15:55:51.984Z"
   },
   {
    "duration": 10,
    "start_time": "2021-12-07T15:55:52.003Z"
   },
   {
    "duration": 9,
    "start_time": "2021-12-07T15:55:52.014Z"
   },
   {
    "duration": 8,
    "start_time": "2021-12-07T15:55:52.024Z"
   },
   {
    "duration": 11,
    "start_time": "2021-12-07T15:55:52.034Z"
   },
   {
    "duration": 8,
    "start_time": "2021-12-07T15:55:52.046Z"
   },
   {
    "duration": 8,
    "start_time": "2021-12-07T15:55:52.056Z"
   },
   {
    "duration": 3,
    "start_time": "2021-12-07T15:55:52.065Z"
   },
   {
    "duration": 18,
    "start_time": "2021-12-07T15:55:52.070Z"
   },
   {
    "duration": 14,
    "start_time": "2021-12-07T15:55:52.089Z"
   },
   {
    "duration": 47,
    "start_time": "2021-12-07T15:55:52.104Z"
   },
   {
    "duration": 48,
    "start_time": "2021-12-07T15:55:52.152Z"
   },
   {
    "duration": 6,
    "start_time": "2021-12-07T15:55:52.202Z"
   },
   {
    "duration": 7,
    "start_time": "2021-12-07T15:55:56.230Z"
   },
   {
    "duration": 7,
    "start_time": "2021-12-07T15:56:19.589Z"
   },
   {
    "duration": 19,
    "start_time": "2021-12-07T16:02:04.858Z"
   },
   {
    "duration": 9,
    "start_time": "2021-12-07T16:02:24.286Z"
   },
   {
    "duration": 42,
    "start_time": "2021-12-07T16:02:29.948Z"
   },
   {
    "duration": 9,
    "start_time": "2021-12-07T16:02:29.992Z"
   },
   {
    "duration": 17,
    "start_time": "2021-12-07T16:02:30.003Z"
   },
   {
    "duration": 12,
    "start_time": "2021-12-07T16:02:30.023Z"
   },
   {
    "duration": 8,
    "start_time": "2021-12-07T16:02:30.036Z"
   },
   {
    "duration": 14,
    "start_time": "2021-12-07T16:02:30.046Z"
   },
   {
    "duration": 10,
    "start_time": "2021-12-07T16:02:30.061Z"
   },
   {
    "duration": 8,
    "start_time": "2021-12-07T16:02:30.088Z"
   },
   {
    "duration": 9,
    "start_time": "2021-12-07T16:02:30.098Z"
   },
   {
    "duration": 16,
    "start_time": "2021-12-07T16:02:30.108Z"
   },
   {
    "duration": 8,
    "start_time": "2021-12-07T16:02:30.125Z"
   },
   {
    "duration": 3,
    "start_time": "2021-12-07T16:02:30.134Z"
   },
   {
    "duration": 15,
    "start_time": "2021-12-07T16:02:30.138Z"
   },
   {
    "duration": 14,
    "start_time": "2021-12-07T16:02:30.155Z"
   },
   {
    "duration": 51,
    "start_time": "2021-12-07T16:02:30.171Z"
   },
   {
    "duration": 26,
    "start_time": "2021-12-07T16:02:30.224Z"
   },
   {
    "duration": 6,
    "start_time": "2021-12-07T16:02:30.251Z"
   },
   {
    "duration": 41,
    "start_time": "2021-12-07T16:02:30.259Z"
   },
   {
    "duration": 6,
    "start_time": "2021-12-07T16:02:30.301Z"
   },
   {
    "duration": 19,
    "start_time": "2021-12-07T16:02:34.339Z"
   },
   {
    "duration": 11,
    "start_time": "2021-12-07T16:02:37.976Z"
   },
   {
    "duration": 20,
    "start_time": "2021-12-07T16:04:11.477Z"
   },
   {
    "duration": 7,
    "start_time": "2021-12-07T16:04:14.417Z"
   },
   {
    "duration": 9,
    "start_time": "2021-12-07T16:06:20.468Z"
   },
   {
    "duration": 75,
    "start_time": "2021-12-07T16:12:48.099Z"
   },
   {
    "duration": 277,
    "start_time": "2021-12-07T16:13:02.984Z"
   },
   {
    "duration": 238,
    "start_time": "2021-12-07T16:22:27.000Z"
   },
   {
    "duration": 4174,
    "start_time": "2021-12-07T16:24:03.753Z"
   },
   {
    "duration": 6,
    "start_time": "2021-12-07T16:24:21.006Z"
   },
   {
    "duration": 50,
    "start_time": "2021-12-07T16:24:26.563Z"
   },
   {
    "duration": 12,
    "start_time": "2021-12-07T16:24:26.616Z"
   },
   {
    "duration": 12,
    "start_time": "2021-12-07T16:24:26.630Z"
   },
   {
    "duration": 8,
    "start_time": "2021-12-07T16:24:26.644Z"
   },
   {
    "duration": 6,
    "start_time": "2021-12-07T16:24:26.654Z"
   },
   {
    "duration": 38,
    "start_time": "2021-12-07T16:24:26.661Z"
   },
   {
    "duration": 9,
    "start_time": "2021-12-07T16:24:26.700Z"
   },
   {
    "duration": 10,
    "start_time": "2021-12-07T16:24:26.711Z"
   },
   {
    "duration": 8,
    "start_time": "2021-12-07T16:24:26.723Z"
   },
   {
    "duration": 11,
    "start_time": "2021-12-07T16:24:26.733Z"
   },
   {
    "duration": 8,
    "start_time": "2021-12-07T16:24:26.746Z"
   },
   {
    "duration": 35,
    "start_time": "2021-12-07T16:24:26.755Z"
   },
   {
    "duration": 14,
    "start_time": "2021-12-07T16:24:26.792Z"
   },
   {
    "duration": 12,
    "start_time": "2021-12-07T16:24:26.808Z"
   },
   {
    "duration": 44,
    "start_time": "2021-12-07T16:24:26.822Z"
   },
   {
    "duration": 48,
    "start_time": "2021-12-07T16:24:26.868Z"
   },
   {
    "duration": 6,
    "start_time": "2021-12-07T16:24:26.918Z"
   },
   {
    "duration": 18,
    "start_time": "2021-12-07T16:24:26.925Z"
   },
   {
    "duration": 7,
    "start_time": "2021-12-07T16:24:26.944Z"
   },
   {
    "duration": 4261,
    "start_time": "2021-12-07T16:24:31.316Z"
   },
   {
    "duration": 10,
    "start_time": "2021-12-07T16:24:35.579Z"
   },
   {
    "duration": 4142,
    "start_time": "2021-12-07T16:25:41.904Z"
   },
   {
    "duration": 7,
    "start_time": "2021-12-07T16:25:46.047Z"
   },
   {
    "duration": 4117,
    "start_time": "2021-12-07T16:26:00.827Z"
   },
   {
    "duration": 7,
    "start_time": "2021-12-07T16:26:04.946Z"
   },
   {
    "duration": 7,
    "start_time": "2021-12-07T16:27:21.330Z"
   },
   {
    "duration": 4513,
    "start_time": "2021-12-07T16:40:14.091Z"
   },
   {
    "duration": 7,
    "start_time": "2021-12-07T16:41:30.766Z"
   },
   {
    "duration": 7,
    "start_time": "2021-12-07T16:41:49.197Z"
   },
   {
    "duration": 251,
    "start_time": "2021-12-07T16:43:37.747Z"
   },
   {
    "duration": 6,
    "start_time": "2021-12-07T16:44:41.301Z"
   },
   {
    "duration": 6,
    "start_time": "2021-12-07T16:45:00.261Z"
   },
   {
    "duration": 1703,
    "start_time": "2021-12-07T17:00:48.209Z"
   },
   {
    "duration": 44,
    "start_time": "2021-12-07T17:01:56.233Z"
   },
   {
    "duration": 10,
    "start_time": "2021-12-07T17:01:56.279Z"
   },
   {
    "duration": 10,
    "start_time": "2021-12-07T17:01:56.291Z"
   },
   {
    "duration": 7,
    "start_time": "2021-12-07T17:01:56.303Z"
   },
   {
    "duration": 6,
    "start_time": "2021-12-07T17:01:56.312Z"
   },
   {
    "duration": 7,
    "start_time": "2021-12-07T17:01:56.319Z"
   },
   {
    "duration": 7,
    "start_time": "2021-12-07T17:01:56.335Z"
   },
   {
    "duration": 8,
    "start_time": "2021-12-07T17:01:56.343Z"
   },
   {
    "duration": 37,
    "start_time": "2021-12-07T17:01:56.353Z"
   },
   {
    "duration": 8,
    "start_time": "2021-12-07T17:01:56.392Z"
   },
   {
    "duration": 9,
    "start_time": "2021-12-07T17:01:56.402Z"
   },
   {
    "duration": 3,
    "start_time": "2021-12-07T17:01:56.412Z"
   },
   {
    "duration": 7,
    "start_time": "2021-12-07T17:01:56.417Z"
   },
   {
    "duration": 11,
    "start_time": "2021-12-07T17:01:56.426Z"
   },
   {
    "duration": 83,
    "start_time": "2021-12-07T17:01:56.439Z"
   },
   {
    "duration": 37,
    "start_time": "2021-12-07T17:01:56.524Z"
   },
   {
    "duration": 32,
    "start_time": "2021-12-07T17:01:56.564Z"
   },
   {
    "duration": 32,
    "start_time": "2021-12-07T17:01:56.599Z"
   },
   {
    "duration": 10,
    "start_time": "2021-12-07T17:01:56.634Z"
   },
   {
    "duration": 1698,
    "start_time": "2021-12-07T17:02:00.905Z"
   },
   {
    "duration": 7,
    "start_time": "2021-12-07T17:09:26.612Z"
   },
   {
    "duration": 7,
    "start_time": "2021-12-07T17:09:35.792Z"
   },
   {
    "duration": 422,
    "start_time": "2021-12-08T09:50:54.559Z"
   },
   {
    "duration": 1110,
    "start_time": "2021-12-08T09:59:22.084Z"
   },
   {
    "duration": 14,
    "start_time": "2021-12-08T09:59:23.197Z"
   },
   {
    "duration": 42,
    "start_time": "2021-12-08T09:59:23.214Z"
   },
   {
    "duration": 10,
    "start_time": "2021-12-08T09:59:23.268Z"
   },
   {
    "duration": 21,
    "start_time": "2021-12-08T09:59:23.281Z"
   },
   {
    "duration": 38,
    "start_time": "2021-12-08T09:59:23.305Z"
   },
   {
    "duration": 19,
    "start_time": "2021-12-08T09:59:23.345Z"
   },
   {
    "duration": 19,
    "start_time": "2021-12-08T09:59:23.367Z"
   },
   {
    "duration": 10,
    "start_time": "2021-12-08T09:59:23.391Z"
   },
   {
    "duration": 30,
    "start_time": "2021-12-08T09:59:23.405Z"
   },
   {
    "duration": 24,
    "start_time": "2021-12-08T09:59:23.438Z"
   },
   {
    "duration": 11,
    "start_time": "2021-12-08T09:59:23.465Z"
   },
   {
    "duration": 30,
    "start_time": "2021-12-08T09:59:23.479Z"
   },
   {
    "duration": 28,
    "start_time": "2021-12-08T09:59:23.511Z"
   },
   {
    "duration": 81,
    "start_time": "2021-12-08T09:59:23.543Z"
   },
   {
    "duration": 69,
    "start_time": "2021-12-08T09:59:23.627Z"
   },
   {
    "duration": 10,
    "start_time": "2021-12-08T09:59:23.698Z"
   },
   {
    "duration": 336,
    "start_time": "2021-12-08T09:59:23.710Z"
   },
   {
    "duration": 2367,
    "start_time": "2021-12-08T09:59:21.682Z"
   },
   {
    "duration": 2367,
    "start_time": "2021-12-08T09:59:21.684Z"
   },
   {
    "duration": 2367,
    "start_time": "2021-12-08T09:59:21.686Z"
   },
   {
    "duration": 2368,
    "start_time": "2021-12-08T09:59:21.688Z"
   },
   {
    "duration": 2369,
    "start_time": "2021-12-08T09:59:21.689Z"
   },
   {
    "duration": 2366,
    "start_time": "2021-12-08T09:59:21.694Z"
   },
   {
    "duration": 2368,
    "start_time": "2021-12-08T09:59:21.695Z"
   },
   {
    "duration": 2368,
    "start_time": "2021-12-08T09:59:21.697Z"
   },
   {
    "duration": 2368,
    "start_time": "2021-12-08T09:59:21.699Z"
   },
   {
    "duration": 2365,
    "start_time": "2021-12-08T09:59:21.704Z"
   },
   {
    "duration": 2363,
    "start_time": "2021-12-08T09:59:21.709Z"
   },
   {
    "duration": 2364,
    "start_time": "2021-12-08T09:59:21.710Z"
   },
   {
    "duration": 2364,
    "start_time": "2021-12-08T09:59:21.712Z"
   },
   {
    "duration": 2366,
    "start_time": "2021-12-08T09:59:21.713Z"
   },
   {
    "duration": 63,
    "start_time": "2021-12-08T09:59:37.713Z"
   },
   {
    "duration": 15,
    "start_time": "2021-12-08T09:59:37.779Z"
   },
   {
    "duration": 20,
    "start_time": "2021-12-08T09:59:37.797Z"
   },
   {
    "duration": 13,
    "start_time": "2021-12-08T09:59:37.819Z"
   },
   {
    "duration": 34,
    "start_time": "2021-12-08T09:59:37.834Z"
   },
   {
    "duration": 10,
    "start_time": "2021-12-08T09:59:37.871Z"
   },
   {
    "duration": 9,
    "start_time": "2021-12-08T09:59:37.883Z"
   },
   {
    "duration": 9,
    "start_time": "2021-12-08T09:59:37.895Z"
   },
   {
    "duration": 9,
    "start_time": "2021-12-08T09:59:37.908Z"
   },
   {
    "duration": 13,
    "start_time": "2021-12-08T09:59:37.967Z"
   },
   {
    "duration": 14,
    "start_time": "2021-12-08T09:59:37.983Z"
   },
   {
    "duration": 8,
    "start_time": "2021-12-08T09:59:37.999Z"
   },
   {
    "duration": 16,
    "start_time": "2021-12-08T09:59:38.009Z"
   },
   {
    "duration": 53,
    "start_time": "2021-12-08T09:59:38.028Z"
   },
   {
    "duration": 84,
    "start_time": "2021-12-08T09:59:38.083Z"
   },
   {
    "duration": 50,
    "start_time": "2021-12-08T09:59:38.169Z"
   },
   {
    "duration": 10,
    "start_time": "2021-12-08T09:59:38.221Z"
   },
   {
    "duration": 325,
    "start_time": "2021-12-08T09:59:38.234Z"
   },
   {
    "duration": 2376,
    "start_time": "2021-12-08T09:59:36.186Z"
   },
   {
    "duration": 2376,
    "start_time": "2021-12-08T09:59:36.188Z"
   },
   {
    "duration": 2375,
    "start_time": "2021-12-08T09:59:36.190Z"
   },
   {
    "duration": 2376,
    "start_time": "2021-12-08T09:59:36.191Z"
   },
   {
    "duration": 2375,
    "start_time": "2021-12-08T09:59:36.193Z"
   },
   {
    "duration": 2375,
    "start_time": "2021-12-08T09:59:36.195Z"
   },
   {
    "duration": 2375,
    "start_time": "2021-12-08T09:59:36.196Z"
   },
   {
    "duration": 2375,
    "start_time": "2021-12-08T09:59:36.197Z"
   },
   {
    "duration": 2374,
    "start_time": "2021-12-08T09:59:36.199Z"
   },
   {
    "duration": 2372,
    "start_time": "2021-12-08T09:59:36.203Z"
   },
   {
    "duration": 2371,
    "start_time": "2021-12-08T09:59:36.205Z"
   },
   {
    "duration": 2370,
    "start_time": "2021-12-08T09:59:36.207Z"
   },
   {
    "duration": 2371,
    "start_time": "2021-12-08T09:59:36.208Z"
   },
   {
    "duration": 2370,
    "start_time": "2021-12-08T09:59:36.210Z"
   },
   {
    "duration": 2370,
    "start_time": "2021-12-08T09:59:36.211Z"
   },
   {
    "duration": 2371,
    "start_time": "2021-12-08T09:59:36.212Z"
   },
   {
    "duration": 2365,
    "start_time": "2021-12-08T09:59:36.219Z"
   },
   {
    "duration": 2365,
    "start_time": "2021-12-08T09:59:36.220Z"
   },
   {
    "duration": 2365,
    "start_time": "2021-12-08T09:59:36.221Z"
   },
   {
    "duration": 2364,
    "start_time": "2021-12-08T09:59:36.223Z"
   },
   {
    "duration": 2365,
    "start_time": "2021-12-08T09:59:36.224Z"
   },
   {
    "duration": 2364,
    "start_time": "2021-12-08T09:59:36.226Z"
   },
   {
    "duration": 2363,
    "start_time": "2021-12-08T09:59:36.228Z"
   },
   {
    "duration": 2363,
    "start_time": "2021-12-08T09:59:36.230Z"
   },
   {
    "duration": 2359,
    "start_time": "2021-12-08T09:59:36.235Z"
   },
   {
    "duration": 27,
    "start_time": "2021-12-08T10:02:21.086Z"
   },
   {
    "duration": 57,
    "start_time": "2021-12-08T10:08:13.585Z"
   },
   {
    "duration": 71,
    "start_time": "2021-12-08T10:14:30.714Z"
   },
   {
    "duration": 10,
    "start_time": "2021-12-08T10:14:36.695Z"
   },
   {
    "duration": 12,
    "start_time": "2021-12-08T10:20:18.317Z"
   },
   {
    "duration": 11,
    "start_time": "2021-12-08T10:20:32.699Z"
   },
   {
    "duration": 7,
    "start_time": "2021-12-08T10:26:26.055Z"
   },
   {
    "duration": 8,
    "start_time": "2021-12-08T10:26:37.336Z"
   },
   {
    "duration": 7,
    "start_time": "2021-12-08T10:27:02.662Z"
   },
   {
    "duration": 922,
    "start_time": "2021-12-08T10:38:01.512Z"
   },
   {
    "duration": 16,
    "start_time": "2021-12-08T10:38:02.436Z"
   },
   {
    "duration": 36,
    "start_time": "2021-12-08T10:38:02.455Z"
   },
   {
    "duration": 50,
    "start_time": "2021-12-08T10:38:02.494Z"
   },
   {
    "duration": 48,
    "start_time": "2021-12-08T10:38:02.547Z"
   },
   {
    "duration": 25,
    "start_time": "2021-12-08T10:38:02.597Z"
   },
   {
    "duration": 41,
    "start_time": "2021-12-08T10:38:02.624Z"
   },
   {
    "duration": 53,
    "start_time": "2021-12-08T10:38:02.668Z"
   },
   {
    "duration": 49,
    "start_time": "2021-12-08T10:38:02.724Z"
   },
   {
    "duration": 33,
    "start_time": "2021-12-08T10:38:02.776Z"
   },
   {
    "duration": 28,
    "start_time": "2021-12-08T10:38:02.812Z"
   },
   {
    "duration": 20,
    "start_time": "2021-12-08T10:38:02.842Z"
   },
   {
    "duration": 44,
    "start_time": "2021-12-08T10:38:02.865Z"
   },
   {
    "duration": 50,
    "start_time": "2021-12-08T10:38:02.912Z"
   },
   {
    "duration": 89,
    "start_time": "2021-12-08T10:38:02.965Z"
   },
   {
    "duration": 52,
    "start_time": "2021-12-08T10:38:03.057Z"
   },
   {
    "duration": 10,
    "start_time": "2021-12-08T10:38:03.111Z"
   },
   {
    "duration": 92,
    "start_time": "2021-12-08T10:38:03.124Z"
   },
   {
    "duration": 7,
    "start_time": "2021-12-08T10:38:03.219Z"
   },
   {
    "duration": 44,
    "start_time": "2021-12-08T10:38:03.229Z"
   },
   {
    "duration": 32,
    "start_time": "2021-12-08T10:38:03.275Z"
   },
   {
    "duration": 43,
    "start_time": "2021-12-08T10:38:03.310Z"
   },
   {
    "duration": 49,
    "start_time": "2021-12-08T10:38:03.358Z"
   },
   {
    "duration": 6,
    "start_time": "2021-12-08T10:38:03.410Z"
   },
   {
    "duration": 29,
    "start_time": "2021-12-08T10:38:03.419Z"
   },
   {
    "duration": 23,
    "start_time": "2021-12-08T10:38:03.451Z"
   },
   {
    "duration": 943,
    "start_time": "2021-12-08T10:38:03.476Z"
   },
   {
    "duration": 5048,
    "start_time": "2021-12-08T10:38:04.422Z"
   },
   {
    "duration": 16,
    "start_time": "2021-12-08T10:38:09.473Z"
   },
   {
    "duration": 23,
    "start_time": "2021-12-08T10:38:09.492Z"
   },
   {
    "duration": 10,
    "start_time": "2021-12-08T10:38:09.517Z"
   },
   {
    "duration": 40,
    "start_time": "2021-12-08T10:38:09.530Z"
   },
   {
    "duration": 7,
    "start_time": "2021-12-08T10:38:09.573Z"
   },
   {
    "duration": 416,
    "start_time": "2021-12-08T10:38:09.583Z"
   },
   {
    "duration": 2395,
    "start_time": "2021-12-08T10:38:07.607Z"
   },
   {
    "duration": 2396,
    "start_time": "2021-12-08T10:38:07.608Z"
   },
   {
    "duration": 2395,
    "start_time": "2021-12-08T10:38:07.610Z"
   },
   {
    "duration": 2395,
    "start_time": "2021-12-08T10:38:07.611Z"
   },
   {
    "duration": 2393,
    "start_time": "2021-12-08T10:38:07.615Z"
   },
   {
    "duration": 2393,
    "start_time": "2021-12-08T10:38:07.616Z"
   },
   {
    "duration": 2393,
    "start_time": "2021-12-08T10:38:07.618Z"
   },
   {
    "duration": 2393,
    "start_time": "2021-12-08T10:38:07.619Z"
   },
   {
    "duration": 2393,
    "start_time": "2021-12-08T10:38:07.620Z"
   },
   {
    "duration": 7,
    "start_time": "2021-12-08T10:38:50.235Z"
   },
   {
    "duration": 8,
    "start_time": "2021-12-08T10:43:30.701Z"
   },
   {
    "duration": 62,
    "start_time": "2021-12-08T10:44:14.192Z"
   },
   {
    "duration": 15,
    "start_time": "2021-12-08T10:44:14.257Z"
   },
   {
    "duration": 20,
    "start_time": "2021-12-08T10:44:14.276Z"
   },
   {
    "duration": 17,
    "start_time": "2021-12-08T10:44:14.300Z"
   },
   {
    "duration": 12,
    "start_time": "2021-12-08T10:44:14.320Z"
   },
   {
    "duration": 40,
    "start_time": "2021-12-08T10:44:14.334Z"
   },
   {
    "duration": 17,
    "start_time": "2021-12-08T10:44:14.376Z"
   },
   {
    "duration": 12,
    "start_time": "2021-12-08T10:44:14.396Z"
   },
   {
    "duration": 9,
    "start_time": "2021-12-08T10:44:14.413Z"
   },
   {
    "duration": 53,
    "start_time": "2021-12-08T10:44:14.425Z"
   },
   {
    "duration": 14,
    "start_time": "2021-12-08T10:44:14.481Z"
   },
   {
    "duration": 21,
    "start_time": "2021-12-08T10:44:14.497Z"
   },
   {
    "duration": 10,
    "start_time": "2021-12-08T10:44:14.520Z"
   },
   {
    "duration": 44,
    "start_time": "2021-12-08T10:44:14.533Z"
   },
   {
    "duration": 88,
    "start_time": "2021-12-08T10:44:14.580Z"
   },
   {
    "duration": 54,
    "start_time": "2021-12-08T10:44:14.670Z"
   },
   {
    "duration": 12,
    "start_time": "2021-12-08T10:44:14.727Z"
   },
   {
    "duration": 9,
    "start_time": "2021-12-08T10:44:21.678Z"
   },
   {
    "duration": 10,
    "start_time": "2021-12-08T10:45:25.494Z"
   },
   {
    "duration": 22,
    "start_time": "2021-12-08T10:45:41.103Z"
   },
   {
    "duration": 10,
    "start_time": "2021-12-08T10:45:47.445Z"
   },
   {
    "duration": 9,
    "start_time": "2021-12-08T10:46:26.549Z"
   },
   {
    "duration": 65,
    "start_time": "2021-12-08T10:46:54.135Z"
   },
   {
    "duration": 7,
    "start_time": "2021-12-08T10:46:57.780Z"
   },
   {
    "duration": 2600,
    "start_time": "2021-12-08T10:55:14.351Z"
   },
   {
    "duration": 64,
    "start_time": "2021-12-08T10:55:22.229Z"
   },
   {
    "duration": 15,
    "start_time": "2021-12-08T10:55:22.295Z"
   },
   {
    "duration": 19,
    "start_time": "2021-12-08T10:55:22.313Z"
   },
   {
    "duration": 35,
    "start_time": "2021-12-08T10:55:22.336Z"
   },
   {
    "duration": 21,
    "start_time": "2021-12-08T10:55:22.374Z"
   },
   {
    "duration": 12,
    "start_time": "2021-12-08T10:55:22.398Z"
   },
   {
    "duration": 14,
    "start_time": "2021-12-08T10:55:22.412Z"
   },
   {
    "duration": 44,
    "start_time": "2021-12-08T10:55:22.428Z"
   },
   {
    "duration": 12,
    "start_time": "2021-12-08T10:55:22.476Z"
   },
   {
    "duration": 14,
    "start_time": "2021-12-08T10:55:22.490Z"
   },
   {
    "duration": 13,
    "start_time": "2021-12-08T10:55:22.507Z"
   },
   {
    "duration": 44,
    "start_time": "2021-12-08T10:55:22.523Z"
   },
   {
    "duration": 17,
    "start_time": "2021-12-08T10:55:22.570Z"
   },
   {
    "duration": 19,
    "start_time": "2021-12-08T10:55:22.589Z"
   },
   {
    "duration": 2278,
    "start_time": "2021-12-08T10:55:22.611Z"
   },
   {
    "duration": 7299,
    "start_time": "2021-12-08T10:55:50.397Z"
   },
   {
    "duration": 7341,
    "start_time": "2021-12-08T10:56:12.787Z"
   },
   {
    "duration": 61,
    "start_time": "2021-12-08T10:59:57.042Z"
   },
   {
    "duration": 16,
    "start_time": "2021-12-08T10:59:57.105Z"
   },
   {
    "duration": 20,
    "start_time": "2021-12-08T10:59:57.124Z"
   },
   {
    "duration": 11,
    "start_time": "2021-12-08T10:59:57.167Z"
   },
   {
    "duration": 17,
    "start_time": "2021-12-08T10:59:57.180Z"
   },
   {
    "duration": 10,
    "start_time": "2021-12-08T10:59:57.200Z"
   },
   {
    "duration": 13,
    "start_time": "2021-12-08T10:59:57.212Z"
   },
   {
    "duration": 42,
    "start_time": "2021-12-08T10:59:57.229Z"
   },
   {
    "duration": 13,
    "start_time": "2021-12-08T10:59:57.274Z"
   },
   {
    "duration": 12,
    "start_time": "2021-12-08T10:59:57.289Z"
   },
   {
    "duration": 12,
    "start_time": "2021-12-08T10:59:57.303Z"
   },
   {
    "duration": 5,
    "start_time": "2021-12-08T10:59:57.319Z"
   },
   {
    "duration": 47,
    "start_time": "2021-12-08T10:59:57.326Z"
   },
   {
    "duration": 25,
    "start_time": "2021-12-08T10:59:57.376Z"
   },
   {
    "duration": 7589,
    "start_time": "2021-12-08T11:00:01.096Z"
   },
   {
    "duration": 68,
    "start_time": "2021-12-08T11:01:09.067Z"
   },
   {
    "duration": 63,
    "start_time": "2021-12-08T11:01:35.381Z"
   },
   {
    "duration": 65,
    "start_time": "2021-12-08T11:02:26.096Z"
   },
   {
    "duration": 17,
    "start_time": "2021-12-08T11:02:26.165Z"
   },
   {
    "duration": 22,
    "start_time": "2021-12-08T11:02:26.186Z"
   },
   {
    "duration": 15,
    "start_time": "2021-12-08T11:02:26.211Z"
   },
   {
    "duration": 43,
    "start_time": "2021-12-08T11:02:26.229Z"
   },
   {
    "duration": 13,
    "start_time": "2021-12-08T11:02:26.275Z"
   },
   {
    "duration": 16,
    "start_time": "2021-12-08T11:02:26.291Z"
   },
   {
    "duration": 22,
    "start_time": "2021-12-08T11:02:26.309Z"
   },
   {
    "duration": 36,
    "start_time": "2021-12-08T11:02:26.334Z"
   },
   {
    "duration": 14,
    "start_time": "2021-12-08T11:02:26.373Z"
   },
   {
    "duration": 12,
    "start_time": "2021-12-08T11:02:26.390Z"
   },
   {
    "duration": 23,
    "start_time": "2021-12-08T11:02:26.405Z"
   },
   {
    "duration": 34,
    "start_time": "2021-12-08T11:02:26.431Z"
   },
   {
    "duration": 24,
    "start_time": "2021-12-08T11:02:26.467Z"
   },
   {
    "duration": 18,
    "start_time": "2021-12-08T11:02:26.494Z"
   },
   {
    "duration": 58,
    "start_time": "2021-12-08T11:02:52.145Z"
   },
   {
    "duration": 9,
    "start_time": "2021-12-08T11:12:18.230Z"
   },
   {
    "duration": 59,
    "start_time": "2021-12-08T11:12:40.461Z"
   },
   {
    "duration": 7,
    "start_time": "2021-12-08T11:12:44.759Z"
   },
   {
    "duration": 10,
    "start_time": "2021-12-08T11:12:49.328Z"
   },
   {
    "duration": 24,
    "start_time": "2021-12-08T11:15:09.200Z"
   },
   {
    "duration": 27,
    "start_time": "2021-12-08T11:15:14.430Z"
   },
   {
    "duration": 47,
    "start_time": "2021-12-08T11:15:30.581Z"
   },
   {
    "duration": 12,
    "start_time": "2021-12-08T11:21:03.654Z"
   },
   {
    "duration": 932,
    "start_time": "2021-12-08T11:21:27.037Z"
   },
   {
    "duration": 16,
    "start_time": "2021-12-08T11:21:27.971Z"
   },
   {
    "duration": 34,
    "start_time": "2021-12-08T11:21:27.990Z"
   },
   {
    "duration": 9,
    "start_time": "2021-12-08T11:21:28.027Z"
   },
   {
    "duration": 34,
    "start_time": "2021-12-08T11:21:28.039Z"
   },
   {
    "duration": 14,
    "start_time": "2021-12-08T11:21:28.075Z"
   },
   {
    "duration": 16,
    "start_time": "2021-12-08T11:21:28.091Z"
   },
   {
    "duration": 14,
    "start_time": "2021-12-08T11:21:28.110Z"
   },
   {
    "duration": 39,
    "start_time": "2021-12-08T11:21:28.129Z"
   },
   {
    "duration": 12,
    "start_time": "2021-12-08T11:21:28.172Z"
   },
   {
    "duration": 23,
    "start_time": "2021-12-08T11:21:28.187Z"
   },
   {
    "duration": 4,
    "start_time": "2021-12-08T11:21:28.212Z"
   },
   {
    "duration": 26,
    "start_time": "2021-12-08T11:21:28.219Z"
   },
   {
    "duration": 39,
    "start_time": "2021-12-08T11:21:28.247Z"
   },
   {
    "duration": 10,
    "start_time": "2021-12-08T11:21:28.289Z"
   },
   {
    "duration": 91,
    "start_time": "2021-12-08T11:21:28.302Z"
   },
   {
    "duration": 54,
    "start_time": "2021-12-08T11:21:28.395Z"
   },
   {
    "duration": 23,
    "start_time": "2021-12-08T11:21:28.451Z"
   },
   {
    "duration": 8,
    "start_time": "2021-12-08T11:21:28.476Z"
   },
   {
    "duration": 91,
    "start_time": "2021-12-08T11:21:28.486Z"
   },
   {
    "duration": 6,
    "start_time": "2021-12-08T11:21:28.580Z"
   },
   {
    "duration": 17,
    "start_time": "2021-12-08T11:21:28.589Z"
   },
   {
    "duration": 23,
    "start_time": "2021-12-08T11:21:28.609Z"
   },
   {
    "duration": 26,
    "start_time": "2021-12-08T11:21:28.667Z"
   },
   {
    "duration": 45,
    "start_time": "2021-12-08T11:21:28.695Z"
   },
   {
    "duration": 28,
    "start_time": "2021-12-08T11:21:28.743Z"
   },
   {
    "duration": 8,
    "start_time": "2021-12-08T11:21:28.777Z"
   },
   {
    "duration": 6,
    "start_time": "2021-12-08T11:21:28.787Z"
   },
   {
    "duration": 962,
    "start_time": "2021-12-08T11:21:28.796Z"
   },
   {
    "duration": 4912,
    "start_time": "2021-12-08T11:21:29.761Z"
   },
   {
    "duration": 16,
    "start_time": "2021-12-08T11:21:34.675Z"
   },
   {
    "duration": 32,
    "start_time": "2021-12-08T11:21:34.694Z"
   },
   {
    "duration": 40,
    "start_time": "2021-12-08T11:21:34.729Z"
   },
   {
    "duration": 105,
    "start_time": "2021-12-08T11:21:34.772Z"
   },
   {
    "duration": 2424,
    "start_time": "2021-12-08T11:21:32.455Z"
   },
   {
    "duration": 2421,
    "start_time": "2021-12-08T11:21:32.460Z"
   },
   {
    "duration": 2419,
    "start_time": "2021-12-08T11:21:32.463Z"
   },
   {
    "duration": 2420,
    "start_time": "2021-12-08T11:21:32.464Z"
   },
   {
    "duration": 2419,
    "start_time": "2021-12-08T11:21:32.466Z"
   },
   {
    "duration": 2419,
    "start_time": "2021-12-08T11:21:32.468Z"
   },
   {
    "duration": 2418,
    "start_time": "2021-12-08T11:21:32.470Z"
   },
   {
    "duration": 2415,
    "start_time": "2021-12-08T11:21:32.474Z"
   },
   {
    "duration": 2415,
    "start_time": "2021-12-08T11:21:32.476Z"
   },
   {
    "duration": 2415,
    "start_time": "2021-12-08T11:21:32.477Z"
   },
   {
    "duration": 2414,
    "start_time": "2021-12-08T11:21:32.479Z"
   },
   {
    "duration": 7,
    "start_time": "2021-12-08T11:23:22.897Z"
   },
   {
    "duration": 8,
    "start_time": "2021-12-08T11:23:28.064Z"
   },
   {
    "duration": 10,
    "start_time": "2021-12-08T11:30:07.066Z"
   },
   {
    "duration": 9,
    "start_time": "2021-12-08T11:30:38.978Z"
   },
   {
    "duration": 9,
    "start_time": "2021-12-08T11:35:07.199Z"
   },
   {
    "duration": 10,
    "start_time": "2021-12-08T11:35:20.729Z"
   },
   {
    "duration": 114,
    "start_time": "2021-12-08T11:53:05.090Z"
   },
   {
    "duration": 10,
    "start_time": "2021-12-08T11:54:02.733Z"
   },
   {
    "duration": 100,
    "start_time": "2021-12-08T11:54:38.020Z"
   },
   {
    "duration": 132,
    "start_time": "2021-12-08T11:55:18.362Z"
   },
   {
    "duration": 422,
    "start_time": "2021-12-08T11:55:51.789Z"
   },
   {
    "duration": 99,
    "start_time": "2021-12-08T11:56:38.387Z"
   },
   {
    "duration": 100,
    "start_time": "2021-12-08T11:56:55.976Z"
   },
   {
    "duration": 306,
    "start_time": "2021-12-08T11:57:11.576Z"
   },
   {
    "duration": 11,
    "start_time": "2021-12-08T12:00:45.353Z"
   },
   {
    "duration": 9,
    "start_time": "2021-12-08T12:12:59.783Z"
   },
   {
    "duration": 6,
    "start_time": "2021-12-08T12:22:16.846Z"
   },
   {
    "duration": 64,
    "start_time": "2021-12-08T12:22:24.299Z"
   },
   {
    "duration": 16,
    "start_time": "2021-12-08T12:22:24.366Z"
   },
   {
    "duration": 20,
    "start_time": "2021-12-08T12:22:24.385Z"
   },
   {
    "duration": 14,
    "start_time": "2021-12-08T12:22:24.407Z"
   },
   {
    "duration": 16,
    "start_time": "2021-12-08T12:22:24.424Z"
   },
   {
    "duration": 16,
    "start_time": "2021-12-08T12:22:24.468Z"
   },
   {
    "duration": 20,
    "start_time": "2021-12-08T12:22:24.488Z"
   },
   {
    "duration": 21,
    "start_time": "2021-12-08T12:22:24.511Z"
   },
   {
    "duration": 38,
    "start_time": "2021-12-08T12:22:24.537Z"
   },
   {
    "duration": 14,
    "start_time": "2021-12-08T12:22:24.579Z"
   },
   {
    "duration": 12,
    "start_time": "2021-12-08T12:22:24.596Z"
   },
   {
    "duration": 7,
    "start_time": "2021-12-08T12:22:24.610Z"
   },
   {
    "duration": 14,
    "start_time": "2021-12-08T12:22:24.620Z"
   },
   {
    "duration": 19,
    "start_time": "2021-12-08T12:22:24.668Z"
   },
   {
    "duration": 13,
    "start_time": "2021-12-08T12:22:24.690Z"
   },
   {
    "duration": 87,
    "start_time": "2021-12-08T12:22:24.706Z"
   },
   {
    "duration": 93,
    "start_time": "2021-12-08T12:22:24.796Z"
   },
   {
    "duration": 2456,
    "start_time": "2021-12-08T12:22:22.436Z"
   },
   {
    "duration": 62,
    "start_time": "2021-12-08T12:22:37.344Z"
   },
   {
    "duration": 16,
    "start_time": "2021-12-08T12:22:37.409Z"
   },
   {
    "duration": 39,
    "start_time": "2021-12-08T12:22:37.428Z"
   },
   {
    "duration": 10,
    "start_time": "2021-12-08T12:22:37.470Z"
   },
   {
    "duration": 10,
    "start_time": "2021-12-08T12:22:37.483Z"
   },
   {
    "duration": 12,
    "start_time": "2021-12-08T12:22:37.496Z"
   },
   {
    "duration": 57,
    "start_time": "2021-12-08T12:22:37.510Z"
   },
   {
    "duration": 9,
    "start_time": "2021-12-08T12:22:37.570Z"
   },
   {
    "duration": 19,
    "start_time": "2021-12-08T12:22:37.583Z"
   },
   {
    "duration": 13,
    "start_time": "2021-12-08T12:22:37.605Z"
   },
   {
    "duration": 49,
    "start_time": "2021-12-08T12:22:37.621Z"
   },
   {
    "duration": 6,
    "start_time": "2021-12-08T12:22:37.673Z"
   },
   {
    "duration": 13,
    "start_time": "2021-12-08T12:22:37.682Z"
   },
   {
    "duration": 19,
    "start_time": "2021-12-08T12:22:37.698Z"
   },
   {
    "duration": 6,
    "start_time": "2021-12-08T12:22:37.720Z"
   },
   {
    "duration": 99,
    "start_time": "2021-12-08T12:22:37.728Z"
   },
   {
    "duration": 5,
    "start_time": "2021-12-08T12:22:37.830Z"
   },
   {
    "duration": 10,
    "start_time": "2021-12-08T12:26:57.889Z"
   },
   {
    "duration": 9,
    "start_time": "2021-12-08T12:26:59.024Z"
   },
   {
    "duration": 12,
    "start_time": "2021-12-08T12:27:01.329Z"
   },
   {
    "duration": 9,
    "start_time": "2021-12-08T12:34:42.105Z"
   },
   {
    "duration": 10,
    "start_time": "2021-12-08T12:34:46.202Z"
   },
   {
    "duration": 12,
    "start_time": "2021-12-08T12:35:34.605Z"
   },
   {
    "duration": 9,
    "start_time": "2021-12-08T12:37:36.898Z"
   },
   {
    "duration": 22,
    "start_time": "2021-12-08T12:55:55.701Z"
   },
   {
    "duration": 8,
    "start_time": "2021-12-08T12:58:09.341Z"
   },
   {
    "duration": 11,
    "start_time": "2021-12-08T13:45:44.297Z"
   },
   {
    "duration": 876,
    "start_time": "2021-12-08T13:48:51.544Z"
   },
   {
    "duration": 15,
    "start_time": "2021-12-08T13:48:52.422Z"
   },
   {
    "duration": 49,
    "start_time": "2021-12-08T13:48:52.444Z"
   },
   {
    "duration": 11,
    "start_time": "2021-12-08T13:48:52.495Z"
   },
   {
    "duration": 24,
    "start_time": "2021-12-08T13:48:52.508Z"
   },
   {
    "duration": 25,
    "start_time": "2021-12-08T13:48:52.534Z"
   },
   {
    "duration": 11,
    "start_time": "2021-12-08T13:48:52.567Z"
   },
   {
    "duration": 26,
    "start_time": "2021-12-08T13:48:52.581Z"
   },
   {
    "duration": 41,
    "start_time": "2021-12-08T13:48:52.609Z"
   },
   {
    "duration": 20,
    "start_time": "2021-12-08T13:48:52.652Z"
   },
   {
    "duration": 19,
    "start_time": "2021-12-08T13:48:52.675Z"
   },
   {
    "duration": 13,
    "start_time": "2021-12-08T13:48:52.697Z"
   },
   {
    "duration": 26,
    "start_time": "2021-12-08T13:48:52.712Z"
   },
   {
    "duration": 20,
    "start_time": "2021-12-08T13:48:52.740Z"
   },
   {
    "duration": 23,
    "start_time": "2021-12-08T13:48:52.762Z"
   },
   {
    "duration": 84,
    "start_time": "2021-12-08T13:48:52.788Z"
   },
   {
    "duration": 6,
    "start_time": "2021-12-08T13:48:52.874Z"
   },
   {
    "duration": 73,
    "start_time": "2021-12-08T13:48:52.882Z"
   },
   {
    "duration": 18,
    "start_time": "2021-12-08T13:48:52.957Z"
   },
   {
    "duration": 24,
    "start_time": "2021-12-08T13:48:52.978Z"
   },
   {
    "duration": 75,
    "start_time": "2021-12-08T13:48:53.004Z"
   },
   {
    "duration": 7,
    "start_time": "2021-12-08T13:48:53.085Z"
   },
   {
    "duration": 42,
    "start_time": "2021-12-08T13:48:53.095Z"
   },
   {
    "duration": 26,
    "start_time": "2021-12-08T13:48:53.140Z"
   },
   {
    "duration": 27,
    "start_time": "2021-12-08T13:48:53.169Z"
   },
   {
    "duration": 47,
    "start_time": "2021-12-08T13:48:53.198Z"
   },
   {
    "duration": 6,
    "start_time": "2021-12-08T13:48:53.268Z"
   },
   {
    "duration": 35,
    "start_time": "2021-12-08T13:48:53.277Z"
   },
   {
    "duration": 28,
    "start_time": "2021-12-08T13:48:53.314Z"
   },
   {
    "duration": 950,
    "start_time": "2021-12-08T13:48:53.345Z"
   },
   {
    "duration": 5029,
    "start_time": "2021-12-08T13:48:54.297Z"
   },
   {
    "duration": 17,
    "start_time": "2021-12-08T13:48:59.328Z"
   },
   {
    "duration": 23,
    "start_time": "2021-12-08T13:48:59.367Z"
   },
   {
    "duration": 24,
    "start_time": "2021-12-08T13:48:59.392Z"
   },
   {
    "duration": 6,
    "start_time": "2021-12-08T13:48:59.418Z"
   },
   {
    "duration": 48,
    "start_time": "2021-12-08T13:48:59.426Z"
   },
   {
    "duration": 11,
    "start_time": "2021-12-08T13:48:59.477Z"
   },
   {
    "duration": 12,
    "start_time": "2021-12-08T13:48:59.490Z"
   },
   {
    "duration": 9,
    "start_time": "2021-12-08T13:48:59.505Z"
   },
   {
    "duration": 55,
    "start_time": "2021-12-08T13:48:59.516Z"
   },
   {
    "duration": 8,
    "start_time": "2021-12-08T13:48:59.573Z"
   },
   {
    "duration": 13,
    "start_time": "2021-12-08T13:48:59.584Z"
   },
   {
    "duration": 18,
    "start_time": "2021-12-08T13:48:59.600Z"
   },
   {
    "duration": 52,
    "start_time": "2021-12-08T13:48:59.621Z"
   },
   {
    "duration": 9,
    "start_time": "2021-12-08T13:48:59.676Z"
   },
   {
    "duration": 11,
    "start_time": "2021-12-08T13:48:59.688Z"
   },
   {
    "duration": 9,
    "start_time": "2021-12-08T13:48:59.702Z"
   },
   {
    "duration": 11,
    "start_time": "2021-12-08T13:48:59.713Z"
   },
   {
    "duration": 13,
    "start_time": "2021-12-08T13:53:09.885Z"
   },
   {
    "duration": 9,
    "start_time": "2021-12-08T13:59:03.461Z"
   },
   {
    "duration": 8,
    "start_time": "2021-12-08T14:00:25.508Z"
   },
   {
    "duration": 426,
    "start_time": "2021-12-08T14:04:26.327Z"
   },
   {
    "duration": 10,
    "start_time": "2021-12-08T14:04:40.096Z"
   },
   {
    "duration": 337,
    "start_time": "2021-12-08T14:10:44.822Z"
   },
   {
    "duration": 10,
    "start_time": "2021-12-08T14:11:06.229Z"
   },
   {
    "duration": 10,
    "start_time": "2021-12-08T14:28:13.774Z"
   },
   {
    "duration": 7,
    "start_time": "2021-12-08T14:28:22.235Z"
   },
   {
    "duration": 11,
    "start_time": "2021-12-08T14:28:24.781Z"
   },
   {
    "duration": 12,
    "start_time": "2021-12-08T14:33:46.133Z"
   },
   {
    "duration": 11,
    "start_time": "2021-12-08T14:37:40.925Z"
   },
   {
    "duration": 14,
    "start_time": "2021-12-08T14:37:56.664Z"
   },
   {
    "duration": 10,
    "start_time": "2021-12-08T14:40:11.112Z"
   },
   {
    "duration": 10,
    "start_time": "2021-12-08T14:56:01.464Z"
   },
   {
    "duration": 6,
    "start_time": "2021-12-08T14:56:04.925Z"
   },
   {
    "duration": 10,
    "start_time": "2021-12-08T14:56:06.318Z"
   },
   {
    "duration": 7,
    "start_time": "2021-12-08T14:56:22.491Z"
   },
   {
    "duration": 10,
    "start_time": "2021-12-08T14:56:26.838Z"
   },
   {
    "duration": 1004,
    "start_time": "2021-12-08T15:18:14.222Z"
   },
   {
    "duration": 7958,
    "start_time": "2021-12-08T15:22:14.664Z"
   },
   {
    "duration": 12,
    "start_time": "2021-12-08T15:23:57.029Z"
   },
   {
    "duration": 7725,
    "start_time": "2021-12-08T15:24:30.682Z"
   },
   {
    "duration": 248,
    "start_time": "2021-12-08T15:25:04.913Z"
   },
   {
    "duration": 8000,
    "start_time": "2021-12-08T15:27:01.512Z"
   },
   {
    "duration": 353,
    "start_time": "2021-12-08T15:27:28.878Z"
   },
   {
    "duration": 3,
    "start_time": "2021-12-08T15:28:33.848Z"
   },
   {
    "duration": 3,
    "start_time": "2021-12-08T15:29:56.350Z"
   },
   {
    "duration": 8,
    "start_time": "2021-12-08T15:30:16.127Z"
   },
   {
    "duration": 289,
    "start_time": "2021-12-08T15:31:27.423Z"
   },
   {
    "duration": 253,
    "start_time": "2021-12-08T15:32:10.365Z"
   },
   {
    "duration": 301,
    "start_time": "2021-12-08T15:33:13.880Z"
   },
   {
    "duration": 641,
    "start_time": "2021-12-08T15:33:38.604Z"
   },
   {
    "duration": 10,
    "start_time": "2021-12-08T15:33:55.781Z"
   },
   {
    "duration": 8,
    "start_time": "2021-12-08T15:33:59.911Z"
   },
   {
    "duration": 7,
    "start_time": "2021-12-08T15:34:11.559Z"
   },
   {
    "duration": 7759,
    "start_time": "2021-12-08T15:34:15.547Z"
   },
   {
    "duration": 359,
    "start_time": "2021-12-08T15:34:46.289Z"
   },
   {
    "duration": 7,
    "start_time": "2021-12-08T15:35:10.226Z"
   },
   {
    "duration": 10,
    "start_time": "2021-12-08T15:35:54.273Z"
   },
   {
    "duration": 318,
    "start_time": "2021-12-08T15:36:25.986Z"
   },
   {
    "duration": 96,
    "start_time": "2021-12-08T15:42:13.369Z"
   },
   {
    "duration": 335,
    "start_time": "2021-12-08T15:46:24.345Z"
   },
   {
    "duration": 288,
    "start_time": "2021-12-08T15:46:41.864Z"
   },
   {
    "duration": 370,
    "start_time": "2021-12-08T15:46:56.041Z"
   },
   {
    "duration": 7,
    "start_time": "2021-12-08T15:53:42.572Z"
   },
   {
    "duration": 14,
    "start_time": "2021-12-08T15:55:10.644Z"
   },
   {
    "duration": 12,
    "start_time": "2021-12-08T15:56:04.782Z"
   },
   {
    "duration": 13,
    "start_time": "2021-12-08T15:56:20.259Z"
   },
   {
    "duration": 11,
    "start_time": "2021-12-08T15:58:01.802Z"
   },
   {
    "duration": 17,
    "start_time": "2021-12-08T16:02:48.185Z"
   },
   {
    "duration": 10,
    "start_time": "2021-12-08T16:09:02.928Z"
   },
   {
    "duration": 11,
    "start_time": "2021-12-08T16:09:11.280Z"
   },
   {
    "duration": 11,
    "start_time": "2021-12-08T16:11:54.938Z"
   },
   {
    "duration": 8,
    "start_time": "2021-12-08T16:19:57.757Z"
   },
   {
    "duration": 12,
    "start_time": "2021-12-08T16:20:08.980Z"
   },
   {
    "duration": 7,
    "start_time": "2021-12-08T16:20:46.154Z"
   },
   {
    "duration": 8,
    "start_time": "2021-12-08T16:20:55.855Z"
   },
   {
    "duration": 10,
    "start_time": "2021-12-08T16:36:54.593Z"
   },
   {
    "duration": 5,
    "start_time": "2021-12-08T16:38:44.112Z"
   },
   {
    "duration": 873,
    "start_time": "2021-12-08T16:39:07.448Z"
   },
   {
    "duration": 17,
    "start_time": "2021-12-08T16:39:08.324Z"
   },
   {
    "duration": 44,
    "start_time": "2021-12-08T16:39:08.344Z"
   },
   {
    "duration": 10,
    "start_time": "2021-12-08T16:39:08.391Z"
   },
   {
    "duration": 27,
    "start_time": "2021-12-08T16:39:08.404Z"
   },
   {
    "duration": 23,
    "start_time": "2021-12-08T16:39:08.433Z"
   },
   {
    "duration": 17,
    "start_time": "2021-12-08T16:39:08.458Z"
   },
   {
    "duration": 16,
    "start_time": "2021-12-08T16:39:08.478Z"
   },
   {
    "duration": 8,
    "start_time": "2021-12-08T16:39:08.498Z"
   },
   {
    "duration": 13,
    "start_time": "2021-12-08T16:39:08.509Z"
   },
   {
    "duration": 55,
    "start_time": "2021-12-08T16:39:08.525Z"
   },
   {
    "duration": 5,
    "start_time": "2021-12-08T16:39:08.583Z"
   },
   {
    "duration": 12,
    "start_time": "2021-12-08T16:39:08.591Z"
   },
   {
    "duration": 64,
    "start_time": "2021-12-08T16:39:08.605Z"
   },
   {
    "duration": 6,
    "start_time": "2021-12-08T16:39:08.671Z"
   },
   {
    "duration": 68,
    "start_time": "2021-12-08T16:39:08.680Z"
   },
   {
    "duration": 6,
    "start_time": "2021-12-08T16:39:08.767Z"
   },
   {
    "duration": 66,
    "start_time": "2021-12-08T16:39:08.775Z"
   },
   {
    "duration": 24,
    "start_time": "2021-12-08T16:39:08.843Z"
   },
   {
    "duration": 8,
    "start_time": "2021-12-08T16:39:08.870Z"
   },
   {
    "duration": 73,
    "start_time": "2021-12-08T16:39:08.881Z"
   },
   {
    "duration": 16,
    "start_time": "2021-12-08T16:39:08.956Z"
   },
   {
    "duration": 26,
    "start_time": "2021-12-08T16:39:08.975Z"
   },
   {
    "duration": 26,
    "start_time": "2021-12-08T16:39:09.004Z"
   },
   {
    "duration": 53,
    "start_time": "2021-12-08T16:39:09.033Z"
   },
   {
    "duration": 45,
    "start_time": "2021-12-08T16:39:09.088Z"
   },
   {
    "duration": 28,
    "start_time": "2021-12-08T16:39:09.139Z"
   },
   {
    "duration": 8,
    "start_time": "2021-12-08T16:39:09.170Z"
   },
   {
    "duration": 6,
    "start_time": "2021-12-08T16:39:09.180Z"
   },
   {
    "duration": 967,
    "start_time": "2021-12-08T16:39:09.188Z"
   },
   {
    "duration": 4935,
    "start_time": "2021-12-08T16:39:10.157Z"
   },
   {
    "duration": 17,
    "start_time": "2021-12-08T16:39:15.095Z"
   },
   {
    "duration": 23,
    "start_time": "2021-12-08T16:39:15.115Z"
   },
   {
    "duration": 25,
    "start_time": "2021-12-08T16:39:15.167Z"
   },
   {
    "duration": 6,
    "start_time": "2021-12-08T16:39:15.195Z"
   },
   {
    "duration": 30,
    "start_time": "2021-12-08T16:39:15.203Z"
   },
   {
    "duration": 10,
    "start_time": "2021-12-08T16:39:15.235Z"
   },
   {
    "duration": 9,
    "start_time": "2021-12-08T16:39:15.268Z"
   },
   {
    "duration": 19,
    "start_time": "2021-12-08T16:39:15.279Z"
   },
   {
    "duration": 995,
    "start_time": "2021-12-08T16:39:15.300Z"
   },
   {
    "duration": 94,
    "start_time": "2021-12-08T16:39:16.297Z"
   },
   {
    "duration": 2613,
    "start_time": "2021-12-08T16:39:13.780Z"
   },
   {
    "duration": 2603,
    "start_time": "2021-12-08T16:39:13.792Z"
   },
   {
    "duration": 2600,
    "start_time": "2021-12-08T16:39:13.796Z"
   },
   {
    "duration": 2599,
    "start_time": "2021-12-08T16:39:13.798Z"
   },
   {
    "duration": 2600,
    "start_time": "2021-12-08T16:39:13.799Z"
   },
   {
    "duration": 2601,
    "start_time": "2021-12-08T16:39:13.800Z"
   },
   {
    "duration": 2602,
    "start_time": "2021-12-08T16:39:13.801Z"
   },
   {
    "duration": 2600,
    "start_time": "2021-12-08T16:39:13.804Z"
   },
   {
    "duration": 2595,
    "start_time": "2021-12-08T16:39:13.811Z"
   },
   {
    "duration": 2594,
    "start_time": "2021-12-08T16:39:13.814Z"
   },
   {
    "duration": 2595,
    "start_time": "2021-12-08T16:39:13.815Z"
   },
   {
    "duration": 812,
    "start_time": "2021-12-08T16:40:15.702Z"
   },
   {
    "duration": 17,
    "start_time": "2021-12-08T16:40:16.517Z"
   },
   {
    "duration": 46,
    "start_time": "2021-12-08T16:40:16.537Z"
   },
   {
    "duration": 10,
    "start_time": "2021-12-08T16:40:16.586Z"
   },
   {
    "duration": 9,
    "start_time": "2021-12-08T16:40:16.599Z"
   },
   {
    "duration": 10,
    "start_time": "2021-12-08T16:40:16.611Z"
   },
   {
    "duration": 47,
    "start_time": "2021-12-08T16:40:16.624Z"
   },
   {
    "duration": 11,
    "start_time": "2021-12-08T16:40:16.675Z"
   },
   {
    "duration": 9,
    "start_time": "2021-12-08T16:40:16.689Z"
   },
   {
    "duration": 13,
    "start_time": "2021-12-08T16:40:16.700Z"
   },
   {
    "duration": 59,
    "start_time": "2021-12-08T16:40:16.715Z"
   },
   {
    "duration": 5,
    "start_time": "2021-12-08T16:40:16.776Z"
   },
   {
    "duration": 20,
    "start_time": "2021-12-08T16:40:16.783Z"
   },
   {
    "duration": 18,
    "start_time": "2021-12-08T16:40:16.806Z"
   },
   {
    "duration": 12,
    "start_time": "2021-12-08T16:40:16.826Z"
   },
   {
    "duration": 87,
    "start_time": "2021-12-08T16:40:16.841Z"
   },
   {
    "duration": 5,
    "start_time": "2021-12-08T16:40:16.930Z"
   },
   {
    "duration": 79,
    "start_time": "2021-12-08T16:40:16.937Z"
   },
   {
    "duration": 11,
    "start_time": "2021-12-08T16:40:17.018Z"
   },
   {
    "duration": 38,
    "start_time": "2021-12-08T16:40:17.031Z"
   },
   {
    "duration": 60,
    "start_time": "2021-12-08T16:40:17.072Z"
   },
   {
    "duration": 7,
    "start_time": "2021-12-08T16:40:17.135Z"
   },
   {
    "duration": 53,
    "start_time": "2021-12-08T16:40:17.168Z"
   },
   {
    "duration": 26,
    "start_time": "2021-12-08T16:40:17.225Z"
   },
   {
    "duration": 34,
    "start_time": "2021-12-08T16:40:17.253Z"
   },
   {
    "duration": 45,
    "start_time": "2021-12-08T16:40:17.289Z"
   },
   {
    "duration": 5,
    "start_time": "2021-12-08T16:40:17.337Z"
   },
   {
    "duration": 43,
    "start_time": "2021-12-08T16:40:17.344Z"
   },
   {
    "duration": 18,
    "start_time": "2021-12-08T16:40:17.389Z"
   },
   {
    "duration": 1000,
    "start_time": "2021-12-08T16:40:17.410Z"
   },
   {
    "duration": 5072,
    "start_time": "2021-12-08T16:40:18.413Z"
   },
   {
    "duration": 18,
    "start_time": "2021-12-08T16:40:23.488Z"
   },
   {
    "duration": 21,
    "start_time": "2021-12-08T16:40:23.508Z"
   },
   {
    "duration": 55,
    "start_time": "2021-12-08T16:40:23.532Z"
   },
   {
    "duration": 5,
    "start_time": "2021-12-08T16:40:23.589Z"
   },
   {
    "duration": 14,
    "start_time": "2021-12-08T16:40:23.597Z"
   },
   {
    "duration": 8,
    "start_time": "2021-12-08T16:40:23.613Z"
   },
   {
    "duration": 49,
    "start_time": "2021-12-08T16:40:23.624Z"
   },
   {
    "duration": 10,
    "start_time": "2021-12-08T16:40:23.675Z"
   },
   {
    "duration": 973,
    "start_time": "2021-12-08T16:40:23.688Z"
   },
   {
    "duration": 91,
    "start_time": "2021-12-08T16:40:24.667Z"
   },
   {
    "duration": 2628,
    "start_time": "2021-12-08T16:40:22.132Z"
   },
   {
    "duration": 2626,
    "start_time": "2021-12-08T16:40:22.135Z"
   },
   {
    "duration": 2627,
    "start_time": "2021-12-08T16:40:22.136Z"
   },
   {
    "duration": 2626,
    "start_time": "2021-12-08T16:40:22.138Z"
   },
   {
    "duration": 2623,
    "start_time": "2021-12-08T16:40:22.142Z"
   },
   {
    "duration": 2622,
    "start_time": "2021-12-08T16:40:22.145Z"
   },
   {
    "duration": 2617,
    "start_time": "2021-12-08T16:40:22.151Z"
   },
   {
    "duration": 2615,
    "start_time": "2021-12-08T16:40:22.154Z"
   },
   {
    "duration": 2614,
    "start_time": "2021-12-08T16:40:22.157Z"
   },
   {
    "duration": 2614,
    "start_time": "2021-12-08T16:40:22.158Z"
   },
   {
    "duration": 2612,
    "start_time": "2021-12-08T16:40:22.161Z"
   },
   {
    "duration": 862,
    "start_time": "2021-12-08T16:40:41.938Z"
   },
   {
    "duration": 15,
    "start_time": "2021-12-08T16:40:42.803Z"
   },
   {
    "duration": 56,
    "start_time": "2021-12-08T16:40:42.821Z"
   },
   {
    "duration": 10,
    "start_time": "2021-12-08T16:40:42.880Z"
   },
   {
    "duration": 17,
    "start_time": "2021-12-08T16:40:42.893Z"
   },
   {
    "duration": 11,
    "start_time": "2021-12-08T16:40:42.913Z"
   },
   {
    "duration": 21,
    "start_time": "2021-12-08T16:40:42.926Z"
   },
   {
    "duration": 23,
    "start_time": "2021-12-08T16:40:42.949Z"
   },
   {
    "duration": 14,
    "start_time": "2021-12-08T16:40:42.977Z"
   },
   {
    "duration": 14,
    "start_time": "2021-12-08T16:40:42.995Z"
   },
   {
    "duration": 16,
    "start_time": "2021-12-08T16:40:43.012Z"
   },
   {
    "duration": 4,
    "start_time": "2021-12-08T16:40:43.030Z"
   },
   {
    "duration": 20,
    "start_time": "2021-12-08T16:40:43.037Z"
   },
   {
    "duration": 21,
    "start_time": "2021-12-08T16:40:43.060Z"
   },
   {
    "duration": 7,
    "start_time": "2021-12-08T16:40:43.083Z"
   },
   {
    "duration": 80,
    "start_time": "2021-12-08T16:40:43.093Z"
   },
   {
    "duration": 5,
    "start_time": "2021-12-08T16:40:43.175Z"
   },
   {
    "duration": 58,
    "start_time": "2021-12-08T16:40:43.182Z"
   },
   {
    "duration": 17,
    "start_time": "2021-12-08T16:40:43.243Z"
   },
   {
    "duration": 11,
    "start_time": "2021-12-08T16:40:43.263Z"
   },
   {
    "duration": 71,
    "start_time": "2021-12-08T16:40:43.276Z"
   },
   {
    "duration": 7,
    "start_time": "2021-12-08T16:40:43.349Z"
   },
   {
    "duration": 20,
    "start_time": "2021-12-08T16:40:43.358Z"
   },
   {
    "duration": 24,
    "start_time": "2021-12-08T16:40:43.380Z"
   },
   {
    "duration": 39,
    "start_time": "2021-12-08T16:40:43.406Z"
   },
   {
    "duration": 45,
    "start_time": "2021-12-08T16:40:43.447Z"
   },
   {
    "duration": 9,
    "start_time": "2021-12-08T16:40:43.497Z"
   },
   {
    "duration": 7,
    "start_time": "2021-12-08T16:40:43.509Z"
   },
   {
    "duration": 4,
    "start_time": "2021-12-08T16:40:43.519Z"
   },
   {
    "duration": 1315,
    "start_time": "2021-12-08T16:40:43.526Z"
   },
   {
    "duration": 4926,
    "start_time": "2021-12-08T16:40:44.844Z"
   },
   {
    "duration": 18,
    "start_time": "2021-12-08T16:40:49.773Z"
   },
   {
    "duration": 28,
    "start_time": "2021-12-08T16:40:49.793Z"
   },
   {
    "duration": 57,
    "start_time": "2021-12-08T16:40:49.824Z"
   },
   {
    "duration": 7,
    "start_time": "2021-12-08T16:40:49.883Z"
   },
   {
    "duration": 14,
    "start_time": "2021-12-08T16:40:49.892Z"
   },
   {
    "duration": 19,
    "start_time": "2021-12-08T16:40:49.909Z"
   },
   {
    "duration": 39,
    "start_time": "2021-12-08T16:40:49.930Z"
   },
   {
    "duration": 22,
    "start_time": "2021-12-08T16:40:49.971Z"
   },
   {
    "duration": 1215,
    "start_time": "2021-12-08T16:40:49.995Z"
   },
   {
    "duration": 9,
    "start_time": "2021-12-08T16:40:51.213Z"
   },
   {
    "duration": 9,
    "start_time": "2021-12-08T16:40:51.225Z"
   },
   {
    "duration": 33,
    "start_time": "2021-12-08T16:40:51.236Z"
   },
   {
    "duration": 16,
    "start_time": "2021-12-08T16:40:51.271Z"
   },
   {
    "duration": 22,
    "start_time": "2021-12-08T16:40:51.289Z"
   },
   {
    "duration": 4,
    "start_time": "2021-12-08T16:40:51.314Z"
   },
   {
    "duration": 47,
    "start_time": "2021-12-08T16:40:51.321Z"
   },
   {
    "duration": 11,
    "start_time": "2021-12-08T16:40:51.371Z"
   },
   {
    "duration": 14,
    "start_time": "2021-12-08T16:40:51.384Z"
   },
   {
    "duration": 8,
    "start_time": "2021-12-08T16:40:51.400Z"
   },
   {
    "duration": 11,
    "start_time": "2021-12-08T16:40:51.410Z"
   },
   {
    "duration": 10,
    "start_time": "2021-12-08T16:43:49.227Z"
   },
   {
    "duration": 14,
    "start_time": "2021-12-08T16:43:58.446Z"
   },
   {
    "duration": 9,
    "start_time": "2021-12-08T16:43:59.902Z"
   },
   {
    "duration": 431,
    "start_time": "2021-12-08T16:55:27.968Z"
   },
   {
    "duration": 4,
    "start_time": "2021-12-08T16:55:34.918Z"
   },
   {
    "duration": 11,
    "start_time": "2021-12-08T16:55:36.460Z"
   },
   {
    "duration": 253,
    "start_time": "2021-12-08T16:57:09.774Z"
   },
   {
    "duration": 11,
    "start_time": "2021-12-08T16:59:28.528Z"
   },
   {
    "duration": 8,
    "start_time": "2021-12-08T16:59:30.217Z"
   },
   {
    "duration": 10,
    "start_time": "2021-12-08T16:59:33.229Z"
   },
   {
    "duration": 315,
    "start_time": "2021-12-08T17:02:12.175Z"
   },
   {
    "duration": 8,
    "start_time": "2021-12-08T17:02:18.377Z"
   },
   {
    "duration": 10,
    "start_time": "2021-12-08T17:02:20.104Z"
   },
   {
    "duration": 10,
    "start_time": "2021-12-08T17:02:38.755Z"
   },
   {
    "duration": 897,
    "start_time": "2021-12-08T17:51:24.434Z"
   },
   {
    "duration": 21,
    "start_time": "2021-12-08T17:51:25.334Z"
   },
   {
    "duration": 30,
    "start_time": "2021-12-08T17:51:25.367Z"
   },
   {
    "duration": 11,
    "start_time": "2021-12-08T17:51:25.400Z"
   },
   {
    "duration": 11,
    "start_time": "2021-12-08T17:51:25.415Z"
   },
   {
    "duration": 49,
    "start_time": "2021-12-08T17:51:25.429Z"
   },
   {
    "duration": 12,
    "start_time": "2021-12-08T17:51:25.481Z"
   },
   {
    "duration": 11,
    "start_time": "2021-12-08T17:51:25.495Z"
   },
   {
    "duration": 8,
    "start_time": "2021-12-08T17:51:25.511Z"
   },
   {
    "duration": 56,
    "start_time": "2021-12-08T17:51:25.523Z"
   },
   {
    "duration": 16,
    "start_time": "2021-12-08T17:51:25.582Z"
   },
   {
    "duration": 4,
    "start_time": "2021-12-08T17:51:25.601Z"
   },
   {
    "duration": 22,
    "start_time": "2021-12-08T17:51:25.608Z"
   },
   {
    "duration": 53,
    "start_time": "2021-12-08T17:51:25.633Z"
   },
   {
    "duration": 9,
    "start_time": "2021-12-08T17:51:25.689Z"
   },
   {
    "duration": 99,
    "start_time": "2021-12-08T17:51:25.700Z"
   },
   {
    "duration": 6,
    "start_time": "2021-12-08T17:51:25.802Z"
   },
   {
    "duration": 74,
    "start_time": "2021-12-08T17:51:25.811Z"
   },
   {
    "duration": 10,
    "start_time": "2021-12-08T17:51:25.888Z"
   },
   {
    "duration": 9,
    "start_time": "2021-12-08T17:51:25.900Z"
   },
   {
    "duration": 126,
    "start_time": "2021-12-08T17:51:25.911Z"
   },
   {
    "duration": 8,
    "start_time": "2021-12-08T17:51:26.041Z"
   },
   {
    "duration": 21,
    "start_time": "2021-12-08T17:51:26.067Z"
   },
   {
    "duration": 37,
    "start_time": "2021-12-08T17:51:26.091Z"
   },
   {
    "duration": 70,
    "start_time": "2021-12-08T17:51:26.132Z"
   },
   {
    "duration": 80,
    "start_time": "2021-12-08T17:51:26.205Z"
   },
   {
    "duration": 7,
    "start_time": "2021-12-08T17:51:26.294Z"
   },
   {
    "duration": 11,
    "start_time": "2021-12-08T17:51:26.306Z"
   },
   {
    "duration": 5,
    "start_time": "2021-12-08T17:51:26.320Z"
   },
   {
    "duration": 1405,
    "start_time": "2021-12-08T17:51:26.328Z"
   },
   {
    "duration": 5407,
    "start_time": "2021-12-08T17:51:27.736Z"
   },
   {
    "duration": 33,
    "start_time": "2021-12-08T17:51:33.145Z"
   },
   {
    "duration": 24,
    "start_time": "2021-12-08T17:51:33.181Z"
   },
   {
    "duration": 26,
    "start_time": "2021-12-08T17:51:33.207Z"
   },
   {
    "duration": 6,
    "start_time": "2021-12-08T17:51:33.267Z"
   },
   {
    "duration": 14,
    "start_time": "2021-12-08T17:51:33.276Z"
   },
   {
    "duration": 8,
    "start_time": "2021-12-08T17:51:33.293Z"
   },
   {
    "duration": 11,
    "start_time": "2021-12-08T17:51:33.304Z"
   },
   {
    "duration": 10,
    "start_time": "2021-12-08T17:51:33.367Z"
   },
   {
    "duration": 1014,
    "start_time": "2021-12-08T17:51:33.379Z"
   },
   {
    "duration": 10,
    "start_time": "2021-12-08T17:51:34.396Z"
   },
   {
    "duration": 10,
    "start_time": "2021-12-08T17:51:34.408Z"
   },
   {
    "duration": 11,
    "start_time": "2021-12-08T17:51:34.421Z"
   },
   {
    "duration": 39,
    "start_time": "2021-12-08T17:51:34.435Z"
   },
   {
    "duration": 20,
    "start_time": "2021-12-08T17:51:34.477Z"
   },
   {
    "duration": 18,
    "start_time": "2021-12-08T17:51:34.500Z"
   },
   {
    "duration": 11,
    "start_time": "2021-12-08T17:51:34.521Z"
   },
   {
    "duration": 38,
    "start_time": "2021-12-08T17:51:34.535Z"
   },
   {
    "duration": 104,
    "start_time": "2021-12-08T17:51:34.576Z"
   },
   {
    "duration": 2663,
    "start_time": "2021-12-08T17:51:32.019Z"
   },
   {
    "duration": 2662,
    "start_time": "2021-12-08T17:51:32.022Z"
   },
   {
    "duration": 2662,
    "start_time": "2021-12-08T17:51:32.023Z"
   },
   {
    "duration": 2661,
    "start_time": "2021-12-08T17:51:32.025Z"
   },
   {
    "duration": 2662,
    "start_time": "2021-12-08T17:51:32.026Z"
   },
   {
    "duration": 869,
    "start_time": "2021-12-08T17:53:13.068Z"
   },
   {
    "duration": 16,
    "start_time": "2021-12-08T17:53:13.939Z"
   },
   {
    "duration": 37,
    "start_time": "2021-12-08T17:53:13.959Z"
   },
   {
    "duration": 17,
    "start_time": "2021-12-08T17:53:14.000Z"
   },
   {
    "duration": 10,
    "start_time": "2021-12-08T17:53:14.020Z"
   },
   {
    "duration": 41,
    "start_time": "2021-12-08T17:53:14.033Z"
   },
   {
    "duration": 13,
    "start_time": "2021-12-08T17:53:14.077Z"
   },
   {
    "duration": 11,
    "start_time": "2021-12-08T17:53:14.094Z"
   },
   {
    "duration": 10,
    "start_time": "2021-12-08T17:53:14.108Z"
   },
   {
    "duration": 52,
    "start_time": "2021-12-08T17:53:14.120Z"
   },
   {
    "duration": 16,
    "start_time": "2021-12-08T17:53:14.175Z"
   },
   {
    "duration": 6,
    "start_time": "2021-12-08T17:53:14.193Z"
   },
   {
    "duration": 19,
    "start_time": "2021-12-08T17:53:14.202Z"
   },
   {
    "duration": 59,
    "start_time": "2021-12-08T17:53:14.224Z"
   },
   {
    "duration": 7,
    "start_time": "2021-12-08T17:53:14.286Z"
   },
   {
    "duration": 95,
    "start_time": "2021-12-08T17:53:14.296Z"
   },
   {
    "duration": 8,
    "start_time": "2021-12-08T17:53:14.394Z"
   },
   {
    "duration": 80,
    "start_time": "2021-12-08T17:53:14.406Z"
   },
   {
    "duration": 11,
    "start_time": "2021-12-08T17:53:14.488Z"
   },
   {
    "duration": 11,
    "start_time": "2021-12-08T17:53:14.502Z"
   },
   {
    "duration": 100,
    "start_time": "2021-12-08T17:53:14.516Z"
   },
   {
    "duration": 9,
    "start_time": "2021-12-08T17:53:14.619Z"
   },
   {
    "duration": 41,
    "start_time": "2021-12-08T17:53:14.636Z"
   },
   {
    "duration": 27,
    "start_time": "2021-12-08T17:53:14.681Z"
   },
   {
    "duration": 57,
    "start_time": "2021-12-08T17:53:14.711Z"
   },
   {
    "duration": 44,
    "start_time": "2021-12-08T17:53:14.771Z"
   },
   {
    "duration": 6,
    "start_time": "2021-12-08T17:53:14.817Z"
   },
   {
    "duration": 42,
    "start_time": "2021-12-08T17:53:14.826Z"
   },
   {
    "duration": 4,
    "start_time": "2021-12-08T17:53:14.871Z"
   },
   {
    "duration": 1010,
    "start_time": "2021-12-08T17:53:14.877Z"
   },
   {
    "duration": 5532,
    "start_time": "2021-12-08T17:53:15.890Z"
   },
   {
    "duration": 18,
    "start_time": "2021-12-08T17:53:21.425Z"
   },
   {
    "duration": 52,
    "start_time": "2021-12-08T17:53:21.446Z"
   },
   {
    "duration": 28,
    "start_time": "2021-12-08T17:53:21.501Z"
   },
   {
    "duration": 44,
    "start_time": "2021-12-08T17:53:21.532Z"
   },
   {
    "duration": 25,
    "start_time": "2021-12-08T17:53:21.579Z"
   },
   {
    "duration": 12,
    "start_time": "2021-12-08T17:53:21.608Z"
   },
   {
    "duration": 13,
    "start_time": "2021-12-08T17:53:21.624Z"
   },
   {
    "duration": 37,
    "start_time": "2021-12-08T17:53:21.640Z"
   },
   {
    "duration": 1118,
    "start_time": "2021-12-08T17:53:21.680Z"
   },
   {
    "duration": 12,
    "start_time": "2021-12-08T17:53:22.802Z"
   },
   {
    "duration": 12,
    "start_time": "2021-12-08T17:53:22.817Z"
   },
   {
    "duration": 36,
    "start_time": "2021-12-08T17:53:22.832Z"
   },
   {
    "duration": 17,
    "start_time": "2021-12-08T17:53:22.871Z"
   },
   {
    "duration": 20,
    "start_time": "2021-12-08T17:53:22.890Z"
   },
   {
    "duration": 14,
    "start_time": "2021-12-08T17:53:22.913Z"
   },
   {
    "duration": 5,
    "start_time": "2021-12-08T17:53:22.929Z"
   },
   {
    "duration": 39,
    "start_time": "2021-12-08T17:53:22.937Z"
   },
   {
    "duration": 275,
    "start_time": "2021-12-08T17:53:22.979Z"
   },
   {
    "duration": 19,
    "start_time": "2021-12-08T17:53:23.256Z"
   },
   {
    "duration": 8,
    "start_time": "2021-12-08T17:53:23.277Z"
   },
   {
    "duration": 14,
    "start_time": "2021-12-08T17:53:23.287Z"
   },
   {
    "duration": 14,
    "start_time": "2021-12-08T17:53:23.303Z"
   },
   {
    "duration": 598,
    "start_time": "2021-12-09T13:02:58.348Z"
   },
   {
    "duration": 11,
    "start_time": "2021-12-09T13:02:58.948Z"
   },
   {
    "duration": 18,
    "start_time": "2021-12-09T13:02:58.961Z"
   },
   {
    "duration": 13,
    "start_time": "2021-12-09T13:02:58.981Z"
   },
   {
    "duration": 13,
    "start_time": "2021-12-09T13:02:58.995Z"
   },
   {
    "duration": 28,
    "start_time": "2021-12-09T13:02:59.010Z"
   },
   {
    "duration": 11,
    "start_time": "2021-12-09T13:02:59.039Z"
   },
   {
    "duration": 23,
    "start_time": "2021-12-09T13:02:59.052Z"
   },
   {
    "duration": 18,
    "start_time": "2021-12-09T13:02:59.077Z"
   },
   {
    "duration": 14,
    "start_time": "2021-12-09T13:02:59.097Z"
   },
   {
    "duration": 11,
    "start_time": "2021-12-09T13:02:59.112Z"
   },
   {
    "duration": 6,
    "start_time": "2021-12-09T13:02:59.124Z"
   },
   {
    "duration": 9,
    "start_time": "2021-12-09T13:02:59.132Z"
   },
   {
    "duration": 19,
    "start_time": "2021-12-09T13:02:59.143Z"
   },
   {
    "duration": 6,
    "start_time": "2021-12-09T13:02:59.164Z"
   },
   {
    "duration": 52,
    "start_time": "2021-12-09T13:02:59.172Z"
   },
   {
    "duration": 3,
    "start_time": "2021-12-09T13:02:59.226Z"
   },
   {
    "duration": 38,
    "start_time": "2021-12-09T13:02:59.231Z"
   },
   {
    "duration": 6,
    "start_time": "2021-12-09T13:02:59.271Z"
   },
   {
    "duration": 30,
    "start_time": "2021-12-09T13:02:59.890Z"
   },
   {
    "duration": 40,
    "start_time": "2021-12-09T13:03:23.784Z"
   },
   {
    "duration": 19,
    "start_time": "2021-12-09T13:03:40.413Z"
   },
   {
    "duration": 5,
    "start_time": "2021-12-09T13:03:47.394Z"
   },
   {
    "duration": 3,
    "start_time": "2021-12-09T13:03:54.354Z"
   },
   {
    "duration": 4632,
    "start_time": "2021-12-09T13:04:07.166Z"
   },
   {
    "duration": 6,
    "start_time": "2021-12-09T13:06:35.093Z"
   },
   {
    "duration": 42,
    "start_time": "2021-12-09T13:06:35.101Z"
   },
   {
    "duration": 4,
    "start_time": "2021-12-09T13:06:35.145Z"
   },
   {
    "duration": 14,
    "start_time": "2021-12-09T13:06:35.151Z"
   },
   {
    "duration": 43,
    "start_time": "2021-12-09T13:06:35.166Z"
   },
   {
    "duration": 23,
    "start_time": "2021-12-09T13:06:35.211Z"
   },
   {
    "duration": 30,
    "start_time": "2021-12-09T13:06:35.236Z"
   },
   {
    "duration": 6,
    "start_time": "2021-12-09T13:06:35.268Z"
   },
   {
    "duration": 5,
    "start_time": "2021-12-09T13:06:35.277Z"
   },
   {
    "duration": 3,
    "start_time": "2021-12-09T13:06:35.306Z"
   },
   {
    "duration": 761,
    "start_time": "2021-12-09T13:06:35.310Z"
   },
   {
    "duration": 3915,
    "start_time": "2021-12-09T13:06:36.072Z"
   },
   {
    "duration": 19,
    "start_time": "2021-12-09T13:06:39.989Z"
   },
   {
    "duration": 14,
    "start_time": "2021-12-09T13:06:40.009Z"
   },
   {
    "duration": 13,
    "start_time": "2021-12-09T13:06:40.025Z"
   },
   {
    "duration": 4,
    "start_time": "2021-12-09T13:06:40.040Z"
   },
   {
    "duration": 41,
    "start_time": "2021-12-09T13:06:40.046Z"
   },
   {
    "duration": 6,
    "start_time": "2021-12-09T13:06:40.089Z"
   },
   {
    "duration": 14,
    "start_time": "2021-12-09T13:06:40.096Z"
   },
   {
    "duration": 9,
    "start_time": "2021-12-09T13:06:40.111Z"
   },
   {
    "duration": 634,
    "start_time": "2021-12-09T13:06:40.121Z"
   },
   {
    "duration": 7,
    "start_time": "2021-12-09T13:06:40.757Z"
   },
   {
    "duration": 7,
    "start_time": "2021-12-09T13:06:40.765Z"
   },
   {
    "duration": 9,
    "start_time": "2021-12-09T13:06:40.773Z"
   },
   {
    "duration": 10,
    "start_time": "2021-12-09T13:06:40.784Z"
   },
   {
    "duration": 12,
    "start_time": "2021-12-09T13:06:40.807Z"
   },
   {
    "duration": 9,
    "start_time": "2021-12-09T13:06:40.822Z"
   },
   {
    "duration": 7,
    "start_time": "2021-12-09T13:06:40.832Z"
   },
   {
    "duration": 11,
    "start_time": "2021-12-09T13:06:40.841Z"
   },
   {
    "duration": 158,
    "start_time": "2021-12-09T13:06:40.853Z"
   },
   {
    "duration": 6,
    "start_time": "2021-12-09T13:06:41.013Z"
   },
   {
    "duration": 15,
    "start_time": "2021-12-09T13:06:41.021Z"
   },
   {
    "duration": 32,
    "start_time": "2021-12-09T13:06:41.038Z"
   },
   {
    "duration": 29,
    "start_time": "2021-12-09T13:06:41.073Z"
   },
   {
    "duration": 13,
    "start_time": "2021-12-09T13:07:13.942Z"
   },
   {
    "duration": 7,
    "start_time": "2021-12-09T13:08:45.583Z"
   },
   {
    "duration": 10,
    "start_time": "2021-12-09T13:09:34.634Z"
   },
   {
    "duration": 7,
    "start_time": "2021-12-09T13:10:27.560Z"
   },
   {
    "duration": 4,
    "start_time": "2021-12-09T13:10:35.558Z"
   },
   {
    "duration": 7,
    "start_time": "2021-12-09T13:10:45.998Z"
   },
   {
    "duration": 5,
    "start_time": "2021-12-09T13:11:02.867Z"
   },
   {
    "duration": 362,
    "start_time": "2021-12-09T13:11:12.136Z"
   },
   {
    "duration": 148,
    "start_time": "2021-12-09T13:11:15.046Z"
   },
   {
    "duration": 177,
    "start_time": "2021-12-09T13:11:25.437Z"
   },
   {
    "duration": 513,
    "start_time": "2021-12-09T13:11:37.127Z"
   },
   {
    "duration": -1130,
    "start_time": "2021-12-09T13:12:09.742Z"
   },
   {
    "duration": 463,
    "start_time": "2021-12-09T13:12:14.978Z"
   },
   {
    "duration": 769,
    "start_time": "2021-12-09T13:13:49.432Z"
   },
   {
    "duration": 440,
    "start_time": "2021-12-09T13:13:58.654Z"
   },
   {
    "duration": 179,
    "start_time": "2021-12-09T13:15:44.659Z"
   },
   {
    "duration": 439,
    "start_time": "2021-12-09T13:16:01.589Z"
   },
   {
    "duration": 177,
    "start_time": "2021-12-09T13:16:42.551Z"
   },
   {
    "duration": 172,
    "start_time": "2021-12-09T13:17:41.384Z"
   },
   {
    "duration": 179,
    "start_time": "2021-12-09T13:17:50.184Z"
   },
   {
    "duration": 191,
    "start_time": "2021-12-09T13:17:55.733Z"
   },
   {
    "duration": 730,
    "start_time": "2021-12-09T15:11:49.738Z"
   },
   {
    "duration": 614,
    "start_time": "2021-12-09T15:11:57.770Z"
   },
   {
    "duration": 10,
    "start_time": "2021-12-09T15:11:58.385Z"
   },
   {
    "duration": 17,
    "start_time": "2021-12-09T15:11:58.397Z"
   },
   {
    "duration": 6,
    "start_time": "2021-12-09T15:11:58.416Z"
   },
   {
    "duration": 6,
    "start_time": "2021-12-09T15:11:58.423Z"
   },
   {
    "duration": 6,
    "start_time": "2021-12-09T15:11:58.431Z"
   },
   {
    "duration": 8,
    "start_time": "2021-12-09T15:11:58.438Z"
   },
   {
    "duration": 6,
    "start_time": "2021-12-09T15:11:58.449Z"
   },
   {
    "duration": 6,
    "start_time": "2021-12-09T15:11:58.489Z"
   },
   {
    "duration": 8,
    "start_time": "2021-12-09T15:11:58.497Z"
   },
   {
    "duration": 7,
    "start_time": "2021-12-09T15:11:58.507Z"
   },
   {
    "duration": 3,
    "start_time": "2021-12-09T15:11:58.515Z"
   },
   {
    "duration": 7,
    "start_time": "2021-12-09T15:11:58.519Z"
   },
   {
    "duration": 11,
    "start_time": "2021-12-09T15:11:58.527Z"
   },
   {
    "duration": 5,
    "start_time": "2021-12-09T15:11:58.540Z"
   },
   {
    "duration": 72,
    "start_time": "2021-12-09T15:11:58.547Z"
   },
   {
    "duration": 3,
    "start_time": "2021-12-09T15:11:58.621Z"
   },
   {
    "duration": 31,
    "start_time": "2021-12-09T15:11:58.625Z"
   },
   {
    "duration": 6,
    "start_time": "2021-12-09T15:11:58.657Z"
   },
   {
    "duration": 48,
    "start_time": "2021-12-09T15:11:58.664Z"
   },
   {
    "duration": 16,
    "start_time": "2021-12-09T15:11:58.714Z"
   },
   {
    "duration": 4,
    "start_time": "2021-12-09T15:11:58.731Z"
   },
   {
    "duration": 3,
    "start_time": "2021-12-09T15:11:58.738Z"
   },
   {
    "duration": 3866,
    "start_time": "2021-12-09T15:11:58.743Z"
   },
   {
    "duration": 3592,
    "start_time": "2021-12-09T15:12:02.611Z"
   },
   {
    "duration": 3722,
    "start_time": "2021-12-09T15:12:06.205Z"
   },
   {
    "duration": 32,
    "start_time": "2021-12-09T15:12:09.929Z"
   },
   {
    "duration": 6,
    "start_time": "2021-12-09T15:12:09.962Z"
   },
   {
    "duration": 60,
    "start_time": "2021-12-09T15:12:09.969Z"
   },
   {
    "duration": 4,
    "start_time": "2021-12-09T15:12:10.031Z"
   },
   {
    "duration": 12,
    "start_time": "2021-12-09T15:12:10.036Z"
   },
   {
    "duration": 15,
    "start_time": "2021-12-09T15:12:10.049Z"
   },
   {
    "duration": 42,
    "start_time": "2021-12-09T15:12:10.066Z"
   },
   {
    "duration": 27,
    "start_time": "2021-12-09T15:12:10.109Z"
   },
   {
    "duration": 7,
    "start_time": "2021-12-09T15:12:10.138Z"
   },
   {
    "duration": 6,
    "start_time": "2021-12-09T15:12:10.146Z"
   },
   {
    "duration": 2,
    "start_time": "2021-12-09T15:12:10.154Z"
   },
   {
    "duration": 678,
    "start_time": "2021-12-09T15:12:10.158Z"
   },
   {
    "duration": 3550,
    "start_time": "2021-12-09T15:12:10.838Z"
   },
   {
    "duration": 10,
    "start_time": "2021-12-09T15:12:14.390Z"
   },
   {
    "duration": 12,
    "start_time": "2021-12-09T15:12:14.402Z"
   },
   {
    "duration": 14,
    "start_time": "2021-12-09T15:12:14.416Z"
   },
   {
    "duration": 4,
    "start_time": "2021-12-09T15:12:14.431Z"
   },
   {
    "duration": 10,
    "start_time": "2021-12-09T15:12:14.436Z"
   },
   {
    "duration": 41,
    "start_time": "2021-12-09T15:12:14.447Z"
   },
   {
    "duration": 5,
    "start_time": "2021-12-09T15:12:14.490Z"
   },
   {
    "duration": 7,
    "start_time": "2021-12-09T15:12:14.496Z"
   },
   {
    "duration": 651,
    "start_time": "2021-12-09T15:12:14.505Z"
   },
   {
    "duration": 13,
    "start_time": "2021-12-09T15:12:15.158Z"
   },
   {
    "duration": 19,
    "start_time": "2021-12-09T15:12:15.173Z"
   },
   {
    "duration": 7,
    "start_time": "2021-12-09T15:12:15.194Z"
   },
   {
    "duration": 12,
    "start_time": "2021-12-09T15:12:15.202Z"
   },
   {
    "duration": 18,
    "start_time": "2021-12-09T15:12:15.216Z"
   },
   {
    "duration": 22,
    "start_time": "2021-12-09T15:12:15.235Z"
   },
   {
    "duration": 11,
    "start_time": "2021-12-09T15:12:15.259Z"
   },
   {
    "duration": 15,
    "start_time": "2021-12-09T15:12:15.271Z"
   },
   {
    "duration": 181,
    "start_time": "2021-12-09T15:12:15.287Z"
   },
   {
    "duration": 10,
    "start_time": "2021-12-09T15:12:15.470Z"
   },
   {
    "duration": 8,
    "start_time": "2021-12-09T15:12:15.488Z"
   },
   {
    "duration": 5,
    "start_time": "2021-12-09T15:12:15.497Z"
   },
   {
    "duration": 8,
    "start_time": "2021-12-09T15:12:15.504Z"
   },
   {
    "duration": 138,
    "start_time": "2021-12-09T15:12:15.514Z"
   },
   {
    "duration": 7,
    "start_time": "2021-12-09T15:12:15.654Z"
   },
   {
    "duration": 4,
    "start_time": "2021-12-09T15:12:15.662Z"
   },
   {
    "duration": 20,
    "start_time": "2021-12-09T15:12:15.668Z"
   },
   {
    "duration": 6,
    "start_time": "2021-12-09T15:12:15.689Z"
   },
   {
    "duration": 180,
    "start_time": "2021-12-09T15:13:30.634Z"
   },
   {
    "duration": 180,
    "start_time": "2021-12-09T15:13:49.794Z"
   },
   {
    "duration": 4,
    "start_time": "2021-12-09T15:15:11.602Z"
   },
   {
    "duration": 325,
    "start_time": "2021-12-09T15:16:28.624Z"
   },
   {
    "duration": 495,
    "start_time": "2021-12-09T15:16:37.481Z"
   },
   {
    "duration": 263,
    "start_time": "2021-12-09T15:17:32.571Z"
   },
   {
    "duration": 619,
    "start_time": "2021-12-09T15:17:58.102Z"
   },
   {
    "duration": 11,
    "start_time": "2021-12-09T15:17:58.723Z"
   },
   {
    "duration": 17,
    "start_time": "2021-12-09T15:17:58.736Z"
   },
   {
    "duration": 11,
    "start_time": "2021-12-09T15:17:58.755Z"
   },
   {
    "duration": 21,
    "start_time": "2021-12-09T15:17:58.767Z"
   },
   {
    "duration": 7,
    "start_time": "2021-12-09T15:17:58.790Z"
   },
   {
    "duration": 7,
    "start_time": "2021-12-09T15:17:58.799Z"
   },
   {
    "duration": 7,
    "start_time": "2021-12-09T15:17:58.809Z"
   },
   {
    "duration": 5,
    "start_time": "2021-12-09T15:17:58.818Z"
   },
   {
    "duration": 8,
    "start_time": "2021-12-09T15:17:58.825Z"
   },
   {
    "duration": 7,
    "start_time": "2021-12-09T15:17:58.835Z"
   },
   {
    "duration": 44,
    "start_time": "2021-12-09T15:17:58.844Z"
   },
   {
    "duration": 6,
    "start_time": "2021-12-09T15:17:58.889Z"
   },
   {
    "duration": 11,
    "start_time": "2021-12-09T15:17:58.897Z"
   },
   {
    "duration": 7,
    "start_time": "2021-12-09T15:17:58.909Z"
   },
   {
    "duration": 38,
    "start_time": "2021-12-09T15:17:58.917Z"
   },
   {
    "duration": 4,
    "start_time": "2021-12-09T15:17:58.956Z"
   },
   {
    "duration": 54,
    "start_time": "2021-12-09T15:17:58.961Z"
   },
   {
    "duration": 6,
    "start_time": "2021-12-09T15:17:59.017Z"
   },
   {
    "duration": 32,
    "start_time": "2021-12-09T15:17:59.024Z"
   },
   {
    "duration": 42,
    "start_time": "2021-12-09T15:17:59.057Z"
   },
   {
    "duration": 4,
    "start_time": "2021-12-09T15:17:59.101Z"
   },
   {
    "duration": 5,
    "start_time": "2021-12-09T15:17:59.108Z"
   },
   {
    "duration": 4050,
    "start_time": "2021-12-09T15:17:59.115Z"
   },
   {
    "duration": 3621,
    "start_time": "2021-12-09T15:18:03.167Z"
   },
   {
    "duration": 3530,
    "start_time": "2021-12-09T15:18:06.789Z"
   },
   {
    "duration": 36,
    "start_time": "2021-12-09T15:18:10.320Z"
   },
   {
    "duration": 6,
    "start_time": "2021-12-09T15:18:10.358Z"
   },
   {
    "duration": 58,
    "start_time": "2021-12-09T15:18:10.365Z"
   },
   {
    "duration": 6,
    "start_time": "2021-12-09T15:18:10.425Z"
   },
   {
    "duration": 11,
    "start_time": "2021-12-09T15:18:10.432Z"
   },
   {
    "duration": 14,
    "start_time": "2021-12-09T15:18:10.444Z"
   },
   {
    "duration": 34,
    "start_time": "2021-12-09T15:18:10.459Z"
   },
   {
    "duration": 27,
    "start_time": "2021-12-09T15:18:10.495Z"
   },
   {
    "duration": 7,
    "start_time": "2021-12-09T15:18:10.523Z"
   },
   {
    "duration": 6,
    "start_time": "2021-12-09T15:18:10.532Z"
   },
   {
    "duration": 3,
    "start_time": "2021-12-09T15:18:10.540Z"
   },
   {
    "duration": 639,
    "start_time": "2021-12-09T15:18:10.544Z"
   },
   {
    "duration": 3117,
    "start_time": "2021-12-09T15:18:11.188Z"
   },
   {
    "duration": 10,
    "start_time": "2021-12-09T15:18:14.306Z"
   },
   {
    "duration": 21,
    "start_time": "2021-12-09T15:18:14.317Z"
   },
   {
    "duration": 13,
    "start_time": "2021-12-09T15:18:14.340Z"
   },
   {
    "duration": 4,
    "start_time": "2021-12-09T15:18:14.355Z"
   },
   {
    "duration": 9,
    "start_time": "2021-12-09T15:18:14.360Z"
   },
   {
    "duration": 6,
    "start_time": "2021-12-09T15:18:14.388Z"
   },
   {
    "duration": 7,
    "start_time": "2021-12-09T15:18:14.395Z"
   },
   {
    "duration": 5,
    "start_time": "2021-12-09T15:18:14.404Z"
   },
   {
    "duration": 580,
    "start_time": "2021-12-09T15:18:14.411Z"
   },
   {
    "duration": 12,
    "start_time": "2021-12-09T15:18:14.993Z"
   },
   {
    "duration": 7,
    "start_time": "2021-12-09T15:18:15.006Z"
   },
   {
    "duration": 15,
    "start_time": "2021-12-09T15:18:15.014Z"
   },
   {
    "duration": 7,
    "start_time": "2021-12-09T15:18:15.031Z"
   },
   {
    "duration": 10,
    "start_time": "2021-12-09T15:18:15.039Z"
   },
   {
    "duration": 9,
    "start_time": "2021-12-09T15:18:15.050Z"
   },
   {
    "duration": 6,
    "start_time": "2021-12-09T15:18:15.061Z"
   },
   {
    "duration": 23,
    "start_time": "2021-12-09T15:18:15.069Z"
   },
   {
    "duration": 190,
    "start_time": "2021-12-09T15:18:15.094Z"
   },
   {
    "duration": 11,
    "start_time": "2021-12-09T15:18:15.287Z"
   },
   {
    "duration": 7,
    "start_time": "2021-12-09T15:18:15.299Z"
   },
   {
    "duration": 2,
    "start_time": "2021-12-09T15:18:15.308Z"
   },
   {
    "duration": 8,
    "start_time": "2021-12-09T15:18:15.312Z"
   },
   {
    "duration": 145,
    "start_time": "2021-12-09T15:18:15.321Z"
   },
   {
    "duration": 6,
    "start_time": "2021-12-09T15:18:15.467Z"
   },
   {
    "duration": 14,
    "start_time": "2021-12-09T15:18:15.475Z"
   },
   {
    "duration": 6,
    "start_time": "2021-12-09T15:18:15.490Z"
   },
   {
    "duration": 8,
    "start_time": "2021-12-09T15:18:15.498Z"
   },
   {
    "duration": 10,
    "start_time": "2021-12-09T15:18:15.507Z"
   },
   {
    "duration": 320,
    "start_time": "2021-12-09T15:19:51.051Z"
   },
   {
    "duration": 250,
    "start_time": "2021-12-09T15:20:39.675Z"
   },
   {
    "duration": 7,
    "start_time": "2021-12-09T15:20:57.566Z"
   },
   {
    "duration": 4,
    "start_time": "2021-12-09T15:20:59.214Z"
   },
   {
    "duration": 4,
    "start_time": "2021-12-09T15:21:04.731Z"
   },
   {
    "duration": 3,
    "start_time": "2021-12-09T15:21:57.076Z"
   },
   {
    "duration": 7,
    "start_time": "2021-12-09T15:22:30.575Z"
   },
   {
    "duration": 3,
    "start_time": "2021-12-09T15:22:35.354Z"
   },
   {
    "duration": 3,
    "start_time": "2021-12-09T15:22:36.787Z"
   },
   {
    "duration": 1643,
    "start_time": "2021-12-09T15:23:36.600Z"
   },
   {
    "duration": 6,
    "start_time": "2021-12-09T15:23:42.281Z"
   },
   {
    "duration": 3,
    "start_time": "2021-12-09T15:23:46.055Z"
   },
   {
    "duration": 4,
    "start_time": "2021-12-09T15:23:50.012Z"
   },
   {
    "duration": 240,
    "start_time": "2021-12-09T15:24:09.788Z"
   },
   {
    "duration": 7,
    "start_time": "2021-12-09T15:24:15.262Z"
   },
   {
    "duration": 3,
    "start_time": "2021-12-09T15:24:24.195Z"
   },
   {
    "duration": 3,
    "start_time": "2021-12-09T15:24:36.605Z"
   },
   {
    "duration": 3,
    "start_time": "2021-12-09T15:24:38.554Z"
   },
   {
    "duration": 7,
    "start_time": "2021-12-09T15:25:21.798Z"
   },
   {
    "duration": 255,
    "start_time": "2021-12-09T15:26:42.900Z"
   },
   {
    "duration": 270,
    "start_time": "2021-12-09T15:28:23.698Z"
   },
   {
    "duration": 4,
    "start_time": "2021-12-09T15:29:20.860Z"
   },
   {
    "duration": 240,
    "start_time": "2021-12-09T15:30:05.337Z"
   },
   {
    "duration": 181,
    "start_time": "2021-12-09T15:30:26.890Z"
   },
   {
    "duration": 212,
    "start_time": "2021-12-10T03:59:04.206Z"
   },
   {
    "duration": 561,
    "start_time": "2021-12-10T03:59:16.343Z"
   },
   {
    "duration": 10,
    "start_time": "2021-12-10T03:59:16.906Z"
   },
   {
    "duration": 19,
    "start_time": "2021-12-10T03:59:16.918Z"
   },
   {
    "duration": 7,
    "start_time": "2021-12-10T03:59:16.939Z"
   },
   {
    "duration": 11,
    "start_time": "2021-12-10T03:59:16.948Z"
   },
   {
    "duration": 32,
    "start_time": "2021-12-10T03:59:16.960Z"
   },
   {
    "duration": 7,
    "start_time": "2021-12-10T03:59:16.993Z"
   },
   {
    "duration": 7,
    "start_time": "2021-12-10T03:59:17.002Z"
   },
   {
    "duration": 6,
    "start_time": "2021-12-10T03:59:17.011Z"
   },
   {
    "duration": 9,
    "start_time": "2021-12-10T03:59:17.018Z"
   },
   {
    "duration": 8,
    "start_time": "2021-12-10T03:59:17.028Z"
   },
   {
    "duration": 2,
    "start_time": "2021-12-10T03:59:17.037Z"
   },
   {
    "duration": 7,
    "start_time": "2021-12-10T03:59:17.041Z"
   },
   {
    "duration": 48,
    "start_time": "2021-12-10T03:59:17.050Z"
   },
   {
    "duration": 5,
    "start_time": "2021-12-10T03:59:17.099Z"
   },
   {
    "duration": 41,
    "start_time": "2021-12-10T03:59:17.105Z"
   },
   {
    "duration": 4,
    "start_time": "2021-12-10T03:59:17.148Z"
   },
   {
    "duration": 57,
    "start_time": "2021-12-10T03:59:17.153Z"
   },
   {
    "duration": 1429,
    "start_time": "2021-12-10T03:59:15.783Z"
   },
   {
    "duration": 1428,
    "start_time": "2021-12-10T03:59:15.785Z"
   },
   {
    "duration": 1428,
    "start_time": "2021-12-10T03:59:15.787Z"
   },
   {
    "duration": 1417,
    "start_time": "2021-12-10T03:59:15.799Z"
   },
   {
    "duration": 1414,
    "start_time": "2021-12-10T03:59:15.803Z"
   },
   {
    "duration": 1412,
    "start_time": "2021-12-10T03:59:15.805Z"
   },
   {
    "duration": 1410,
    "start_time": "2021-12-10T03:59:15.808Z"
   },
   {
    "duration": 1410,
    "start_time": "2021-12-10T03:59:15.809Z"
   },
   {
    "duration": 54,
    "start_time": "2021-12-10T03:59:30.828Z"
   },
   {
    "duration": 51,
    "start_time": "2021-12-10T04:01:20.042Z"
   },
   {
    "duration": 52,
    "start_time": "2021-12-10T04:01:40.477Z"
   },
   {
    "duration": 10,
    "start_time": "2021-12-10T04:01:40.531Z"
   },
   {
    "duration": 12,
    "start_time": "2021-12-10T04:01:40.543Z"
   },
   {
    "duration": 8,
    "start_time": "2021-12-10T04:01:40.556Z"
   },
   {
    "duration": 5,
    "start_time": "2021-12-10T04:01:40.591Z"
   },
   {
    "duration": 10,
    "start_time": "2021-12-10T04:01:40.598Z"
   },
   {
    "duration": 8,
    "start_time": "2021-12-10T04:01:40.609Z"
   },
   {
    "duration": 7,
    "start_time": "2021-12-10T04:01:40.619Z"
   },
   {
    "duration": 6,
    "start_time": "2021-12-10T04:01:40.629Z"
   },
   {
    "duration": 10,
    "start_time": "2021-12-10T04:01:40.636Z"
   },
   {
    "duration": 15,
    "start_time": "2021-12-10T04:01:40.648Z"
   },
   {
    "duration": 26,
    "start_time": "2021-12-10T04:01:40.665Z"
   },
   {
    "duration": 12,
    "start_time": "2021-12-10T04:01:40.693Z"
   },
   {
    "duration": 23,
    "start_time": "2021-12-10T04:01:40.706Z"
   },
   {
    "duration": 20,
    "start_time": "2021-12-10T04:01:40.731Z"
   },
   {
    "duration": 38,
    "start_time": "2021-12-10T04:01:40.753Z"
   },
   {
    "duration": 3,
    "start_time": "2021-12-10T04:01:40.792Z"
   },
   {
    "duration": 69,
    "start_time": "2021-12-10T04:01:40.797Z"
   },
   {
    "duration": 1431,
    "start_time": "2021-12-10T04:01:39.437Z"
   },
   {
    "duration": 1429,
    "start_time": "2021-12-10T04:01:39.440Z"
   },
   {
    "duration": 1420,
    "start_time": "2021-12-10T04:01:39.450Z"
   },
   {
    "duration": 1418,
    "start_time": "2021-12-10T04:01:39.453Z"
   },
   {
    "duration": 1416,
    "start_time": "2021-12-10T04:01:39.456Z"
   },
   {
    "duration": 1415,
    "start_time": "2021-12-10T04:01:39.458Z"
   },
   {
    "duration": 1413,
    "start_time": "2021-12-10T04:01:39.460Z"
   },
   {
    "duration": 1413,
    "start_time": "2021-12-10T04:01:39.462Z"
   },
   {
    "duration": 50,
    "start_time": "2021-12-10T04:03:47.496Z"
   },
   {
    "duration": 10,
    "start_time": "2021-12-10T04:03:47.548Z"
   },
   {
    "duration": 12,
    "start_time": "2021-12-10T04:03:47.560Z"
   },
   {
    "duration": 20,
    "start_time": "2021-12-10T04:03:47.573Z"
   },
   {
    "duration": 5,
    "start_time": "2021-12-10T04:03:47.594Z"
   },
   {
    "duration": 8,
    "start_time": "2021-12-10T04:03:47.600Z"
   },
   {
    "duration": 8,
    "start_time": "2021-12-10T04:03:47.609Z"
   },
   {
    "duration": 9,
    "start_time": "2021-12-10T04:03:47.618Z"
   },
   {
    "duration": 11,
    "start_time": "2021-12-10T04:03:47.629Z"
   },
   {
    "duration": 9,
    "start_time": "2021-12-10T04:03:47.642Z"
   },
   {
    "duration": 41,
    "start_time": "2021-12-10T04:03:47.652Z"
   },
   {
    "duration": 4,
    "start_time": "2021-12-10T04:03:47.694Z"
   },
   {
    "duration": 8,
    "start_time": "2021-12-10T04:03:47.699Z"
   },
   {
    "duration": 12,
    "start_time": "2021-12-10T04:03:47.708Z"
   },
   {
    "duration": 5,
    "start_time": "2021-12-10T04:03:47.722Z"
   },
   {
    "duration": 64,
    "start_time": "2021-12-10T04:03:47.729Z"
   },
   {
    "duration": 4,
    "start_time": "2021-12-10T04:03:47.795Z"
   },
   {
    "duration": 3,
    "start_time": "2021-12-10T04:03:47.801Z"
   },
   {
    "duration": 5890,
    "start_time": "2021-12-10T04:03:47.806Z"
   },
   {
    "duration": 1419,
    "start_time": "2021-12-10T04:03:52.279Z"
   },
   {
    "duration": 1413,
    "start_time": "2021-12-10T04:03:52.286Z"
   },
   {
    "duration": 1413,
    "start_time": "2021-12-10T04:03:52.288Z"
   },
   {
    "duration": 1412,
    "start_time": "2021-12-10T04:03:52.290Z"
   },
   {
    "duration": 1412,
    "start_time": "2021-12-10T04:03:52.291Z"
   },
   {
    "duration": 1411,
    "start_time": "2021-12-10T04:03:52.293Z"
   },
   {
    "duration": 1398,
    "start_time": "2021-12-10T04:03:52.307Z"
   },
   {
    "duration": 12,
    "start_time": "2021-12-10T04:03:54.747Z"
   },
   {
    "duration": 49,
    "start_time": "2021-12-10T04:04:53.665Z"
   },
   {
    "duration": 10,
    "start_time": "2021-12-10T04:04:53.716Z"
   },
   {
    "duration": 12,
    "start_time": "2021-12-10T04:04:53.728Z"
   },
   {
    "duration": 8,
    "start_time": "2021-12-10T04:04:53.742Z"
   },
   {
    "duration": 6,
    "start_time": "2021-12-10T04:04:53.752Z"
   },
   {
    "duration": 35,
    "start_time": "2021-12-10T04:04:53.759Z"
   },
   {
    "duration": 8,
    "start_time": "2021-12-10T04:04:53.796Z"
   },
   {
    "duration": 9,
    "start_time": "2021-12-10T04:04:53.808Z"
   },
   {
    "duration": 7,
    "start_time": "2021-12-10T04:04:53.818Z"
   },
   {
    "duration": 8,
    "start_time": "2021-12-10T04:04:53.826Z"
   },
   {
    "duration": 10,
    "start_time": "2021-12-10T04:04:53.836Z"
   },
   {
    "duration": 4,
    "start_time": "2021-12-10T04:04:53.848Z"
   },
   {
    "duration": 37,
    "start_time": "2021-12-10T04:04:53.854Z"
   },
   {
    "duration": 12,
    "start_time": "2021-12-10T04:04:53.893Z"
   },
   {
    "duration": 4,
    "start_time": "2021-12-10T04:04:53.907Z"
   },
   {
    "duration": 38,
    "start_time": "2021-12-10T04:04:53.913Z"
   },
   {
    "duration": 4,
    "start_time": "2021-12-10T04:04:53.953Z"
   },
   {
    "duration": 4,
    "start_time": "2021-12-10T04:04:53.958Z"
   },
   {
    "duration": 3,
    "start_time": "2021-12-10T04:04:53.992Z"
   },
   {
    "duration": 42,
    "start_time": "2021-12-10T04:04:53.996Z"
   },
   {
    "duration": 19,
    "start_time": "2021-12-10T04:04:54.039Z"
   },
   {
    "duration": 5,
    "start_time": "2021-12-10T04:04:54.059Z"
   },
   {
    "duration": 4,
    "start_time": "2021-12-10T04:04:54.092Z"
   },
   {
    "duration": 3543,
    "start_time": "2021-12-10T04:04:54.098Z"
   },
   {
    "duration": 3476,
    "start_time": "2021-12-10T04:04:57.643Z"
   },
   {
    "duration": 3401,
    "start_time": "2021-12-10T04:05:01.121Z"
   },
   {
    "duration": 10,
    "start_time": "2021-12-10T04:05:04.524Z"
   },
   {
    "duration": 59,
    "start_time": "2021-12-10T04:06:34.781Z"
   },
   {
    "duration": 11,
    "start_time": "2021-12-10T04:06:34.841Z"
   },
   {
    "duration": 12,
    "start_time": "2021-12-10T04:06:34.853Z"
   },
   {
    "duration": 24,
    "start_time": "2021-12-10T04:06:34.867Z"
   },
   {
    "duration": 5,
    "start_time": "2021-12-10T04:06:34.893Z"
   },
   {
    "duration": 9,
    "start_time": "2021-12-10T04:06:34.900Z"
   },
   {
    "duration": 8,
    "start_time": "2021-12-10T04:06:34.910Z"
   },
   {
    "duration": 8,
    "start_time": "2021-12-10T04:06:34.919Z"
   },
   {
    "duration": 6,
    "start_time": "2021-12-10T04:06:34.929Z"
   },
   {
    "duration": 9,
    "start_time": "2021-12-10T04:06:34.936Z"
   },
   {
    "duration": 8,
    "start_time": "2021-12-10T04:06:34.946Z"
   },
   {
    "duration": 3,
    "start_time": "2021-12-10T04:06:34.955Z"
   },
   {
    "duration": 36,
    "start_time": "2021-12-10T04:06:34.960Z"
   },
   {
    "duration": 16,
    "start_time": "2021-12-10T04:06:34.997Z"
   },
   {
    "duration": 7,
    "start_time": "2021-12-10T04:06:35.014Z"
   },
   {
    "duration": 42,
    "start_time": "2021-12-10T04:06:35.022Z"
   },
   {
    "duration": 4,
    "start_time": "2021-12-10T04:06:35.065Z"
   },
   {
    "duration": 31,
    "start_time": "2021-12-10T04:06:35.091Z"
   },
   {
    "duration": 7,
    "start_time": "2021-12-10T04:06:38.636Z"
   },
   {
    "duration": 33,
    "start_time": "2021-12-10T04:19:05.268Z"
   },
   {
    "duration": 18,
    "start_time": "2021-12-10T04:22:03.451Z"
   },
   {
    "duration": 5,
    "start_time": "2021-12-10T04:22:42.415Z"
   },
   {
    "duration": 3,
    "start_time": "2021-12-10T04:22:54.673Z"
   },
   {
    "duration": 3416,
    "start_time": "2021-12-10T04:24:17.964Z"
   },
   {
    "duration": 51,
    "start_time": "2021-12-10T04:35:47.132Z"
   },
   {
    "duration": 9,
    "start_time": "2021-12-10T04:35:47.185Z"
   },
   {
    "duration": 12,
    "start_time": "2021-12-10T04:35:47.196Z"
   },
   {
    "duration": 7,
    "start_time": "2021-12-10T04:35:47.210Z"
   },
   {
    "duration": 6,
    "start_time": "2021-12-10T04:35:47.219Z"
   },
   {
    "duration": 6,
    "start_time": "2021-12-10T04:35:47.227Z"
   },
   {
    "duration": 8,
    "start_time": "2021-12-10T04:35:47.235Z"
   },
   {
    "duration": 8,
    "start_time": "2021-12-10T04:35:47.244Z"
   },
   {
    "duration": 8,
    "start_time": "2021-12-10T04:35:47.254Z"
   },
   {
    "duration": 9,
    "start_time": "2021-12-10T04:35:47.293Z"
   },
   {
    "duration": 10,
    "start_time": "2021-12-10T04:35:47.303Z"
   },
   {
    "duration": 4,
    "start_time": "2021-12-10T04:35:47.314Z"
   },
   {
    "duration": 9,
    "start_time": "2021-12-10T04:35:47.319Z"
   },
   {
    "duration": 12,
    "start_time": "2021-12-10T04:35:47.330Z"
   },
   {
    "duration": 10,
    "start_time": "2021-12-10T04:35:47.344Z"
   },
   {
    "duration": 69,
    "start_time": "2021-12-10T04:35:47.355Z"
   },
   {
    "duration": 4,
    "start_time": "2021-12-10T04:35:47.425Z"
   },
   {
    "duration": 6,
    "start_time": "2021-12-10T04:35:47.431Z"
   },
   {
    "duration": 8,
    "start_time": "2021-12-10T04:35:47.438Z"
   },
   {
    "duration": 47,
    "start_time": "2021-12-10T04:35:47.447Z"
   },
   {
    "duration": 34,
    "start_time": "2021-12-10T04:35:47.496Z"
   },
   {
    "duration": 19,
    "start_time": "2021-12-10T04:35:47.531Z"
   },
   {
    "duration": 2,
    "start_time": "2021-12-10T04:35:47.551Z"
   },
   {
    "duration": 7,
    "start_time": "2021-12-10T04:35:47.554Z"
   },
   {
    "duration": 30,
    "start_time": "2021-12-10T04:35:47.562Z"
   },
   {
    "duration": 3481,
    "start_time": "2021-12-10T04:36:02.810Z"
   },
   {
    "duration": 54,
    "start_time": "2021-12-10T04:42:15.679Z"
   },
   {
    "duration": 14,
    "start_time": "2021-12-10T04:42:15.734Z"
   },
   {
    "duration": 13,
    "start_time": "2021-12-10T04:42:15.750Z"
   },
   {
    "duration": 30,
    "start_time": "2021-12-10T04:42:15.764Z"
   },
   {
    "duration": 7,
    "start_time": "2021-12-10T04:42:15.796Z"
   },
   {
    "duration": 9,
    "start_time": "2021-12-10T04:42:15.805Z"
   },
   {
    "duration": 9,
    "start_time": "2021-12-10T04:42:15.816Z"
   },
   {
    "duration": 8,
    "start_time": "2021-12-10T04:42:15.828Z"
   },
   {
    "duration": 53,
    "start_time": "2021-12-10T04:42:15.838Z"
   },
   {
    "duration": 11,
    "start_time": "2021-12-10T04:42:15.893Z"
   },
   {
    "duration": 9,
    "start_time": "2021-12-10T04:42:15.906Z"
   },
   {
    "duration": 4,
    "start_time": "2021-12-10T04:42:15.917Z"
   },
   {
    "duration": 8,
    "start_time": "2021-12-10T04:42:15.922Z"
   },
   {
    "duration": 12,
    "start_time": "2021-12-10T04:42:15.932Z"
   },
   {
    "duration": 5,
    "start_time": "2021-12-10T04:42:15.945Z"
   },
   {
    "duration": 75,
    "start_time": "2021-12-10T04:42:15.952Z"
   },
   {
    "duration": 3,
    "start_time": "2021-12-10T04:42:16.029Z"
   },
   {
    "duration": 5,
    "start_time": "2021-12-10T04:42:16.033Z"
   },
   {
    "duration": 4,
    "start_time": "2021-12-10T04:42:16.040Z"
   },
   {
    "duration": 51,
    "start_time": "2021-12-10T04:42:16.046Z"
   },
   {
    "duration": 19,
    "start_time": "2021-12-10T04:42:16.098Z"
   },
   {
    "duration": 4,
    "start_time": "2021-12-10T04:42:16.118Z"
   },
   {
    "duration": 5,
    "start_time": "2021-12-10T04:42:16.124Z"
   },
   {
    "duration": 6,
    "start_time": "2021-12-10T04:42:16.130Z"
   },
   {
    "duration": 3446,
    "start_time": "2021-12-10T04:42:16.137Z"
   },
   {
    "duration": 3471,
    "start_time": "2021-12-10T04:42:19.585Z"
   },
   {
    "duration": 4,
    "start_time": "2021-12-10T04:42:27.517Z"
   },
   {
    "duration": 190,
    "start_time": "2021-12-10T06:20:05.232Z"
   },
   {
    "duration": 53,
    "start_time": "2021-12-10T06:20:25.167Z"
   },
   {
    "duration": 11,
    "start_time": "2021-12-10T06:20:25.222Z"
   },
   {
    "duration": 13,
    "start_time": "2021-12-10T06:20:25.235Z"
   },
   {
    "duration": 8,
    "start_time": "2021-12-10T06:20:25.249Z"
   },
   {
    "duration": 7,
    "start_time": "2021-12-10T06:20:25.292Z"
   },
   {
    "duration": 8,
    "start_time": "2021-12-10T06:20:25.301Z"
   },
   {
    "duration": 10,
    "start_time": "2021-12-10T06:20:25.311Z"
   },
   {
    "duration": 9,
    "start_time": "2021-12-10T06:20:25.323Z"
   },
   {
    "duration": 6,
    "start_time": "2021-12-10T06:20:25.334Z"
   },
   {
    "duration": 10,
    "start_time": "2021-12-10T06:20:25.342Z"
   },
   {
    "duration": 48,
    "start_time": "2021-12-10T06:20:25.353Z"
   },
   {
    "duration": 5,
    "start_time": "2021-12-10T06:20:25.403Z"
   },
   {
    "duration": 19,
    "start_time": "2021-12-10T06:20:25.410Z"
   },
   {
    "duration": 42,
    "start_time": "2021-12-10T06:20:25.430Z"
   },
   {
    "duration": 14,
    "start_time": "2021-12-10T06:20:25.474Z"
   },
   {
    "duration": 56,
    "start_time": "2021-12-10T06:20:25.489Z"
   },
   {
    "duration": 4,
    "start_time": "2021-12-10T06:20:25.547Z"
   },
   {
    "duration": 14,
    "start_time": "2021-12-10T06:20:25.552Z"
   },
   {
    "duration": 26,
    "start_time": "2021-12-10T06:20:25.567Z"
   },
   {
    "duration": 49,
    "start_time": "2021-12-10T06:20:25.594Z"
   },
   {
    "duration": 18,
    "start_time": "2021-12-10T06:20:25.645Z"
   },
   {
    "duration": 14,
    "start_time": "2021-12-10T06:20:25.664Z"
   },
   {
    "duration": 25,
    "start_time": "2021-12-10T06:20:25.682Z"
   },
   {
    "duration": 24,
    "start_time": "2021-12-10T06:20:25.709Z"
   },
   {
    "duration": 3802,
    "start_time": "2021-12-10T06:20:25.734Z"
   },
   {
    "duration": 3542,
    "start_time": "2021-12-10T06:20:29.537Z"
   },
   {
    "duration": 11,
    "start_time": "2021-12-10T06:20:33.081Z"
   },
   {
    "duration": 12,
    "start_time": "2021-12-10T06:20:33.094Z"
   },
   {
    "duration": 5,
    "start_time": "2021-12-10T06:20:33.108Z"
   },
   {
    "duration": 36,
    "start_time": "2021-12-10T06:20:33.114Z"
   },
   {
    "duration": 4,
    "start_time": "2021-12-10T06:20:33.152Z"
   },
   {
    "duration": 227,
    "start_time": "2021-12-10T06:20:33.158Z"
   },
   {
    "duration": 41,
    "start_time": "2021-12-10T06:20:33.346Z"
   },
   {
    "duration": 39,
    "start_time": "2021-12-10T06:20:33.349Z"
   },
   {
    "duration": 39,
    "start_time": "2021-12-10T06:20:33.350Z"
   },
   {
    "duration": 38,
    "start_time": "2021-12-10T06:20:33.352Z"
   },
   {
    "duration": 38,
    "start_time": "2021-12-10T06:20:33.353Z"
   },
   {
    "duration": 37,
    "start_time": "2021-12-10T06:20:33.355Z"
   },
   {
    "duration": 183,
    "start_time": "2021-12-10T06:21:19.879Z"
   },
   {
    "duration": 176,
    "start_time": "2021-12-10T06:23:43.454Z"
   },
   {
    "duration": 564,
    "start_time": "2021-12-10T06:23:56.254Z"
   },
   {
    "duration": 12,
    "start_time": "2021-12-10T06:23:56.820Z"
   },
   {
    "duration": 19,
    "start_time": "2021-12-10T06:23:56.834Z"
   },
   {
    "duration": 7,
    "start_time": "2021-12-10T06:23:56.855Z"
   },
   {
    "duration": 35,
    "start_time": "2021-12-10T06:23:56.863Z"
   },
   {
    "duration": 8,
    "start_time": "2021-12-10T06:23:56.899Z"
   },
   {
    "duration": 9,
    "start_time": "2021-12-10T06:23:56.908Z"
   },
   {
    "duration": 9,
    "start_time": "2021-12-10T06:23:56.919Z"
   },
   {
    "duration": 6,
    "start_time": "2021-12-10T06:23:56.931Z"
   },
   {
    "duration": 10,
    "start_time": "2021-12-10T06:23:56.940Z"
   },
   {
    "duration": 47,
    "start_time": "2021-12-10T06:23:56.952Z"
   },
   {
    "duration": 8,
    "start_time": "2021-12-10T06:23:57.001Z"
   },
   {
    "duration": 9,
    "start_time": "2021-12-10T06:23:57.011Z"
   },
   {
    "duration": 18,
    "start_time": "2021-12-10T06:23:57.022Z"
   },
   {
    "duration": 5,
    "start_time": "2021-12-10T06:23:57.041Z"
   },
   {
    "duration": 65,
    "start_time": "2021-12-10T06:23:57.048Z"
   },
   {
    "duration": 4,
    "start_time": "2021-12-10T06:23:57.115Z"
   },
   {
    "duration": 5,
    "start_time": "2021-12-10T06:23:57.121Z"
   },
   {
    "duration": 4,
    "start_time": "2021-12-10T06:23:57.128Z"
   },
   {
    "duration": 37,
    "start_time": "2021-12-10T06:23:57.133Z"
   },
   {
    "duration": 36,
    "start_time": "2021-12-10T06:23:57.172Z"
   },
   {
    "duration": 4,
    "start_time": "2021-12-10T06:23:57.209Z"
   },
   {
    "duration": 6,
    "start_time": "2021-12-10T06:23:57.214Z"
   },
   {
    "duration": 6,
    "start_time": "2021-12-10T06:23:57.221Z"
   },
   {
    "duration": 479,
    "start_time": "2021-12-10T06:23:57.228Z"
   },
   {
    "duration": 451,
    "start_time": "2021-12-10T06:23:57.709Z"
   },
   {
    "duration": 4,
    "start_time": "2021-12-10T06:23:58.164Z"
   },
   {
    "duration": 21,
    "start_time": "2021-12-10T06:23:58.170Z"
   },
   {
    "duration": 5,
    "start_time": "2021-12-10T06:23:58.193Z"
   },
   {
    "duration": 39,
    "start_time": "2021-12-10T06:23:58.200Z"
   },
   {
    "duration": 4,
    "start_time": "2021-12-10T06:23:58.240Z"
   },
   {
    "duration": 404,
    "start_time": "2021-12-10T06:23:58.246Z"
   },
   {
    "duration": 36,
    "start_time": "2021-12-10T06:23:58.616Z"
   },
   {
    "duration": 35,
    "start_time": "2021-12-10T06:23:58.618Z"
   },
   {
    "duration": 34,
    "start_time": "2021-12-10T06:23:58.620Z"
   },
   {
    "duration": 34,
    "start_time": "2021-12-10T06:23:58.621Z"
   },
   {
    "duration": 33,
    "start_time": "2021-12-10T06:23:58.623Z"
   },
   {
    "duration": 33,
    "start_time": "2021-12-10T06:23:58.624Z"
   },
   {
    "duration": 31,
    "start_time": "2021-12-10T06:23:58.627Z"
   },
   {
    "duration": 24,
    "start_time": "2021-12-10T06:23:58.635Z"
   },
   {
    "duration": 22,
    "start_time": "2021-12-10T06:23:58.638Z"
   },
   {
    "duration": 21,
    "start_time": "2021-12-10T06:23:58.640Z"
   },
   {
    "duration": 20,
    "start_time": "2021-12-10T06:23:58.642Z"
   },
   {
    "duration": 19,
    "start_time": "2021-12-10T06:23:58.644Z"
   },
   {
    "duration": 12,
    "start_time": "2021-12-10T06:23:58.652Z"
   },
   {
    "duration": 11,
    "start_time": "2021-12-10T06:23:58.654Z"
   },
   {
    "duration": 10,
    "start_time": "2021-12-10T06:23:58.656Z"
   },
   {
    "duration": 10,
    "start_time": "2021-12-10T06:23:58.658Z"
   },
   {
    "duration": 9,
    "start_time": "2021-12-10T06:23:58.660Z"
   },
   {
    "duration": 2,
    "start_time": "2021-12-10T06:23:58.668Z"
   },
   {
    "duration": 1,
    "start_time": "2021-12-10T06:23:58.670Z"
   },
   {
    "duration": -1,
    "start_time": "2021-12-10T06:23:58.673Z"
   },
   {
    "duration": -1,
    "start_time": "2021-12-10T06:23:58.674Z"
   },
   {
    "duration": -2,
    "start_time": "2021-12-10T06:23:58.676Z"
   },
   {
    "duration": -9,
    "start_time": "2021-12-10T06:23:58.684Z"
   },
   {
    "duration": -10,
    "start_time": "2021-12-10T06:23:58.686Z"
   },
   {
    "duration": -11,
    "start_time": "2021-12-10T06:23:58.688Z"
   },
   {
    "duration": -11,
    "start_time": "2021-12-10T06:23:58.689Z"
   },
   {
    "duration": -12,
    "start_time": "2021-12-10T06:23:58.691Z"
   },
   {
    "duration": -19,
    "start_time": "2021-12-10T06:23:58.699Z"
   },
   {
    "duration": -21,
    "start_time": "2021-12-10T06:23:58.701Z"
   },
   {
    "duration": -22,
    "start_time": "2021-12-10T06:23:58.703Z"
   },
   {
    "duration": -22,
    "start_time": "2021-12-10T06:23:58.704Z"
   },
   {
    "duration": -23,
    "start_time": "2021-12-10T06:23:58.706Z"
   },
   {
    "duration": -24,
    "start_time": "2021-12-10T06:23:58.708Z"
   },
   {
    "duration": -25,
    "start_time": "2021-12-10T06:23:58.710Z"
   },
   {
    "duration": -32,
    "start_time": "2021-12-10T06:23:58.718Z"
   },
   {
    "duration": -33,
    "start_time": "2021-12-10T06:23:58.720Z"
   },
   {
    "duration": -31,
    "start_time": "2021-12-10T06:23:58.722Z"
   },
   {
    "duration": 5,
    "start_time": "2021-12-10T07:37:30.846Z"
   },
   {
    "duration": 52,
    "start_time": "2021-12-10T07:37:36.924Z"
   },
   {
    "duration": 15,
    "start_time": "2021-12-10T07:37:36.978Z"
   },
   {
    "duration": 37,
    "start_time": "2021-12-10T07:37:36.995Z"
   },
   {
    "duration": 27,
    "start_time": "2021-12-10T07:37:37.035Z"
   },
   {
    "duration": 29,
    "start_time": "2021-12-10T07:37:37.063Z"
   },
   {
    "duration": 29,
    "start_time": "2021-12-10T07:37:37.093Z"
   },
   {
    "duration": 30,
    "start_time": "2021-12-10T07:37:37.124Z"
   },
   {
    "duration": 38,
    "start_time": "2021-12-10T07:37:37.156Z"
   },
   {
    "duration": 42,
    "start_time": "2021-12-10T07:37:37.196Z"
   },
   {
    "duration": 40,
    "start_time": "2021-12-10T07:37:37.240Z"
   },
   {
    "duration": 27,
    "start_time": "2021-12-10T07:37:37.282Z"
   },
   {
    "duration": 18,
    "start_time": "2021-12-10T07:37:37.310Z"
   },
   {
    "duration": 38,
    "start_time": "2021-12-10T07:37:37.330Z"
   },
   {
    "duration": 30,
    "start_time": "2021-12-10T07:37:37.369Z"
   },
   {
    "duration": 5,
    "start_time": "2021-12-10T07:37:41.061Z"
   },
   {
    "duration": 40,
    "start_time": "2021-12-10T07:37:52.528Z"
   },
   {
    "duration": 12,
    "start_time": "2021-12-10T07:40:57.192Z"
   },
   {
    "duration": 20,
    "start_time": "2021-12-10T07:42:15.918Z"
   },
   {
    "duration": 3,
    "start_time": "2021-12-10T07:45:04.676Z"
   },
   {
    "duration": 3699,
    "start_time": "2021-12-10T07:45:53.308Z"
   },
   {
    "duration": 4,
    "start_time": "2021-12-10T07:46:18.479Z"
   },
   {
    "duration": 7,
    "start_time": "2021-12-10T07:48:13.744Z"
   },
   {
    "duration": 40,
    "start_time": "2021-12-10T07:48:15.566Z"
   },
   {
    "duration": 6,
    "start_time": "2021-12-10T07:48:16.547Z"
   },
   {
    "duration": 10,
    "start_time": "2021-12-10T07:53:59.325Z"
   },
   {
    "duration": 7,
    "start_time": "2021-12-10T07:54:55.268Z"
   },
   {
    "duration": 16,
    "start_time": "2021-12-10T07:55:06.253Z"
   },
   {
    "duration": 30,
    "start_time": "2021-12-10T07:57:25.326Z"
   },
   {
    "duration": 5,
    "start_time": "2021-12-10T07:57:52.060Z"
   },
   {
    "duration": 6,
    "start_time": "2021-12-10T07:57:55.554Z"
   },
   {
    "duration": 3,
    "start_time": "2021-12-10T07:58:00.658Z"
   },
   {
    "duration": 633,
    "start_time": "2021-12-10T07:58:02.152Z"
   },
   {
    "duration": 3273,
    "start_time": "2021-12-10T07:58:10.877Z"
   },
   {
    "duration": 17,
    "start_time": "2021-12-10T08:02:17.187Z"
   },
   {
    "duration": 9,
    "start_time": "2021-12-10T08:18:53.145Z"
   },
   {
    "duration": 11,
    "start_time": "2021-12-10T08:21:07.023Z"
   },
   {
    "duration": 10,
    "start_time": "2021-12-10T08:23:29.972Z"
   },
   {
    "duration": 13,
    "start_time": "2021-12-10T08:28:05.699Z"
   },
   {
    "duration": 271,
    "start_time": "2021-12-10T08:29:22.862Z"
   },
   {
    "duration": 5,
    "start_time": "2021-12-10T08:31:57.808Z"
   },
   {
    "duration": 216,
    "start_time": "2021-12-10T08:33:10.820Z"
   },
   {
    "duration": 5792,
    "start_time": "2021-12-10T08:37:34.929Z"
   },
   {
    "duration": 140,
    "start_time": "2021-12-10T08:38:12.742Z"
   },
   {
    "duration": 131,
    "start_time": "2021-12-10T08:39:19.115Z"
   },
   {
    "duration": 5598,
    "start_time": "2021-12-10T08:40:06.023Z"
   },
   {
    "duration": 14,
    "start_time": "2021-12-10T08:45:28.224Z"
   },
   {
    "duration": 5,
    "start_time": "2021-12-10T08:46:55.930Z"
   },
   {
    "duration": 4,
    "start_time": "2021-12-10T08:48:04.078Z"
   },
   {
    "duration": 7,
    "start_time": "2021-12-10T08:59:01.522Z"
   },
   {
    "duration": 243,
    "start_time": "2021-12-10T08:59:03.019Z"
   },
   {
    "duration": 13,
    "start_time": "2021-12-10T09:01:07.779Z"
   },
   {
    "duration": 15,
    "start_time": "2021-12-10T09:01:11.483Z"
   },
   {
    "duration": 4,
    "start_time": "2021-12-10T09:01:15.493Z"
   },
   {
    "duration": 8,
    "start_time": "2021-12-10T09:01:25.353Z"
   },
   {
    "duration": 6,
    "start_time": "2021-12-10T09:01:26.211Z"
   },
   {
    "duration": 5,
    "start_time": "2021-12-10T09:01:30.120Z"
   },
   {
    "duration": 7,
    "start_time": "2021-12-10T09:01:33.743Z"
   },
   {
    "duration": 8,
    "start_time": "2021-12-10T09:04:40.988Z"
   },
   {
    "duration": 206,
    "start_time": "2021-12-10T09:05:00.472Z"
   },
   {
    "duration": 61,
    "start_time": "2021-12-10T09:05:33.580Z"
   },
   {
    "duration": 11,
    "start_time": "2021-12-10T09:07:56.536Z"
   },
   {
    "duration": 9,
    "start_time": "2021-12-10T09:07:57.514Z"
   },
   {
    "duration": 3,
    "start_time": "2021-12-10T09:07:58.251Z"
   },
   {
    "duration": 8,
    "start_time": "2021-12-10T09:08:00.887Z"
   },
   {
    "duration": 144,
    "start_time": "2021-12-10T09:08:23.025Z"
   },
   {
    "duration": 7,
    "start_time": "2021-12-10T09:12:11.654Z"
   },
   {
    "duration": 6,
    "start_time": "2021-12-10T09:12:12.414Z"
   },
   {
    "duration": 5,
    "start_time": "2021-12-10T09:12:13.404Z"
   },
   {
    "duration": 7,
    "start_time": "2021-12-10T09:12:14.581Z"
   },
   {
    "duration": 199,
    "start_time": "2021-12-10T09:12:40.059Z"
   },
   {
    "duration": 195,
    "start_time": "2021-12-10T09:15:22.865Z"
   },
   {
    "duration": 257,
    "start_time": "2021-12-10T09:16:39.859Z"
   },
   {
    "duration": 164,
    "start_time": "2021-12-10T09:16:50.485Z"
   }
  ],
  "kernelspec": {
   "display_name": "Python 3 (ipykernel)",
   "language": "python",
   "name": "python3"
  },
  "language_info": {
   "codemirror_mode": {
    "name": "ipython",
    "version": 3
   },
   "file_extension": ".py",
   "mimetype": "text/x-python",
   "name": "python",
   "nbconvert_exporter": "python",
   "pygments_lexer": "ipython3",
   "version": "3.10.2"
  },
  "toc": {
   "base_numbering": 1,
   "nav_menu": {},
   "number_sections": true,
   "sideBar": true,
   "skip_h1_title": true,
   "title_cell": "Table of Contents",
   "title_sidebar": "Contents",
   "toc_cell": false,
   "toc_position": {
    "height": "calc(100% - 180px)",
    "left": "10px",
    "top": "150px",
    "width": "165px"
   },
   "toc_section_display": true,
   "toc_window_display": true
  }
 },
 "nbformat": 4,
 "nbformat_minor": 2
}