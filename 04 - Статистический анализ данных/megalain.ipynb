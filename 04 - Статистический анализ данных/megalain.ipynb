{
 "cells": [
  {
   "cell_type": "markdown",
   "id": "663566d9",
   "metadata": {},
   "source": [
    "## Описание проекта:\n",
    "\n",
    "**Задача:**\n",
    "\n",
    "Коммерческий департамент хочет понять, какой тариф приносит больше денег: «Смарт» или «Ультра».<br>\n",
    "\n",
    "Предстоит сделать предварительный анализ тарифов на небольшой выборке клиентов. В распоряжении данные 500 пользователей «Мегалайна»: кто они, откуда, каким тарифом пользуются, сколько звонков и сообщений каждый отправил за 2018 год. Нужно проанализировать поведение клиентов, и сделать вывод — какой тариф лучше.\n",
    "\n",
    "\n",
    "\n"
   ]
  },
  {
   "cell_type": "markdown",
   "source": [
    "## Общая информация"
   ],
   "metadata": {
    "collapsed": false
   }
  },
  {
   "cell_type": "code",
   "execution_count": 3,
   "id": "7acdc6e9",
   "metadata": {},
   "outputs": [],
   "source": [
    "from scipy import stats as st\n",
    "import numpy as np\n",
    "import pandas as pd\n",
    "import seaborn as sns\n",
    "import matplotlib.pyplot as plt\n",
    "from functools import reduce\n",
    "import warnings\n",
    "warnings.filterwarnings('ignore')"
   ]
  },
  {
   "cell_type": "code",
   "execution_count": 6,
   "id": "3ce2f29a",
   "metadata": {},
   "outputs": [],
   "source": [
    "dt_user = pd.read_csv('users.csv')\n",
    "dt_calls = pd.read_csv('calls.csv')\n",
    "dt_messages = pd.read_csv('messages.csv')\n",
    "dt_internet = pd.read_csv('internet.csv', index_col=0)\n",
    "dt_tariffs = pd.read_csv('tariffs.csv')"
   ]
  },
  {
   "cell_type": "code",
   "execution_count": 7,
   "id": "738689c2",
   "metadata": {
    "pycharm": {
     "name": "#%%\n"
    }
   },
   "outputs": [
    {
     "name": "stdout",
     "output_type": "stream",
     "text": [
      "<class 'pandas.core.frame.DataFrame'>\n",
      "RangeIndex: 500 entries, 0 to 499\n",
      "Data columns (total 8 columns):\n",
      " #   Column      Non-Null Count  Dtype \n",
      "---  ------      --------------  ----- \n",
      " 0   user_id     500 non-null    int64 \n",
      " 1   age         500 non-null    int64 \n",
      " 2   churn_date  38 non-null     object\n",
      " 3   city        500 non-null    object\n",
      " 4   first_name  500 non-null    object\n",
      " 5   last_name   500 non-null    object\n",
      " 6   reg_date    500 non-null    object\n",
      " 7   tariff      500 non-null    object\n",
      "dtypes: int64(2), object(6)\n",
      "memory usage: 31.4+ KB\n",
      "<class 'pandas.core.frame.DataFrame'>\n",
      "RangeIndex: 202607 entries, 0 to 202606\n",
      "Data columns (total 4 columns):\n",
      " #   Column     Non-Null Count   Dtype  \n",
      "---  ------     --------------   -----  \n",
      " 0   id         202607 non-null  object \n",
      " 1   call_date  202607 non-null  object \n",
      " 2   duration   202607 non-null  float64\n",
      " 3   user_id    202607 non-null  int64  \n",
      "dtypes: float64(1), int64(1), object(2)\n",
      "memory usage: 6.2+ MB\n",
      "<class 'pandas.core.frame.DataFrame'>\n",
      "RangeIndex: 123036 entries, 0 to 123035\n",
      "Data columns (total 3 columns):\n",
      " #   Column        Non-Null Count   Dtype \n",
      "---  ------        --------------   ----- \n",
      " 0   id            123036 non-null  object\n",
      " 1   message_date  123036 non-null  object\n",
      " 2   user_id       123036 non-null  int64 \n",
      "dtypes: int64(1), object(2)\n",
      "memory usage: 2.8+ MB\n",
      "<class 'pandas.core.frame.DataFrame'>\n",
      "Int64Index: 149396 entries, 0 to 149395\n",
      "Data columns (total 4 columns):\n",
      " #   Column        Non-Null Count   Dtype  \n",
      "---  ------        --------------   -----  \n",
      " 0   id            149396 non-null  object \n",
      " 1   mb_used       149396 non-null  float64\n",
      " 2   session_date  149396 non-null  object \n",
      " 3   user_id       149396 non-null  int64  \n",
      "dtypes: float64(1), int64(1), object(2)\n",
      "memory usage: 5.7+ MB\n",
      "<class 'pandas.core.frame.DataFrame'>\n",
      "RangeIndex: 2 entries, 0 to 1\n",
      "Data columns (total 8 columns):\n",
      " #   Column                 Non-Null Count  Dtype \n",
      "---  ------                 --------------  ----- \n",
      " 0   messages_included      2 non-null      int64 \n",
      " 1   mb_per_month_included  2 non-null      int64 \n",
      " 2   minutes_included       2 non-null      int64 \n",
      " 3   rub_monthly_fee        2 non-null      int64 \n",
      " 4   rub_per_gb             2 non-null      int64 \n",
      " 5   rub_per_message        2 non-null      int64 \n",
      " 6   rub_per_minute         2 non-null      int64 \n",
      " 7   tariff_name            2 non-null      object\n",
      "dtypes: int64(7), object(1)\n",
      "memory usage: 256.0+ bytes\n"
     ]
    }
   ],
   "source": [
    "data = [dt_user, dt_calls, dt_messages, dt_internet, dt_tariffs]\n",
    "for data in data:\n",
    "    data.info()"
   ]
  },
  {
   "cell_type": "markdown",
   "id": "c14af7ee",
   "metadata": {},
   "source": [
    "### Вывод:\n",
    "\n",
    "Файлы читаются, общая информация получена, фатальных ошибок не обнаружено, более детальное изучение ниже."
   ]
  },
  {
   "cell_type": "markdown",
   "id": "1a3d48c1",
   "metadata": {},
   "source": [
    "## Подготовка данных:"
   ]
  },
  {
   "cell_type": "markdown",
   "id": "e102a060",
   "metadata": {},
   "source": [
    "### Формирование таблиц"
   ]
  },
  {
   "cell_type": "markdown",
   "id": "acc7e315",
   "metadata": {
    "pycharm": {
     "name": "#%% md\n"
    }
   },
   "source": [
    "#### Формат даты:"
   ]
  },
  {
   "cell_type": "markdown",
   "id": "c3890eaa",
   "metadata": {
    "pycharm": {
     "name": "#%% md\n"
    }
   },
   "source": [
    "Приведу тип данных в столбцах с датами к формату даты, и так как информация о точной дате мне не потребуется, приведу к формату, удобному для группировки по месяцам: первое число - месяц – год:"
   ]
  },
  {
   "cell_type": "code",
   "execution_count": null,
   "id": "985f6341",
   "metadata": {
    "pycharm": {
     "name": "#%%\n"
    }
   },
   "outputs": [],
   "source": [
    "datetime = {'reg_date':dt_user, 'message_date':dt_messages, 'session_date':dt_internet, 'call_date':dt_calls}\n",
    "\n",
    "for column, data in datetime.items():\n",
    "    data[column] = pd.to_datetime(data[column],format = '%Y-%m-%d')\n",
    "    data['mesyc'] = data[column].astype('datetime64[M]')\n"
   ]
  },
  {
   "cell_type": "markdown",
   "id": "d0ec9185",
   "metadata": {},
   "source": [
    "#### Таблица users (информация о пользователях):"
   ]
  },
  {
   "cell_type": "code",
   "execution_count": null,
   "id": "af87b775",
   "metadata": {
    "pycharm": {
     "name": "#%%\n"
    }
   },
   "outputs": [],
   "source": [
    "dt_user.head()"
   ]
  },
  {
   "cell_type": "markdown",
   "id": "2243a928",
   "metadata": {},
   "source": [
    "Не вижу смысла заполнять пропущенные значения в churn_date - дата прекращения пользования тарифом, т.к. данные использованы за 2018 год и по крайней мере все пользователи до 31.12.2018 включительно продолжали пользоваться услугами компании."
   ]
  },
  {
   "cell_type": "markdown",
   "id": "f7d85056",
   "metadata": {},
   "source": [
    "Приведу тип даных в столбце churn_date формату даты:"
   ]
  },
  {
   "cell_type": "code",
   "execution_count": null,
   "id": "041731b9",
   "metadata": {},
   "outputs": [],
   "source": [
    "dt_user['churn_date'] = pd.to_datetime(dt_user['churn_date'], format = '%Y-%m-%d')"
   ]
  },
  {
   "cell_type": "markdown",
   "id": "2e243328",
   "metadata": {},
   "source": [
    "Добавлю столбец с месяцем прекращения пользования тарифом:"
   ]
  },
  {
   "cell_type": "code",
   "execution_count": null,
   "id": "dffd7094",
   "metadata": {},
   "outputs": [],
   "source": [
    "dt_user['mesyc_churn'] = dt_user['churn_date'].astype('datetime64[M]')"
   ]
  },
  {
   "cell_type": "code",
   "execution_count": null,
   "id": "54a50a6e",
   "metadata": {},
   "outputs": [],
   "source": [
    "dt_user.head()"
   ]
  },
  {
   "cell_type": "code",
   "execution_count": null,
   "id": "7d964290",
   "metadata": {
    "pycharm": {
     "name": "#%%\n"
    }
   },
   "outputs": [],
   "source": [
    "print('Количество пользователей Мегалайн в выборке:', len(dt_user))"
   ]
  },
  {
   "cell_type": "markdown",
   "id": "7ed96d5a",
   "metadata": {},
   "source": [
    "#### Таблица calls (информация о звонках):"
   ]
  },
  {
   "cell_type": "markdown",
   "id": "eb7e486e",
   "metadata": {},
   "source": [
    "Таблица - количество сделанных звонков и израсходованных минут разговора по месяцам для каждого пользователя:"
   ]
  },
  {
   "cell_type": "code",
   "execution_count": null,
   "id": "65560089",
   "metadata": {},
   "outputs": [],
   "source": [
    "dt_calls.head()"
   ]
  },
  {
   "cell_type": "markdown",
   "id": "26e09482",
   "metadata": {},
   "source": [
    "Посмотрю как распределяется длительность звонков по гистограмме:"
   ]
  },
  {
   "cell_type": "code",
   "execution_count": null,
   "id": "afe2f65d",
   "metadata": {},
   "outputs": [],
   "source": [
    "dt_calls['duration'].plot(kind='hist', bins=20)\n",
    "plt.show()"
   ]
  },
  {
   "cell_type": "markdown",
   "id": "a75394ff",
   "metadata": {},
   "source": [
    "Очень много значений около нуля. В задании к проекту указано, что каждый звонок округляется отдельно: даже если он длился всего 1 секунду, будет засчитан как 1 минута. Здесь нет необходимости вдаваться в подробности, почему не состоялся звонок, просто я фиксирую факт и значит найду нулевые звонки:"
   ]
  },
  {
   "cell_type": "code",
   "execution_count": null,
   "id": "1ed12d59",
   "metadata": {},
   "outputs": [],
   "source": [
    "dt_calls.query('duration == 0.0')"
   ]
  },
  {
   "cell_type": "markdown",
   "id": "50b5a179",
   "metadata": {},
   "source": [
    "Нулевых звонков нашлось в количестве - 39613. Так как нулевые звонки не принимают участия в исследовании и не входят в выручку, удаляю их:"
   ]
  },
  {
   "cell_type": "code",
   "execution_count": null,
   "id": "3c27f719",
   "metadata": {},
   "outputs": [],
   "source": [
    "dt_calls['duration'] = dt_calls['duration'].replace(0, np.NaN)\n",
    "dt_calls = dt_calls.dropna()"
   ]
  },
  {
   "cell_type": "markdown",
   "id": "cf2a5906",
   "metadata": {},
   "source": [
    "Проверю:"
   ]
  },
  {
   "cell_type": "code",
   "execution_count": null,
   "id": "ed2be01e",
   "metadata": {},
   "outputs": [],
   "source": [
    "dt_calls['duration'].plot(kind='hist', bins=20)\n",
    "plt.show()"
   ]
  },
  {
   "cell_type": "code",
   "execution_count": null,
   "id": "2d3ec4b1",
   "metadata": {},
   "outputs": [],
   "source": [
    "dt_calls.query('duration == 0.0')"
   ]
  },
  {
   "cell_type": "markdown",
   "id": "1f58a5bd",
   "metadata": {},
   "source": [
    "Округлю длительность каждого звонка до минуты вверх и посчитаю длительность разговоров каждого пользователя в месяц. "
   ]
  },
  {
   "cell_type": "code",
   "execution_count": null,
   "id": "d5fa1478",
   "metadata": {},
   "outputs": [],
   "source": [
    "dt_calls['duration'] = np.ceil(dt_calls['duration'])"
   ]
  },
  {
   "cell_type": "code",
   "execution_count": null,
   "id": "a5bc9ab6",
   "metadata": {},
   "outputs": [],
   "source": [
    "dt_calls_mesyc = dt_calls.pivot_table(index = ['user_id', 'mesyc'], values = 'duration', aggfunc = ['count', 'sum'])"
   ]
  },
  {
   "cell_type": "code",
   "execution_count": null,
   "id": "49c965f7",
   "metadata": {},
   "outputs": [],
   "source": [
    "dt_calls_mesyc.head()"
   ]
  },
  {
   "cell_type": "markdown",
   "id": "13c1d0af",
   "metadata": {},
   "source": [
    "#### Таблица messages (информация о сообщениях):"
   ]
  },
  {
   "cell_type": "code",
   "execution_count": null,
   "id": "e6f9ba64",
   "metadata": {},
   "outputs": [],
   "source": [
    "dt_messages .head()"
   ]
  },
  {
   "cell_type": "markdown",
   "id": "4c18caec",
   "metadata": {},
   "source": [
    "Таблица - количество отправленных сообщений по месяцам для каждого пользователя:"
   ]
  },
  {
   "cell_type": "code",
   "execution_count": null,
   "id": "5203ade1",
   "metadata": {},
   "outputs": [],
   "source": [
    "dt_mess_mesyc = dt_messages.pivot_table(index = ['user_id', 'mesyc'], values = 'id', aggfunc = 'count')"
   ]
  },
  {
   "cell_type": "code",
   "execution_count": null,
   "id": "e40f4186",
   "metadata": {},
   "outputs": [],
   "source": [
    "dt_mess_mesyc.head()"
   ]
  },
  {
   "cell_type": "markdown",
   "id": "6c0409c5",
   "metadata": {},
   "source": [
    "#### Таблица internet (информация об интернет-сессиях):"
   ]
  },
  {
   "cell_type": "code",
   "execution_count": null,
   "id": "8ed87f3e",
   "metadata": {},
   "outputs": [],
   "source": [
    "dt_internet.head()"
   ]
  },
  {
   "cell_type": "code",
   "execution_count": null,
   "id": "66cbd82a",
   "metadata": {},
   "outputs": [],
   "source": [
    "dt_internet['mb_used'].plot(kind='hist', bins=20)\n",
    "plt.show()"
   ]
  },
  {
   "cell_type": "markdown",
   "id": "b84e8ef7",
   "metadata": {},
   "source": [
    "Очень много значений около нуля. Для веб-трафика отдельные сессии не считаются.  Здесь нет необходимости вдаваться в подробности, почему не состоялось соединение интернет, просто я фиксирую факт и значит найду нулевые звонки:"
   ]
  },
  {
   "cell_type": "code",
   "execution_count": null,
   "id": "e700d1a2",
   "metadata": {},
   "outputs": [],
   "source": [
    "dt_internet.query('mb_used == 0.0')"
   ]
  },
  {
   "cell_type": "markdown",
   "id": "e2696d49",
   "metadata": {},
   "source": [
    "Нулевых интернет-сессий нашлось в количестве - 19598. Так как нулевые интернет-сессии не принимают участия в исследовании и не входят в выручку, удаляю их:"
   ]
  },
  {
   "cell_type": "code",
   "execution_count": null,
   "id": "18330353",
   "metadata": {},
   "outputs": [],
   "source": [
    "dt_internet['mb_used'] = dt_internet['mb_used'].replace(0, np.NaN)\n",
    "dt_internet = dt_internet.dropna()"
   ]
  },
  {
   "cell_type": "markdown",
   "id": "26c9c90b",
   "metadata": {},
   "source": [
    "Проверю:"
   ]
  },
  {
   "cell_type": "code",
   "execution_count": null,
   "id": "5618b63f",
   "metadata": {},
   "outputs": [],
   "source": [
    "dt_internet['mb_used'].plot(kind='hist', bins=20)\n",
    "plt.show()"
   ]
  },
  {
   "cell_type": "code",
   "execution_count": null,
   "id": "89cca65b",
   "metadata": {},
   "outputs": [],
   "source": [
    "dt_internet.query('mb_used == 0.0')"
   ]
  },
  {
   "cell_type": "markdown",
   "id": "d9ba4d6b",
   "metadata": {},
   "source": [
    "Таблица - количество израсходованного интернет-трафика по месяцам для каждого пользователя:"
   ]
  },
  {
   "cell_type": "code",
   "execution_count": null,
   "id": "bc3cc103",
   "metadata": {},
   "outputs": [],
   "source": [
    "dt_intnt_mesyc = dt_internet.pivot_table(index = ['user_id', 'mesyc'], values = 'mb_used', aggfunc = 'sum')"
   ]
  },
  {
   "cell_type": "code",
   "execution_count": null,
   "id": "42dbaec5",
   "metadata": {},
   "outputs": [],
   "source": [
    "dt_intnt_mesyc.head()"
   ]
  },
  {
   "cell_type": "markdown",
   "id": "09c6ed79",
   "metadata": {},
   "source": [
    "#### Сводная таблица: \n",
    "- количество сделанных звонков и израсходованных минут разговора по месяцам;\n",
    "- количество отправленных сообщений по месяцам;\n",
    "- объем израсходованного интернет-трафика по месяцам."
   ]
  },
  {
   "cell_type": "code",
   "execution_count": null,
   "id": "213e2724",
   "metadata": {},
   "outputs": [],
   "source": [
    "data_frames = [dt_calls_mesyc, dt_mess_mesyc, dt_intnt_mesyc]\n",
    "\n",
    "dt_mesyc = reduce(lambda left,right: pd.merge(left,right,on=['user_id', 'mesyc'],\n",
    "                                            how='outer'), data_frames)\n",
    "dt_mesyc = dt_mesyc.reset_index()"
   ]
  },
  {
   "cell_type": "code",
   "execution_count": null,
   "id": "f485188d",
   "metadata": {},
   "outputs": [],
   "source": [
    "dt_mesyc"
   ]
  },
  {
   "cell_type": "code",
   "execution_count": null,
   "id": "d5e65ce4",
   "metadata": {},
   "outputs": [],
   "source": [
    "dt_prep = pd.merge(dt_mesyc, dt_user.loc[:, ['user_id', 'tariff', 'city' ]], on='user_id')"
   ]
  },
  {
   "cell_type": "code",
   "execution_count": null,
   "id": "db46b5ab",
   "metadata": {},
   "outputs": [],
   "source": [
    "new_cols = ['user_id', 'Месяц', 'Звонки', 'Разговоры', 'Сообщения', 'Интернет', 'Тариф', 'Город']\n",
    "dt_prep.columns = new_cols"
   ]
  },
  {
   "cell_type": "markdown",
   "id": "79dd2545",
   "metadata": {},
   "source": [
    "В результате объединения получил сводную таблицу dt_prep:"
   ]
  },
  {
   "cell_type": "code",
   "execution_count": null,
   "id": "62597d0f",
   "metadata": {},
   "outputs": [],
   "source": [
    "dt_prep"
   ]
  },
  {
   "cell_type": "code",
   "execution_count": null,
   "id": "b5bdce5f",
   "metadata": {},
   "outputs": [],
   "source": []
  },
  {
   "cell_type": "markdown",
   "id": "47cd5078",
   "metadata": {},
   "source": [
    "Проверю на пропуски"
   ]
  },
  {
   "cell_type": "code",
   "execution_count": null,
   "id": "91ab0984",
   "metadata": {
    "scrolled": false
   },
   "outputs": [],
   "source": [
    "dt_prep.isna().sum()"
   ]
  },
  {
   "cell_type": "markdown",
   "id": "b42203b3",
   "metadata": {},
   "source": [
    "Заполню пропуски нулевыми значениями:"
   ]
  },
  {
   "cell_type": "code",
   "execution_count": null,
   "id": "513aa747",
   "metadata": {},
   "outputs": [],
   "source": [
    "dt_prep[['Звонки','Разговоры', 'Сообщения', 'Интернет']] = dt_prep[['Звонки', 'Разговоры', 'Сообщения', 'Интернет']] .fillna(0)"
   ]
  },
  {
   "cell_type": "code",
   "execution_count": null,
   "id": "68a2796d",
   "metadata": {},
   "outputs": [],
   "source": [
    "dt_prep.isna().sum()"
   ]
  },
  {
   "cell_type": "code",
   "execution_count": null,
   "id": "dd0aa41e",
   "metadata": {
    "scrolled": true
   },
   "outputs": [],
   "source": [
    "dt_prep.info()"
   ]
  },
  {
   "cell_type": "markdown",
   "id": "7aa2f6fc",
   "metadata": {},
   "source": [
    "#### Итого:\n",
    "\n",
    "Общая таблица сформирована dt_prep. Посчитаны для каждого пользователя:<br>\n",
    "\n",
    "`'Звонки'` - количество сделанных звонков по месяцам;<br> \n",
    "`'Разговоры'` - израсходованные минуты разговора по месяцам;<br>\n",
    "`'Сообщения'` - количество отправленных сообщений по месяцам;<br>\n",
    "`'Интернет'` - объем израсходованного интернет-трафика по месяцам;\n"
   ]
  },
  {
   "cell_type": "markdown",
   "id": "8cd1969c",
   "metadata": {},
   "source": [
    "### Расчеты для каждого пользователя"
   ]
  },
  {
   "cell_type": "markdown",
   "id": "9dd3b1d8",
   "metadata": {},
   "source": [
    "#### Таблица tariffs (информация о тарифах):"
   ]
  },
  {
   "cell_type": "code",
   "execution_count": null,
   "id": "f3792a49",
   "metadata": {
    "scrolled": true
   },
   "outputs": [],
   "source": [
    "dt_tariffs .head()"
   ]
  },
  {
   "cell_type": "markdown",
   "id": "71522274",
   "metadata": {},
   "source": [
    "#### Добавление данных по тарифу"
   ]
  },
  {
   "cell_type": "markdown",
   "id": "4f5301fc",
   "metadata": {},
   "source": [
    "Добавлю в таблицу dt_prep информацию о тарифах:"
   ]
  },
  {
   "cell_type": "code",
   "execution_count": null,
   "id": "61da39eb",
   "metadata": {},
   "outputs": [],
   "source": [
    "def messages_in(row):\n",
    "    if row['Тариф'] == 'smart':\n",
    "        return '50'\n",
    "    elif row['Тариф'] == 'ultra':\n",
    "        return '1000'"
   ]
  },
  {
   "cell_type": "code",
   "execution_count": null,
   "id": "64177ba0",
   "metadata": {},
   "outputs": [],
   "source": [
    "dt_prep['messages_included'] = dt_prep.apply(messages_in, axis=1).astype(int)"
   ]
  },
  {
   "cell_type": "code",
   "execution_count": null,
   "id": "20b0781d",
   "metadata": {},
   "outputs": [],
   "source": [
    "def mb_per_month(row):\n",
    "    if row['Тариф'] == 'smart':\n",
    "        return '15360'\n",
    "    elif row['Тариф'] == 'ultra':\n",
    "        return '30720'"
   ]
  },
  {
   "cell_type": "code",
   "execution_count": null,
   "id": "e71c8191",
   "metadata": {},
   "outputs": [],
   "source": [
    "dt_prep['mb_per_month_included'] = dt_prep.apply(mb_per_month, axis=1).astype(float)"
   ]
  },
  {
   "cell_type": "code",
   "execution_count": null,
   "id": "85977337",
   "metadata": {},
   "outputs": [],
   "source": [
    "def minutes_inc(row):\n",
    "    if row['Тариф'] == 'smart':\n",
    "        return '500'\n",
    "    elif row['Тариф'] == 'ultra':\n",
    "        return '3000'"
   ]
  },
  {
   "cell_type": "code",
   "execution_count": null,
   "id": "56c49d25",
   "metadata": {},
   "outputs": [],
   "source": [
    "dt_prep['minutes_included'] = dt_prep.apply(minutes_inc, axis=1).astype(float)"
   ]
  },
  {
   "cell_type": "code",
   "execution_count": null,
   "id": "efbff044",
   "metadata": {},
   "outputs": [],
   "source": [
    "def rub_monthly(row):\n",
    "    if row['Тариф'] == 'smart':\n",
    "        return '550'\n",
    "    elif row['Тариф'] == 'ultra':\n",
    "        return '1950'"
   ]
  },
  {
   "cell_type": "code",
   "execution_count": null,
   "id": "25e48f83",
   "metadata": {},
   "outputs": [],
   "source": [
    "dt_prep['rub_monthly_fee'] = dt_prep.apply(rub_monthly, axis=1).astype(int)"
   ]
  },
  {
   "cell_type": "code",
   "execution_count": null,
   "id": "36f66bfe",
   "metadata": {},
   "outputs": [],
   "source": [
    "def rub_per_gb(row):\n",
    "    if row['Тариф'] == 'smart':\n",
    "        return '200'\n",
    "    elif row['Тариф'] == 'ultra':\n",
    "        return '150'"
   ]
  },
  {
   "cell_type": "code",
   "execution_count": null,
   "id": "69c0cbc8",
   "metadata": {},
   "outputs": [],
   "source": [
    "dt_prep['rub_per_gb'] = dt_prep.apply(rub_per_gb, axis=1).astype(int)"
   ]
  },
  {
   "cell_type": "code",
   "execution_count": null,
   "id": "4fe71546",
   "metadata": {},
   "outputs": [],
   "source": [
    "def rub_per_message(row):\n",
    "    if row['Тариф'] == 'smart':\n",
    "        return '3'\n",
    "    elif row['Тариф'] == 'ultra':\n",
    "        return '1'"
   ]
  },
  {
   "cell_type": "code",
   "execution_count": null,
   "id": "ecc4ba38",
   "metadata": {},
   "outputs": [],
   "source": [
    "dt_prep['rub_per_message'] = dt_prep.apply(rub_per_message, axis=1).astype(int)"
   ]
  },
  {
   "cell_type": "code",
   "execution_count": null,
   "id": "c56d634d",
   "metadata": {},
   "outputs": [],
   "source": [
    "def rub_per_minute(row):\n",
    "    if row['Тариф'] == 'smart':\n",
    "        return '3'\n",
    "    elif row['Тариф'] == 'ultra':\n",
    "        return '1'"
   ]
  },
  {
   "cell_type": "code",
   "execution_count": null,
   "id": "71e18d2a",
   "metadata": {},
   "outputs": [],
   "source": [
    "dt_prep['rub_per_minute'] = dt_prep.apply(rub_per_minute, axis=1).astype(int)"
   ]
  },
  {
   "cell_type": "code",
   "execution_count": null,
   "id": "5016c00e",
   "metadata": {},
   "outputs": [],
   "source": [
    "dt_prep"
   ]
  },
  {
   "cell_type": "markdown",
   "id": "752ee76e",
   "metadata": {},
   "source": [
    "#### Учёт бесплатного трафика"
   ]
  },
  {
   "cell_type": "markdown",
   "id": "f9d29fdf",
   "metadata": {},
   "source": [
    "Добавлю столбец 'трафик_Гб', где сминусую включенный в тариф бесплатные Мб"
   ]
  },
  {
   "cell_type": "code",
   "execution_count": null,
   "id": "bc35657f",
   "metadata": {},
   "outputs": [],
   "source": [
    "dt_prep['трафик_Гб'] = (dt_prep['Интернет'] - dt_prep['mb_per_month_included']) / 1024 # траффик в Гб"
   ]
  },
  {
   "cell_type": "code",
   "execution_count": null,
   "id": "7eeb108e",
   "metadata": {},
   "outputs": [],
   "source": [
    "dt_prep"
   ]
  },
  {
   "cell_type": "markdown",
   "id": "33aaca0a",
   "metadata": {},
   "source": [
    "Заменю отрицательные значения в столбце 'трафик_Гб' на нуль:"
   ]
  },
  {
   "cell_type": "code",
   "execution_count": null,
   "id": "1f4ddab2",
   "metadata": {},
   "outputs": [],
   "source": [
    "dt_prep.loc[(dt_prep['трафик_Гб']<0), 'трафик_Гб'] = 0"
   ]
  },
  {
   "cell_type": "code",
   "execution_count": null,
   "id": "4d5127ae",
   "metadata": {},
   "outputs": [],
   "source": [
    "dt_prep['трафик_Гб'] = dt_prep['трафик_Гб'].apply(np.ceil) # округление траффика"
   ]
  },
  {
   "cell_type": "code",
   "execution_count": null,
   "id": "222e2ee5",
   "metadata": {},
   "outputs": [],
   "source": [
    "dt_prep"
   ]
  },
  {
   "cell_type": "markdown",
   "id": "5ec41d37",
   "metadata": {},
   "source": [
    "#### Учёт бесплатных минут"
   ]
  },
  {
   "cell_type": "markdown",
   "id": "3514c1fd",
   "metadata": {},
   "source": [
    "Добавлю столбец 'разговоры, мин', где сминусую включенный в тариф бесплатные минуты разговора:"
   ]
  },
  {
   "cell_type": "code",
   "execution_count": null,
   "id": "4cc172cc",
   "metadata": {},
   "outputs": [],
   "source": [
    "dt_prep['разговоры, мин'] = dt_prep['Разговоры'] - dt_prep['minutes_included']  "
   ]
  },
  {
   "cell_type": "markdown",
   "id": "9740211b",
   "metadata": {},
   "source": [
    "Заменю отрицательные значения в столбце 'разговоры, мин' на нуль:"
   ]
  },
  {
   "cell_type": "code",
   "execution_count": null,
   "id": "6e2ab4a3",
   "metadata": {},
   "outputs": [],
   "source": [
    "dt_prep.loc[(dt_prep['разговоры, мин']<0), 'разговоры, мин'] = 0"
   ]
  },
  {
   "cell_type": "code",
   "execution_count": null,
   "id": "1e2bfa7a",
   "metadata": {},
   "outputs": [],
   "source": [
    "dt_prep"
   ]
  },
  {
   "cell_type": "markdown",
   "id": "03d47c89",
   "metadata": {},
   "source": [
    "#### Учёт бесплатных сообщений"
   ]
  },
  {
   "cell_type": "markdown",
   "id": "4d0c1996",
   "metadata": {},
   "source": [
    "Добавлю столбец 'разговоры, мин', где сминусую включенный в тариф бесплатные сообщения:"
   ]
  },
  {
   "cell_type": "code",
   "execution_count": null,
   "id": "cb42ce8f",
   "metadata": {},
   "outputs": [],
   "source": [
    "dt_prep['сообщения'] = dt_prep['Сообщения'] - dt_prep['messages_included']  "
   ]
  },
  {
   "cell_type": "markdown",
   "id": "349622e6",
   "metadata": {},
   "source": [
    "Заменю отрицательные значения в столбце 'сообщения' на нуль:"
   ]
  },
  {
   "cell_type": "code",
   "execution_count": null,
   "id": "b5e86aa7",
   "metadata": {},
   "outputs": [],
   "source": [
    "dt_prep.loc[(dt_prep['сообщения']<0), 'сообщения'] = 0"
   ]
  },
  {
   "cell_type": "code",
   "execution_count": null,
   "id": "8eca3f98",
   "metadata": {},
   "outputs": [],
   "source": [
    "dt_prep"
   ]
  },
  {
   "cell_type": "markdown",
   "id": "192373c1",
   "metadata": {},
   "source": [
    "#### Помесячная выручка с каждого пользователя"
   ]
  },
  {
   "cell_type": "markdown",
   "id": "7f508da5",
   "metadata": {},
   "source": [
    "Посчитаю ежемясячную выручку с каждого пользователя с учетом тарифа:"
   ]
  },
  {
   "cell_type": "code",
   "execution_count": null,
   "id": "7643a77d",
   "metadata": {},
   "outputs": [],
   "source": [
    "dt_prep['Выручка'] = (dt_prep['трафик_Гб'] * dt_prep['rub_per_gb']) + (dt_prep['разговоры, мин'] * dt_prep['rub_per_minute']) + (dt_prep['сообщения'] * dt_prep['rub_per_message']) + dt_prep['rub_monthly_fee']"
   ]
  },
  {
   "cell_type": "code",
   "execution_count": null,
   "id": "4a9fa576",
   "metadata": {},
   "outputs": [],
   "source": [
    "dt_prep"
   ]
  },
  {
   "cell_type": "markdown",
   "id": "6960efac",
   "metadata": {},
   "source": [
    "### Итоговые таблицы"
   ]
  },
  {
   "cell_type": "markdown",
   "id": "55a56c03",
   "metadata": {},
   "source": [
    "#### Таблица пользователей user:"
   ]
  },
  {
   "cell_type": "markdown",
   "id": "b8578b63",
   "metadata": {},
   "source": [
    "Создам таблицу user, где выведу столбцы, необходимые для исследования:"
   ]
  },
  {
   "cell_type": "code",
   "execution_count": null,
   "id": "f4e5f171",
   "metadata": {},
   "outputs": [],
   "source": [
    "dt_user.head()"
   ]
  },
  {
   "cell_type": "code",
   "execution_count": null,
   "id": "79705848",
   "metadata": {},
   "outputs": [],
   "source": [
    "user = dt_user[['user_id', 'city', 'tariff', 'mesyc', 'mesyc_churn']]"
   ]
  },
  {
   "cell_type": "code",
   "execution_count": null,
   "id": "ca3decf0",
   "metadata": {},
   "outputs": [],
   "source": [
    "user"
   ]
  },
  {
   "cell_type": "markdown",
   "id": "bd49581f",
   "metadata": {},
   "source": [
    "Выведу в отдельные столбцы пользователей тарифов Смарт и Ультра с признаками, 1 - пользователь, 0 - нет:"
   ]
  },
  {
   "cell_type": "code",
   "execution_count": null,
   "id": "c39d3782",
   "metadata": {},
   "outputs": [],
   "source": [
    "user.loc[(user[\"tariff\"] == 'smart'), 'smart'] = 1\n",
    "user.loc[(user[\"tariff\"] == 'ultra'), 'ultra'] = 1"
   ]
  },
  {
   "cell_type": "markdown",
   "id": "4d1f1f04",
   "metadata": {},
   "source": [
    "Заполню нулями пропущенные значения и заменю тип данных на int:"
   ]
  },
  {
   "cell_type": "code",
   "execution_count": null,
   "id": "801abf14",
   "metadata": {
    "scrolled": true
   },
   "outputs": [],
   "source": [
    "user['smart'] = user['smart'].fillna(0).astype(int)\n",
    "user['ultra'] = user['ultra'].fillna(0).astype(int)"
   ]
  },
  {
   "cell_type": "code",
   "execution_count": null,
   "id": "c4e73add",
   "metadata": {},
   "outputs": [],
   "source": [
    "user"
   ]
  },
  {
   "cell_type": "markdown",
   "id": "f2575461",
   "metadata": {},
   "source": [
    "В таблицу user_reg_churn добавлю информацию об ежемесячном притоке и оттоке пользователей и средннее количество пользователей в месяц для каждого тарифа и в общем: "
   ]
  },
  {
   "cell_type": "code",
   "execution_count": null,
   "id": "e970a38f",
   "metadata": {},
   "outputs": [],
   "source": [
    "user_reg_ultra = user.pivot_table(index = ['mesyc'], values = 'ultra', aggfunc = 'sum')\n",
    "user_reg_smart = user.pivot_table(index = ['mesyc'], values = 'smart', aggfunc = 'sum')\n",
    "user_churn_ultra = user.pivot_table(index = ['mesyc_churn'], values = 'ultra', aggfunc = 'sum')\n",
    "user_churn_smart = user.pivot_table(index = ['mesyc_churn'], values = 'smart', aggfunc = 'sum')"
   ]
  },
  {
   "cell_type": "code",
   "execution_count": null,
   "id": "2c9d5085",
   "metadata": {},
   "outputs": [],
   "source": [
    "user_reg_churn = pd.concat([user_reg_ultra, user_reg_smart, user_churn_ultra, user_churn_smart], axis=1)\n",
    "user_reg_churn"
   ]
  },
  {
   "cell_type": "code",
   "execution_count": null,
   "id": "b43cd7a5",
   "metadata": {},
   "outputs": [],
   "source": [
    "user_reg_churn = user_reg_churn.fillna(0).reset_index()\n",
    "new_colus = ['Месяц','ultra_reg', 'smart_reg', 'ultra_churn', 'smart_churn']\n",
    "user_reg_churn.columns = new_colus"
   ]
  },
  {
   "cell_type": "code",
   "execution_count": null,
   "id": "b15fce0b",
   "metadata": {},
   "outputs": [],
   "source": [
    "user_reg_churn['user_reg'] = (user_reg_churn['ultra_reg'] + user_reg_churn['smart_reg'])\n",
    "user_reg_churn['user_churn'] = (user_reg_churn['ultra_churn'] + user_reg_churn['smart_churn'])\n",
    "user_reg_churn['Доля'] = (user_reg_churn['user_churn'] / user_reg_churn['user_reg']).round(2)"
   ]
  },
  {
   "cell_type": "code",
   "execution_count": null,
   "id": "ba709fcc",
   "metadata": {},
   "outputs": [],
   "source": [
    "user_reg_churn['ultra_user_sum'] = np.cumsum(user_reg_churn['ultra_reg']) - user_reg_churn['ultra_churn']\n",
    "user_reg_churn['smart_user_sum'] = np.cumsum(user_reg_churn['smart_reg']) - user_reg_churn['smart_churn']\n",
    "user_reg_churn['user_sum'] = np.cumsum(user_reg_churn['user_reg']) - user_reg_churn['user_churn']"
   ]
  },
  {
   "cell_type": "code",
   "execution_count": null,
   "id": "9198fd91",
   "metadata": {},
   "outputs": [],
   "source": [
    "user_reg_churn"
   ]
  },
  {
   "cell_type": "markdown",
   "id": "0edb7283",
   "metadata": {},
   "source": [
    "#### Переменные - количество пользователей тарифов"
   ]
  },
  {
   "cell_type": "code",
   "execution_count": null,
   "id": "57f3f85e",
   "metadata": {},
   "outputs": [],
   "source": [
    "nnn_smart = user['smart'].sum()\n",
    "nnn_ultra = user['ultra'].sum()\n",
    "print('Количество пользователей тарифа \"Смарт\":', nnn_smart)\n",
    "print('Количество пользователей тарифа \"Ультра\":', nnn_ultra)"
   ]
  },
  {
   "cell_type": "markdown",
   "id": "d5d7a56e",
   "metadata": {},
   "source": [
    "#### Общая таблица:"
   ]
  },
  {
   "cell_type": "markdown",
   "id": "b8a0f329",
   "metadata": {},
   "source": [
    "Создам таблицу stat с данными, необходимыми для дальнейшего исследования:"
   ]
  },
  {
   "cell_type": "code",
   "execution_count": null,
   "id": "cca5132c",
   "metadata": {},
   "outputs": [],
   "source": [
    "stat = dt_prep[['user_id', 'Выручка', 'Месяц', 'Звонки', 'Разговоры', 'Сообщения', 'Интернет', 'Тариф', 'Город']] "
   ]
  },
  {
   "cell_type": "code",
   "execution_count": null,
   "id": "36ee36cb",
   "metadata": {},
   "outputs": [],
   "source": [
    "columns = ['Выручка', 'Звонки', 'Разговоры', 'Сообщения', 'Интернет']\n",
    "\n",
    "for i in columns:\n",
    "    stat[i] = stat[i].astype(int)"
   ]
  },
  {
   "cell_type": "code",
   "execution_count": null,
   "id": "bb582201",
   "metadata": {},
   "outputs": [],
   "source": [
    "stat"
   ]
  },
  {
   "cell_type": "markdown",
   "id": "c5b215c0",
   "metadata": {},
   "source": [
    "В таблице ultra_stat отфильтрую данные потребительского характера для тарифа Ультра:"
   ]
  },
  {
   "cell_type": "code",
   "execution_count": null,
   "id": "9383494c",
   "metadata": {
    "scrolled": true
   },
   "outputs": [],
   "source": [
    "ultra_stat = stat[(stat['Тариф']=='ultra')]\n",
    "ultra_stat"
   ]
  },
  {
   "cell_type": "markdown",
   "id": "e29d2c10",
   "metadata": {},
   "source": [
    "В таблице smart_stat отфильтрую данные потребительского характера для тарифа Смарт:"
   ]
  },
  {
   "cell_type": "code",
   "execution_count": null,
   "id": "e9a4307f",
   "metadata": {},
   "outputs": [],
   "source": [
    "smart_stat = stat[(stat['Тариф']=='smart')]\n",
    "smart_stat"
   ]
  },
  {
   "cell_type": "code",
   "execution_count": null,
   "id": "fa46e21d",
   "metadata": {},
   "outputs": [],
   "source": [
    "smart_stat['Выручка'].plot(kind='hist', bins=100, figsize=(12,6))\n",
    "plt.show()"
   ]
  },
  {
   "cell_type": "markdown",
   "id": "0cd647c7",
   "metadata": {},
   "source": [
    "#### Таблицы месячных показателей для тарифов ultra и smart:"
   ]
  },
  {
   "cell_type": "markdown",
   "id": "f828a03e",
   "metadata": {},
   "source": [
    "В таблице stat_tariff помесячно для каждого тарифа сгруппирую: Выручка, Интернет, Разговоры, Сообщения:"
   ]
  },
  {
   "cell_type": "code",
   "execution_count": null,
   "id": "9a5884fd",
   "metadata": {},
   "outputs": [],
   "source": [
    "stat_tariff = stat.pivot_table(index=['Месяц', 'Тариф'],\n",
    "                    values = ['Разговоры','Сообщения', 'Интернет', 'Выручка'], aggfunc='sum')\n",
    "stat_tariff = stat_tariff.reset_index()"
   ]
  },
  {
   "cell_type": "code",
   "execution_count": null,
   "id": "0a77e076",
   "metadata": {},
   "outputs": [],
   "source": [
    "stat_tariff"
   ]
  },
  {
   "cell_type": "markdown",
   "id": "9f27ca73",
   "metadata": {},
   "source": [
    "В таблицу ultra сгруппирую помесячные данные по тарифу Ультра для Выручка, Интернет, Разговоры, Сообщения и средние показатели в месяц для одного пользователя в Интернет/user, Разговоры/user, Сообщения/user, Выручка/user:"
   ]
  },
  {
   "cell_type": "code",
   "execution_count": null,
   "id": "fa05ffbc",
   "metadata": {},
   "outputs": [],
   "source": [
    "ultra = stat_tariff[(stat_tariff['Тариф']=='ultra')]\n",
    "ultra = pd.merge(ultra, user_reg_churn.loc[:, ['Месяц', 'ultra_user_sum']], on='Месяц')\n",
    "ultra['Интернет/user'] = (ultra['Интернет'] / ultra['ultra_user_sum']).astype(int)\n",
    "ultra['Разговоры/user'] = (ultra['Разговоры'] / ultra['ultra_user_sum']).astype(int)\n",
    "ultra['Сообщения/user'] = (ultra['Сообщения'] / ultra['ultra_user_sum']).astype(int)\n",
    "ultra['Выручка/user'] = (ultra['Выручка'] / ultra['ultra_user_sum']).astype(int)\n",
    "ultra"
   ]
  },
  {
   "cell_type": "markdown",
   "id": "db3a982a",
   "metadata": {},
   "source": [
    "В таблицу smart сгруппирую помесячные данные по тарифу Смарт для Выручка, Интернет, Разговоры, Сообщения и средние показатели в месяц для одного пользователя в Интернет/user, Разговоры/user, Сообщения/user, Выручка/user:"
   ]
  },
  {
   "cell_type": "code",
   "execution_count": null,
   "id": "86475d1d",
   "metadata": {
    "scrolled": false
   },
   "outputs": [],
   "source": [
    "smart = stat_tariff[(stat_tariff['Тариф']=='smart')]\n",
    "smart = pd.merge(smart, user_reg_churn.loc[:, ['Месяц', 'smart_user_sum']], on='Месяц')\n",
    "smart['Интернет/user'] = (smart['Интернет'] / smart['smart_user_sum']).astype(int)\n",
    "smart['Разговоры/user'] = (smart['Разговоры'] / smart['smart_user_sum']).astype(int)\n",
    "smart['Сообщения/user'] = (smart['Сообщения'] / smart['smart_user_sum']).astype(int)\n",
    "smart['Выручка/user'] = (smart['Выручка'] / smart['smart_user_sum']).astype(int)\n",
    "smart "
   ]
  },
  {
   "cell_type": "markdown",
   "id": "2b0c4b81",
   "metadata": {},
   "source": [
    "#### Группировка пользователей по городу:"
   ]
  },
  {
   "cell_type": "markdown",
   "id": "c0af7a99",
   "metadata": {},
   "source": [
    "Отфильтрую в таблицу moscow, пользователей города Москва:"
   ]
  },
  {
   "cell_type": "code",
   "execution_count": null,
   "id": "002dc1ff",
   "metadata": {},
   "outputs": [],
   "source": [
    "moscow = stat[stat['Город'] == 'Москва']\n",
    "moscow"
   ]
  },
  {
   "cell_type": "markdown",
   "id": "4690d8db",
   "metadata": {},
   "source": [
    "Отфильтрую в таблицу zamkad, пользователей кроме города Москва:"
   ]
  },
  {
   "cell_type": "code",
   "execution_count": null,
   "id": "1768b0b5",
   "metadata": {
    "scrolled": true
   },
   "outputs": [],
   "source": [
    "zamkad = stat[stat['Город'] != 'Москва']\n",
    "zamkad"
   ]
  },
  {
   "cell_type": "markdown",
   "id": "4ae3366f",
   "metadata": {},
   "source": [
    "#### Годовые показатели Мегалайн:"
   ]
  },
  {
   "cell_type": "code",
   "execution_count": null,
   "id": "cf55e59f",
   "metadata": {},
   "outputs": [],
   "source": [
    "za_god_megalain =stat[['Разговоры','Сообщения', 'Интернет', 'Выручка']].sum()\n",
    "print(za_god_megalain)"
   ]
  },
  {
   "cell_type": "code",
   "execution_count": null,
   "id": "5febf66a",
   "metadata": {},
   "outputs": [],
   "source": [
    "za_god_ultra = ultra[['Разговоры','Сообщения', 'Интернет', 'Выручка']].sum()\n",
    "print(za_god_ultra)"
   ]
  },
  {
   "cell_type": "code",
   "execution_count": null,
   "id": "097e415b",
   "metadata": {},
   "outputs": [],
   "source": [
    "za_god_smart = smart[['Разговоры','Сообщения', 'Интернет', 'Выручка']].sum()\n",
    "print(za_god_smart)"
   ]
  },
  {
   "cell_type": "markdown",
   "id": "87035b1e",
   "metadata": {},
   "source": [
    "### вывод"
   ]
  },
  {
   "cell_type": "markdown",
   "id": "6ea3376f",
   "metadata": {},
   "source": [
    "1. Для целей статанализа подготовлены следующие таблицы и переменные:\n",
    "\n",
    "__nnn_smart__ - Количество пользователей тарифа \"Смарт\"<br>\n",
    "__nnn_ultra__ - Количество пользователей тарифа \"Ультра\"<br>\n",
    "__stat__ - общая таблица<br>\n",
    "__ultra_stat__ - общая таблица пользователей тарифа \"Ультра\"<br>\n",
    "__smart_stat__ - общая таблица пользователей тарифа \"Смарт\"<br>\n",
    "__user__ - таблица пользователей<br>\n",
    "__user_reg_churn__ - таблица помесячного и потарифного количества пользователей с учетом регистрации и прекращения пользования тарифом<br>\n",
    "__ultra__ - помесячные показатели и их усредненный значения пользователей тарифа Ультра<br>\n",
    "__smart__ - помесячные показатели и их усредненный значения пользователей тарифа Смарт<br>\n",
    "__moscow__ - пользователи г. Москвы<br>\n",
    "__zamkad__ - пользователи других городов<br>\n",
    "\n",
    "2. Выводы для статанализа:\n",
    "\n",
    "Полученные датасеты позволяют при исследовании данных опираться на Закон больших цифр и на центральную предельную теорему, где:\n",
    "\n",
    "Закон больших чисел — известная закономерность: чем больше раз повторяется эксперимент, тем ближе частота заданного на этом эксперименте события будет к его вероятности. Вероятность события тесно связана с его частотой при многократном повторении эксперимента.\n",
    "\n",
    "Одна из формулировок центральной предельной теоремы звучит так: если в выборке достаточно наблюдений, выборочное распределение выборочного среднего из любой генеральной совокупности распределено нормально вокруг среднего этой генеральной совокупности. «Любая генеральная совокупность» означает, что сама генеральная совокупность может быть распределена как угодно. Датасет из средних значений выборок всё равно будет нормально распределён вокруг среднего всей\n",
    "генеральной совокупности. \n",
    "\n",
    "Ежемесячное увеличение числа пользователей оператора моделирует увеличение числа наблюдений и число экспериментов. Вероятность события это среднее всей генеральной совокупности. Выборочное распределение выборочного среднего выведены в таблицы __ultra__ и __smart__ , где колонки __nnn/user__ есть средние по каждой выборке. \n",
    "\n"
   ]
  },
  {
   "cell_type": "markdown",
   "id": "546a273d",
   "metadata": {},
   "source": [
    "## Анализ данных"
   ]
  },
  {
   "cell_type": "markdown",
   "id": "7a4f7f29",
   "metadata": {},
   "source": [
    "### Поведение пользователей"
   ]
  },
  {
   "cell_type": "markdown",
   "id": "5e2d64d6",
   "metadata": {},
   "source": [
    "#### Оператор - клиенты"
   ]
  },
  {
   "cell_type": "code",
   "execution_count": null,
   "id": "9ad08774",
   "metadata": {},
   "outputs": [],
   "source": [
    "labels = [1, 2, 3, 4, 5, 6, 7, 8, 9, 10, 11, 12]\n",
    "user_reg_t = user_reg_churn['user_reg']\n",
    "user_churn_t = user_reg_churn['user_churn']\n",
    "\n",
    "x = np.arange(len(labels))  \n",
    "width = 0.35  \n",
    "\n",
    "fig, ax = plt.subplots(figsize=(15, 8))\n",
    "rects1 = ax.bar(x - width/2, user_reg_t, width, label='user_reg')\n",
    "rects2 = ax.bar(x + width/2, user_churn_t, width, label='user_churn')\n",
    "\n",
    "ax.set_ylabel('Количество пользователей')\n",
    "ax.set_xlabel('Месяц')\n",
    "ax.set_title('Месячный приток и отток клиентов Мегалайн')\n",
    "ax.set_xticks(x, labels)\n",
    "ax.legend()\n",
    "\n",
    "ax.bar_label(rects1, padding=3)\n",
    "ax.bar_label(rects2, padding=3)\n",
    "\n",
    "fig.tight_layout()\n",
    "\n",
    "plt.show()"
   ]
  },
  {
   "cell_type": "code",
   "execution_count": null,
   "id": "8278dd94",
   "metadata": {},
   "outputs": [],
   "source": [
    "labels = [1, 2, 3, 4, 5, 6, 7, 8, 9, 10, 11, 12]\n",
    "temp_one = user_reg_churn['ultra_user_sum']\n",
    "temp_two = user_reg_churn['smart_user_sum']\n",
    "\n",
    "x = np.arange(len(labels))  \n",
    "width = 0.35  \n",
    "\n",
    "fig, ax = plt.subplots(figsize=(15, 8))\n",
    "rects1 = ax.bar(x - width/2, temp_one, width, label='Ultra')\n",
    "rects2 = ax.bar(x + width/2, temp_two, width, label='Smart')\n",
    "\n",
    "ax.set_ylabel('Количество пользователей')\n",
    "ax.set_xlabel('Месяц')\n",
    "ax.set_title('Помесячный рост клиентской базы с учетом оттока для каждого тарифа')\n",
    "ax.set_xticks(x, labels)\n",
    "ax.legend()\n",
    "\n",
    "ax.bar_label(rects1, padding=3)\n",
    "ax.bar_label(rects2, padding=3)\n",
    "\n",
    "fig.tight_layout()\n",
    "\n",
    "plt.show()"
   ]
  },
  {
   "cell_type": "markdown",
   "id": "7d80542d",
   "metadata": {},
   "source": [
    "#### Описание к Оператор - клиенты:\n",
    "\n",
    "С августа месяца наблюдается отток клиентов с ежемесячным приростом и снижение ежемесячного количества зарегистрированных клиентов.\n",
    "\n",
    "Ежемесячно количество клиентов прирастает, значит ежемесячно выборка увеличивается."
   ]
  },
  {
   "cell_type": "markdown",
   "id": "95bd64f8",
   "metadata": {},
   "source": [
    "#### Тариф - клиенты"
   ]
  },
  {
   "cell_type": "code",
   "execution_count": null,
   "id": "d3ab8068",
   "metadata": {},
   "outputs": [],
   "source": [
    "labels = [1, 2, 3, 4, 5, 6, 7, 8, 9, 10, 11, 12]\n",
    "temp_one = smart['Интернет/user']\n",
    "temp_two = ultra['Интернет/user']\n",
    "\n",
    "x = np.arange(len(labels))  \n",
    "width = 0.35  \n",
    "\n",
    "fig, ax = plt.subplots(figsize=(15, 8))\n",
    "rects1 = ax.bar(x - width/2, temp_one, width, label='smart')\n",
    "rects2 = ax.bar(x + width/2, temp_two, width, label='ultra')\n",
    "\n",
    "ax.set_ylabel('Объём трафика')\n",
    "ax.set_xlabel('Месяц')\n",
    "ax.set_title('Помесячный объём интернет трафика на одного пользователя для каждого тарифа')\n",
    "ax.set_xticks(x, labels)\n",
    "ax.legend()\n",
    "\n",
    "ax.bar_label(rects1, padding=3)\n",
    "ax.bar_label(rects2, padding=3)\n",
    "\n",
    "fig.tight_layout()\n",
    "\n",
    "plt.show()"
   ]
  },
  {
   "cell_type": "code",
   "execution_count": null,
   "id": "f434a7f5",
   "metadata": {},
   "outputs": [],
   "source": [
    "labels = [1, 2, 3, 4, 5, 6, 7, 8, 9, 10, 11, 12]\n",
    "temp_one = smart['Разговоры/user']\n",
    "temp_two = ultra['Разговоры/user']\n",
    "\n",
    "x = np.arange(len(labels))  \n",
    "width = 0.35  \n",
    "\n",
    "fig, ax = plt.subplots(figsize=(15, 8))\n",
    "rects1 = ax.bar(x - width/2, temp_one, width, label='smart')\n",
    "rects2 = ax.bar(x + width/2, temp_two, width, label='ultra')\n",
    "\n",
    "ax.set_ylabel('Минут')\n",
    "ax.set_xlabel('Месяц')\n",
    "ax.set_title('Помесячное количество минут разговора на одного пользователя для каждого тарифа')\n",
    "ax.set_xticks(x, labels)\n",
    "ax.legend()\n",
    "\n",
    "ax.bar_label(rects1, padding=3)\n",
    "ax.bar_label(rects2, padding=3)\n",
    "\n",
    "fig.tight_layout()\n",
    "\n",
    "plt.show()"
   ]
  },
  {
   "cell_type": "code",
   "execution_count": null,
   "id": "51781ff6",
   "metadata": {},
   "outputs": [],
   "source": [
    "labels = [1, 2, 3, 4, 5, 6, 7, 8, 9, 10, 11, 12]\n",
    "temp_one = smart['Сообщения/user']\n",
    "temp_two = ultra['Сообщения/user']\n",
    "\n",
    "x = np.arange(len(labels))  \n",
    "width = 0.35  \n",
    "\n",
    "fig, ax = plt.subplots(figsize=(15, 8))\n",
    "rects1 = ax.bar(x - width/2, temp_one, width, label='smart')\n",
    "rects2 = ax.bar(x + width/2, temp_two, width, label='ultra')\n",
    "\n",
    "ax.set_ylabel('Сообщений')\n",
    "ax.set_xlabel('Месяц')\n",
    "ax.set_title('Помесячное количество сообщений на одного полльзователя для каждого тарифа')\n",
    "ax.set_xticks(x, labels)\n",
    "ax.legend()\n",
    "\n",
    "ax.bar_label(rects1, padding=3)\n",
    "ax.bar_label(rects2, padding=3)\n",
    "\n",
    "fig.tight_layout()\n",
    "\n",
    "plt.show()"
   ]
  },
  {
   "cell_type": "markdown",
   "id": "5b350e4a",
   "metadata": {},
   "source": [
    "#### Описание к Тариф - клиенты:\n",
    "\n",
    "Чем больше размер выборки, тем ближе выборочные средние к истинной средней этой совокупности. "
   ]
  },
  {
   "cell_type": "markdown",
   "id": "cc7edb2e",
   "metadata": {},
   "source": [
    "### Статистика"
   ]
  },
  {
   "cell_type": "markdown",
   "id": "c61c5e0c",
   "metadata": {},
   "source": [
    "#### Матрица. Распределение."
   ]
  },
  {
   "cell_type": "code",
   "execution_count": null,
   "id": "8a6cbf16",
   "metadata": {},
   "outputs": [],
   "source": [
    "pd.plotting.scatter_matrix(stat[['Сообщения', 'Разговоры', 'Интернет']], figsize = (12,12))\n",
    "plt.show()"
   ]
  },
  {
   "cell_type": "code",
   "execution_count": null,
   "id": "cf75e9dc",
   "metadata": {},
   "outputs": [],
   "source": [
    "pd.plotting.scatter_matrix(smart_stat[['Сообщения', 'Разговоры', 'Интернет']], figsize = (12,12))\n",
    "plt.show()"
   ]
  },
  {
   "cell_type": "code",
   "execution_count": null,
   "id": "6df5d4e9",
   "metadata": {},
   "outputs": [],
   "source": [
    "pd.plotting.scatter_matrix(ultra_stat[['Сообщения', 'Разговоры', 'Интернет']], figsize = (12,12))\n",
    "plt.show()"
   ]
  },
  {
   "cell_type": "markdown",
   "id": "3bddc887",
   "metadata": {},
   "source": [
    "Сравнительное распределение плотностей для каждого тарифа и в целом по всей выборке:"
   ]
  },
  {
   "cell_type": "code",
   "execution_count": null,
   "id": "d7ded5a0",
   "metadata": {},
   "outputs": [],
   "source": [
    "sns.kdeplot(stat['Интернет'])\n",
    "sns.kdeplot(smart_stat['Интернет'])\n",
    "sns.kdeplot(ultra_stat['Интернет'])\n",
    "\n",
    "plt.show()"
   ]
  },
  {
   "cell_type": "code",
   "execution_count": null,
   "id": "a34a04c5",
   "metadata": {},
   "outputs": [],
   "source": [
    "sns.kdeplot(stat['Разговоры'])\n",
    "sns.kdeplot(smart_stat['Разговоры'])\n",
    "sns.kdeplot(ultra_stat['Разговоры'])\n",
    "plt.show()"
   ]
  },
  {
   "cell_type": "code",
   "execution_count": null,
   "id": "27aa7abc",
   "metadata": {},
   "outputs": [],
   "source": [
    "sns.kdeplot(stat['Сообщения'])\n",
    "sns.kdeplot(smart_stat['Сообщения'])\n",
    "sns.kdeplot(ultra_stat['Сообщения'])\n",
    "\n",
    "plt.show()"
   ]
  },
  {
   "cell_type": "markdown",
   "id": "19d8203e",
   "metadata": {},
   "source": [
    "##### Описание - Матрица. Распределение."
   ]
  },
  {
   "cell_type": "markdown",
   "id": "d982280c",
   "metadata": {},
   "source": [
    "Здесь наблюдаем классическую форму распределения Пуассона, которая зависит от числа событий. При небольших значениях распределение смещено влево, а с увеличением числа событий становится симметричным и уходит вправо. Очень четко наблюдается на гистограммах.  \n",
    "Распределение плотности по каждой выборке симметричное и стремится к нормальному. "
   ]
  },
  {
   "cell_type": "markdown",
   "id": "2da28675",
   "metadata": {},
   "source": [
    "#### Показатели статистики"
   ]
  },
  {
   "cell_type": "code",
   "execution_count": null,
   "id": "4c091dd4",
   "metadata": {
    "pycharm": {
     "name": "#%%\n"
    }
   },
   "outputs": [],
   "source": [
    "stat.pivot_table(index = 'Месяц', values = ['Интернет', 'Разговоры', 'Сообщения'], aggfunc = ['mean', 'std', 'var']).round(0)"
   ]
  },
  {
   "cell_type": "code",
   "execution_count": null,
   "id": "ee8c5336",
   "metadata": {},
   "outputs": [],
   "source": [
    "smart_stat.pivot_table(index = 'Месяц', values = ['Интернет', 'Разговоры', 'Сообщения'], aggfunc = ['mean', 'std', 'var']).round(0)"
   ]
  },
  {
   "cell_type": "code",
   "execution_count": null,
   "id": "012f0c1b",
   "metadata": {
    "pycharm": {
     "name": "#%%\n"
    }
   },
   "outputs": [],
   "source": [
    "ultra_stat.pivot_table(index = 'Месяц', values = ['Интернет', 'Разговоры', 'Сообщения'], aggfunc = ['mean', 'std', 'var']).round(0)"
   ]
  },
  {
   "cell_type": "code",
   "execution_count": null,
   "id": "f5661b14",
   "metadata": {},
   "outputs": [],
   "source": [
    "stat.mean()"
   ]
  },
  {
   "cell_type": "code",
   "execution_count": null,
   "id": "65f9e4d8",
   "metadata": {},
   "outputs": [],
   "source": [
    "smart"
   ]
  },
  {
   "cell_type": "code",
   "execution_count": null,
   "id": "af0f9fc7",
   "metadata": {},
   "outputs": [],
   "source": [
    "smart[['Интернет/user', 'Разговоры/user', 'Сообщения/user', 'Выручка/user']].mean()"
   ]
  },
  {
   "cell_type": "code",
   "execution_count": null,
   "id": "8aa23f97",
   "metadata": {},
   "outputs": [],
   "source": [
    "ultra[['Интернет/user', 'Разговоры/user', 'Сообщения/user', 'Выручка/user']].mean()"
   ]
  },
  {
   "cell_type": "markdown",
   "id": "c7650154",
   "metadata": {},
   "source": [
    "##### Описание - Показатели статистики\n",
    "\n",
    "Дисперсия случайной величины - характеристика рассеивания, разбросанности случайной величины около её математического ожидания В нашем случае квадратный корень дисперсии равен приблизительно к стандартному отклонению и близко к фактическому среднему значению. Это говорит о том, что каждая выборка даёт близкое к нормальному распределению."
   ]
  },
  {
   "cell_type": "markdown",
   "id": "cb30e1f0",
   "metadata": {},
   "source": [
    "## Проверка гипотез\n",
    "\n",
    "Нулевая гипотеза всегда формулируется так, чтобы использовать знак равенства. Другими словами, чтобы все данные лежали в районе изначально предполагаемого значения. Отсюда формулируем гипотезы, требующие проверки в проекте:\n",
    "\n",
    "- __Гипотеза 1:__\n",
    "\n",
    "___Нулевая гипотеза___ - средняя выручка пользователей тарифов «Ультра» и «Смарт» равны;\n",
    "\n",
    "___Альтернативная гипотеза___ - средняя выручка пользователей тарифов «Ультра» и «Смарт» различаются;\n",
    "\n",
    "- __Гипотеза 2:__  \n",
    "\n",
    "___Нулевая гипотеза___ - средняя выручка пользователей из Москвы равна выручке пользователей из других регионов\n",
    "\n",
    "___Альтернативная гипотеза___ - средняя выручка пользователей из Москвы отличается от выручки пользователей из других регионов\n",
    "\n",
    "Параметр equal variance не задаю(по умолчанию = True), потому как выше установили, дисперсии выборок можно считать равными.\n",
    "\n",
    "alpha = 0.05 - задам стандартное значение. "
   ]
  },
  {
   "cell_type": "markdown",
   "id": "52f55f6d",
   "metadata": {},
   "source": [
    "### Гипотеза 1"
   ]
  },
  {
   "cell_type": "code",
   "execution_count": null,
   "id": "2ca2c29c",
   "metadata": {
    "pycharm": {
     "name": "#%%\n"
    }
   },
   "outputs": [],
   "source": [
    "print('Выручка на одного пользователя тарифа \"Смарт\" в среднем за год:', smart['Выручка/user'].mean())"
   ]
  },
  {
   "cell_type": "code",
   "execution_count": null,
   "id": "3637bc93",
   "metadata": {
    "pycharm": {
     "name": "#%%\n"
    },
    "scrolled": true
   },
   "outputs": [],
   "source": [
    "print('Выручка на одного пользователя тарифа \"Ультра\" в среднем за год:', ultra['Выручка/user'].mean())"
   ]
  },
  {
   "cell_type": "code",
   "execution_count": null,
   "id": "1bde5e23",
   "metadata": {},
   "outputs": [],
   "source": [
    "alpha = 0.05\n",
    "results = st.ttest_ind(smart['Выручка/user'], ultra['Выручка/user'])\n",
    "print('P-value:', results.pvalue)\n",
    "\n",
    "if results.pvalue < alpha:\n",
    "    print(\"Отвергаем нулевую гипотезу\")\n",
    "else:\n",
    "    print(\"Не получилось отвергнуть нулевую гипотезу\")"
   ]
  },
  {
   "cell_type": "markdown",
   "id": "8f3415c7",
   "metadata": {},
   "source": [
    "Так как, нулевая гипотеза отвергается, то подтверждается рабочая гипотеза - средняя выручка пользователей тарифов «Ультра» и «Смарт» различаются. И средняя выручка на одного пользователя по каждому тарифу дополнительно подтверждает этот вывод."
   ]
  },
  {
   "cell_type": "markdown",
   "id": "ddbd26a9",
   "metadata": {},
   "source": [
    "### Гипотеза 2"
   ]
  },
  {
   "cell_type": "code",
   "execution_count": null,
   "id": "263cde1b",
   "metadata": {},
   "outputs": [],
   "source": [
    "m = moscow.pivot_table(index = 'user_id', values = 'Выручка', aggfunc = 'sum')\n",
    "z = zamkad.pivot_table(index = 'user_id', values = 'Выручка', aggfunc = 'sum')"
   ]
  },
  {
   "cell_type": "code",
   "execution_count": null,
   "id": "1aee10a9",
   "metadata": {},
   "outputs": [],
   "source": [
    "print('Средняя выручка на одного пользователя в г. Москва', m['Выручка'].mean() / 12)"
   ]
  },
  {
   "cell_type": "code",
   "execution_count": null,
   "id": "d5a868e6",
   "metadata": {},
   "outputs": [],
   "source": [
    "print('Средняя выручка на одного пользователя в других городах', z['Выручка'].mean() / 12)"
   ]
  },
  {
   "cell_type": "code",
   "execution_count": null,
   "id": "d8dd2177",
   "metadata": {},
   "outputs": [],
   "source": [
    "alpha = 0.05\n",
    "results = st.ttest_ind(moscow['Выручка'], zamkad['Выручка'])\n",
    "print('P-value:', results.pvalue)\n",
    "\n",
    "if results.pvalue < alpha:\n",
    "    print(\"Отвергаем нулевую гипотезу\")\n",
    "else:\n",
    "    print(\"Не получилось отвергнуть нулевую гипотезу\")"
   ]
  },
  {
   "cell_type": "markdown",
   "id": "e5a603cd",
   "metadata": {},
   "source": [
    "Так как, нулевая гипотеза не отвергается, то не подтверждается рабочая гипотеза - средняя выручка пользователей из Москвы отличается от выручки пользователей из других регионов. И средняя выручка на одного пользователя по городам дополнительно подтверждает этот вывод.<br>\n",
    "Здесь не стоит обращать внимания на получившиеся низкие значения средних на каждого пользователя, это усредненная цифра в среднем за год, но так как, я установил, что каждая выборка распределена равномерно вокруг генеральной, то эти значения релевантны."
   ]
  },
  {
   "cell_type": "markdown",
   "id": "381b6cbf",
   "metadata": {
    "pycharm": {
     "name": "#%% md\n"
    }
   },
   "source": [
    "## Общий вывод\n",
    "\n",
    "__1. Исходные данные:__<br>\n",
    "Файлы читаются, общая информация получена, фатальных ошибок не обнаружено, Данные можно считать чистыми.<br>\n",
    "\n",
    "__2. Теоретическое обоснование:__<br>\n",
    "К изучению предложена выборка в 500 пользователей за 2018 год, из них:<br> \n",
    "Количество пользователей тарифа \"Смарт - 351,<br> \n",
    "Количество пользователей тарифа \"Ультра\" – 149.<br>\n",
    "Количество пользователей из г. Москвы – 99,<br>\n",
    "Количество пользователей из других городов – 401.<br>\n",
    "\n",
    "Предложенный объём данных позволяет судить о всей генеральной совокупности по её репрезентативной части.<br> \n",
    "Выборка составлена таким образом, что ежемесячно увеличивается размер выборки, то есть получается стратифицированная выборка, более репрезентативная, чем просто случайная.<br> \n",
    "Одна из формулировок центральной предельной теоремы звучит так: если в выборке достаточно наблюдений, выборочное распределение выборочного среднего из любой генеральной совокупности распределено нормально вокруг среднего этой генеральной совокупности. «Любая генеральная совокупность» означает, что сама генеральная совокупность может быть распределена, как угодно. Датасет из средних значений выборок всё равно будет нормально распределён вокруг среднего всей генеральной совокупности.<br>\n",
    "На графиках и гистограммах это отчётливо прослеживается.<br>\n",
    "\n",
    "__3. Поведение клиентов:__<br>\n",
    "С августа месяца наблюдается отток клиентов с ежемесячным приростом и снижение ежемесячного количества зарегистрированных клиентов.<br>\n",
    "Пользователи тарифа Ультра стабильно больше используют ресурсов, против пользователей тарифа Смарт:<br>\n",
    "- Тариф Ультра:<br>\n",
    "Интернет/user - 18138 Мб<br>\n",
    "Разговоры/user – 493 минут<br> \n",
    "Сообщения/user – 43 количество<br>\n",
    "\n",
    "- Тариф Смарт:<br>\n",
    "Интернет/user - 15056 Мб<br>\n",
    "Разговоры/user - 386 минут<br>\n",
    "Сообщения/user - 31 количество<br>\n",
    "\n",
    "__4. Проверка гипотез.__<br>\n",
    "Для проверки рабочих гипотез использован метод scipy.stats.ttest_ind() с параметром equal_var = True и стандартным значением alpha = 0.05.<br>\n",
    "В результате теста:<br>\n",
    "- рабочая гипотеза - средняя выручка пользователей тарифов «Ультра» и «Смарт» различаются, подтвердилась:<br>\n",
    "Выручка на одного пользователя тарифа \"Смарт\" в среднем за год: 1180 рублей,<br>\n",
    "Выручка на одного пользователя тарифа \"Ультра\" в среднем за год: 2040 рублей<br>\n",
    "- рабочая гипотеза - средняя выручка пользователей из Москвы отличается от выручки пользователей из других регионов, не подтвердилась. Выручка от одного пользователя приблизительно одинаковы:<br>\n",
    "Средняя выручка за месяц на одного среднесписочного пользователя г. Москва: 795 рублей,<br>\n",
    "Средняя выручка за месяц на одного среднесписочного пользователя в других городах 829 рублей.<br>\n",
    "\n",
    "__5. Рекомендация коммерческому департаменту:__<br>\n",
    "Выручка Мегалайн по выборке за год составила 4914451 рублей.<br> \n",
    "Из них на тариф Ультра приходится - 2039100 рублей<br>\n",
    "и на тариф Смарт - 2875351 рублей.<br>\n",
    "То есть, в целом тариф Смарт вносит в общий бюджет больше денег нежели тариф Ультра. Но при этом, надо учитывать, что каждый пользователь тарифа Ультра в среднем приносит 2040 рублей, а каждый пользователь тарифа Смарт - 1180 рублей.\n",
    "\n",
    "__Исходя из показателей выручки, корректировка рекламного бюджета в пользу тарифа Ультра смотрится предпочтительнее.__"
   ]
  },
  {
   "cell_type": "code",
   "execution_count": null,
   "outputs": [],
   "source": [],
   "metadata": {
    "collapsed": false,
    "pycharm": {
     "name": "#%%\n"
    }
   }
  }
 ],
 "metadata": {
  "ExecuteTimeLog": [
   {
    "duration": 1491,
    "start_time": "2022-01-06T13:29:47.281Z"
   },
   {
    "duration": 548,
    "start_time": "2022-01-06T13:29:48.775Z"
   },
   {
    "duration": 71,
    "start_time": "2022-01-06T13:29:49.326Z"
   },
   {
    "duration": 186,
    "start_time": "2022-01-06T13:29:49.400Z"
   },
   {
    "duration": 19,
    "start_time": "2022-01-06T13:29:49.588Z"
   },
   {
    "duration": 13,
    "start_time": "2022-01-06T13:29:49.609Z"
   },
   {
    "duration": 24,
    "start_time": "2022-01-06T13:29:49.625Z"
   },
   {
    "duration": 12,
    "start_time": "2022-01-06T13:29:49.653Z"
   },
   {
    "duration": 5,
    "start_time": "2022-01-06T13:29:49.668Z"
   },
   {
    "duration": 18,
    "start_time": "2022-01-06T13:29:49.675Z"
   },
   {
    "duration": 8,
    "start_time": "2022-01-06T13:29:49.696Z"
   },
   {
    "duration": 5,
    "start_time": "2022-01-06T13:29:49.706Z"
   },
   {
    "duration": 51,
    "start_time": "2022-01-06T13:29:49.714Z"
   },
   {
    "duration": 12,
    "start_time": "2022-01-06T13:29:49.768Z"
   },
   {
    "duration": 98,
    "start_time": "2022-01-06T13:29:49.783Z"
   },
   {
    "duration": 12,
    "start_time": "2022-01-06T13:29:49.884Z"
   },
   {
    "duration": 12,
    "start_time": "2022-01-06T13:29:49.899Z"
   },
   {
    "duration": 63,
    "start_time": "2022-01-06T13:29:49.914Z"
   },
   {
    "duration": 11,
    "start_time": "2022-01-06T13:29:49.979Z"
   },
   {
    "duration": 15,
    "start_time": "2022-01-06T13:29:49.992Z"
   },
   {
    "duration": 62,
    "start_time": "2022-01-06T13:29:50.009Z"
   },
   {
    "duration": 13,
    "start_time": "2022-01-06T13:29:50.074Z"
   },
   {
    "duration": 41,
    "start_time": "2022-01-06T13:29:50.094Z"
   },
   {
    "duration": 30,
    "start_time": "2022-01-06T13:29:50.139Z"
   },
   {
    "duration": 6,
    "start_time": "2022-01-06T13:29:50.173Z"
   },
   {
    "duration": 31,
    "start_time": "2022-01-06T13:29:50.181Z"
   },
   {
    "duration": 8,
    "start_time": "2022-01-06T13:29:50.215Z"
   },
   {
    "duration": 11,
    "start_time": "2022-01-06T13:29:50.261Z"
   },
   {
    "duration": 10,
    "start_time": "2022-01-06T13:29:50.274Z"
   },
   {
    "duration": 12,
    "start_time": "2022-01-06T13:29:50.287Z"
   },
   {
    "duration": 15,
    "start_time": "2022-01-06T13:29:50.301Z"
   },
   {
    "duration": 45,
    "start_time": "2022-01-06T13:29:50.319Z"
   },
   {
    "duration": 97,
    "start_time": "2022-01-06T13:29:50.368Z"
   },
   {
    "duration": 5,
    "start_time": "2022-01-06T13:29:50.468Z"
   },
   {
    "duration": 105,
    "start_time": "2022-01-06T13:29:50.476Z"
   },
   {
    "duration": 5,
    "start_time": "2022-01-06T13:29:50.584Z"
   },
   {
    "duration": 98,
    "start_time": "2022-01-06T13:29:50.592Z"
   },
   {
    "duration": 4,
    "start_time": "2022-01-06T13:29:50.692Z"
   },
   {
    "duration": 98,
    "start_time": "2022-01-06T13:29:50.698Z"
   },
   {
    "duration": 4,
    "start_time": "2022-01-06T13:29:50.799Z"
   },
   {
    "duration": 89,
    "start_time": "2022-01-06T13:29:50.805Z"
   },
   {
    "duration": 4,
    "start_time": "2022-01-06T13:29:50.896Z"
   },
   {
    "duration": 90,
    "start_time": "2022-01-06T13:29:50.902Z"
   },
   {
    "duration": 4,
    "start_time": "2022-01-06T13:29:50.994Z"
   },
   {
    "duration": 91,
    "start_time": "2022-01-06T13:29:51.000Z"
   },
   {
    "duration": 33,
    "start_time": "2022-01-06T13:29:51.093Z"
   },
   {
    "duration": 34,
    "start_time": "2022-01-06T13:29:51.129Z"
   },
   {
    "duration": 39,
    "start_time": "2022-01-06T13:29:51.165Z"
   },
   {
    "duration": 8,
    "start_time": "2022-01-06T13:29:51.207Z"
   },
   {
    "duration": 7,
    "start_time": "2022-01-06T13:29:51.218Z"
   },
   {
    "duration": 71,
    "start_time": "2022-01-06T13:29:51.228Z"
   },
   {
    "duration": 5,
    "start_time": "2022-01-06T13:29:51.302Z"
   },
   {
    "duration": 14,
    "start_time": "2022-01-06T13:29:51.310Z"
   },
   {
    "duration": 11,
    "start_time": "2022-01-06T13:29:51.327Z"
   },
   {
    "duration": 56,
    "start_time": "2022-01-06T13:29:51.340Z"
   },
   {
    "duration": 11,
    "start_time": "2022-01-06T13:29:51.399Z"
   },
   {
    "duration": 11,
    "start_time": "2022-01-06T13:29:51.413Z"
   },
   {
    "duration": 64,
    "start_time": "2022-01-06T13:29:51.427Z"
   },
   {
    "duration": 18,
    "start_time": "2022-01-06T13:29:51.494Z"
   },
   {
    "duration": 58,
    "start_time": "2022-01-06T13:29:51.516Z"
   },
   {
    "duration": 5,
    "start_time": "2022-01-06T13:29:51.577Z"
   },
   {
    "duration": 20,
    "start_time": "2022-01-06T13:29:51.585Z"
   },
   {
    "duration": 21,
    "start_time": "2022-01-06T13:29:51.608Z"
   },
   {
    "duration": 35,
    "start_time": "2022-01-06T13:29:51.632Z"
   },
   {
    "duration": 45,
    "start_time": "2022-01-06T13:29:51.669Z"
   },
   {
    "duration": 13,
    "start_time": "2022-01-06T13:29:51.716Z"
   },
   {
    "duration": 34,
    "start_time": "2022-01-06T13:29:51.732Z"
   },
   {
    "duration": 13,
    "start_time": "2022-01-06T13:29:51.777Z"
   },
   {
    "duration": 21,
    "start_time": "2022-01-06T13:29:51.797Z"
   },
   {
    "duration": 48,
    "start_time": "2022-01-06T13:29:51.821Z"
   },
   {
    "duration": 9,
    "start_time": "2022-01-06T13:29:51.872Z"
   },
   {
    "duration": 10,
    "start_time": "2022-01-06T13:29:51.886Z"
   },
   {
    "duration": 29,
    "start_time": "2022-01-06T13:29:51.899Z"
   },
   {
    "duration": 58,
    "start_time": "2022-01-06T13:29:51.932Z"
   },
   {
    "duration": 20,
    "start_time": "2022-01-06T13:29:51.992Z"
   },
   {
    "duration": 57,
    "start_time": "2022-01-06T13:29:52.015Z"
   },
   {
    "duration": 15,
    "start_time": "2022-01-06T13:29:52.074Z"
   },
   {
    "duration": 34,
    "start_time": "2022-01-06T13:29:52.092Z"
   },
   {
    "duration": 56,
    "start_time": "2022-01-06T13:29:52.129Z"
   },
   {
    "duration": 41,
    "start_time": "2022-01-06T13:29:52.188Z"
   },
   {
    "duration": 33,
    "start_time": "2022-01-06T13:29:52.231Z"
   },
   {
    "duration": 7,
    "start_time": "2022-01-06T13:29:52.267Z"
   },
   {
    "duration": 10,
    "start_time": "2022-01-06T13:29:52.277Z"
   },
   {
    "duration": 9,
    "start_time": "2022-01-06T13:29:52.290Z"
   },
   {
    "duration": 995,
    "start_time": "2022-01-06T13:29:52.301Z"
   },
   {
    "duration": -1115,
    "start_time": "2022-01-06T13:29:54.415Z"
   },
   {
    "duration": -1121,
    "start_time": "2022-01-06T13:29:54.423Z"
   },
   {
    "duration": -1190,
    "start_time": "2022-01-06T13:29:54.494Z"
   },
   {
    "duration": -1196,
    "start_time": "2022-01-06T13:29:54.503Z"
   },
   {
    "duration": -1202,
    "start_time": "2022-01-06T13:29:54.511Z"
   },
   {
    "duration": -1207,
    "start_time": "2022-01-06T13:29:54.519Z"
   },
   {
    "duration": -1213,
    "start_time": "2022-01-06T13:29:54.527Z"
   },
   {
    "duration": -1219,
    "start_time": "2022-01-06T13:29:54.535Z"
   },
   {
    "duration": -1224,
    "start_time": "2022-01-06T13:29:54.542Z"
   },
   {
    "duration": -1229,
    "start_time": "2022-01-06T13:29:54.549Z"
   },
   {
    "duration": -1357,
    "start_time": "2022-01-06T13:29:54.719Z"
   },
   {
    "duration": -1391,
    "start_time": "2022-01-06T13:29:54.755Z"
   },
   {
    "duration": -1438,
    "start_time": "2022-01-06T13:29:54.805Z"
   },
   {
    "duration": -1442,
    "start_time": "2022-01-06T13:29:54.811Z"
   },
   {
    "duration": -1445,
    "start_time": "2022-01-06T13:29:54.816Z"
   },
   {
    "duration": -1458,
    "start_time": "2022-01-06T13:29:54.832Z"
   },
   {
    "duration": -1463,
    "start_time": "2022-01-06T13:29:54.839Z"
   },
   {
    "duration": -1468,
    "start_time": "2022-01-06T13:29:54.846Z"
   },
   {
    "duration": -1472,
    "start_time": "2022-01-06T13:29:54.852Z"
   },
   {
    "duration": -1476,
    "start_time": "2022-01-06T13:29:54.859Z"
   },
   {
    "duration": 26,
    "start_time": "2022-01-06T13:38:05.168Z"
   },
   {
    "duration": 11600,
    "start_time": "2022-01-06T13:40:36.971Z"
   },
   {
    "duration": 1659,
    "start_time": "2022-01-06T13:40:57.111Z"
   },
   {
    "duration": 549,
    "start_time": "2022-01-06T13:40:58.772Z"
   },
   {
    "duration": 95,
    "start_time": "2022-01-06T13:40:59.324Z"
   },
   {
    "duration": 178,
    "start_time": "2022-01-06T13:40:59.422Z"
   },
   {
    "duration": 21,
    "start_time": "2022-01-06T13:40:59.602Z"
   },
   {
    "duration": 5,
    "start_time": "2022-01-06T13:40:59.625Z"
   },
   {
    "duration": 32,
    "start_time": "2022-01-06T13:40:59.633Z"
   },
   {
    "duration": 9,
    "start_time": "2022-01-06T13:40:59.671Z"
   },
   {
    "duration": 6,
    "start_time": "2022-01-06T13:40:59.684Z"
   },
   {
    "duration": 20,
    "start_time": "2022-01-06T13:40:59.693Z"
   },
   {
    "duration": 54,
    "start_time": "2022-01-06T13:40:59.716Z"
   },
   {
    "duration": 6,
    "start_time": "2022-01-06T13:40:59.772Z"
   },
   {
    "duration": 20,
    "start_time": "2022-01-06T13:40:59.780Z"
   },
   {
    "duration": 16,
    "start_time": "2022-01-06T13:40:59.802Z"
   },
   {
    "duration": 115,
    "start_time": "2022-01-06T13:40:59.821Z"
   },
   {
    "duration": 28,
    "start_time": "2022-01-06T13:40:59.939Z"
   },
   {
    "duration": 13,
    "start_time": "2022-01-06T13:40:59.970Z"
   },
   {
    "duration": 36,
    "start_time": "2022-01-06T13:40:59.986Z"
   },
   {
    "duration": 40,
    "start_time": "2022-01-06T13:41:00.025Z"
   },
   {
    "duration": 15,
    "start_time": "2022-01-06T13:41:00.067Z"
   },
   {
    "duration": 35,
    "start_time": "2022-01-06T13:41:00.085Z"
   },
   {
    "duration": 55,
    "start_time": "2022-01-06T13:41:00.123Z"
   },
   {
    "duration": 33,
    "start_time": "2022-01-06T13:41:00.185Z"
   },
   {
    "duration": 9,
    "start_time": "2022-01-06T13:41:00.222Z"
   },
   {
    "duration": 14,
    "start_time": "2022-01-06T13:41:00.234Z"
   },
   {
    "duration": 29,
    "start_time": "2022-01-06T13:41:00.264Z"
   },
   {
    "duration": 9,
    "start_time": "2022-01-06T13:41:00.295Z"
   },
   {
    "duration": 31,
    "start_time": "2022-01-06T13:41:00.306Z"
   },
   {
    "duration": 17,
    "start_time": "2022-01-06T13:41:00.339Z"
   },
   {
    "duration": 19,
    "start_time": "2022-01-06T13:41:00.358Z"
   },
   {
    "duration": 23,
    "start_time": "2022-01-06T13:41:00.380Z"
   },
   {
    "duration": 6,
    "start_time": "2022-01-06T13:41:00.406Z"
   },
   {
    "duration": 77,
    "start_time": "2022-01-06T13:41:00.415Z"
   },
   {
    "duration": 4,
    "start_time": "2022-01-06T13:41:00.494Z"
   },
   {
    "duration": 75,
    "start_time": "2022-01-06T13:41:00.501Z"
   },
   {
    "duration": 4,
    "start_time": "2022-01-06T13:41:00.579Z"
   },
   {
    "duration": 65,
    "start_time": "2022-01-06T13:41:00.585Z"
   },
   {
    "duration": 13,
    "start_time": "2022-01-06T13:41:00.652Z"
   },
   {
    "duration": 68,
    "start_time": "2022-01-06T13:41:00.668Z"
   },
   {
    "duration": 4,
    "start_time": "2022-01-06T13:41:00.738Z"
   },
   {
    "duration": 67,
    "start_time": "2022-01-06T13:41:00.744Z"
   },
   {
    "duration": 4,
    "start_time": "2022-01-06T13:41:00.813Z"
   },
   {
    "duration": 78,
    "start_time": "2022-01-06T13:41:00.819Z"
   },
   {
    "duration": 4,
    "start_time": "2022-01-06T13:41:00.900Z"
   },
   {
    "duration": 74,
    "start_time": "2022-01-06T13:41:00.906Z"
   },
   {
    "duration": 33,
    "start_time": "2022-01-06T13:41:00.982Z"
   },
   {
    "duration": 19,
    "start_time": "2022-01-06T13:41:01.018Z"
   },
   {
    "duration": 48,
    "start_time": "2022-01-06T13:41:01.040Z"
   },
   {
    "duration": 5,
    "start_time": "2022-01-06T13:41:01.091Z"
   },
   {
    "duration": 39,
    "start_time": "2022-01-06T13:41:01.098Z"
   },
   {
    "duration": 64,
    "start_time": "2022-01-06T13:41:01.140Z"
   },
   {
    "duration": 12,
    "start_time": "2022-01-06T13:41:01.206Z"
   },
   {
    "duration": 33,
    "start_time": "2022-01-06T13:41:01.221Z"
   },
   {
    "duration": 20,
    "start_time": "2022-01-06T13:41:01.257Z"
   },
   {
    "duration": 56,
    "start_time": "2022-01-06T13:41:01.279Z"
   },
   {
    "duration": 18,
    "start_time": "2022-01-06T13:41:01.337Z"
   },
   {
    "duration": 21,
    "start_time": "2022-01-06T13:41:01.357Z"
   },
   {
    "duration": 51,
    "start_time": "2022-01-06T13:41:01.380Z"
   },
   {
    "duration": 10,
    "start_time": "2022-01-06T13:41:01.434Z"
   },
   {
    "duration": 76,
    "start_time": "2022-01-06T13:41:01.447Z"
   },
   {
    "duration": 5,
    "start_time": "2022-01-06T13:41:01.526Z"
   },
   {
    "duration": 15,
    "start_time": "2022-01-06T13:41:01.534Z"
   },
   {
    "duration": 15,
    "start_time": "2022-01-06T13:41:01.552Z"
   },
   {
    "duration": 24,
    "start_time": "2022-01-06T13:41:01.569Z"
   },
   {
    "duration": 38,
    "start_time": "2022-01-06T13:41:01.596Z"
   },
   {
    "duration": 27,
    "start_time": "2022-01-06T13:41:01.637Z"
   },
   {
    "duration": 9,
    "start_time": "2022-01-06T13:41:01.667Z"
   },
   {
    "duration": 11,
    "start_time": "2022-01-06T13:41:01.684Z"
   },
   {
    "duration": 18,
    "start_time": "2022-01-06T13:41:01.698Z"
   },
   {
    "duration": 9,
    "start_time": "2022-01-06T13:41:01.718Z"
   },
   {
    "duration": 7,
    "start_time": "2022-01-06T13:41:01.762Z"
   },
   {
    "duration": 23,
    "start_time": "2022-01-06T13:41:01.772Z"
   },
   {
    "duration": 36,
    "start_time": "2022-01-06T13:41:01.798Z"
   },
   {
    "duration": 49,
    "start_time": "2022-01-06T13:41:01.837Z"
   },
   {
    "duration": 25,
    "start_time": "2022-01-06T13:41:01.889Z"
   },
   {
    "duration": 22,
    "start_time": "2022-01-06T13:41:01.917Z"
   },
   {
    "duration": 31,
    "start_time": "2022-01-06T13:41:01.941Z"
   },
   {
    "duration": 32,
    "start_time": "2022-01-06T13:41:01.974Z"
   },
   {
    "duration": 31,
    "start_time": "2022-01-06T13:41:02.009Z"
   },
   {
    "duration": 20,
    "start_time": "2022-01-06T13:41:02.064Z"
   },
   {
    "duration": 42,
    "start_time": "2022-01-06T13:41:02.086Z"
   },
   {
    "duration": 40,
    "start_time": "2022-01-06T13:41:02.130Z"
   },
   {
    "duration": 29,
    "start_time": "2022-01-06T13:41:02.172Z"
   },
   {
    "duration": 24,
    "start_time": "2022-01-06T13:41:02.203Z"
   },
   {
    "duration": 4986,
    "start_time": "2022-01-06T13:41:02.229Z"
   },
   {
    "duration": 958,
    "start_time": "2022-01-06T13:41:07.219Z"
   },
   {
    "duration": -153,
    "start_time": "2022-01-06T13:41:08.333Z"
   },
   {
    "duration": -161,
    "start_time": "2022-01-06T13:41:08.343Z"
   },
   {
    "duration": -166,
    "start_time": "2022-01-06T13:41:08.351Z"
   },
   {
    "duration": -172,
    "start_time": "2022-01-06T13:41:08.359Z"
   },
   {
    "duration": -177,
    "start_time": "2022-01-06T13:41:08.366Z"
   },
   {
    "duration": -183,
    "start_time": "2022-01-06T13:41:08.374Z"
   },
   {
    "duration": -186,
    "start_time": "2022-01-06T13:41:08.380Z"
   },
   {
    "duration": -192,
    "start_time": "2022-01-06T13:41:08.388Z"
   },
   {
    "duration": -197,
    "start_time": "2022-01-06T13:41:08.395Z"
   },
   {
    "duration": -202,
    "start_time": "2022-01-06T13:41:08.403Z"
   },
   {
    "duration": -206,
    "start_time": "2022-01-06T13:41:08.410Z"
   },
   {
    "duration": -212,
    "start_time": "2022-01-06T13:41:08.418Z"
   },
   {
    "duration": -218,
    "start_time": "2022-01-06T13:41:08.426Z"
   },
   {
    "duration": -223,
    "start_time": "2022-01-06T13:41:08.434Z"
   },
   {
    "duration": -179,
    "start_time": "2022-01-06T13:41:08.442Z"
   },
   {
    "duration": -184,
    "start_time": "2022-01-06T13:41:08.450Z"
   },
   {
    "duration": -189,
    "start_time": "2022-01-06T13:41:08.457Z"
   },
   {
    "duration": -195,
    "start_time": "2022-01-06T13:41:08.465Z"
   },
   {
    "duration": -199,
    "start_time": "2022-01-06T13:41:08.472Z"
   },
   {
    "duration": -205,
    "start_time": "2022-01-06T13:41:08.480Z"
   },
   {
    "duration": 882,
    "start_time": "2022-01-06T13:44:02.892Z"
   },
   {
    "duration": 813,
    "start_time": "2022-01-06T13:44:09.452Z"
   },
   {
    "duration": 830,
    "start_time": "2022-01-06T13:44:10.920Z"
   },
   {
    "duration": -131,
    "start_time": "2022-01-06T13:44:11.893Z"
   },
   {
    "duration": -135,
    "start_time": "2022-01-06T13:44:11.899Z"
   },
   {
    "duration": 3296,
    "start_time": "2022-01-06T13:44:12.041Z"
   },
   {
    "duration": 2378,
    "start_time": "2022-01-06T13:44:15.339Z"
   },
   {
    "duration": 1950,
    "start_time": "2022-01-06T13:44:17.720Z"
   },
   {
    "duration": 336,
    "start_time": "2022-01-06T13:44:19.673Z"
   },
   {
    "duration": 334,
    "start_time": "2022-01-06T13:44:20.012Z"
   },
   {
    "duration": 348,
    "start_time": "2022-01-06T13:44:20.349Z"
   },
   {
    "duration": 87,
    "start_time": "2022-01-06T13:44:20.700Z"
   },
   {
    "duration": 78,
    "start_time": "2022-01-06T13:44:20.791Z"
   },
   {
    "duration": 92,
    "start_time": "2022-01-06T13:44:20.872Z"
   },
   {
    "duration": 5,
    "start_time": "2022-01-06T13:44:20.967Z"
   },
   {
    "duration": 7,
    "start_time": "2022-01-06T13:44:20.974Z"
   },
   {
    "duration": 13,
    "start_time": "2022-01-06T13:44:20.984Z"
   },
   {
    "duration": 21,
    "start_time": "2022-01-06T13:44:20.999Z"
   },
   {
    "duration": 44,
    "start_time": "2022-01-06T13:44:21.022Z"
   },
   {
    "duration": 7,
    "start_time": "2022-01-06T13:44:21.070Z"
   },
   {
    "duration": 10,
    "start_time": "2022-01-06T13:44:21.080Z"
   }
  ],
  "kernelspec": {
   "display_name": "Python 3 (ipykernel)",
   "language": "python",
   "name": "python3"
  },
  "language_info": {
   "codemirror_mode": {
    "name": "ipython",
    "version": 3
   },
   "file_extension": ".py",
   "mimetype": "text/x-python",
   "name": "python",
   "nbconvert_exporter": "python",
   "pygments_lexer": "ipython3",
   "version": "3.10.1"
  },
  "latex_envs": {
   "LaTeX_envs_menu_present": true,
   "autoclose": false,
   "autocomplete": true,
   "bibliofile": "biblio.bib",
   "cite_by": "apalike",
   "current_citInitial": 1,
   "eqLabelWithNumbers": true,
   "eqNumInitial": 1,
   "hotkeys": {
    "equation": "Ctrl-E",
    "itemize": "Ctrl-I"
   },
   "labels_anchors": false,
   "latex_user_defs": false,
   "report_style_numbering": false,
   "user_envs_cfg": false
  },
  "toc": {
   "base_numbering": 1,
   "nav_menu": {},
   "number_sections": true,
   "sideBar": true,
   "skip_h1_title": true,
   "title_cell": "Содержание",
   "title_sidebar": "Contents",
   "toc_cell": true,
   "toc_position": {
    "height": "calc(100% - 180px)",
    "left": "10px",
    "top": "150px",
    "width": "439.438px"
   },
   "toc_section_display": true,
   "toc_window_display": false
  }
 },
 "nbformat": 4,
 "nbformat_minor": 5
}