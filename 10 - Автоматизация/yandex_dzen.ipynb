{
 "cells": [
  {
   "cell_type": "markdown",
   "metadata": {
    "collapsed": true,
    "pycharm": {
     "name": "#%% md\n"
    }
   },
   "source": [
    "# Проектная работа. Дашборд для Яндекс.Дзен\n",
    "\n",
    "Анализ пользовательского взаимодействия с карточками статей."
   ]
  },
  {
   "cell_type": "markdown",
   "source": [
    "## Подготовка файла с данными"
   ],
   "metadata": {
    "collapsed": false
   }
  },
  {
   "cell_type": "code",
   "execution_count": 1,
   "outputs": [],
   "source": [
    "# импортируем библиотеки\n",
    "import pandas as pd\n",
    "from sqlalchemy import create_engine\n",
    "\n",
    "db_config = {'user': 'praktikum_student', # имя пользователя\n",
    "            'pwd': 'Sdf4$2;d-d30pp', # пароль\n",
    "            'host': 'rc1b-wcoijxj3yxfsf3fs.mdb.yandexcloud.net',\n",
    "            'port': 6432, # порт подключения\n",
    "            'db': 'data-analyst-zen-project-db'} # название базы данных\n",
    "\n",
    "connection_string = 'postgresql://{}:{}@{}:{}/{}'.format(db_config['user'],\n",
    "                                                db_config['pwd'],\n",
    "                                                db_config['host'],\n",
    "                                                db_config['port'],\n",
    "                                                db_config['db'])\n",
    "\n",
    "engine = create_engine(connection_string)"
   ],
   "metadata": {
    "collapsed": false,
    "pycharm": {
     "name": "#%%\n"
    }
   }
  },
  {
   "cell_type": "code",
   "source": [
    "query = '''\n",
    "        SELECT * FROM dash_visits\n",
    "        '''"
   ],
   "metadata": {
    "collapsed": false,
    "pycharm": {
     "name": "#%%\n"
    }
   },
   "execution_count": 2,
   "outputs": []
  },
  {
   "cell_type": "code",
   "execution_count": 3,
   "outputs": [
    {
     "data": {
      "text/plain": "       record_id item_topic source_topic age_segment                  dt  \\\n0        1040597     Деньги         Авто       18-25 2019-09-24 18:32:00   \n1        1040598     Деньги         Авто       18-25 2019-09-24 18:35:00   \n2        1040599     Деньги         Авто       18-25 2019-09-24 18:54:00   \n3        1040600     Деньги         Авто       18-25 2019-09-24 18:55:00   \n4        1040601     Деньги         Авто       18-25 2019-09-24 18:56:00   \n...          ...        ...          ...         ...                 ...   \n30740    1071337       Юмор      Финансы       36-40 2019-09-24 18:57:00   \n30741    1071338       Юмор      Финансы       36-40 2019-09-24 19:00:00   \n30742    1071339       Юмор      Финансы       41-45 2019-09-24 18:54:00   \n30743    1071340       Юмор      Финансы       41-45 2019-09-24 18:56:00   \n30744    1071341       Юмор      Финансы       41-45 2019-09-24 19:00:00   \n\n       visits  \n0           3  \n1           1  \n2           4  \n3          17  \n4          27  \n...       ...  \n30740       2  \n30741       1  \n30742       1  \n30743       1  \n30744       1  \n\n[30745 rows x 6 columns]",
      "text/html": "<div>\n<style scoped>\n    .dataframe tbody tr th:only-of-type {\n        vertical-align: middle;\n    }\n\n    .dataframe tbody tr th {\n        vertical-align: top;\n    }\n\n    .dataframe thead th {\n        text-align: right;\n    }\n</style>\n<table border=\"1\" class=\"dataframe\">\n  <thead>\n    <tr style=\"text-align: right;\">\n      <th></th>\n      <th>record_id</th>\n      <th>item_topic</th>\n      <th>source_topic</th>\n      <th>age_segment</th>\n      <th>dt</th>\n      <th>visits</th>\n    </tr>\n  </thead>\n  <tbody>\n    <tr>\n      <th>0</th>\n      <td>1040597</td>\n      <td>Деньги</td>\n      <td>Авто</td>\n      <td>18-25</td>\n      <td>2019-09-24 18:32:00</td>\n      <td>3</td>\n    </tr>\n    <tr>\n      <th>1</th>\n      <td>1040598</td>\n      <td>Деньги</td>\n      <td>Авто</td>\n      <td>18-25</td>\n      <td>2019-09-24 18:35:00</td>\n      <td>1</td>\n    </tr>\n    <tr>\n      <th>2</th>\n      <td>1040599</td>\n      <td>Деньги</td>\n      <td>Авто</td>\n      <td>18-25</td>\n      <td>2019-09-24 18:54:00</td>\n      <td>4</td>\n    </tr>\n    <tr>\n      <th>3</th>\n      <td>1040600</td>\n      <td>Деньги</td>\n      <td>Авто</td>\n      <td>18-25</td>\n      <td>2019-09-24 18:55:00</td>\n      <td>17</td>\n    </tr>\n    <tr>\n      <th>4</th>\n      <td>1040601</td>\n      <td>Деньги</td>\n      <td>Авто</td>\n      <td>18-25</td>\n      <td>2019-09-24 18:56:00</td>\n      <td>27</td>\n    </tr>\n    <tr>\n      <th>...</th>\n      <td>...</td>\n      <td>...</td>\n      <td>...</td>\n      <td>...</td>\n      <td>...</td>\n      <td>...</td>\n    </tr>\n    <tr>\n      <th>30740</th>\n      <td>1071337</td>\n      <td>Юмор</td>\n      <td>Финансы</td>\n      <td>36-40</td>\n      <td>2019-09-24 18:57:00</td>\n      <td>2</td>\n    </tr>\n    <tr>\n      <th>30741</th>\n      <td>1071338</td>\n      <td>Юмор</td>\n      <td>Финансы</td>\n      <td>36-40</td>\n      <td>2019-09-24 19:00:00</td>\n      <td>1</td>\n    </tr>\n    <tr>\n      <th>30742</th>\n      <td>1071339</td>\n      <td>Юмор</td>\n      <td>Финансы</td>\n      <td>41-45</td>\n      <td>2019-09-24 18:54:00</td>\n      <td>1</td>\n    </tr>\n    <tr>\n      <th>30743</th>\n      <td>1071340</td>\n      <td>Юмор</td>\n      <td>Финансы</td>\n      <td>41-45</td>\n      <td>2019-09-24 18:56:00</td>\n      <td>1</td>\n    </tr>\n    <tr>\n      <th>30744</th>\n      <td>1071341</td>\n      <td>Юмор</td>\n      <td>Финансы</td>\n      <td>41-45</td>\n      <td>2019-09-24 19:00:00</td>\n      <td>1</td>\n    </tr>\n  </tbody>\n</table>\n<p>30745 rows × 6 columns</p>\n</div>"
     },
     "execution_count": 3,
     "metadata": {},
     "output_type": "execute_result"
    }
   ],
   "source": [
    "dash_visits = pd.io.sql.read_sql(query, con = engine)\n",
    "dash_visits"
   ],
   "metadata": {
    "collapsed": false,
    "pycharm": {
     "name": "#%%\n"
    }
   }
  },
  {
   "cell_type": "code",
   "execution_count": 4,
   "outputs": [
    {
     "name": "stdout",
     "output_type": "stream",
     "text": [
      "<class 'pandas.core.frame.DataFrame'>\n",
      "RangeIndex: 30745 entries, 0 to 30744\n",
      "Data columns (total 6 columns):\n",
      " #   Column        Non-Null Count  Dtype         \n",
      "---  ------        --------------  -----         \n",
      " 0   record_id     30745 non-null  int64         \n",
      " 1   item_topic    30745 non-null  object        \n",
      " 2   source_topic  30745 non-null  object        \n",
      " 3   age_segment   30745 non-null  object        \n",
      " 4   dt            30745 non-null  datetime64[ns]\n",
      " 5   visits        30745 non-null  int64         \n",
      "dtypes: datetime64[ns](1), int64(2), object(3)\n",
      "memory usage: 1.4+ MB\n"
     ]
    }
   ],
   "source": [
    "dash_visits.info()"
   ],
   "metadata": {
    "collapsed": false,
    "pycharm": {
     "name": "#%%\n"
    }
   }
  },
  {
   "cell_type": "code",
   "execution_count": 5,
   "outputs": [],
   "source": [
    "dash_visits.to_csv('dash_visits.csv')"
   ],
   "metadata": {
    "collapsed": false,
    "pycharm": {
     "name": "#%%\n"
    }
   }
  },
  {
   "cell_type": "markdown",
   "source": [
    "## Сформировать дашборд в соответствии с макетом."
   ],
   "metadata": {
    "collapsed": false
   }
  },
  {
   "cell_type": "markdown",
   "source": [
    "Следующие шаги проекта выполнены в Tableau Public.\n",
    "\n",
    "Ссылка: https://public.tableau.com/app/profile/kamil6292/viz/__16500948207200/Dashboard?publish=yes"
   ],
   "metadata": {
    "collapsed": false,
    "pycharm": {
     "name": "#%% md\n"
    }
   }
  },
  {
   "cell_type": "markdown",
   "source": [
    "## Подготовить презентацию."
   ],
   "metadata": {
    "collapsed": false
   }
  },
  {
   "cell_type": "markdown",
   "source": [
    "Файл презентации в архиве"
   ],
   "metadata": {
    "collapsed": false,
    "pycharm": {
     "name": "#%% md\n"
    }
   }
  }
 ],
 "metadata": {
  "kernelspec": {
   "display_name": "Python 3",
   "language": "python",
   "name": "python3"
  },
  "language_info": {
   "codemirror_mode": {
    "name": "ipython",
    "version": 2
   },
   "file_extension": ".py",
   "mimetype": "text/x-python",
   "name": "python",
   "nbconvert_exporter": "python",
   "pygments_lexer": "ipython2",
   "version": "2.7.6"
  }
 },
 "nbformat": 4,
 "nbformat_minor": 0
}